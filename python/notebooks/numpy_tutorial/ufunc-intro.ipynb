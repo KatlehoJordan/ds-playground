{
 "cells": [
  {
   "cell_type": "markdown",
   "metadata": {},
   "source": [
    "# NumPy Tutorial\n",
    "\n",
    "https://www.w3schools.com/python/numpy/"
   ]
  },
  {
   "cell_type": "markdown",
   "metadata": {},
   "source": [
    "## Ufunc Intro\n",
    "\n",
    "Used for implementing vectorization in NumPay instead of iterating over elements.\n",
    "\n",
    "Stands for 'universal functions' and are meant to operate on ndarray objects.\n",
    "\n",
    "Provide 'broadcasting' and other methods like reduce, accumulate, etc.\n",
    "\n",
    "Take arguments such as:\n",
    "\n",
    "- `where` for specifying conditions when operations should take place\n",
    "- `dtype` to define the return type of elements\n",
    "- `out` the output array to return\n",
    "\n",
    "### What is Vectorization?\n",
    "\n",
    "Taking what would be an iterative process and turning it into a vector-based process.\n",
    "\n",
    "Consider adding the elements of two lists without vectorization:"
   ]
  },
  {
   "cell_type": "code",
   "execution_count": 3,
   "metadata": {},
   "outputs": [
    {
     "name": "stdout",
     "output_type": "stream",
     "text": [
      "[5, 7, 9, 11]\n"
     ]
    }
   ],
   "source": [
    "from configurations import logger, printer\n",
    "\n",
    "logger.warning('The `append` method apparently does not have a stub to\\n'\n",
    "               'define the return type, so lines with it are ignored.')\n",
    "\n",
    "x = [*range(1, 5)]\n",
    "y = [*range(4, 8)]\n",
    "z = []\n",
    "\n",
    "for i_of_x, i_of_y in zip(x, y):\n",
    "    z.append(i_of_x + i_of_y) # type: ignore\n",
    "\n",
    "printer(z)"
   ]
  },
  {
   "cell_type": "markdown",
   "metadata": {},
   "source": [
    "Now consider using the `numpy.add()` method instead."
   ]
  },
  {
   "cell_type": "code",
   "execution_count": 1,
   "metadata": {},
   "outputs": [
    {
     "name": "stdout",
     "output_type": "stream",
     "text": [
      "[ 5  7  9 11]\n"
     ]
    }
   ],
   "source": [
    "import numpy as np\n",
    "from configurations import printer\n",
    "\n",
    "x = [*range(1, 5)]\n",
    "y = [*range(4, 8)]\n",
    "z = np.add(x, y)\n",
    "\n",
    "printer(z)"
   ]
  },
  {
   "cell_type": "markdown",
   "metadata": {},
   "source": [
    "Now time the two methods with `time.time()`."
   ]
  },
  {
   "cell_type": "code",
   "execution_count": 4,
   "metadata": {},
   "outputs": [
    {
     "name": "stderr",
     "output_type": "stream",
     "text": [
      "Iterative took 0.0019512176513671875\n",
      "Vectorized took 0.002402067184448242\n"
     ]
    }
   ],
   "source": [
    "import numpy as np\n",
    "from configurations import printer\n",
    "import time\n",
    "\n",
    "x = [*range(1, 5000)]\n",
    "y = [*range(1, 5000)]\n",
    "\n",
    "iterative_start_time = time.time()\n",
    "z = []\n",
    "for i_of_x, i_of_y in zip(x, y):\n",
    "    z.append(i_of_x + i_of_y) # type: ignore\n",
    "iterative_end_time = time.time()\n",
    "\n",
    "iterative_total_time = iterative_end_time - iterative_start_time\n",
    "\n",
    "printer('Iterative took %s', iterative_total_time)\n",
    "\n",
    "vectorized_start_time = time.time()\n",
    "z = np.add(x, y)\n",
    "vectorized_end_time = time.time()\n",
    "\n",
    "vectorized_total_time = vectorized_end_time - vectorized_start_time\n",
    "\n",
    "printer('Vectorized took %s', vectorized_total_time)"
   ]
  }
 ],
 "metadata": {
  "kernelspec": {
   "display_name": "Python 3",
   "language": "python",
   "name": "python3"
  },
  "language_info": {
   "codemirror_mode": {
    "name": "ipython",
    "version": 3
   },
   "file_extension": ".py",
   "mimetype": "text/x-python",
   "name": "python",
   "nbconvert_exporter": "python",
   "pygments_lexer": "ipython3",
   "version": "3.11.4"
  },
  "orig_nbformat": 4
 },
 "nbformat": 4,
 "nbformat_minor": 2
}
