{
 "cells": [
  {
   "cell_type": "markdown",
   "metadata": {},
   "source": [
    "# NumPy Tutorial\n",
    "\n",
    "https://www.w3schools.com/python/numpy/"
   ]
  },
  {
   "cell_type": "markdown",
   "metadata": {},
   "source": [
    "## Array Iterating\n",
    "\n",
    "One can iterate through `ndarray` objects like nested `list` objects using nested `for` loops.\n",
    "\n",
    "In an n-dimensional array, each nested `for` will penetrate one level deeper into the nested array."
   ]
  },
  {
   "cell_type": "code",
   "execution_count": 11,
   "metadata": {},
   "outputs": [
    {
     "name": "stderr",
     "output_type": "stream",
     "text": [
      "Making array_1D\n",
      "Priting all elements in array_1D\n",
      "1\n",
      "2\n",
      "Making array_2D\n",
      "Priting all elements in array_2D\n",
      "[1 2]\n",
      "1\n",
      "2\n",
      "[3 4]\n",
      "3\n",
      "4\n",
      "Making array_3D\n",
      "Priting all elements in array_3D\n",
      "[[1 2]\n",
      " [3 4]]\n",
      "[1 2]\n",
      "1\n",
      "2\n",
      "[3 4]\n",
      "3\n",
      "4\n",
      "[[5 6]\n",
      " [7 8]]\n",
      "[5 6]\n",
      "5\n",
      "6\n",
      "[7 8]\n",
      "7\n",
      "8\n"
     ]
    }
   ],
   "source": [
    "import numpy as np\n",
    "from configurations import printer\n",
    "\n",
    "printer('Making array_1D')\n",
    "array_1D = np.array([*range(1, 3)])\n",
    "\n",
    "printer('Priting all elements in array_1D')\n",
    "for element in array_1D:\n",
    "    printer(element)\n",
    "\n",
    "printer('Making array_2D')\n",
    "array_2D = np.array([\n",
    "        [*range(1, 3)],\n",
    "        [*range(3, 5)]\n",
    "    ]\n",
    "    )\n",
    "printer('Priting all elements in array_2D')\n",
    "for row in array_2D:\n",
    "    printer(row)\n",
    "    for element in row:\n",
    "        printer(element)\n",
    "\n",
    "printer('Making array_3D')\n",
    "array_3D = np.array([\n",
    "        [\n",
    "            [*range(1, 3)],\n",
    "            [*range(3, 5)]\n",
    "        ],\n",
    "        [\n",
    "            [*range(5, 7)],\n",
    "            [*range(7, 9)]\n",
    "        ]\n",
    "    ]\n",
    "    )\n",
    "printer('Priting all elements in array_3D')\n",
    "for table in array_3D:\n",
    "    printer(table)\n",
    "    for row in table:\n",
    "        printer(row)\n",
    "        for element in row:\n",
    "            printer(element)"
   ]
  },
  {
   "cell_type": "markdown",
   "metadata": {},
   "source": [
    "### Iterating Arrays using `nditer()`\n",
    "\n",
    "The function `np.nditer()` can be helpful in various iterations.\n",
    "\n",
    "#### Get all scalars\n",
    "\n",
    "One simple case is to iterate all of the scalar in a deeply-nested array, regardless of dimensionality."
   ]
  },
  {
   "cell_type": "code",
   "execution_count": 13,
   "metadata": {},
   "outputs": [
    {
     "name": "stderr",
     "output_type": "stream",
     "text": [
      "Making array_3D\n",
      "Priting all elements in array_3D\n",
      "True\n"
     ]
    }
   ],
   "source": [
    "import numpy as np\n",
    "from configurations import printer\n",
    "\n",
    "printer('Making array_3D')\n",
    "array_3D = np.array([\n",
    "        [\n",
    "            [*range(1, 3)],\n",
    "            [*range(3, 5)]\n",
    "        ],\n",
    "        [\n",
    "            [*range(5, 7)],\n",
    "            [*range(7, 9)]\n",
    "        ]\n",
    "    ]\n",
    "    )\n",
    "printer('Priting all elements in array_3D')\n",
    "for element in np.nditer(array_3D):\n",
    "    printer(element)"
   ]
  },
  {
   "cell_type": "markdown",
   "metadata": {},
   "source": [
    "#### Iterating Array with Different Data Types\n",
    "\n",
    "To specify the output types of `np.nditer()`, use argument `op_dtypes=['<types>']`.\n",
    "\n",
    "Since the output is not done in place, the computer will need a 'buffer' to do this, so you will need to also pass the argument `flags=['buffered']`."
   ]
  },
  {
   "cell_type": "code",
   "execution_count": 14,
   "metadata": {},
   "outputs": [
    {
     "name": "stderr",
     "output_type": "stream",
     "text": [
      "Making array_3D\n",
      "Priting all elements in array_3D\n",
      "b'1'\n",
      "b'2'\n",
      "b'3'\n",
      "b'4'\n",
      "b'5'\n",
      "b'6'\n",
      "b'7'\n",
      "b'8'\n"
     ]
    }
   ],
   "source": [
    "import numpy as np\n",
    "from configurations import printer\n",
    "\n",
    "printer('Making array_3D')\n",
    "array_3D = np.array([\n",
    "        [\n",
    "            [*range(1, 3)],\n",
    "            [*range(3, 5)]\n",
    "        ],\n",
    "        [\n",
    "            [*range(5, 7)],\n",
    "            [*range(7, 9)]\n",
    "        ]\n",
    "    ]\n",
    "    )\n",
    "printer('Priting all elements in array_3D')\n",
    "for element in np.nditer(array_3D, flags=['buffered'], op_dtypes=['S']):\n",
    "    printer(element)"
   ]
  },
  {
   "cell_type": "markdown",
   "metadata": {},
   "source": [
    "#### Iterating With Different Step Size\n",
    "\n",
    "If you want to skip some scalars, you can use `np.nditer(array[::<stepsize>])`."
   ]
  },
  {
   "cell_type": "code",
   "execution_count": 23,
   "metadata": {},
   "outputs": [
    {
     "name": "stderr",
     "output_type": "stream",
     "text": [
      "Making array_3D\n",
      "Priting all elements in array_3D\n",
      "1\n",
      "3\n",
      "5\n",
      "7\n",
      "\n",
      "2023-07-31 16:49:09 \n",
      "\tLogger: numpy-tutorial Module: 3011151142 Function: <module> File: 3011151142.py Line: 20\n",
      "WARNING:\n",
      "Observe that this syntax is tricky with highly-dimensional arrays,\n",
      "Since you will need to specify colons for all dimensions or else get\n",
      "potentially unexpected/undesired results.\n",
      "\n",
      "1\n",
      "2\n",
      "5\n",
      "6\n",
      "1\n",
      "2\n",
      "3\n",
      "4\n",
      "1\n",
      "2\n",
      "3\n",
      "4\n",
      "1\n",
      "2\n",
      "3\n",
      "4\n"
     ]
    }
   ],
   "source": [
    "import numpy as np\n",
    "from configurations import printer, logger\n",
    "\n",
    "printer('Making array_3D')\n",
    "array_3D = np.array([\n",
    "        [\n",
    "            [*range(1, 3)],\n",
    "            [*range(3, 5)]\n",
    "        ],\n",
    "        [\n",
    "            [*range(5, 7)],\n",
    "            [*range(7, 9)]\n",
    "        ]\n",
    "    ]\n",
    "    )\n",
    "printer('Priting all elements in array_3D')\n",
    "for element in np.nditer(array_3D[:, :, ::2]):\n",
    "    printer(element)\n",
    "\n",
    "logger.warning(\n",
    "    'Observe that this syntax is tricky with highly-dimensional arrays,\\n'\n",
    "    'Since you will need to specify colons for all dimensions or else get\\n'\n",
    "    'potentially unexpected/undesired results.')\n",
    "for element in np.nditer(array_3D[:, ::2]):\n",
    "    printer(element)\n",
    "\n",
    "for element in np.nditer(array_3D[::2]):\n",
    "    printer(element)\n",
    "\n",
    "for element in np.nditer(array_3D[::2, :]):\n",
    "    printer(element)\n",
    "\n",
    "for element in np.nditer(array_3D[::2, :, :]):\n",
    "    printer(element)"
   ]
  },
  {
   "cell_type": "markdown",
   "metadata": {},
   "source": [
    "### Enumerated Iteration Using `np.ndenumerate()`\n",
    "\n",
    "If you want/need to capture the index number of the scalars as you cycle through them, then `np.ndenumerate()` may be useful.\n",
    "\n",
    "It will return a tuple with the address of the scalar in your `ndarray` along with the scalar."
   ]
  },
  {
   "cell_type": "code",
   "execution_count": 24,
   "metadata": {},
   "outputs": [
    {
     "name": "stderr",
     "output_type": "stream",
     "text": [
      "Making array_3D\n",
      "Enumerating over array_3D\n",
      "((0, 0, 0), 'a')\n",
      "((0, 0, 1), 'b')\n",
      "((0, 1, 0), 'c')\n",
      "((0, 1, 1), 'd')\n",
      "((1, 0, 0), 'f')\n",
      "((1, 0, 1), 'g')\n",
      "((1, 1, 0), 'h')\n",
      "((1, 1, 1), 'i')\n"
     ]
    }
   ],
   "source": [
    "import numpy as np\n",
    "from configurations import printer, logger\n",
    "\n",
    "printer('Making array_3D')\n",
    "array_3D = np.array([\n",
    "        [\n",
    "            ['a', 'b'],\n",
    "            ['c', 'd']\n",
    "        ],\n",
    "        [\n",
    "            ['f', 'g'],\n",
    "            ['h', 'i']\n",
    "        ]\n",
    "    ]\n",
    "    )\n",
    "printer('Enumerating over array_3D')\n",
    "for element in np.ndenumerate(array_3D):\n",
    "    printer(element)"
   ]
  }
 ],
 "metadata": {
  "kernelspec": {
   "display_name": "Python 3",
   "language": "python",
   "name": "python3"
  },
  "language_info": {
   "codemirror_mode": {
    "name": "ipython",
    "version": 3
   },
   "file_extension": ".py",
   "mimetype": "text/x-python",
   "name": "python",
   "nbconvert_exporter": "python",
   "pygments_lexer": "ipython3",
   "version": "3.9.17"
  },
  "orig_nbformat": 4
 },
 "nbformat": 4,
 "nbformat_minor": 2
}
