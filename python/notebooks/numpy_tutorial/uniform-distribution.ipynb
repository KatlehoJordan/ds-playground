{
 "cells": [
  {
   "cell_type": "markdown",
   "metadata": {},
   "source": [
    "# NumPy Tutorial\n",
    "\n",
    "https://www.w3schools.com/python/numpy/"
   ]
  },
  {
   "cell_type": "markdown",
   "metadata": {},
   "source": [
    "## Uniform Distribution\n",
    "\n",
    "The uniform distribution is a distribution where every event in the distribution has equal probability of occurring. In `numpy.random.uniform()` it takes:\n",
    "- `low`: lower bound\n",
    "- `high`: upper bound\n",
    "- `size`: the size of the returned array"
   ]
  },
  {
   "cell_type": "code",
   "execution_count": 15,
   "metadata": {},
   "outputs": [
    {
     "name": "stderr",
     "output_type": "stream",
     "text": [
      "These are 10 examples of the results from a uniform distribution\n",
      "with lower bound = 0:\n",
      "and upper bound = 1\n",
      "[0.03423595 0.96415466 0.84612914 0.77669226 0.83877965 0.4249183\n",
      " 0.94006931 0.03336641 0.87813744 0.77317192]\n",
      "\n",
      "These are 10 examples of the results from a uniform distribution\n",
      "with lower bound = 0:\n",
      "and upper bound = 10\n",
      "[6.2004833  8.75911998 2.82948639 3.07493467 1.1649163  2.29112802\n",
      " 1.09285729 4.78392649 9.52333271 5.79057342]\n",
      "\n",
      "These are 10 examples of the results from a uniform distribution\n",
      "with lower bound = 0:\n",
      "and upper bound = 100\n",
      "[55.46240173 80.34843892 97.86486033 92.80570627  3.42309666 39.61531578\n",
      " 10.9656326   1.7427183  91.65180996 46.54601711]\n",
      "\n",
      "These are 10 examples of the results from a uniform distribution\n",
      "with lower bound = 1:\n",
      "and upper bound = 10\n",
      "[7.94264443 5.76609485 8.11317209 6.01309373 5.87602882 2.63586529\n",
      " 8.87973601 9.78457294 4.70471428 1.79307658]\n",
      "\n",
      "These are 10 examples of the results from a uniform distribution\n",
      "with lower bound = 1:\n",
      "and upper bound = 100\n",
      "[ 3.38907648 55.73832945 10.12150103 75.04100162 47.27712005  5.88368713\n",
      " 24.65327956 30.76887625 16.25998375 69.8749863 ]\n",
      "\n",
      "These are 10 examples of the results from a uniform distribution\n",
      "with lower bound = 10:\n",
      "and upper bound = 100\n",
      "[79.83701728 59.66533975 68.41743526 76.41638716 85.24216857 59.07758603\n",
      " 59.83923696 22.69452197 30.94291596 75.99063415]\n",
      "\n"
     ]
    }
   ],
   "source": [
    "import numpy as np\n",
    "from configurations import printer\n",
    "\n",
    "bounds_to_cycle_through = [0, 1, 10, 100]\n",
    "for low_bound in bounds_to_cycle_through:\n",
    "    for high_bound in bounds_to_cycle_through:\n",
    "        if high_bound > low_bound:\n",
    "            my_array = np.random.uniform(\n",
    "                low=low_bound,\n",
    "                high=high_bound,\n",
    "                size = 10\n",
    "                )\n",
    "            printer(\n",
    "                'These are 10 examples of the results from a uniform distribution\\n'\n",
    "                'with lower bound = %s:\\nand upper bound = %s\\n%s\\n',\n",
    "                low_bound,\n",
    "                high_bound,\n",
    "                my_array\n",
    "                )"
   ]
  },
  {
   "cell_type": "markdown",
   "metadata": {},
   "source": [
    "By default the `numpy.random.uniform()` function provides values from a uniform distribution that has a minimum of the lower bound (inlusive) and a maximum of the upper bound (non-inclusive).\n",
    "\n",
    "To create a discete uniform distribution, instead use `numpy.random.randint()`."
   ]
  },
  {
   "cell_type": "code",
   "execution_count": 17,
   "metadata": {},
   "outputs": [
    {
     "name": "stderr",
     "output_type": "stream",
     "text": [
      "\n",
      "2023-08-21 17:16:04 \n",
      "\tLogger: numpy-tutorial Module: 162080079 Function: <module> File: 162080079.py Line: 6\n",
      "WARNING:\n",
      "Matplotlib.pylot does not seem to have types set up for linters.\n",
      "So I am explicitly disabling type hints on those lines.\n",
      "\n",
      "These are 10 examples of the results from a uniform distribution\n",
      "with lower bound = 0:\n",
      "and upper bound = 1\n",
      "[0 0 0 0 0 0 0 0 0 0]\n",
      "\n",
      "These are 10 examples of the results from a uniform distribution\n",
      "with lower bound = 0:\n",
      "and upper bound = 10\n",
      "[9 6 0 2 8 2 2 5 6 5]\n",
      "\n",
      "These are 10 examples of the results from a uniform distribution\n",
      "with lower bound = 0:\n",
      "and upper bound = 100\n",
      "[92 11 16 94 52 57 18 48 19 79]\n",
      "\n",
      "These are 10 examples of the results from a uniform distribution\n",
      "with lower bound = 1:\n",
      "and upper bound = 10\n",
      "[5 2 3 7 7 3 2 5 3 8]\n",
      "\n",
      "These are 10 examples of the results from a uniform distribution\n",
      "with lower bound = 1:\n",
      "and upper bound = 100\n",
      "[27 76 27 54 83 82 66 33 86 91]\n",
      "\n",
      "These are 10 examples of the results from a uniform distribution\n",
      "with lower bound = 10:\n",
      "and upper bound = 100\n",
      "[73 92 41 81 16 27 19 82 73 15]\n",
      "\n"
     ]
    }
   ],
   "source": [
    "import numpy as np\n",
    "from configurations import logger\n",
    "\n",
    "bounds_to_cycle_through = [0, 1, 10, 100]\n",
    "\n",
    "logger.warning(\n",
    "    'Matplotlib.pylot does not seem to have types set up for linters.\\n'\n",
    "    'So I am explicitly disabling type hints on those lines.'\n",
    ")\n",
    "\n",
    "for low_bound in bounds_to_cycle_through:\n",
    "    for high_bound in bounds_to_cycle_through:\n",
    "        if high_bound > low_bound:\n",
    "            my_array = np.random.randint( # type: ignore\n",
    "                low=low_bound,\n",
    "                high=high_bound,\n",
    "                size = 10\n",
    "                )\n",
    "            printer(\n",
    "                'These are 10 examples of the results from a uniform distribution\\n'\n",
    "                'with lower bound = %s:\\nand upper bound = %s\\n%s\\n',\n",
    "                low_bound,\n",
    "                high_bound,\n",
    "                my_array\n",
    "                )"
   ]
  },
  {
   "cell_type": "markdown",
   "metadata": {},
   "source": [
    "### Visualization of Uniform distribution"
   ]
  },
  {
   "cell_type": "code",
   "execution_count": 2,
   "metadata": {},
   "outputs": [
    {
     "name": "stderr",
     "output_type": "stream",
     "text": [
      "\n",
      "2023-08-21 18:05:32 \n",
      "\tLogger: numpy-tutorial Module: 3228301546 Function: <module> File: 3228301546.py Line: 8\n",
      "WARNING:\n",
      "Seaborn does not seem to export a stub to help linters with type hints\n",
      "so I am explicitly disabling type hints on those lines.\n",
      "\n",
      "\n",
      "2023-08-21 18:05:32 \n",
      "\tLogger: numpy-tutorial Module: 3228301546 Function: <module> File: 3228301546.py Line: 13\n",
      "WARNING:\n",
      "Matplotlib.pyplot does not seem to have types set up for linters.\n",
      "So I am explicitly disabling type hints on those lines.\n",
      "\n"
     ]
    },
    {
     "data": {
      "image/png": "[encoded data removed]",
      "text/plain": [
       "<Figure size 640x480 with 1 Axes>"
      ]
     },
     "metadata": {},
     "output_type": "display_data"
    }
   ],
   "source": [
    "import numpy as np\n",
    "import seaborn as sns # type: ignore\n",
    "import matplotlib.pyplot as plt\n",
    "from configurations import logger\n",
    "\n",
    "plt.style.use('my_mpl_stylesheet.mpltstyle')\n",
    "\n",
    "logger.warning(\n",
    "    'Seaborn does not seem to export a stub to help linters with type hints\\n'\n",
    "    'so I am explicitly disabling type hints on those lines.'\n",
    ")\n",
    "\n",
    "logger.warning(\n",
    "    'Matplotlib.pyplot does not seem to have types set up for linters.\\n'\n",
    "    'So I am explicitly disabling type hints on those lines.'\n",
    ")\n",
    "\n",
    "def plot_uniform(\n",
    "        low: float = 0,\n",
    "        high: float = 1,\n",
    "        size: int = 1_000,\n",
    "        bw_adjust: float = 1\n",
    ") -> None:\n",
    "    \n",
    "    my_uniform = np.random.uniform(low=low, high=high, size=size)\n",
    "    \n",
    "    sns.histplot( # type: ignore\n",
    "        my_uniform,\n",
    "        ax=plt.subplots()[1], # type: ignore\n",
    "        stat='probability',\n",
    "        kde=True,\n",
    "        kde_kws={'bw_adjust' : bw_adjust},\n",
    "        edgecolor='None'\n",
    "        )\n",
    "    \n",
    "    plt.title( # type: ignore\n",
    "        label=f'{size:,} samples from a Uniform distribution with\\n'\n",
    "        f'lower bound={low:,.1f}\\n'\n",
    "        f'upper bound={high:,.1f}',\n",
    "        family='serif'\n",
    "        )\n",
    "    \n",
    "    plt.xlabel(xlabel='Value of sample', family='sans-serif') # type: ignore\n",
    "    \n",
    "plot_uniform()"
   ]
  }
 ],
 "metadata": {
  "kernelspec": {
   "display_name": "Python 3",
   "language": "python",
   "name": "python3"
  },
  "language_info": {
   "codemirror_mode": {
    "name": "ipython",
    "version": 3
   },
   "file_extension": ".py",
   "mimetype": "text/x-python",
   "name": "python",
   "nbconvert_exporter": "python",
   "pygments_lexer": "ipython3",
   "version": "3.9.17"
  },
  "orig_nbformat": 4
 },
 "nbformat": 4,
 "nbformat_minor": 2
}
