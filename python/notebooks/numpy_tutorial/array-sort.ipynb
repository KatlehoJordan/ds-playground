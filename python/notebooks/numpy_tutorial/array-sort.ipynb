{
 "cells": [
  {
   "cell_type": "markdown",
   "metadata": {},
   "source": [
    "# NumPy Tutorial\n",
    "\n",
    "https://www.w3schools.com/python/numpy/"
   ]
  },
  {
   "cell_type": "markdown",
   "metadata": {},
   "source": [
    "## Sorting Arrays\n",
    "\n",
    "The numpy function `sort()` will sort an array.\n"
   ]
  },
  {
   "cell_type": "code",
   "execution_count": 1,
   "metadata": {},
   "outputs": [
    {
     "name": "stderr",
     "output_type": "stream",
     "text": [
      "The array is:\n",
      "[3 0 2 1]\n",
      "The sorted array is:\n",
      "[0 1 2 3]\n"
     ]
    }
   ],
   "source": [
    "import numpy as np\n",
    "from configurations import printer\n",
    "\n",
    "array = np.array([3, 0, 2, 1])\n",
    "\n",
    "printer('The array is:\\n%s', array)\n",
    "printer('The sorted array is:\\n%s', np.sort(array))\n",
    "    "
   ]
  },
  {
   "cell_type": "markdown",
   "metadata": {},
   "source": [
    "Arrays can be sorted not just numerically, but also alphabetically, or by other datatypes."
   ]
  },
  {
   "cell_type": "code",
   "execution_count": 5,
   "metadata": {},
   "outputs": [
    {
     "name": "stderr",
     "output_type": "stream",
     "text": [
      "The array is:\n",
      "['h' 'i' 'b' 'a']\n",
      "The sorted array is:\n",
      "['a' 'b' 'h' 'i']\n",
      "The array is:\n",
      "[False  True False]\n",
      "The sorted array is:\n",
      "[False False  True]\n",
      "\n",
      "2023-08-01 07:27:13 \n",
      "\tLogger: numpy-tutorial Module: 2288051270 Function: <module> File: 2288051270.py Line: 12\n",
      "INFO:\n",
      "Sorting array with mixed types will first coerce to the same types\n",
      "\n",
      "The array is:\n",
      "['h' 'i' '1' 'a']\n",
      "The sorted array is:\n",
      "['1' 'a' 'h' 'i']\n"
     ]
    }
   ],
   "source": [
    "import numpy as np\n",
    "from configurations import printer, logger\n",
    "\n",
    "array = np.array(['h', 'i', 'b', 'a'])\n",
    "printer('The array is:\\n%s', array)\n",
    "printer('The sorted array is:\\n%s', np.sort(array))\n",
    "    \n",
    "boolean_array = np.array([False, True, False])\n",
    "printer('The array is:\\n%s', boolean_array)\n",
    "printer('The sorted array is:\\n%s', np.sort(boolean_array))\n",
    "\n",
    "logger.info(\n",
    "    'Sorting array with mixed types will first coerce to the same types'\n",
    "    )\n",
    "mixed_types_array = np.array(['h', 'i', 1, 'a'])\n",
    "printer('The array is:\\n%s', mixed_types_array)\n",
    "printer('The sorted array is:\\n%s', np.sort(mixed_types_array))"
   ]
  },
  {
   "cell_type": "markdown",
   "metadata": {},
   "source": [
    "### Sorting a 2D Array\n",
    "\n",
    "Sorting a 2D array will sort elements within the deepest dimension of the array."
   ]
  },
  {
   "cell_type": "code",
   "execution_count": 11,
   "metadata": {},
   "outputs": [
    {
     "name": "stderr",
     "output_type": "stream",
     "text": [
      "The array is:\n",
      "[[ 8  9  2  3]\n",
      " [ 0 20 13  4]]\n",
      "The sorted array is:\n",
      "[[ 2  3  8  9]\n",
      " [ 0  4 13 20]]\n",
      "\n",
      "2023-08-01 07:32:10 \n",
      "\tLogger: numpy-tutorial Module: 1895735294 Function: <module> File: 1895735294.py Line: 23\n",
      "INFO:\n",
      "Capitals are sorted before lower case. Sorting works on higher-D arrays\n",
      "\n",
      "The array is:\n",
      "[[['8' '9' '2' '3']\n",
      "  ['0' '20' '13' '4']]\n",
      "\n",
      " [['d' 'e' 'a' 'd']\n",
      "  ['F' 'f' 'g' 'G']]]\n",
      "The sorted array is:\n",
      "[[['2' '3' '8' '9']\n",
      "  ['0' '13' '20' '4']]\n",
      "\n",
      " [['a' 'd' 'd' 'e']\n",
      "  ['F' 'G' 'f' 'g']]]\n"
     ]
    }
   ],
   "source": [
    "import numpy as np\n",
    "from configurations import printer, logger\n",
    "\n",
    "array_2D = np.array([\n",
    "    [8, 9, 2, 3],\n",
    "    [0, 20, 13, 4]\n",
    "])\n",
    "\n",
    "printer('The array is:\\n%s', array_2D)\n",
    "printer('The sorted array is:\\n%s', np.sort(array_2D))\n",
    "\n",
    "array_3D = np.array([\n",
    "    [\n",
    "        [8, 9, 2, 3],\n",
    "        [0, 20, 13, 4]\n",
    "    ],\n",
    "    [\n",
    "        ['d', 'e', 'a', 'd'],\n",
    "        ['F', 'f', 'g', 'G']\n",
    "    ]\n",
    "])\n",
    "\n",
    "logger.info(\n",
    "    'Capitals are sorted before lower case. Sorting works on higher-D arrays'\n",
    "    )\n",
    "printer('The array is:\\n%s', array_3D)\n",
    "printer('The sorted array is:\\n%s', np.sort(array_3D))"
   ]
  }
 ],
 "metadata": {
  "kernelspec": {
   "display_name": "Python 3",
   "language": "python",
   "name": "python3"
  },
  "language_info": {
   "codemirror_mode": {
    "name": "ipython",
    "version": 3
   },
   "file_extension": ".py",
   "mimetype": "text/x-python",
   "name": "python",
   "nbconvert_exporter": "python",
   "pygments_lexer": "ipython3",
   "version": "3.9.17"
  },
  "orig_nbformat": 4
 },
 "nbformat": 4,
 "nbformat_minor": 2
}
