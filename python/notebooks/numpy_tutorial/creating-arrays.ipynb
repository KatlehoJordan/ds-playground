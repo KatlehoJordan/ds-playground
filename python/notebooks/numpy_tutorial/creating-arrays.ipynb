{
 "cells": [
  {
   "cell_type": "markdown",
   "metadata": {},
   "source": [
    "# NumPy Tutorial\n",
    "\n",
    "https://www.w3schools.com/python/numpy/"
   ]
  },
  {
   "cell_type": "markdown",
   "metadata": {},
   "source": [
    "## Creating Arrays\n",
    "\n",
    "### Create a NumPy `ndarray` Object\n",
    "\n",
    "Use the `array()` function.\n",
    "\n",
    "Array-like objects like (e.g., `list`, `tuple`, `set`) can be coerced into an `ndarray` with the `array()` function.\n",
    "\n",
    "Note that the print method for an `ndarray` built from a set differs, having curly brackets."
   ]
  },
  {
   "cell_type": "code",
   "execution_count": 10,
   "metadata": {},
   "outputs": [
    {
     "name": "stderr",
     "output_type": "stream",
     "text": [
      "Type of my_range is <class 'range'>\n",
      "Type of array_from_range is <class 'numpy.ndarray'>\n",
      "[1 2 3 4 5]\n",
      "Type of my_list is <class 'list'>\n",
      "Type of array_from_list is <class 'numpy.ndarray'>\n",
      "[1 2 3 4 5]\n",
      "Type of my_tuple is <class 'tuple'>\n",
      "Type array_from_tuple is <class 'numpy.ndarray'>\n",
      "[1 2 3 4 5]\n",
      "Type of my_set is <class 'set'>\n",
      "Type array_from_set is <class 'numpy.ndarray'>\n",
      "{1, 2, 3, 4, 5}\n"
     ]
    }
   ],
   "source": [
    "import numpy as np\n",
    "from configurations import printer\n",
    "\n",
    "my_range = range(1, 6)\n",
    "printer('Type of my_range is %s', type(my_range))\n",
    "array_from_range = np.array(my_range)\n",
    "printer('Type of array_from_range is %s', type(array_from_range))\n",
    "printer(array_from_range)\n",
    "\n",
    "my_list = list(my_range)\n",
    "printer('Type of my_list is %s', type(my_list))\n",
    "array_from_list = np.array(my_list)\n",
    "printer('Type of array_from_list is %s', type(array_from_list))\n",
    "printer(array_from_list)\n",
    "\n",
    "my_tuple = tuple(my_range)\n",
    "printer('Type of my_tuple is %s', type(my_tuple))\n",
    "array_from_tuple = np.array(my_tuple)\n",
    "printer('Type array_from_tuple is %s', type(array_from_tuple))\n",
    "printer(array_from_tuple)\n",
    "\n",
    "my_set = set(my_range)\n",
    "printer('Type of my_set is %s', type(my_set))\n",
    "array_from_set = np.array(my_set)\n",
    "printer('Type array_from_set is %s', type(array_from_set))\n",
    "printer(array_from_set)\n"
   ]
  },
  {
   "cell_type": "markdown",
   "metadata": {},
   "source": [
    "### Dimensions in Arrays\n",
    "\n",
    "One level of 'array depth' is one dimension. An array can be nested in another array, giving you a 2-dimensional array. Another level of nesting would be a 3-dimensional array.\n",
    "\n",
    "Since numpy arrays can be basically up to any number of nesting, they are called `ndarray` objects for 'n-dimensional' arrays.\n",
    "\n",
    "\n",
    "A 1-dimensional array with a single value is a 'scalar', and this is considered a 0-dimensional array, in fact.\n",
    "\n",
    "The number of dimensions are in the attribute `.ndim`.\n",
    "\n",
    "#### 0-D Arrays"
   ]
  },
  {
   "cell_type": "code",
   "execution_count": 11,
   "metadata": {},
   "outputs": [
    {
     "name": "stderr",
     "output_type": "stream",
     "text": [
      "The type of array is <class 'numpy.ndarray'>\n",
      "The array is 42\n",
      "The dimensions are 0\n"
     ]
    }
   ],
   "source": [
    "import numpy as np\n",
    "from configurations import printer\n",
    "\n",
    "array = np.array(42)\n",
    "\n",
    "printer('The type of array is %s', type(array))\n",
    "printer('The array is %s', array)\n",
    "printer('The number of dimensions are %s', array.ndim)"
   ]
  },
  {
   "cell_type": "markdown",
   "metadata": {},
   "source": [
    "#### 1-D Arrays\n",
    "\n",
    "These are the most-frequent kind of arrays. They are arrays with more than one element."
   ]
  },
  {
   "cell_type": "code",
   "execution_count": 12,
   "metadata": {},
   "outputs": [
    {
     "name": "stderr",
     "output_type": "stream",
     "text": [
      "The type of array is <class 'numpy.ndarray'>\n",
      "The array is [1 2 3 4 5]\n",
      "The number of dimensions are 1\n"
     ]
    }
   ],
   "source": [
    "import numpy as np\n",
    "from configurations import printer\n",
    "\n",
    "array = np.array(list(range(1, 6)))\n",
    "\n",
    "printer('The type of array is %s', type(array))\n",
    "printer('The array is %s', array)\n",
    "printer('The number of dimensions are %s', array.ndim)"
   ]
  },
  {
   "cell_type": "markdown",
   "metadata": {},
   "source": [
    "#### 2-D Arrays\n",
    "\n",
    "These are often used to represent a table, like an excel spreadsheet.\n",
    "\n",
    "A 2-D array is the same as a 2-D 'tensor'. It is simply the fact that the word 'tensor' is usually not used until arrays reach at least 2 dimensions, although 0-D and 1-D arrays are also tensors.\n",
    "\n",
    "Note that when nesting arrays, they must-be comma-separated, just like the items in a 1-D array normally need to be comma-separated."
   ]
  },
  {
   "cell_type": "code",
   "execution_count": 18,
   "metadata": {},
   "outputs": [
    {
     "name": "stderr",
     "output_type": "stream",
     "text": [
      "The type of array is <class 'numpy.ndarray'>\n",
      "The array is \n",
      "[[1 2 3]\n",
      " [4 5 6]]\n",
      "The number of dimensions are 2\n"
     ]
    }
   ],
   "source": [
    "import numpy as np\n",
    "from configurations import printer\n",
    "\n",
    "array = np.array([\n",
    "    [*range(1, 4)], [*range(4, 7)]\n",
    "    ])\n",
    "\n",
    "printer('The type of array is %s', type(array))\n",
    "printer('The array is \\n%s', array)\n",
    "printer('The number of dimensions are %s', array.ndim)"
   ]
  },
  {
   "cell_type": "markdown",
   "metadata": {},
   "source": [
    "#### 3-D Arrays\n",
    "\n",
    "An array that has 2-D arrays as its is a 3-D array (also known as a 3rd-order tensor)."
   ]
  },
  {
   "cell_type": "code",
   "execution_count": 19,
   "metadata": {},
   "outputs": [
    {
     "name": "stderr",
     "output_type": "stream",
     "text": [
      "The type of array is <class 'numpy.ndarray'>\n",
      "The array is \n",
      "[[[1 2]\n",
      "  [3 4]]\n",
      "\n",
      " [[5 6]\n",
      "  [7 8]]]\n",
      "The number of dimensions are 3\n"
     ]
    },
    {
     "name": "stdout",
     "output_type": "stream",
     "text": [
      "[[[1 2]\n",
      "  [3 4]]\n",
      "\n",
      " [[5 6]\n",
      "  [7 8]]]\n"
     ]
    }
   ],
   "source": [
    "import numpy as np\n",
    "from configurations import printer\n",
    "\n",
    "array = np.array([\n",
    "    [\n",
    "        [*range(1, 3)],\n",
    "        [*range(3, 5)]\n",
    "    ],\n",
    "    [\n",
    "        [*range(5, 7)],\n",
    "        [*range(7, 9)]\n",
    "    ]\n",
    "    ])\n",
    "\n",
    "printer('The type of array is %s', type(array))\n",
    "printer('The array is \\n%s', array)\n",
    "printer('The number of dimensions are %s', array.ndim)"
   ]
  },
  {
   "cell_type": "markdown",
   "metadata": {},
   "source": [
    "### Higher Dimensional Arrays\n",
    "\n",
    "You can specify the number of dimensions for an array at time of creation with the `ndim` argument.\n",
    "\n",
    "If you do not populate all of the dimensions at time of creation even if you specify their existence, then the inner-most dimensions will be filled first."
   ]
  },
  {
   "cell_type": "code",
   "execution_count": 24,
   "metadata": {},
   "outputs": [
    {
     "name": "stderr",
     "output_type": "stream",
     "text": [
      "The type of array is <class 'numpy.ndarray'>\n",
      "The array is \n",
      "[1 2 3 4 5]\n",
      "The number of dimensions are 1\n",
      "\n",
      "The type of array is <class 'numpy.ndarray'>\n",
      "The array is \n",
      "[[1 2 3 4 5]]\n",
      "The number of dimensions are 2\n",
      "\n",
      "The type of array is <class 'numpy.ndarray'>\n",
      "The array is \n",
      "[[ 1  2  3  4  5]\n",
      " [ 6  7  8  9 10]]\n",
      "The number of dimensions are 2\n",
      "\n",
      "The type of array is <class 'numpy.ndarray'>\n",
      "The array is \n",
      "[[[ 1  2  3  4  5]\n",
      "  [ 6  7  8  9 10]]]\n",
      "The number of dimensions are 3\n",
      "\n"
     ]
    }
   ],
   "source": [
    "import numpy as np\n",
    "from configurations import printer\n",
    "\n",
    "array = np.array(range(1, 6), ndmin=1)\n",
    "printer('The type of array is %s', type(array))\n",
    "printer('The array is \\n%s', array)\n",
    "printer('The number of dimensions are %s\\n', array.ndim)\n",
    "\n",
    "array = np.array(range(1, 6), ndmin=2)\n",
    "printer('The type of array is %s', type(array))\n",
    "printer('The array is \\n%s', array)\n",
    "printer('The number of dimensions are %s\\n', array.ndim)\n",
    "\n",
    "array = np.array([range(1, 6), range(6, 11)], ndmin=2)\n",
    "printer('The type of array is %s', type(array))\n",
    "printer('The array is \\n%s', array)\n",
    "printer('The number of dimensions are %s\\n', array.ndim)\n",
    "\n",
    "array = np.array([range(1, 6), range(6, 11)], ndmin=3)\n",
    "printer('The type of array is %s', type(array))\n",
    "printer('The array is \\n%s', array)\n",
    "printer('The number of dimensions are %s\\n', array.ndim)"
   ]
  }
 ],
 "metadata": {
  "kernelspec": {
   "display_name": "Python 3",
   "language": "python",
   "name": "python3"
  },
  "language_info": {
   "codemirror_mode": {
    "name": "ipython",
    "version": 3
   },
   "file_extension": ".py",
   "mimetype": "text/x-python",
   "name": "python",
   "nbconvert_exporter": "python",
   "pygments_lexer": "ipython3",
   "version": "3.9.17"
  },
  "orig_nbformat": 4
 },
 "nbformat": 4,
 "nbformat_minor": 2
}
