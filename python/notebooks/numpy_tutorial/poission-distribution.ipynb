{
 "cells": [
  {
   "cell_type": "markdown",
   "metadata": {},
   "source": [
    "# NumPy Tutorial\n",
    "\n",
    "https://www.w3schools.com/python/numpy/"
   ]
  },
  {
   "cell_type": "markdown",
   "metadata": {},
   "source": [
    "## Poisson Distribution\n",
    "\n",
    "The Wikipedia article does a better job describing this distribution: [here](https://en.wikipedia.org/wiki/Poisson_distribution).\n",
    "\n",
    "It predicts the probability of event occurring in a given dimension (time, physical space, etc.) if there is a known and well-established mean rate of that event.\n",
    "\n",
    "The mean is indicated with $\\lambda$.\n",
    "\n",
    "In `numpy.random.poisson()` the arguments are `lam` for lambda and `size` for the size of the array."
   ]
  }
 ],
 "metadata": {
  "kernelspec": {
   "display_name": "Python 3",
   "language": "python",
   "name": "python3"
  },
  "language_info": {
   "codemirror_mode": {
    "name": "ipython",
    "version": 3
   },
   "file_extension": ".py",
   "mimetype": "text/x-python",
   "name": "python",
   "nbconvert_exporter": "python",
   "pygments_lexer": "ipython3",
   "version": "3.9.17"
  },
  "orig_nbformat": 4
 },
 "nbformat": 4,
 "nbformat_minor": 2
}
