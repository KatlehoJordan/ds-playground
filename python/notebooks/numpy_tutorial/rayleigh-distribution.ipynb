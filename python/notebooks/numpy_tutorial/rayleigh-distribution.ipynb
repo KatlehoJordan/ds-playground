{
 "cells": [
  {
   "cell_type": "markdown",
   "metadata": {},
   "source": [
    "# NumPy Tutorial\n",
    "\n",
    "https://www.w3schools.com/python/numpy/"
   ]
  },
  {
   "cell_type": "markdown",
   "metadata": {},
   "source": [
    "## Rayleigh Distribution\n",
    "\n",
    "The W3 description only states that the distribution is used in signal processing.\n",
    "\n",
    "See the [Wikipedia article here](https://en.wikipedia.org/wiki/Rayleigh_distribution).\n",
    "\n",
    "The distribution coincides with the chi distribution with two degrees of freedom (and the scale factor for Rayleigh is 1).\n",
    "\n",
    "According to the W3 schools site, the scaling factor determines 'how flat' the distribution is, where a larger scaling factor flattens the curve.\n",
    "\n",
    "[This site](https://www.statisticshowto.com/rayleigh-distribution/) indicates the distribution is used:\n",
    "- In communications theory, to model multiple paths of dense scattered signals reaching a receiver.\n",
    "- In the physical sciences to model wind speed, wave heights and sound/light radiation.\n",
    "- In engineering, to measure the lifetime of an object, where the lifetime depends on the object’s age. For example: resistors, transformers, and capacitors in aircraft radar sets.\n",
    "- In medical imaging science, to model noise variance in magnetic resonance imaging."
   ]
  }
 ],
 "metadata": {
  "kernelspec": {
   "display_name": "Python 3",
   "language": "python",
   "name": "python3"
  },
  "language_info": {
   "codemirror_mode": {
    "name": "ipython",
    "version": 3
   },
   "file_extension": ".py",
   "mimetype": "text/x-python",
   "name": "python",
   "nbconvert_exporter": "python",
   "pygments_lexer": "ipython3",
   "version": "3.11.4"
  },
  "orig_nbformat": 4
 },
 "nbformat": 4,
 "nbformat_minor": 2
}
