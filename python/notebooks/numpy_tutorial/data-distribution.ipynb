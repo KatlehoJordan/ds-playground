{
 "cells": [
  {
   "cell_type": "markdown",
   "metadata": {},
   "source": [
    "# NumPy Tutorial\n",
    "\n",
    "https://www.w3schools.com/python/numpy/"
   ]
  },
  {
   "cell_type": "markdown",
   "metadata": {},
   "source": [
    "## Random Data Distribution\n",
    "\n",
    "A data distribution is a list of all possible values and their frequency in any given dataset.\n",
    "\n",
    "A random distribution is a set of randomly-generated numbers that follow a certain probability density function.\n",
    "\n",
    "The probability density function is a function that describes a continuous probability (i.e., the probability of all values in an array).\n",
    "\n",
    "Using the `choice()` method from the `random` module, you can specify the probability of a value in a distribution. When using `choice()` in this way, one must specify the array of values, then `p` with an array of probabilities, where `p` must be between 0 and 1 and the sum of `p` must be 1.\n",
    "\n",
    "Recall from 'random-intro.ipynb' that `choice()` can also randomly select a value from a distribution you sent it)."
   ]
  },
  {
   "cell_type": "code",
   "execution_count": 26,
   "metadata": {},
   "outputs": [
    {
     "name": "stderr",
     "output_type": "stream",
     "text": [
      "Array 1 to 10 is:\n",
      "[ 1  2  3  4  5  6  7  8  9 10]\n",
      "Array odds 1 to 10 is:\n",
      "[1 3 5 7 9]\n",
      "A value from array 1 to 10 is:\n",
      "7\n",
      "A value from array odds 1 to 10 is:\n",
      "9\n",
      "\n",
      "2023-08-02 07:42:21 \n",
      "\tLogger: numpy-tutorial Module: 3832358490 Function: <module> File: 3832358490.py Line: 24\n",
      "INFO:\n",
      "Observe that one can use `choice` to first create a distribution,\n",
      "then again to sample from that distribution, as done below.\n",
      "\n",
      "Making right skew array of 1000 values from skewing array_1_to_10\n",
      "Getting 10 values from right skew:\n",
      "[3 1 3 1 8 1 1 1 2 2]\n"
     ]
    }
   ],
   "source": [
    "import numpy as np\n",
    "from configurations import printer, logger\n",
    "\n",
    "array_1_to_10 = np.array([*range(1, 11)])\n",
    "array_odds_to_10 = array_1_to_10[array_1_to_10 % 2 != 0]\n",
    "\n",
    "printer(\n",
    "    'Array 1 to 10 is:\\n%s',\n",
    "    array_1_to_10\n",
    "    )\n",
    "printer(\n",
    "    'Array odds 1 to 10 is:\\n%s',\n",
    "    array_odds_to_10\n",
    "    )\n",
    "printer(\n",
    "    'A value from array 1 to 10 is:\\n%s',\n",
    "    np.random.choice(array_1_to_10)\n",
    "    )\n",
    "printer(\n",
    "    'A value from array odds 1 to 10 is:\\n%s',\n",
    "    np.random.choice(array_odds_to_10)\n",
    "    )\n",
    "\n",
    "logger.info(\n",
    "    'Observe that one can use `choice` to first create a distribution,\\n'\n",
    "    'then again to sample from that distribution, as done below.'\n",
    ")\n",
    "printer('Making right skew array of 1000 values from skewing array_1_to_10')\n",
    "right_skew = np.random.choice(array_1_to_10, p=[0.5, 0.3, 0.1, 0.04, 0.01, 0.01, 0.01, 0.01, 0.01, 0.01], size = 1000)\n",
    "\n",
    "printer(\n",
    "    'Getting 10 values from right skew:\\n%s',\n",
    "    np.random.choice(right_skew, size=10)\n",
    "    )"
   ]
  },
  {
   "cell_type": "markdown",
   "metadata": {},
   "source": [
    "Just as before with the `random.choice()` method, you can send output data into multi-dimensional arrays."
   ]
  },
  {
   "cell_type": "code",
   "execution_count": 1,
   "metadata": {},
   "outputs": [
    {
     "name": "stderr",
     "output_type": "stream",
     "text": [
      "A 3D array with samples pulled from right_skew:\n",
      "[[[1 1 4]\n",
      "  [2 1 2]]\n",
      "\n",
      " [[2 3 1]\n",
      "  [2 2 3]]]\n"
     ]
    }
   ],
   "source": [
    "import numpy as np\n",
    "from configurations import printer\n",
    "\n",
    "array_1_to_10 = np.array([*range(1, 11)])\n",
    "right_skew = np.random.choice(array_1_to_10, p=[0.5, 0.3, 0.1, 0.04, 0.01, 0.01, 0.01, 0.01, 0.01, 0.01], size = 1000)\n",
    "\n",
    "printer(\n",
    "    'A 3D array with samples pulled from right_skew:\\n%s',\n",
    "    np.random.choice(right_skew, size = (2, 2, 3))\n",
    ")"
   ]
  },
  {
   "cell_type": "markdown",
   "metadata": {},
   "source": [
    "If your array has duplicated values and you assign them different probabilities, they are summed."
   ]
  },
  {
   "cell_type": "code",
   "execution_count": 11,
   "metadata": {},
   "outputs": [
    {
     "name": "stderr",
     "output_type": "stream",
     "text": [
      "100 samples from a duplicated entries array:\n",
      "[1 1 1 2 1 1 1 1 1 1 1 1 1 1 1 1 1 1 1 1 1 1 1 1 1 1 1 2 1 1 1 1 1 2 1 1 2\n",
      " 1 1 2 1 2 1 1 1 1 1 1 1 1 2 2 1 1 1 1 1 2 1 1 1 1 1 1 1 2 1 1 1 1 1 1 1 2\n",
      " 1 1 1 1 1 1 1 1 1 1 1 1 1 1 1 1 1 1 1 1 1 1 1 2 2 1]\n"
     ]
    }
   ],
   "source": [
    "import numpy as np\n",
    "from configurations import printer\n",
    "\n",
    "duplicated_entries_array = np.random.choice([1, 2, 1], p = [0.1, 0.1, 0.8], size = 100)\n",
    "printer(\n",
    "    '100 samples from a duplicated entries array:\\n%s',\n",
    "    duplicated_entries_array\n",
    ")"
   ]
  },
  {
   "cell_type": "markdown",
   "metadata": {},
   "source": [
    "You can send array-like objects, such as a tuple or list, to the first argument of `random.choice()`.\n",
    "\n",
    "What does not work are collections that are unordered (such as a set).\n",
    "\n",
    "Furthermore, although dictionaries are ordered, they do not work in `np.random.choice()`.\n",
    "\n",
    "However, if you use list comprehension, you can extract set items, dictionary keys, or dictionary values, and then put those into an array for `random.choice()`."
   ]
  },
  {
   "cell_type": "code",
   "execution_count": 24,
   "metadata": {},
   "outputs": [
    {
     "name": "stderr",
     "output_type": "stream",
     "text": [
      "100 samples from an array built from a tuple:\n",
      "[3 3 3 1 2 2 3 3 3 2 2 3 3 3 3 3 3 3 2 1 3 2 1 3 3 3 3 3 3 2 2 2 3 3 3 1 2\n",
      " 3 3 3 3 3 3 3 3 3 2 3 3 1 2 3 3 2 2 3 1 2 3 2 3 3 3 3 3 3 3 3 1 3 2 1 2 3\n",
      " 3 3 2 3 3 3 1 2 1 3 3 3 3 3 3 3 3 3 1 2 3 3 3 3 3 2]\n",
      "Creating a set\n",
      "Trying to select randomly from the set\n",
      "\n",
      "2023-08-02 09:05:54 \n",
      "\tLogger: numpy-tutorial Module: 1298046908 Function: <module> File: 1298046908.py Line: 18\n",
      "ERROR:\n",
      "Exception:\n",
      "a must be 1-dimensional or an integer:\n",
      "\n",
      "Trying to select randomly from the unpacked set\n",
      "[3 1 3 2 2 3 3 3 3 3 3 3 1 3 3 3 3 3 3 3 2 1 3 3 2 2 3 3 3 3 2 2 2 3 3 2 2\n",
      " 2 2 3 2 3 2 3 3 3 3 3 3 3 1 3 3 3 2 3 3 1 1 1 3 3 3 3 3 1 3 3 3 3 3 2 1 3\n",
      " 3 3 2 3 3 3 3 3 2 3 1 3 3 2 3 1 2 3 2 3 3 2 3 3 3 2]\n",
      "Creating a dictionary\n",
      "\n",
      "2023-08-02 09:05:54 \n",
      "\tLogger: numpy-tutorial Module: 1298046908 Function: <module> File: 1298046908.py Line: 31\n",
      "ERROR:\n",
      "Exception:\n",
      "a must be 1-dimensional or an integer:\n",
      "\n",
      "Trying to select randomly from the unpacked dictionary keys\n",
      "['b' 'a' 'c' 'c' 'c' 'c' 'c' 'c' 'c' 'c' 'c' 'c' 'b' 'a' 'b' 'c' 'c' 'b'\n",
      " 'c' 'b' 'b' 'c' 'c' 'b' 'c' 'a' 'c' 'c' 'c' 'a' 'b' 'c' 'c' 'c' 'b' 'b'\n",
      " 'c' 'c' 'c' 'c' 'c' 'b' 'c' 'c' 'c' 'b' 'c' 'c' 'c' 'c' 'c' 'c' 'c' 'c'\n",
      " 'c' 'c' 'c' 'c' 'c' 'b' 'c' 'c' 'a' 'c' 'c' 'c' 'b' 'a' 'c' 'b' 'c' 'c'\n",
      " 'a' 'b' 'b' 'c' 'b' 'c' 'c' 'a' 'b' 'c' 'c' 'c' 'c' 'c' 'b' 'b' 'c' 'c'\n",
      " 'b' 'c' 'c' 'b' 'c' 'b' 'c' 'c' 'c' 'c']\n",
      "Trying to select randomly from the unpacked dictionary values\n",
      "[3 3 3 3 3 2 3 3 3 3 3 3 2 1 1 2 2 3 3 3 2 3 3 3 2 2 1 3 3 1 3 1 3 1 3 3 2\n",
      " 3 3 2 3 3 3 2 3 3 2 2 2 3 3 3 3 3 2 2 3 3 3 3 3 3 3 3 3 3 3 3 2 3 3 3 3 3\n",
      " 3 3 1 3 1 3 1 3 2 2 3 1 3 3 3 2 3 1 3 3 3 2 1 3 3 3]\n"
     ]
    }
   ],
   "source": [
    "import numpy as np\n",
    "from configurations import printer, logger\n",
    "\n",
    "array_from_set = np.random.choice((1, 2, 3), p = [0.1, 0.2, 0.7], size = 100)\n",
    "\n",
    "printer(\n",
    "    '100 samples from an array built from a tuple:\\n%s',\n",
    "    array_from_set\n",
    ")\n",
    "\n",
    "printer('Creating a set')\n",
    "my_set = {1, 2, 3}\n",
    "my_unpacked_set = [item for item in my_set]\n",
    "\n",
    "printer('Trying to select randomly from the set')\n",
    "try:\n",
    "    array_from_set = np.random.choice(my_set, p = [0.1, 0.2, 0.7], size = 100)\n",
    "except ValueError as exception: logger.error('Exception:\\n%s:', exception)\n",
    "\n",
    "printer('Trying to select randomly from the unpacked set')\n",
    "array_from_unpacked_set = np.random.choice(my_unpacked_set, p = [0.1, 0.2, 0.7], size = 100)\n",
    "printer(array_from_unpacked_set)\n",
    "\n",
    "printer('Creating a dictionary')\n",
    "my_dictionary ={'a': 1, 'b': 2, 'c': 3}\n",
    "my_unpacked_dictionary_keys = [key for key in my_dictionary]\n",
    "my_unpacked_dictionary_values = [value for value in my_dictionary.values()]\n",
    "\n",
    "try:\n",
    "    array_from_dictionary = np.random.choice(my_dictionary, p = [0.1, 0.2, 0.7], size = 100)\n",
    "except ValueError as exception: logger.error('Exception:\\n%s:', exception)\n",
    "\n",
    "printer('Trying to select randomly from the unpacked dictionary keys')\n",
    "array_from_unpacked_dictionary_keys = np.random.choice(my_unpacked_dictionary_keys, p = [0.1, 0.2, 0.7], size = 100)\n",
    "printer(array_from_unpacked_dictionary_keys)\n",
    "\n",
    "printer('Trying to select randomly from the unpacked dictionary values')\n",
    "array_from_unpacked_dictionary_values = np.random.choice(my_unpacked_dictionary_values, p = [0.1, 0.2, 0.7], size = 100)\n",
    "printer(array_from_unpacked_dictionary_values)"
   ]
  }
 ],
 "metadata": {
  "kernelspec": {
   "display_name": "Python 3",
   "language": "python",
   "name": "python3"
  },
  "language_info": {
   "codemirror_mode": {
    "name": "ipython",
    "version": 3
   },
   "file_extension": ".py",
   "mimetype": "text/x-python",
   "name": "python",
   "nbconvert_exporter": "python",
   "pygments_lexer": "ipython3",
   "version": "3.9.17"
  },
  "orig_nbformat": 4
 },
 "nbformat": 4,
 "nbformat_minor": 2
}
