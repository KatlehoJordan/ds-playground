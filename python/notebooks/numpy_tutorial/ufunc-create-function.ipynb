{
 "cells": [
  {
   "cell_type": "markdown",
   "metadata": {},
   "source": [
    "# NumPy Tutorial\n",
    "\n",
    "https://www.w3schools.com/python/numpy/"
   ]
  },
  {
   "cell_type": "markdown",
   "metadata": {},
   "source": [
    "## Ufunc create your own ufunc\n",
    "\n",
    "Use `frompyfunc()` to create a function using parameters:\n",
    "- `function` - the name of the function\n",
    "- `inputs` - the number of input arguments (arrays)\n",
    "- `outputs` - the number of output arrays"
   ]
  },
  {
   "cell_type": "code",
   "execution_count": 2,
   "metadata": {},
   "outputs": [
    {
     "name": "stderr",
     "output_type": "stream",
     "text": [
      "[6 8 10 12]\n"
     ]
    }
   ],
   "source": [
    "import numpy as np\n",
    "from typing import Any\n",
    "from configurations import printer\n",
    "\n",
    "def my_add(x: Any, y: Any) -> Any:\n",
    "    return x + y\n",
    "\n",
    "my_add = np.frompyfunc(my_add, 2, 1)\n",
    "\n",
    "printer(my_add([1, 2, 3, 4] , [5, 6, 7, 8]))\n",
    "\n"
   ]
  },
  {
   "cell_type": "markdown",
   "metadata": {},
   "source": [
    "Using `frompyfunc` adds the function to your `ufunc` library, so that it should behave as a vectorized function.\n",
    "\n",
    "Check the type of a function as normal."
   ]
  },
  {
   "cell_type": "code",
   "execution_count": 4,
   "metadata": {},
   "outputs": [
    {
     "name": "stderr",
     "output_type": "stream",
     "text": [
      "Type of `np.add` is: <class 'numpy.ufunc'>\n",
      "Type of `my_subtract` before using frompyfunc is:\n",
      "<class 'function'>\n",
      "Type of `my_subtract` after using frompyfunc is:\n",
      "<class 'numpy.ufunc'>\n"
     ]
    }
   ],
   "source": [
    "import numpy as np\n",
    "from configurations import printer\n",
    "\n",
    "printer('Type of `np.add` is: %s', type(np.add))\n",
    "\n",
    "\n",
    "\n",
    "def my_subtract(x: Any, y: Any) -> Any:\n",
    "    return x - y\n",
    "\n",
    "printer('Type of `my_subtract` before using frompyfunc is:\\n%s',\n",
    "        type(my_subtract))\n",
    "\n",
    "my_subtract = np.frompyfunc(my_subtract, 2, 1)\n",
    "\n",
    "printer('Type of `my_subtract` after using frompyfunc is:\\n%s',\n",
    "        type(my_subtract))"
   ]
  }
 ],
 "metadata": {
  "kernelspec": {
   "display_name": "Python 3",
   "language": "python",
   "name": "python3"
  },
  "language_info": {
   "codemirror_mode": {
    "name": "ipython",
    "version": 3
   },
   "file_extension": ".py",
   "mimetype": "text/x-python",
   "name": "python",
   "nbconvert_exporter": "python",
   "pygments_lexer": "ipython3",
   "version": "3.11.4"
  },
  "orig_nbformat": 4
 },
 "nbformat": 4,
 "nbformat_minor": 2
}
