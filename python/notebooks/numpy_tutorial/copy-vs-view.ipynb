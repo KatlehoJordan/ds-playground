{
 "cells": [
  {
   "cell_type": "markdown",
   "metadata": {},
   "source": [
    "# NumPy Tutorial\n",
    "\n",
    "https://www.w3schools.com/python/numpy/"
   ]
  },
  {
   "cell_type": "markdown",
   "metadata": {},
   "source": [
    "## Copy vs View\n",
    "\n",
    "### The Difference Between Copy and View\n",
    "\n",
    " A copy of an array is a new array.\n",
    "\n",
    " A view of an array is a new reference to the same array.\n",
    "\n",
    " If one modifies data in a view, all other views of that data will reflect the changes since they are all just references to the same data in memory."
   ]
  },
  {
   "cell_type": "code",
   "execution_count": 3,
   "metadata": {},
   "outputs": [
    {
     "name": "stderr",
     "output_type": "stream",
     "text": [
      "Making array\n",
      "Making copied_array\n",
      "Array is: [1 2 3 4 5]\n",
      "Copied array is: [1 2 3 4 5]\n",
      "Making viewed_array\n",
      "Array is: [1 2 3 4 5]\n",
      "Viewed array is: [1 2 3 4 5]\n",
      "Modifying array\n",
      "Array is: [42  2  3  4  5]\n",
      "Copied array is: [1 2 3 4 5]\n",
      "Viewed array is: [42  2  3  4  5]\n",
      "Modifying viewed_array\n",
      "Array is: [42 77  3  4  5]\n",
      "Copied array is: [1 2 3 4 5]\n",
      "Viewed array is: [42 77  3  4  5]\n"
     ]
    }
   ],
   "source": [
    "import numpy as np\n",
    "from configurations import printer\n",
    "\n",
    "printer('Making array')\n",
    "array = np.array([*range(1, 6)])\n",
    "printer('Making copied_array')\n",
    "copied_array = array.copy()\n",
    "printer('Array is: %s', array)\n",
    "printer('Copied array is: %s', copied_array)\n",
    "printer('Making viewed_array')\n",
    "viewed_array = array.view()\n",
    "printer('Array is: %s', array)\n",
    "printer('Viewed array is: %s', viewed_array)\n",
    "printer('Modifying array')\n",
    "array[0] = 42\n",
    "\n",
    "printer('Array is: %s', array)\n",
    "printer('Copied array is: %s', copied_array)\n",
    "printer('Viewed array is: %s', viewed_array)\n",
    "\n",
    "printer('Modifying viewed_array')\n",
    "array[1] = 77\n",
    "printer('Array is: %s', array)\n",
    "printer('Copied array is: %s', copied_array)\n",
    "printer('Viewed array is: %s', viewed_array)"
   ]
  },
  {
   "cell_type": "markdown",
   "metadata": {},
   "source": [
    "### Check if Array Owns its Data\n",
    "\n",
    "Every array has an attribute `base`. If an array is the original, then this will be `None`. Otherwise, it will indicate that the array is actually a view on another array."
   ]
  },
  {
   "cell_type": "code",
   "execution_count": 6,
   "metadata": {},
   "outputs": [
    {
     "name": "stderr",
     "output_type": "stream",
     "text": [
      "Making array\n",
      "Making copied_array\n",
      "Making viewed_array\n",
      "array.base is: None\n",
      "copied_array.base is: None\n",
      "viewed_array.base is: [1 2 3 4 5]\n",
      "\n",
      "2023-07-31 15:17:08 \n",
      "\tLogger: numpy-tutorial Module: 97257054 Function: <module> File: 97257054.py Line: 15\n",
      "WARNING:\n",
      "I do not know how to determine if a view has been made of an objectsuch that I would know that a view of array has been made calledviewed_array. This would be useful since array can be changed ifviewed_array is updated\n",
      "Updating viewed_array\n",
      "array.base is: None\n",
      "copied_array.base is: None\n",
      "viewed_array.base is: [42  2  3  4  5]\n"
     ]
    }
   ],
   "source": [
    "import numpy as np\n",
    "from configurations import printer, logger\n",
    "\n",
    "printer('Making array')\n",
    "array = np.array([*range(1, 6)])\n",
    "printer('Making copied_array')\n",
    "copied_array = array.copy()\n",
    "printer('Making viewed_array')\n",
    "viewed_array = array.view()\n",
    "\n",
    "printer('array.base is: %s', array.base)\n",
    "printer('copied_array.base is: %s', copied_array.base)\n",
    "printer('viewed_array.base is: %s', viewed_array.base)\n",
    "\n",
    "logger.warning(\n",
    "    'I do not know how to determine if a view has been made of an object'\n",
    "    'such that I would know that a view of array has been made called'\n",
    "    'viewed_array. This would be useful since array can be changed if'\n",
    "    'viewed_array is updated')\n",
    "\n",
    "printer('Updating viewed_array')\n",
    "viewed_array[0] = 42\n",
    "printer('array.base is: %s', array.base)\n",
    "printer('copied_array.base is: %s', copied_array.base)\n",
    "printer('viewed_array.base is: %s', viewed_array.base)"
   ]
  }
 ],
 "metadata": {
  "kernelspec": {
   "display_name": "Python 3",
   "language": "python",
   "name": "python3"
  },
  "language_info": {
   "codemirror_mode": {
    "name": "ipython",
    "version": 3
   },
   "file_extension": ".py",
   "mimetype": "text/x-python",
   "name": "python",
   "nbconvert_exporter": "python",
   "pygments_lexer": "ipython3",
   "version": "3.9.17"
  },
  "orig_nbformat": 4
 },
 "nbformat": 4,
 "nbformat_minor": 2
}
