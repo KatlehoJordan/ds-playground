{
 "cells": [
  {
   "cell_type": "markdown",
   "metadata": {},
   "source": [
    "# NumPy Tutorial\n",
    "\n",
    "https://www.w3schools.com/python/numpy/"
   ]
  },
  {
   "cell_type": "markdown",
   "metadata": {},
   "source": [
    "## Random Permutation\n",
    "\n",
    "A permutation means to shuffle the order of data in an array.\n",
    "\n",
    "This can be done with `random.shuffle()` to shuffle an array in place, or with `random.permutation()` to return a new array."
   ]
  },
  {
   "cell_type": "code",
   "execution_count": 1,
   "metadata": {},
   "outputs": [
    {
     "name": "stderr",
     "output_type": "stream",
     "text": [
      "My array is:\n",
      "[ 1  2  3  4  5  6  7  8  9 10]\n",
      "My permuted array is:\n",
      "[ 4  9  7  8  1 10  5  6  3  2]\n",
      "My array is:\n",
      "[ 1  2  3  4  5  6  7  8  9 10]\n",
      "Shuffling my array\n",
      "My permuted array is:\n",
      "[ 4  9  7  8  1 10  5  6  3  2]\n",
      "My array is:\n",
      "[10  8  1  7  5  2  6  9  4  3]\n"
     ]
    }
   ],
   "source": [
    "import numpy as np\n",
    "from configurations import printer\n",
    "\n",
    "my_array = np.array([*range(1, 11)])\n",
    "\n",
    "printer('My array is:\\n%s', my_array)\n",
    "\n",
    "my_permuted_array = np.random.permutation(my_array)\n",
    "\n",
    "printer('My permuted array is:\\n%s', my_permuted_array)\n",
    "printer('My array is:\\n%s', my_array)\n",
    "\n",
    "printer('Shuffling my array')\n",
    "\n",
    "np.random.shuffle(my_array)\n",
    "\n",
    "printer('My permuted array is:\\n%s', my_permuted_array)\n",
    "printer('My array is:\\n%s', my_array)"
   ]
  }
 ],
 "metadata": {
  "kernelspec": {
   "display_name": "Python 3",
   "language": "python",
   "name": "python3"
  },
  "language_info": {
   "codemirror_mode": {
    "name": "ipython",
    "version": 3
   },
   "file_extension": ".py",
   "mimetype": "text/x-python",
   "name": "python",
   "nbconvert_exporter": "python",
   "pygments_lexer": "ipython3",
   "version": "3.9.17"
  },
  "orig_nbformat": 4
 },
 "nbformat": 4,
 "nbformat_minor": 2
}
