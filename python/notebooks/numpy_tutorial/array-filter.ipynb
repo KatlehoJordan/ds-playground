{
 "cells": [
  {
   "cell_type": "markdown",
   "metadata": {},
   "source": [
    "# NumPy Tutorial\n",
    "\n",
    "https://www.w3schools.com/python/numpy/"
   ]
  },
  {
   "cell_type": "markdown",
   "metadata": {},
   "source": [
    "## Filtering Arrays\n",
    "\n",
    "In NumPy, filters are done based on boolean logic. That is, if a boolean test evaluates to `True` at an index, then it will be kept after the filter. If the boolean test evaluates to `False`, then it will not be kept; i.e., it will be filtered out."
   ]
  },
  {
   "cell_type": "code",
   "execution_count": 1,
   "metadata": {},
   "outputs": [
    {
     "name": "stderr",
     "output_type": "stream",
     "text": [
      "Array is:\n",
      "[41 42 43 44]\n",
      "boolean_array is:\n",
      "[False  True False False]\n",
      "Filtering array based on booleans in boolean array yields:\n",
      "[42]\n"
     ]
    }
   ],
   "source": [
    "import numpy as np\n",
    "from configurations import printer\n",
    "\n",
    "array = np.array([41, 42, 43, 44])\n",
    "\n",
    "boolean_array = np.array([False, True, False, False])\n",
    "\n",
    "printer('Array is:\\n%s', array)\n",
    "printer('boolean_array is:\\n%s', boolean_array)\n",
    "printer(\n",
    "    'Filtering array based on booleans in boolean array yields:\\n%s',\n",
    "    array[boolean_array]\n",
    ")"
   ]
  },
  {
   "cell_type": "markdown",
   "metadata": {},
   "source": [
    "### Creating the Filter Array\n",
    "\n",
    "In the previous example, an array was made manually and explicitly. However, it is more common to create it programmatically. For example, by creating an array-like object such as a list."
   ]
  },
  {
   "cell_type": "code",
   "execution_count": 3,
   "metadata": {},
   "outputs": [
    {
     "name": "stderr",
     "output_type": "stream",
     "text": [
      "Array is:\n",
      "[41 42 43 44]\n",
      "true_if_42 is:\n",
      "[False, True, False, False]\n",
      "Filtering array based on booleans in true_if_42 array yields:\n",
      "[42]\n",
      "Array is:\n",
      "[41 42 43 44]\n",
      "true_if_even is:\n",
      "[False, True, False, True]\n",
      "Filtering array based on booleans in true_if_even array yields:\n",
      "[42 44]\n"
     ]
    }
   ],
   "source": [
    "import numpy as np\n",
    "from configurations import printer\n",
    "\n",
    "array = np.array([41, 42, 43, 44])\n",
    "\n",
    "true_if_42 = [True if element == 42 else False for element in array]\n",
    "\n",
    "printer('Array is:\\n%s', array)\n",
    "printer('true_if_42 is:\\n%s', true_if_42)\n",
    "printer(\n",
    "    'Filtering array based on booleans in true_if_42 array yields:\\n%s',\n",
    "    array[true_if_42]\n",
    ")\n",
    "\n",
    "true_if_even = [True if element % 2 == 0 else False for element in array]\n",
    "\n",
    "printer('Array is:\\n%s', array)\n",
    "printer('true_if_even is:\\n%s', true_if_even)\n",
    "printer(\n",
    "    'Filtering array based on booleans in true_if_even array yields:\\n%s',\n",
    "    array[true_if_even]\n",
    ")"
   ]
  },
  {
   "cell_type": "markdown",
   "metadata": {},
   "source": [
    "### Creating Fliter Directly From Array\n",
    "\n",
    "In numpy, if you want to filter an array, you do not need to go through the process of first creating the filter array and then substituting it into the square brackets to subset the original array (as you have done in the previous code cells in this notebook); a more succinct way is to do the same is to just put the boolean logic directly into the square brackets for filtering."
   ]
  },
  {
   "cell_type": "code",
   "execution_count": 7,
   "metadata": {},
   "outputs": [
    {
     "name": "stderr",
     "output_type": "stream",
     "text": [
      "The array is:\n",
      "[41 42 43 44]\n",
      "The array filtered where values are 42 is:\n",
      "[42]\n",
      "The array filtered where values are even is:\n",
      "[42 44]\n"
     ]
    }
   ],
   "source": [
    "import numpy as np\n",
    "from configurations import printer\n",
    "\n",
    "array = np.array([*range(41, 45)])\n",
    "\n",
    "printer('The array is:\\n%s', array)\n",
    "printer('The array filtered where values are 42 is:\\n%s', array[array == 42])\n",
    "printer(\n",
    "    'The array filtered where values are even is:\\n%s',\n",
    "    array[array % 2 == 0]\n",
    "    )"
   ]
  },
  {
   "cell_type": "markdown",
   "metadata": {},
   "source": [
    "What is good to know about filtering numpy arrays is that the filtered arrays are their own objects in memory; they are not just views on the original array."
   ]
  },
  {
   "cell_type": "code",
   "execution_count": 3,
   "metadata": {},
   "outputs": [
    {
     "name": "stderr",
     "output_type": "stream",
     "text": [
      "Array is:\n",
      "[41 42 43 44]\n",
      "array_42 is:\n",
      "[42]\n",
      "array_even is:\n",
      "[42 44]\n",
      "Base of array is:\n",
      "None\n",
      "Base of array_42 is:\n",
      "None\n",
      "Base of array_even is:\n",
      "None\n",
      "Updating a value in array_even\n",
      "array_even is:\n",
      "[77 44]\n",
      "Array is not affected by the update. It is still:\n",
      "[41 42 43 44]\n"
     ]
    }
   ],
   "source": [
    "import numpy as np\n",
    "from configurations import printer\n",
    "\n",
    "array = np.array([*range(41, 45)])\n",
    "\n",
    "array_42 = array[array == 42]\n",
    "array_even= array[array % 2 == 0]\n",
    "\n",
    "printer('Array is:\\n%s', array)\n",
    "printer('array_42 is:\\n%s', array_42)\n",
    "printer('array_even is:\\n%s', array_even)\n",
    "printer('Base of array is:\\n%s', array.base)\n",
    "printer('Base of array_42 is:\\n%s', array_42.base)\n",
    "printer('Base of array_even is:\\n%s', array_even.base)\n",
    "\n",
    "printer('Updating a value in array_even')\n",
    "array_even[0] = 77\n",
    "\n",
    "printer('array_even is:\\n%s', array_even)\n",
    "printer('Array is not affected by the update. It is still:\\n%s', array)"
   ]
  }
 ],
 "metadata": {
  "kernelspec": {
   "display_name": "Python 3",
   "language": "python",
   "name": "python3"
  },
  "language_info": {
   "codemirror_mode": {
    "name": "ipython",
    "version": 3
   },
   "file_extension": ".py",
   "mimetype": "text/x-python",
   "name": "python",
   "nbconvert_exporter": "python",
   "pygments_lexer": "ipython3",
   "version": "3.9.17"
  },
  "orig_nbformat": 4
 },
 "nbformat": 4,
 "nbformat_minor": 2
}
