{
 "cells": [
  {
   "cell_type": "markdown",
   "metadata": {},
   "source": [
    "# NumPy Tutorial\n",
    "\n",
    "https://www.w3schools.com/python/numpy/"
   ]
  },
  {
   "cell_type": "markdown",
   "metadata": {},
   "source": [
    "## Searching Arrays\n",
    "\n",
    "Searching an array can be done with `np.where(array == <condition>)`\n",
    "\n",
    "The result is a tuple indicating the name of the array and the index/indices where the value is found.\n",
    "\n",
    "Note that one can do matrix math on the array before applying the boolean logic. For example, to find all even values, use `array % 2 == 0` to first apply the modulo to the entire array."
   ]
  },
  {
   "cell_type": "code",
   "execution_count": 34,
   "metadata": {},
   "outputs": [
    {
     "name": "stderr",
     "output_type": "stream",
     "text": [
      "Array is:\n",
      "[1 2 3 4 5 2 3 4 5 6]\n",
      "1 is found at index/indices:\n",
      "(array([0]),)\n",
      "2 is found at index/indices:\n",
      "(array([1, 5]),)\n",
      "Array modulo 2 is:\n",
      "[1 0 1 0 1 0 1 0 1 0]\n",
      "Array modulo 2 is 0:\n",
      "(array([1, 3, 5, 7, 9]),)\n",
      "Array is odd:\n",
      "(array([0, 2, 4, 6, 8]),)\n",
      "\n",
      "2023-08-01 07:46:50 \n",
      "\tLogger: numpy-tutorial Module: 2144433392 Function: <module> File: 2144433392.py Line: 15\n",
      "WARNING:\n",
      "Note that printing % symbol in logs can be problematic\n",
      "\n"
     ]
    }
   ],
   "source": [
    "import numpy as np\n",
    "from configurations import printer, logger\n",
    "\n",
    "array = np.array([*range(1, 6), *range(2, 7)])\n",
    "\n",
    "printer('Array is:\\n%s', array)\n",
    "printer('1 is found at index/indices:\\n%s', np.where(array == 1))\n",
    "printer('2 is found at index/indices:\\n%s', np.where(array == 2))\n",
    "array_modulo_2 = array % 2\n",
    "printer('Array modulo 2 is:\\n%s', array_modulo_2)\n",
    "printer('Array modulo 2 is 0 at indices:\\n%s', np.where(array_modulo_2 == 0))\n",
    "\n",
    "printer('Array is odd at indices:\\n%s', np.where(array % 2 == 1))\n",
    "\n",
    "logger.warning(r'Note that printing % symbol in logs can be problematic')"
   ]
  },
  {
   "cell_type": "markdown",
   "metadata": {},
   "source": [
    "### Search Sorted\n",
    "\n",
    "You can search for the indices where a new value would be inserted into a sorted array with `np.searchsorted()`."
   ]
  },
  {
   "cell_type": "code",
   "execution_count": 38,
   "metadata": {},
   "outputs": [
    {
     "name": "stderr",
     "output_type": "stream",
     "text": [
      "2 would go into the sorted array at:\n",
      "1\n",
      "2 would go into the unsorted array at:\n",
      "2\n",
      "4 would go into the sorted array at:\n",
      "5\n",
      "4 would go into the unsorted array at:\n",
      "2\n"
     ]
    }
   ],
   "source": [
    "import numpy as np\n",
    "from configurations import printer, logger\n",
    "\n",
    "unsorted_array = np.array([3, 1, 5])\n",
    "sorted_array = np.sort(array)\n",
    "\n",
    "printer(\n",
    "    '2 would go into the sorted array at:\\n%s',\n",
    "    np.searchsorted(sorted_array, 2)\n",
    "    )\n",
    "\n",
    "printer(\n",
    "    '2 would go into the unsorted array at:\\n%s',\n",
    "    np.searchsorted(unsorted_array, 2)\n",
    "    )\n",
    "\n",
    "logger.warning(\n",
    "    'Note that `np.searchsorted()` will return values even if the array is\\n'\n",
    "    'not sorted! In other words, it presumes your array is already sorted,\\n'\n",
    "    'and if it is not, it will instead return the first index where the value\\n'\n",
    "    'is greater than the previous index.'\n",
    ")\n",
    "\n",
    "printer(\n",
    "    '4 would go into the sorted array at:\\n%s',\n",
    "    np.searchsorted(sorted_array, 4)\n",
    "    )\n",
    "\n",
    "printer(\n",
    "    '4 would go into the unsorted array at:\\n%s',\n",
    "    np.searchsorted(unsorted_array, 4)\n",
    "    )"
   ]
  },
  {
   "cell_type": "markdown",
   "metadata": {},
   "source": [
    "#### Search From the Right Side\n",
    "\n",
    "Use the argument `side='right'` to instead search from the right side of the array."
   ]
  },
  {
   "cell_type": "code",
   "execution_count": 39,
   "metadata": {},
   "outputs": [
    {
     "name": "stderr",
     "output_type": "stream",
     "text": [
      "2 would go into the sorted array at index counting from the right:\n",
      "3\n",
      "2 would go into the unsorted array  at index counting from the right:\n",
      "2\n",
      "4 would go into the sorted array  at index counting from the right:\n",
      "7\n",
      "4 would go into the unsorted array  at index counting from the right:\n",
      "2\n"
     ]
    }
   ],
   "source": [
    "import numpy as np\n",
    "from configurations import printer\n",
    "\n",
    "unsorted_array = np.array([3, 1, 5])\n",
    "sorted_array = np.sort(array)\n",
    "\n",
    "printer(\n",
    "    '2 would go into the sorted array at index counting from the right:\\n%s',\n",
    "    np.searchsorted(sorted_array, 2, side='right')\n",
    "    )\n",
    "\n",
    "printer(\n",
    "    '2 would go into the unsorted array  at index counting from the right:\\n%s',\n",
    "    np.searchsorted(unsorted_array, 2, side='right')\n",
    "    )\n",
    "\n",
    "printer(\n",
    "    '4 would go into the sorted array  at index counting from the right:\\n%s',\n",
    "    np.searchsorted(sorted_array, 4, side='right')\n",
    "    )\n",
    "\n",
    "printer(\n",
    "    '4 would go into the unsorted array  at index counting from the right:\\n%s',\n",
    "    np.searchsorted(unsorted_array, 4, side='right')\n",
    "    )"
   ]
  },
  {
   "cell_type": "markdown",
   "metadata": {},
   "source": [
    "### Multiple Values\n",
    "\n",
    "To search for multiple values, pass them as their own array."
   ]
  },
  {
   "cell_type": "code",
   "execution_count": 40,
   "metadata": {},
   "outputs": [
    {
     "name": "stderr",
     "output_type": "stream",
     "text": [
      "If you want to put insert_array into array, you would do it at these\n",
      "indices:\n",
      "[1 2 3]\n"
     ]
    }
   ],
   "source": [
    "import numpy as np\n",
    "from configurations import printer\n",
    "\n",
    "array = np.array([1, 3, 5, 7])\n",
    "insert_array = np.array([2, 4, 6])\n",
    "\n",
    "printer(\n",
    "    'If you want to put insert_array into array, you would do it at these\\n'\n",
    "    'indices:\\n%s',\n",
    "    np.searchsorted(array, insert_array)\n",
    ")"
   ]
  }
 ],
 "metadata": {
  "kernelspec": {
   "display_name": "Python 3",
   "language": "python",
   "name": "python3"
  },
  "language_info": {
   "codemirror_mode": {
    "name": "ipython",
    "version": 3
   },
   "file_extension": ".py",
   "mimetype": "text/x-python",
   "name": "python",
   "nbconvert_exporter": "python",
   "pygments_lexer": "ipython3",
   "version": "3.9.17"
  },
  "orig_nbformat": 4
 },
 "nbformat": 4,
 "nbformat_minor": 2
}
