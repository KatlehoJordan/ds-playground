{
 "cells": [
  {
   "cell_type": "markdown",
   "metadata": {},
   "source": [
    "# NumPy Tutorial\n",
    "\n",
    "https://www.w3schools.com/python/numpy/"
   ]
  },
  {
   "cell_type": "markdown",
   "metadata": {},
   "source": [
    "## Array Indexing\n",
    "\n",
    "### Slicing array\n",
    "\n",
    "Slicing should behave the same as you are used to with other collections, using the syntax `[start:end:step]`."
   ]
  },
  {
   "cell_type": "code",
   "execution_count": 4,
   "metadata": {},
   "outputs": [
    {
     "name": "stderr",
     "output_type": "stream",
     "text": [
      "Indices 1:2 are: [2]\n",
      "Indices :2 are: [1 2]\n"
     ]
    }
   ],
   "source": [
    "import numpy as np\n",
    "from configurations import printer\n",
    "\n",
    "array = np.array(range(1, 6))\n",
    "\n",
    "printer('Indices 1:2 are: %s', array[1:2])\n",
    "printer('Indices :2 are: %s', array[:2])"
   ]
  },
  {
   "cell_type": "markdown",
   "metadata": {},
   "source": [
    "### Negative Slicing\n",
    "\n",
    "Use the `-` operator or the `~` operator depending on which you prefer."
   ]
  },
  {
   "cell_type": "code",
   "execution_count": 5,
   "metadata": {},
   "outputs": [
    {
     "name": "stderr",
     "output_type": "stream",
     "text": [
      "Indices [-3:-2] are: [3]\n",
      "Indices [:-2] are: [1 2 3]\n"
     ]
    }
   ],
   "source": [
    "import numpy as np\n",
    "from configurations import printer\n",
    "\n",
    "array = np.array(range(1, 6))\n",
    "\n",
    "printer('Indices [-3:-2] are: %s', array[-3:-2])\n",
    "printer('Indices [:-2] are: %s', array[:-2])"
   ]
  },
  {
   "cell_type": "markdown",
   "metadata": {},
   "source": [
    "### Step\n",
    "\n",
    "Use the step to indicate how large the steps should be between slicing. The default is 1."
   ]
  },
  {
   "cell_type": "code",
   "execution_count": 6,
   "metadata": {},
   "outputs": [
    {
     "name": "stderr",
     "output_type": "stream",
     "text": [
      "Indices [-3:-2:2] are: [7]\n",
      "Indices [:-2:2] are: [1 3 5 7]\n"
     ]
    }
   ],
   "source": [
    "import numpy as np\n",
    "from configurations import printer\n",
    "\n",
    "array = np.array(range(1, 10))\n",
    "\n",
    "printer('Indices [-3:-2:2] are: %s', array[-3:-2:2])\n",
    "printer('Indices [:-2:2] are: %s', array[:-2:2])"
   ]
  },
  {
   "cell_type": "markdown",
   "metadata": {},
   "source": [
    "### Slicing 2-D Arrays\n",
    "\n",
    "Just like indexing higher-level arrays, slicing them requires using comma separation, and the order of the dimensions you slice from are the same as if you were indexing.\n",
    "\n",
    "Slicing with negative indices can be confusing due to the different behaviors of `-` and `~` operators and the different behaviors of the `[start:]` and `[:stop:]` positional arguments. Recall that `-1` = `~0` which means the final index in a collection, and that the `[:stop:]` value means up-to-but-not-including the value."
   ]
  },
  {
   "cell_type": "code",
   "execution_count": 16,
   "metadata": {},
   "outputs": [
    {
     "name": "stderr",
     "output_type": "stream",
     "text": [
      "The array is\n",
      "[[[ 1  2  3  4  5]\n",
      "  [ 6  7  8  9 10]]\n",
      "\n",
      " [[11 12 13 14 15]\n",
      "  [16 17 18 19 20]]]\n",
      "\n",
      "The slice [0:1, 0:1, 0:1] is\n",
      "[[[1]]]\n",
      "\n",
      "The slice [0:1, 0:1, 0:3] is\n",
      "[[[1 2 3]]]\n",
      "\n",
      "The slice [0:1, 0:2, 0:3] is\n",
      "[[[1 2 3]\n",
      "  [6 7 8]]]\n",
      "\n",
      "The slice [0:2, 0:2, 0:3] is\n",
      "[[[ 1  2  3]\n",
      "  [ 6  7  8]]\n",
      "\n",
      " [[11 12 13]\n",
      "  [16 17 18]]]\n",
      "\n",
      "\n",
      "\n",
      "Now onto negative sliding!\n",
      "\n",
      "\n",
      "The slice [0:1, 0:1, 0:-1] is\n",
      "[[[1 2 3 4]]]\n",
      "\n",
      "The slice [0:1, 0:1, 0:~0] is\n",
      "[[[1 2 3 4]]]\n",
      "\n",
      "The slice [0:1, 0:1, 0:~1] is\n",
      "[[[1 2 3]]]\n",
      "\n",
      "The slice [0:1, 0:1, ~5:] is\n",
      "[[[1 2 3 4 5]]]\n",
      "\n",
      "The slice [0:1, 0:1, 0:-0] is\n",
      "[]\n",
      "\n"
     ]
    }
   ],
   "source": [
    "import numpy as np\n",
    "from configurations import printer\n",
    "\n",
    "array = np.array([\n",
    "    [\n",
    "        [*range(1, 6)],\n",
    "        [*range(6, 11)]\n",
    "    ],\n",
    "        [\n",
    "        [*range(11, 16)],\n",
    "        [*range(16, 21)]\n",
    "    ]\n",
    "    ])\n",
    "\n",
    "printer('The array is\\n%s\\n', array)\n",
    "printer('The slice [0:1, 0:1, 0:1] is\\n%s\\n', array[0:1, 0:1, 0:1])\n",
    "printer('The slice [0:1, 0:1, 0:3] is\\n%s\\n', array[0:1, 0:1, 0:3])\n",
    "printer('The slice [0:1, 0:2, 0:3] is\\n%s\\n', array[0:1, 0:2, 0:3])\n",
    "printer('The slice [0:2, 0:2, 0:3] is\\n%s\\n', array[0:2, 0:2, 0:3])\n",
    "\n",
    "printer('\\n\\nNow onto negative sliding!\\n\\n')\n",
    "printer('The slice [0:1, 0:1, 0:-1] is\\n%s\\n', array[0:1, 0:1, 0:-1])\n",
    "printer('The slice [0:1, 0:1, 0:~0] is\\n%s\\n', array[0:1, 0:1, 0:~0])\n",
    "printer('The slice [0:1, 0:1, 0:~1] is\\n%s\\n', array[0:1, 0:1, 0:~1])\n",
    "printer('The slice [0:1, 0:1, ~5:] is\\n%s\\n', array[0:1, 0:1, ~5:])\n",
    "printer('The slice [0:1, 0:1, 0:-0] is\\n%s\\n', array[0:1, 0:1, 0:-0])\n",
    "# printer('The slice [0:1, 0:2, 0:3] is\\n%s\\n', array[0:1, 0:2, 0:3])\n",
    "# printer('The slice [0:2, 0:2, 0:3] is\\n%s\\n', array[0:2, 0:2, 0:3])\n"
   ]
  }
 ],
 "metadata": {
  "kernelspec": {
   "display_name": "Python 3",
   "language": "python",
   "name": "python3"
  },
  "language_info": {
   "codemirror_mode": {
    "name": "ipython",
    "version": 3
   },
   "file_extension": ".py",
   "mimetype": "text/x-python",
   "name": "python",
   "nbconvert_exporter": "python",
   "pygments_lexer": "ipython3",
   "version": "3.9.17"
  },
  "orig_nbformat": 4
 },
 "nbformat": 4,
 "nbformat_minor": 2
}
