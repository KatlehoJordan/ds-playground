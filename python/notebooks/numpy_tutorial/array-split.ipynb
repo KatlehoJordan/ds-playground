{
 "cells": [
  {
   "cell_type": "markdown",
   "metadata": {},
   "source": [
    "# NumPy Tutorial\n",
    "\n",
    "https://www.w3schools.com/python/numpy/"
   ]
  },
  {
   "cell_type": "markdown",
   "metadata": {},
   "source": [
    "## Splitting Array\n",
    "\n",
    "Splitting is the inverse of joining.\n",
    "\n",
    "Use `array_split()`, specifying the array and the number of splits.\n",
    "\n",
    "The splits are dropped into a list."
   ]
  },
  {
   "cell_type": "code",
   "execution_count": 1,
   "metadata": {},
   "outputs": [
    {
     "name": "stderr",
     "output_type": "stream",
     "text": [
      "The array is:\n",
      "[1 2 3 4 5 6]\n",
      "The array split into 2 is:\n",
      "[array([1, 2, 3]), array([4, 5, 6])]\n",
      "The type of split_2 is:\n",
      "<class 'list'>\n",
      "The array split into 3 is:\n",
      "[array([1, 2]), array([3, 4]), array([5, 6])]\n",
      "The type of split_3 is:\n",
      "<class 'list'>\n",
      "\n",
      "2023-07-31 19:08:01 \n",
      "\tLogger: numpy-tutorial Module: 2821216378 Function: <module> File: 2821216378.py Line: 14\n",
      "INFO:\n",
      "It is no problem if you specify a number of splits that do not match\n",
      "evenly into the number of elements in the array. The splits will be\n",
      "made to be equal-sized until they cannot any longer.\n",
      "\n",
      "The array split into 4 is:\n",
      "[array([1, 2]), array([3, 4]), array([5]), array([6])]\n",
      "The type of split_4 is:\n",
      "<class 'list'>\n",
      "\n",
      "2023-07-31 19:08:01 \n",
      "\tLogger: numpy-tutorial Module: 2821216378 Function: <module> File: 2821216378.py Line: 23\n",
      "INFO:\n",
      "If you only want it to split if you have equal-sized new arrays,\n",
      "use the np.split() function instead, which will throw an error when\n",
      "it cannot make equal-sized new arrays\n",
      "\n",
      "\n",
      "2023-07-31 19:08:01 \n",
      "\tLogger: numpy-tutorial Module: 2821216378 Function: <module> File: 2821216378.py Line: 32\n",
      "ERROR:\n",
      "array split does not result in an equal division\n",
      "\n"
     ]
    }
   ],
   "source": [
    "import numpy as np\n",
    "from configurations import printer, logger\n",
    "\n",
    "array = np.array([*range(1, 7)])\n",
    "printer('The array is:\\n%s', array)\n",
    "split_2 = np.array_split(array, 2)\n",
    "printer('The array split into 2 is:\\n%s', split_2)\n",
    "printer('The type of split_2 is:\\n%s', type(split_2))\n",
    "\n",
    "split_3 = np.array_split(array, 3)\n",
    "printer('The array split into 3 is:\\n%s',split_3)\n",
    "printer('The type of split_3 is:\\n%s', type(split_3))\n",
    "\n",
    "logger.info(\n",
    "    'It is no problem if you specify a number of splits that do not match\\n'\n",
    "    'evenly into the number of elements in the array. The splits will be\\n'\n",
    "    'made to be equal-sized until they cannot any longer.'\n",
    ")\n",
    "split_4 = np.array_split(array, 4)\n",
    "printer('The array split into 4 is:\\n%s',split_4)\n",
    "printer('The type of split_4 is:\\n%s', type(split_4))\n",
    "\n",
    "logger.info(\n",
    "    'If you only want it to split if you have equal-sized new arrays,\\n'\n",
    "    'use the np.split() function instead, which will throw an error when\\n'\n",
    "    'it cannot make equal-sized new arrays'\n",
    ")\n",
    "\n",
    "try:\n",
    "    other_split_4 = np.split(array, 4)\n",
    "except ValueError as exception:\n",
    "    logger.error(exception)"
   ]
  },
  {
   "cell_type": "markdown",
   "metadata": {},
   "source": [
    "### Split Into Arrays\n",
    "\n",
    "The split arrays land in an array-like list, and thus can be accessed via normal indexing methods.\n",
    "\n",
    "You will see that although the split arrays land in a list, they are arrays in their own right."
   ]
  },
  {
   "cell_type": "code",
   "execution_count": 20,
   "metadata": {},
   "outputs": [
    {
     "name": "stderr",
     "output_type": "stream",
     "text": [
      "The array is:\n",
      "[1 2 3 4 5 6]\n",
      "The array split into 2 is:\n",
      "[array([1, 2, 3]), array([4, 5, 6])]\n",
      "The type of split_2 is:\n",
      "<class 'list'>\n",
      "split_2_element_0 is:\n",
      "[1 2 3]\n",
      "Type of split_2_element_0 is:\n",
      "<class 'numpy.ndarray'>\n",
      "Type of split_2_element_1 is:\n",
      "<class 'numpy.ndarray'>\n"
     ]
    }
   ],
   "source": [
    "import numpy as np\n",
    "from configurations import printer\n",
    "\n",
    "array = np.array([*range(1, 7)])\n",
    "printer('The array is:\\n%s', array)\n",
    "split_2 = np.array_split(array, 2)\n",
    "printer('The array split into 2 is:\\n%s', split_2)\n",
    "printer('The type of split_2 is:\\n%s', type(split_2))\n",
    "\n",
    "split_2_element_0 = split_2[0]\n",
    "split_2_element_1 = split_2[1]\n",
    "printer('split_2_element_0 is:\\n%s', split_2_element_0)\n",
    "printer('Type of split_2_element_0 is:\\n%s', type(split_2_element_0))\n",
    "printer('Type of split_2_element_1 is:\\n%s', type(split_2_element_1))"
   ]
  },
  {
   "cell_type": "markdown",
   "metadata": {},
   "source": [
    "### Splitting 2-D Arrays\n",
    "\n",
    "`np.array_split` works on 2D arrays also.\n",
    "\n",
    "The split will behave differently based on the size/structure of the array and the number of splits you specify.\n",
    "\n",
    "Also, if you use the `axis` argument, you can specify which axis to do the splits on --- recall that the default is `axis=0`, which splits on the most superficial axis."
   ]
  },
  {
   "cell_type": "code",
   "execution_count": 11,
   "metadata": {},
   "outputs": [
    {
     "name": "stderr",
     "output_type": "stream",
     "text": [
      "The array is:\n",
      "[[ 1  2  3]\n",
      " [ 4  5  6]\n",
      " [ 7  8  9]\n",
      " [10 11 12]\n",
      " [13 14 15]\n",
      " [16 17 18]]\n",
      "The array split into 2 is:\n",
      "[array([[1, 2, 3],\n",
      "       [4, 5, 6],\n",
      "       [7, 8, 9]]), array([[10, 11, 12],\n",
      "       [13, 14, 15],\n",
      "       [16, 17, 18]])]\n",
      "The array split into 2 on axis 1 is:\n",
      "[array([[ 1,  2],\n",
      "       [ 4,  5],\n",
      "       [ 7,  8],\n",
      "       [10, 11],\n",
      "       [13, 14],\n",
      "       [16, 17]]), array([[ 3],\n",
      "       [ 6],\n",
      "       [ 9],\n",
      "       [12],\n",
      "       [15],\n",
      "       [18]])]\n",
      "The array split into 3 is:\n",
      "[array([[1, 2, 3],\n",
      "       [4, 5, 6]]), array([[ 7,  8,  9],\n",
      "       [10, 11, 12]]), array([[13, 14, 15],\n",
      "       [16, 17, 18]])]\n",
      "The array split into 3 on axis 1 is:\n",
      "[array([[ 1],\n",
      "       [ 4],\n",
      "       [ 7],\n",
      "       [10],\n",
      "       [13],\n",
      "       [16]]), array([[ 2],\n",
      "       [ 5],\n",
      "       [ 8],\n",
      "       [11],\n",
      "       [14],\n",
      "       [17]]), array([[ 3],\n",
      "       [ 6],\n",
      "       [ 9],\n",
      "       [12],\n",
      "       [15],\n",
      "       [18]])]\n"
     ]
    }
   ],
   "source": [
    "import numpy as np\n",
    "from configurations import printer\n",
    "\n",
    "array = np.array([\n",
    "    [*range(1, 4)],\n",
    "    [*range(4, 7)],\n",
    "    [*range(7, 10)],\n",
    "    [*range(10, 13)],\n",
    "    [*range(13, 16)],\n",
    "    [*range(16, 19)]\n",
    "    ])\n",
    "printer('The array is:\\n%s', array)\n",
    "split_2 = np.array_split(array, 2)\n",
    "split_2_a1 = np.array_split(array, 2, axis=1)\n",
    "printer('The array split into 2 is:\\n%s', split_2)\n",
    "printer('The array split into 2 on axis 1 is:\\n%s', split_2_a1)\n",
    "\n",
    "split_3 = np.array_split(array, 3)\n",
    "split_3_a1 = np.array_split(array, 3, axis=1)\n",
    "printer('The array split into 3 is:\\n%s', split_3)\n",
    "printer('The array split into 3 on axis 1 is:\\n%s', split_3_a1)"
   ]
  },
  {
   "cell_type": "markdown",
   "metadata": {},
   "source": [
    "One may also use `hsplit`, `vsplit`, and `dsplit`.\n",
    "\n",
    "Unfortunately, I did not make much sense of their names when trying to use these splits on 2D or 3D arrays, as they were not splitting arrays in ways that appeared to correspond to vertical, horizontal, or 'depth', to me.\n"
   ]
  },
  {
   "cell_type": "code",
   "execution_count": 26,
   "metadata": {},
   "outputs": [
    {
     "name": "stderr",
     "output_type": "stream",
     "text": [
      "The array is:\n",
      "[[[ 1  2  3  4]\n",
      "  [ 5  6  7  8]]\n",
      "\n",
      " [[ 9 10 11 12]\n",
      "  [13 14 15 16]]\n",
      "\n",
      " [[17 18 19 20]\n",
      "  [21 22 23 24]]]\n",
      "The array split into 2 with hsplit is:\n",
      "[array([[[ 1,  2,  3,  4]],\n",
      "\n",
      "       [[ 9, 10, 11, 12]],\n",
      "\n",
      "       [[17, 18, 19, 20]]]), array([[[ 5,  6,  7,  8]],\n",
      "\n",
      "       [[13, 14, 15, 16]],\n",
      "\n",
      "       [[21, 22, 23, 24]]])]\n",
      "The array split into 2 with dsplit is:\n",
      "[array([[[ 1,  2],\n",
      "        [ 5,  6]],\n",
      "\n",
      "       [[ 9, 10],\n",
      "        [13, 14]],\n",
      "\n",
      "       [[17, 18],\n",
      "        [21, 22]]]), array([[[ 3,  4],\n",
      "        [ 7,  8]],\n",
      "\n",
      "       [[11, 12],\n",
      "        [15, 16]],\n",
      "\n",
      "       [[19, 20],\n",
      "        [23, 24]]])]\n"
     ]
    }
   ],
   "source": [
    "import numpy as np\n",
    "from configurations import printer, logger\n",
    "\n",
    "array = np.array([\n",
    "        [\n",
    "            [*range(1, 5)],\n",
    "            [*range(5, 9)]\n",
    "        ],\n",
    "        [\n",
    "            [*range(9, 13)],\n",
    "            [*range(13, 17)]\n",
    "        ],\n",
    "        [\n",
    "            [*range(17, 21)],\n",
    "            [*range(21, 25)]\n",
    "        ]\n",
    "    ])\n",
    "printer('The array is:\\n%s', array)\n",
    "hsplit_2 = np.hsplit(array, 2)\n",
    "printer('The array split into 2 with hsplit is:\\n%s', hsplit_2)\n",
    "dsplit_2 = np.dsplit(array, 2)\n",
    "printer('The array split into 2 with dsplit is:\\n%s', dsplit_2)\n",
    "\n",
    "logger.warning(\n",
    "    'I had iterated on other array sizes and shapes but never made much sense\\n'\n",
    "    'of their behavior or naming'\n",
    ")"
   ]
  }
 ],
 "metadata": {
  "kernelspec": {
   "display_name": "Python 3",
   "language": "python",
   "name": "python3"
  },
  "language_info": {
   "codemirror_mode": {
    "name": "ipython",
    "version": 3
   },
   "file_extension": ".py",
   "mimetype": "text/x-python",
   "name": "python",
   "nbconvert_exporter": "python",
   "pygments_lexer": "ipython3",
   "version": "3.9.17"
  },
  "orig_nbformat": 4
 },
 "nbformat": 4,
 "nbformat_minor": 2
}
