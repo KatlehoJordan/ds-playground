{
 "cells": [
  {
   "cell_type": "markdown",
   "metadata": {},
   "source": [
    "# NumPy Tutorial\n",
    "\n",
    "https://www.w3schools.com/python/numpy/"
   ]
  },
  {
   "cell_type": "markdown",
   "metadata": {},
   "source": [
    "## Splitting Array\n",
    "\n",
    "Splitting is the inverse of joining.\n",
    "\n",
    "Use `array_split()`, specifying the array and the number of splits.\n",
    "\n",
    "The splits are dropped into a list."
   ]
  },
  {
   "cell_type": "code",
   "execution_count": 1,
   "metadata": {},
   "outputs": [
    {
     "name": "stderr",
     "output_type": "stream",
     "text": [
      "The array is:\n",
      "[1 2 3 4 5 6]\n",
      "The array split into 2 is:\n",
      "[array([1, 2, 3]), array([4, 5, 6])]\n",
      "The type of split_2 is:\n",
      "<class 'list'>\n",
      "The array split into 3 is:\n",
      "[array([1, 2]), array([3, 4]), array([5, 6])]\n",
      "The type of split_3 is:\n",
      "<class 'list'>\n",
      "\n",
      "2023-07-31 19:08:01 \n",
      "\tLogger: numpy-tutorial Module: 2821216378 Function: <module> File: 2821216378.py Line: 14\n",
      "INFO:\n",
      "It is no problem if you specify a number of splits that do not match\n",
      "evenly into the number of elements in the array. The splits will be\n",
      "made to be equal-sized until they cannot any longer.\n",
      "\n",
      "The array split into 4 is:\n",
      "[array([1, 2]), array([3, 4]), array([5]), array([6])]\n",
      "The type of split_4 is:\n",
      "<class 'list'>\n",
      "\n",
      "2023-07-31 19:08:01 \n",
      "\tLogger: numpy-tutorial Module: 2821216378 Function: <module> File: 2821216378.py Line: 23\n",
      "INFO:\n",
      "If you only want it to split if you have equal-sized new arrays,\n",
      "use the np.split() function instead, which will throw an error when\n",
      "it cannot make equal-sized new arrays\n",
      "\n",
      "\n",
      "2023-07-31 19:08:01 \n",
      "\tLogger: numpy-tutorial Module: 2821216378 Function: <module> File: 2821216378.py Line: 32\n",
      "ERROR:\n",
      "array split does not result in an equal division\n",
      "\n"
     ]
    }
   ],
   "source": [
    "import numpy as np\n",
    "from configurations import printer, logger\n",
    "\n",
    "array = np.array([*range(1, 7)])\n",
    "printer('The array is:\\n%s', array)\n",
    "split_2 = np.array_split(array, 2)\n",
    "printer('The array split into 2 is:\\n%s', split_2)\n",
    "printer('The type of split_2 is:\\n%s', type(split_2))\n",
    "\n",
    "split_3 = np.array_split(array, 3)\n",
    "printer('The array split into 3 is:\\n%s',split_3)\n",
    "printer('The type of split_3 is:\\n%s', type(split_3))\n",
    "\n",
    "logger.info(\n",
    "    'It is no problem if you specify a number of splits that do not match\\n'\n",
    "    'evenly into the number of elements in the array. The splits will be\\n'\n",
    "    'made to be equal-sized until they cannot any longer.'\n",
    ")\n",
    "split_4 = np.array_split(array, 4)\n",
    "printer('The array split into 4 is:\\n%s',split_4)\n",
    "printer('The type of split_4 is:\\n%s', type(split_4))\n",
    "\n",
    "logger.info(\n",
    "    'If you only want it to split if you have equal-sized new arrays,\\n'\n",
    "    'use the np.split() function instead, which will throw an error when\\n'\n",
    "    'it cannot make equal-sized new arrays'\n",
    ")\n",
    "\n",
    "try:\n",
    "    other_split_4 = np.split(array, 4)\n",
    "except ValueError as exception:\n",
    "    logger.error(exception)"
   ]
  },
  {
   "cell_type": "markdown",
   "metadata": {},
   "source": [
    "### Split Into Arrays\n",
    "\n",
    "The split arrays land in an array-like list, and thus can be accessed via normal indexing methods.\n",
    "\n",
    "You will see that although the split arrays land in a list, they are arrays in their own right."
   ]
  },
  {
   "cell_type": "code",
   "execution_count": 20,
   "metadata": {},
   "outputs": [
    {
     "name": "stderr",
     "output_type": "stream",
     "text": [
      "The array is:\n",
      "[1 2 3 4 5 6]\n",
      "The array split into 2 is:\n",
      "[array([1, 2, 3]), array([4, 5, 6])]\n",
      "The type of split_2 is:\n",
      "<class 'list'>\n",
      "split_2_element_0 is:\n",
      "[1 2 3]\n",
      "Type of split_2_element_0 is:\n",
      "<class 'numpy.ndarray'>\n",
      "Type of split_2_element_1 is:\n",
      "<class 'numpy.ndarray'>\n"
     ]
    }
   ],
   "source": [
    "import numpy as np\n",
    "from configurations import printer\n",
    "\n",
    "array = np.array([*range(1, 7)])\n",
    "printer('The array is:\\n%s', array)\n",
    "split_2 = np.array_split(array, 2)\n",
    "printer('The array split into 2 is:\\n%s', split_2)\n",
    "printer('The type of split_2 is:\\n%s', type(split_2))\n",
    "\n",
    "split_2_element_0 = split_2[0]\n",
    "split_2_element_1 = split_2[1]\n",
    "printer('split_2_element_0 is:\\n%s', split_2_element_0)\n",
    "printer('Type of split_2_element_0 is:\\n%s', type(split_2_element_0))\n",
    "printer('Type of split_2_element_1 is:\\n%s', type(split_2_element_1))"
   ]
  },
  {
   "cell_type": "markdown",
   "metadata": {},
   "source": [
    "### Splitting 2-D Arrays\n",
    "\n",
    "`split`"
   ]
  }
 ],
 "metadata": {
  "kernelspec": {
   "display_name": "Python 3",
   "language": "python",
   "name": "python3"
  },
  "language_info": {
   "codemirror_mode": {
    "name": "ipython",
    "version": 3
   },
   "file_extension": ".py",
   "mimetype": "text/x-python",
   "name": "python",
   "nbconvert_exporter": "python",
   "pygments_lexer": "ipython3",
   "version": "3.9.17"
  },
  "orig_nbformat": 4
 },
 "nbformat": 4,
 "nbformat_minor": 2
}
