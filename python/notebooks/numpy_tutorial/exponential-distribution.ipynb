{
 "cells": [
  {
   "cell_type": "markdown",
   "metadata": {},
   "source": [
    "# NumPy Tutorial\n",
    "\n",
    "https://www.w3schools.com/python/numpy/"
   ]
  },
  {
   "cell_type": "markdown",
   "metadata": {},
   "source": [
    "## Exponential Distribution\n",
    "\n",
    "This distribution is related to the Poisson distribution. In Poisson, you show the probability distribution of an event occurring within a certain dimension (time, space) if it has a known mean frequency. In the Exponential distribution, you show the probability distribution the dimension (e.g., time or space) before the next event occurrence.\n",
    "\n",
    "See the [Wikipedia article here](https://en.wikipedia.org/wiki/Exponential_distribution).\n",
    "\n",
    "The inverse of the rate is indicated with `scale` in `numpy.random.exponential()` and the `size` dictates the size of the returned array."
   ]
  },
  {
   "cell_type": "code",
   "execution_count": 3,
   "metadata": {},
   "outputs": [
    {
     "name": "stderr",
     "output_type": "stream",
     "text": [
      "These are 10 examples of the results from a Poisson distribution\n",
      "with lambda = 1:\n",
      "[0 0 1 2 1 2 2 0 0 1]\n",
      "They have mean: 0.9\n",
      "These are 10 examples of the results from a Poisson distribution\n",
      "with lambda = 10:\n",
      "[13 10 23  4  9 11  5  9 13 10]\n",
      "They have mean: 10.7\n",
      "These are 10 examples of the results from a Poisson distribution\n",
      "with lambda = 100:\n",
      "[113 100  96 104 115  91 113 123  87 106]\n",
      "They have mean: 104.8\n"
     ]
    }
   ],
   "source": [
    "import numpy as np\n",
    "from configurations import printer\n",
    "\n",
    "scales_to_cycle_through = [1, 10, 100]\n",
    "for scale in scales_to_cycle_through:\n",
    "    my_array = np.random.exponential(scale=scale, size = 10)\n",
    "    printer(\n",
    "        'These are 10 examples of the results from an exponential\\n'\n",
    "        'distribution with scale = %s:\\n%s\\n'\n",
    "        scale,\n",
    "        my_array\n",
    "        )"
   ]
  },
  {
   "cell_type": "markdown",
   "metadata": {},
   "source": [
    "### Visualization of the Exponential distribution"
   ]
  },
  {
   "cell_type": "code",
   "execution_count": null,
   "metadata": {},
   "outputs": [],
   "source": [
    "import numpy as np\n",
    "import seaborn as sns # type: ignore\n",
    "import matplotlib.pyplot as plt\n",
    "from configurations import logger\n",
    "\n",
    "plt.style.use('my_mpl_stylesheet')\n",
    "\n",
    "logger.warning(\n",
    "    'Seaborn does not seem to export a stub to help linters with type hints\\n'\n",
    "    'so I am explicitly disabling type hints on those lines.'\n",
    ")\n",
    "\n",
    "logger.warning(\n",
    "    'Matplotlib.pyplot does not seem to have types set up for linters.\\n'\n",
    "    'So I am explicitly disabling type hints on those lines.'\n",
    ")\n",
    "\n",
    "def plot_exponential(\n",
    "    scale: float = 1,\n",
    "    size: int = 1_000,\n",
    "    bw_adjust: float = 1\n",
    "    ) -> None:\n",
    "\n",
    "    my_exponential = np.random.exponential(scale=scale, size=size)\n",
    "    \n",
    "    sns.histplot( # type: ignore\n",
    "        my_exponential,\n",
    "        ax=plt.subplots()[1], # type: ignore\n",
    "        stat='probability',\n",
    "        kde=True,\n",
    "        kde_kws={'bw_adjust' : bw_adjust},\n",
    "        edgecolor='None'\n",
    "        )\n",
    "    \n",
    "    plt.title( # type: ignore\n",
    "        label=f'{size:,} samples from an exponential distribution with\\n'\n",
    "        f'scale={scale:,.2f}'\n",
    "        f'\\nthus rate={1/scale:,.2f}',\n",
    "        family='serif'\n",
    "        )\n",
    "    \n",
    "    plt.xlabel(xlabel='Value of sample', family='sans-serif') # type: ignore\n",
    "    \n",
    "scales_bandwidths_to_cycle_through = {\n",
    "    0.1 : 0.415,\n",
    "    1 : 0.410,\n",
    "    10 : 0.400\n",
    "    }\n",
    "\n",
    "for scale in scales_bandwidths_to_cycle_through:\n",
    "    plot_exponential(\n",
    "        scale=scale,\n",
    "        bw_adjust=scales_bandwidths_to_cycle_through[scale]\n",
    "        )"
   ]
  }
 ],
 "metadata": {
  "kernelspec": {
   "display_name": "Python 3",
   "language": "python",
   "name": "python3"
  },
  "language_info": {
   "codemirror_mode": {
    "name": "ipython",
    "version": 3
   },
   "file_extension": ".py",
   "mimetype": "text/x-python",
   "name": "python",
   "nbconvert_exporter": "python",
   "pygments_lexer": "ipython3",
   "version": "3.9.17"
  },
  "orig_nbformat": 4
 },
 "nbformat": 4,
 "nbformat_minor": 2
}
