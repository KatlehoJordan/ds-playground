{
 "cells": [
  {
   "cell_type": "markdown",
   "metadata": {},
   "source": [
    "# NumPy Tutorial\n",
    "\n",
    "https://www.w3schools.com/python/numpy/"
   ]
  },
  {
   "cell_type": "markdown",
   "metadata": {},
   "source": [
    "## Multinomial Distribution\n",
    "\n",
    "Multinomial distributions are a family of distributions that describe events that can have one of a fixed-number of states. For example, a die face can be anything in the set from 1 to 6, inclusive.\n",
    "\n",
    "These are **discrete distributions**. These are extensions of binomial distributions for cases where more than only two states can result.\n",
    "\n",
    "Use `random.multinomial()` to get a multinomial distribution. Specify these three parameters:\n",
    "- `n` = number of possible outcomes\n",
    "- `pvals` = the probabilities of the occurences of each of the states\n",
    "- `size` = the shape of the returned array"
   ]
  },
  {
   "cell_type": "code",
   "execution_count": null,
   "metadata": {},
   "outputs": [],
   "source": [
    "import numpy as np\n",
    "\n",
    "ns_to_cycle_through = [2, 6]\n",
    "pvals_to_cycle_through = \n",
    "ns_and_pvals_to_cycle_through = {\n",
    "    2: [\n",
    "        0.1, 0.2\n",
    "    ]\n",
    "}\n",
    "np.random.multinomial()"
   ]
  }
 ],
 "metadata": {
  "kernelspec": {
   "display_name": "Python 3",
   "language": "python",
   "name": "python3"
  },
  "language_info": {
   "codemirror_mode": {
    "name": "ipython",
    "version": 3
   },
   "file_extension": ".py",
   "mimetype": "text/x-python",
   "name": "python",
   "nbconvert_exporter": "python",
   "pygments_lexer": "ipython3",
   "version": "3.9.17"
  },
  "orig_nbformat": 4
 },
 "nbformat": 4,
 "nbformat_minor": 2
}
