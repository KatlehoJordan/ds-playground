{
 "cells": [
  {
   "cell_type": "markdown",
   "metadata": {},
   "source": [
    "# NumPy Tutorial\n",
    "\n",
    "https://www.w3schools.com/python/numpy/"
   ]
  },
  {
   "cell_type": "markdown",
   "metadata": {},
   "source": [
    "## Array Indexing\n",
    "\n",
    "### Access Array Elements\n",
    "\n",
    "This works like you are used to with indexing `list` or other ordered collections."
   ]
  },
  {
   "cell_type": "code",
   "execution_count": 15,
   "metadata": {},
   "outputs": [
    {
     "name": "stderr",
     "output_type": "stream",
     "text": [
      "The 0th item in the array is 1\n",
      "The -1st item in the array is 5\n",
      "The ~0th item in the array is 5\n",
      "The 0th up to the 2nd item in the array is [1 2]\n",
      "The -3rd up to the -1st item in the array is [3 4]\n",
      "The ~2nd up to the ~0th item in the array is [3 4]\n",
      "The 0th item in the unpacked_array is 1\n",
      "The -1st item in the unpacked_array is 5\n",
      "The ~0th item in the unpacked_array is 5\n",
      "The 0th up to the 2nd item in the unpacked_array is [1 2]\n",
      "The -3rd up to the -1st item in the unpacked_array is [3 4]\n",
      "The ~2nd up to the ~0th item in the unpacked_array is [3 4]\n"
     ]
    }
   ],
   "source": [
    "import numpy as np\n",
    "from configurations import printer\n",
    "\n",
    "array = np.array(range(1, 6))\n",
    "\n",
    "printer('The 0th item in the array is %s', array[0])\n",
    "printer('The -1st item in the array is %s', array[-1])\n",
    "printer('The ~0th item in the array is %s', array[~0])\n",
    "\n",
    "printer('The 0th up to the 2nd item in the array is %s', array[0:2])\n",
    "printer('The -3rd up to the -1st item in the array is %s', array[-3:-1])\n",
    "printer('The ~2nd up to the ~0th item in the array is %s', array[~2:~0])\n",
    "\n",
    "unpacked_array = np.array([*range(1, 6)])\n",
    "\n",
    "printer('The 0th item in the unpacked_array is %s', unpacked_array[0])\n",
    "printer('The -1st item in the unpacked_array is %s', unpacked_array[-1])\n",
    "printer('The ~0th item in the unpacked_array is %s', unpacked_array[~0])\n",
    "\n",
    "printer('The 0th up to the 2nd item in the unpacked_array is %s', unpacked_array[0:2])\n",
    "printer('The -3rd up to the -1st item in the unpacked_array is %s', unpacked_array[-3:-1])\n",
    "printer('The ~2nd up to the ~0th item in the unpacked_array is %s', unpacked_array[~2:~0])"
   ]
  },
  {
   "cell_type": "markdown",
   "metadata": {},
   "source": [
    "Note that `np.array` will unpack a `range` object automatically. This means it will create an array from it by default, which works well when creating a 1-D array.\n",
    "\n",
    "However, if you wrap a range object in square brackets, then you will need to explicitly unpack the `range` object with the unpacking operator, `*`.\n",
    "\n",
    "When creating higher-dimensional arrays, the syntax is to start with square brackets and use commas to separate the different elements in the higher dimensions. Since the square-brackets are required for building these higher-order arrays, it also necessitates using the unpacking operator, `*`, when using the `range` objects in these higher-order arrays."
   ]
  },
  {
   "cell_type": "code",
   "execution_count": 23,
   "metadata": {},
   "outputs": [
    {
     "name": "stderr",
     "output_type": "stream",
     "text": [
      "array_1D is [1 2 3 4 5]\n",
      "alternative_1D_array is [1 2 3 4 5]\n",
      "array_2D is\n",
      "[[ 1  2  3  4  5]\n",
      " [ 6  7  8  9 10]]\n"
     ]
    }
   ],
   "source": [
    "import numpy as np\n",
    "from configurations import printer\n",
    "\n",
    "array_1D = np.array(range(1, 6))\n",
    "printer('array_1D is %s', array_1D)\n",
    "\n",
    "alternative_1D_array = np.array([*range(1, 6)])\n",
    "printer('alternative_1D_array is %s', alternative_1D_array)\n",
    "\n",
    "array_2D = np.array([\n",
    "    [*range(1, 6)], [*range(6, 11)]\n",
    "    ])\n",
    "printer('array_2D is\\n%s', array_2D)"
   ]
  },
  {
   "cell_type": "markdown",
   "metadata": {},
   "source": [
    "### Access 2-D Arrays\n",
    "\n",
    "When an array has more than 1 dimension, accessing items in the indices is done with a comma-separated syntax.\n",
    "\n",
    "For example, `array[0, 1]` will access the 0th element from dimension 1 and the 1st element from dimension 2.\n",
    "\n",
    "In the case of a 2-D array, dimension 1 can be thought of as rows, and dimension 2 can be thought of as columns.\n",
    "\n",
    "#### Conceptualizing how dimensions shift as more dimensions are added\n",
    "\n",
    "Typically we think of a number line being visualized horizontally, which is 1-D. The numbers on a number line correspond roughly with columns in a table (also displayed horizontally). Thus, dimension 1 (the only dimension) in a 1-D array are like columns.\n",
    "\n",
    "As a 1-D array is extended to the 2-D case, the columns still exist, but now a new dimension, rows are added. The newest dimension becomes the first dimension accessed in array indexing. This means that the more primitive dimension, columns, gets 'promoted' to a higher dimension. The same occurs as you extend a 2-D array to a 3-D array; all of the existing arrays get 'promoted' and the newest dimension added becomse the first one accessed.\n",
    "\n",
    "This can also be thought of as needing to 'drill down' through dimensions to get to the most primitive dimensions; the number of dimensions you need to drill through before you get to the 'columns' is equal to the number of dimensions in the array (1-D array means 1 dimension must be traversed; 2-D array means 2 dimensions must be traversed, etc.). This can also be thought of the number of open square brackets that must be passed before accessing the dimension.\n",
    "\n",
    "Hopefully this table can help with the conceptualization.\n",
    "\n",
    "| N-dims | Columns dim. | Rows dim. | Tables dim. |\n",
    "| ------ | ------------ | --------- | ----------- |\n",
    "| 0      | NA           | NA        | NA          |\n",
    "| 1      | 1            | NA        | NA          |\n",
    "| 2      | 2            | 1         | NA          |\n",
    "| 3      | 3            | 2         | 1           |"
   ]
  },
  {
   "cell_type": "code",
   "execution_count": 32,
   "metadata": {},
   "outputs": [
    {
     "name": "stderr",
     "output_type": "stream",
     "text": [
      "The array is\n",
      "[[ 1  2  3  4  5]\n",
      " [ 6  7  8  9 10]]\n",
      "The item in position [0, 0] is 1\n",
      "The item in position [-1, 0] is 6\n",
      "The item in position [0, -1] is 5\n",
      "The item in position [~0, 0] is 6\n",
      "The item in position [0, ~0] is 5\n",
      "\n",
      "\n",
      "The items in position [0:2, 0:2] are\n",
      "[[1 2]\n",
      " [6 7]]\n",
      "\n",
      "2023-07-31 11:12:18 \n",
      "\tLogger: numpy-tutorial Module: 1953604793 Function: <module> File: 1953604793.py Line: 19\n",
      "WARNING:\n",
      "\n",
      "The negative indexing of multi-dimensional arrays does notbehave as I would have expected, thus it should be avoided.\n",
      "The item in position [-3:-1, -3:-1] are \n",
      " [[3 4]]\n",
      "The item in position [~2:~0, ~2:~0] are \n",
      " [[3 4]]\n"
     ]
    }
   ],
   "source": [
    "import numpy as np\n",
    "from configurations import printer, logger\n",
    "\n",
    "array = np.array([\n",
    "    [*range(1, 6)],\n",
    "    [*range(6, 11)]\n",
    "    ])\n",
    "\n",
    "printer('The array is\\n%s', array)\n",
    "printer('The item in position [0, 0] is %s', array[0, 0])\n",
    "printer('The item in position [-1, 0] is %s', array[-1, 0])\n",
    "printer('The item in position [0, -1] is %s', array[0, -1])\n",
    "printer('The item in position [~0, 0] is %s', array[~0, 0])\n",
    "printer('The item in position [0, ~0] is %s', array[0, ~0])\n",
    "\n",
    "printer('\\n')\n",
    "printer('The items in position [0:2, 0:2] are\\n%s', array[0:2, 0:2])\n",
    "\n",
    "logger.warning(\n",
    "               '\\nSlicing using negative indexing in multi-dimensional arrays'\n",
    "               'does not behave as I would have expected; avoid it! for now!'\n",
    "               )\n",
    "\n",
    "printer('The item in position [-3:-1, -3:-1] are \\n %s', array[-3:-1, -3:-1])\n",
    "printer('The item in position [~2:~0, ~2:~0] are \\n %s', array[~2:~0, ~2:~0])"
   ]
  },
  {
   "cell_type": "markdown",
   "metadata": {},
   "source": [
    "### Access 3-D Arrays\n",
    "\n",
    "Continue the same pattern, using `ndarray[int, int, int, ...]` to access elements from higher-dimensional arrays.\n",
    "\n",
    "Dimension 1 is the most nested. Thus, `ndarray[0, 1, 2]` in a 3-D array would access the element from the 0th row in the 1st column in the 2nd 2-D array (keeping in mind 0-indexing)."
   ]
  },
  {
   "cell_type": "code",
   "execution_count": 33,
   "metadata": {},
   "outputs": [
    {
     "name": "stderr",
     "output_type": "stream",
     "text": [
      "The array is\n",
      "[[[ 1  2  3  4  5]\n",
      "  [ 6  7  8  9 10]]\n",
      "\n",
      " [[11 12 13 14 15]\n",
      "  [16 17 18 19 20]]]\n",
      "The item in position [0, 0, 0] is 1\n",
      "The item in position [1, 0, 0] is 11\n",
      "The item in position [0, 1, 0] is 6\n",
      "The item in position [0, 0, 1] is 2\n",
      "\n",
      "The item in position [1, 1, 0] is 16\n",
      "The item in position [1, 0, 1] is 12\n",
      "The item in position [0, 1, 1] is 7\n",
      "\n",
      "The item in position [-1, 0, 0] is 11\n",
      "The item in position [0, -1, 0] is 6\n",
      "The item in position [0, 0, -1] is 5\n",
      "\n",
      "The item in position [-1, -1, 0] is 16\n",
      "The item in position [-1, 0, -1] is 15\n",
      "The item in position [0, -1, -1] is 10\n"
     ]
    }
   ],
   "source": [
    "import numpy as np\n",
    "from configurations import printer\n",
    "\n",
    "array = np.array([\n",
    "    [\n",
    "        [*range(1, 6)],\n",
    "        [*range(6, 11)]\n",
    "    ],\n",
    "        [\n",
    "        [*range(11, 16)],\n",
    "        [*range(16, 21)]\n",
    "    ]\n",
    "    ])\n",
    "\n",
    "printer('The array is\\n%s', array)\n",
    "printer('The item in position [0, 0, 0] is %s', array[0, 0, 0])\n",
    "printer('The item in position [1, 0, 0] is %s', array[1, 0, 0])\n",
    "printer('The item in position [0, 1, 0] is %s', array[0, 1, 0])\n",
    "printer('The item in position [0, 0, 1] is %s', array[0, 0, 1])\n",
    "\n",
    "printer('\\nThe item in position [1, 1, 0] is %s', array[1, 1, 0])\n",
    "printer('The item in position [1, 0, 1] is %s', array[1, 0, 1])\n",
    "printer('The item in position [0, 1, 1] is %s', array[0, 1, 1])\n",
    "\n",
    "printer('\\nThe item in position [-1, 0, 0] is %s', array[-1, 0, 0])\n",
    "printer('The item in position [0, -1, 0] is %s', array[0, -1, 0])\n",
    "printer('The item in position [0, 0, -1] is %s', array[0, 0, -1])\n",
    "\n",
    "printer('\\nThe item in position [-1, -1, 0] is %s', array[-1, -1, 0])\n",
    "printer('The item in position [-1, 0, -1] is %s', array[-1, 0, -1])\n",
    "printer('The item in position [0, -1, -1] is %s', array[0, -1, -1])"
   ]
  }
 ],
 "metadata": {
  "kernelspec": {
   "display_name": "Python 3",
   "language": "python",
   "name": "python3"
  },
  "language_info": {
   "codemirror_mode": {
    "name": "ipython",
    "version": 3
   },
   "file_extension": ".py",
   "mimetype": "text/x-python",
   "name": "python",
   "nbconvert_exporter": "python",
   "pygments_lexer": "ipython3",
   "version": "3.9.17"
  },
  "orig_nbformat": 4
 },
 "nbformat": 4,
 "nbformat_minor": 2
}
