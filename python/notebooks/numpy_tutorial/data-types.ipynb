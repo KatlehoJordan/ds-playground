{
 "cells": [
  {
   "cell_type": "markdown",
   "metadata": {},
   "source": [
    "# NumPy Tutorial\n",
    "\n",
    "https://www.w3schools.com/python/numpy/"
   ]
  },
  {
   "cell_type": "markdown",
   "metadata": {},
   "source": [
    "## Data Types\n",
    "\n",
    "Recall the primitive data types in python:\n",
    "- str\n",
    "- int\n",
    "- float\n",
    "- boolean\n",
    "- complex\n",
    "\n",
    "### Data Types in Numpy\n",
    "\n",
    "There are additional data types in NumPy:\n",
    "- `i` - integer\n",
    "- `b` - boolean\n",
    "- `u` - unsigned integer\n",
    "- `f` - float\n",
    "- `c` - complex float\n",
    "- `m` - timedelta\n",
    "- `M` - datetime\n",
    "- `O` - object\n",
    "- `S` - string\n",
    "- `U` - unicode string\n",
    "- `V` - fixed chunk of memory for other type (void)\n",
    "\n",
    "### Checking the Data Type of an Array\n",
    "\n",
    "Use the `.dtype` attribute"
   ]
  },
  {
   "cell_type": "code",
   "execution_count": 20,
   "metadata": {},
   "outputs": [
    {
     "name": "stderr",
     "output_type": "stream",
     "text": [
      "The array is [1 2 3 4 5]\n",
      "The datatype of the array is uint8\n",
      "\n",
      "2023-07-31 14:54:46 \n",
      "\tLogger: numpy-tutorial Module: 184495134 Function: <module> File: 184495134.py Line: 8\n",
      "INFO:\n",
      "An np.array coerces all elements to be the simplest shared type\n",
      "The mixed_array is [ 0.   1.1 -3. ]\n",
      "The datatype of the mixed_array is float64\n",
      "The datatype of element[0] is float64\n",
      "The datatype of element[1] is float64\n",
      "\n",
      "2023-07-31 14:54:46 \n",
      "\tLogger: numpy-tutorial Module: 184495134 Function: <module> File: 184495134.py Line: 15\n",
      "INFO:\n",
      "If a string appears in the array,all elements are coerced to strings\n",
      "The array_with_strings is ['0' '1.1' '-3' 'surprise']\n",
      "The datatype of the array_with_strings is <U32\n",
      "The datatype of element[0] is <U1\n",
      "The datatype of element[1] is <U3\n",
      "\n",
      "2023-07-31 14:54:46 \n",
      "\tLogger: numpy-tutorial Module: 184495134 Function: <module> File: 184495134.py Line: 24\n",
      "INFO:\n",
      "If the strings are long, then they are unicode type 32but if they are shorter, they will be smaller unicode types\n",
      "The string_only_array is ['a' 'b' 'c']\n",
      "The datatype of the string_only_array is <U1\n",
      "The datatype of element[0] is <U1\n",
      "The datatype of element[1] is <U1\n"
     ]
    }
   ],
   "source": [
    "import numpy as np\n",
    "from configurations import printer, logger\n",
    "\n",
    "array = np.array([*range(1, 6)])\n",
    "printer('The array is %s', array)\n",
    "printer('The datatype of the array is %s', array.dtype)\n",
    "\n",
    "logger.info('An np.array coerces all elements to be the simplest shared type')\n",
    "mixed_array = np.array([0, 1.1, -3])\n",
    "printer('The mixed_array is %s', mixed_array)\n",
    "printer('The datatype of the mixed_array is %s', mixed_array.dtype)\n",
    "printer('The datatype of element[0] is %s', mixed_array[0].dtype)\n",
    "printer('The datatype of element[1] is %s', mixed_array[1].dtype)\n",
    "\n",
    "logger.info('If a string appears in the array,'\n",
    "            'all elements are coerced to strings')\n",
    "array_with_strings = np.array([0, 1.1, -3, 'surprise'])\n",
    "printer('The array_with_strings is %s', array_with_strings)\n",
    "printer('The datatype of the array_with_strings is %s',\n",
    "        array_with_strings.dtype)\n",
    "printer('The datatype of element[0] is %s', array_with_strings[0].dtype)\n",
    "printer('The datatype of element[1] is %s', array_with_strings[1].dtype)\n",
    "\n",
    "logger.info('If the strings are long, then they are unicode type 32'\n",
    "            'but if they are shorter, they will be smaller unicode types')\n",
    "string_only_array = np.array(['a', 'b', 'c'])\n",
    "printer('The string_only_array is %s', string_only_array)\n",
    "printer('The datatype of the string_only_array is %s',\n",
    "        string_only_array.dtype)\n",
    "printer('The datatype of element[0] is %s', string_only_array[0].dtype)\n",
    "printer('The datatype of element[1] is %s', string_only_array[1].dtype)"
   ]
  },
  {
   "cell_type": "markdown",
   "metadata": {},
   "source": [
    "### Creating Arrays With a Devined Data Type\n",
    "\n",
    "An optional argument in `array()` is `dtype`, where you can specify the datatype of the array to make."
   ]
  },
  {
   "cell_type": "code",
   "execution_count": 7,
   "metadata": {},
   "outputs": [
    {
     "name": "stderr",
     "output_type": "stream",
     "text": [
      "The type of array is |S1\n"
     ]
    }
   ],
   "source": [
    "import numpy as np\n",
    "from configurations import printer\n",
    "\n",
    "array = np.array([*range(1, 6)], dtype='S')\n",
    "\n",
    "printer('The type of array is %s', array.dtype)"
   ]
  },
  {
   "cell_type": "markdown",
   "metadata": {},
   "source": [
    "For some datatypes, you can also specify the size of the data upon array creation (I assume size is bytes?)."
   ]
  },
  {
   "cell_type": "code",
   "execution_count": 18,
   "metadata": {},
   "outputs": [
    {
     "name": "stderr",
     "output_type": "stream",
     "text": [
      "The type of array is |S10\n",
      "The type of array is int32\n",
      "The type of array is int16\n",
      "\n",
      "2023-07-31 14:52:23 \n",
      "\tLogger: numpy-tutorial Module: 4082232375 Function: <module> File: 4082232375.py Line: 13\n",
      "INFO:\n",
      "Note that to create an unsigned integer, you use `uint`, not `u`\n",
      "The type of array is uint64\n",
      "The type of array is uint16\n"
     ]
    }
   ],
   "source": [
    "import numpy as np\n",
    "from configurations import printer, logger\n",
    "\n",
    "array = np.array([*range(1, 6)], dtype='S10')\n",
    "printer('The type of array is %s', array.dtype)\n",
    "\n",
    "array = np.array([*range(1, 6)], dtype='i')\n",
    "printer('The type of array is %s', array.dtype)\n",
    "\n",
    "array = np.array([*range(1, 6)], dtype='i2')\n",
    "printer('The type of array is %s', array.dtype)\n",
    "\n",
    "logger.info('Note that to create an unsigned integer, you use `uint`, not `u`')\n",
    "\n",
    "array = np.array([*range(1, 6)], dtype='uint')\n",
    "printer('The type of array is %s', array.dtype)\n",
    "\n",
    "array = np.array([*range(1, 6)], dtype='uint16')\n",
    "printer('The type of array is %s', array.dtype)"
   ]
  },
  {
   "cell_type": "markdown",
   "metadata": {},
   "source": [
    "### What if a Value cannot be Converted?\n",
    "\n",
    "A `ValueError` will be thrown."
   ]
  },
  {
   "cell_type": "code",
   "execution_count": 21,
   "metadata": {},
   "outputs": [
    {
     "name": "stderr",
     "output_type": "stream",
     "text": [
      "\n",
      "2023-07-31 14:57:26 \n",
      "\tLogger: numpy-tutorial Module: 457973424 Function: <module> File: 457973424.py Line: 7\n",
      "ERROR:\n",
      "Error raised: invalid literal for int() with base 10: 'a'\n",
      "\n"
     ]
    }
   ],
   "source": [
    "import numpy as np\n",
    "from configurations import logger\n",
    "\n",
    "try:\n",
    "    array = np.array(['a', 'b', 'c'], dtype='i')\n",
    "except ValueError as exception:\n",
    "    logger.error('Error raised: %s\\n', exception)"
   ]
  },
  {
   "cell_type": "markdown",
   "metadata": {},
   "source": [
    "### Converting Data Type on Existing Arrays\n",
    "\n",
    "Use the `astype()` method to make a copy of an array with the new coerced type.\n",
    "\n",
    "Note that this accepts as arguments either types (e.g., `int`), or numpy data types wrapped in quotations (e.g., `'uint8`)."
   ]
  },
  {
   "cell_type": "code",
   "execution_count": 23,
   "metadata": {},
   "outputs": [
    {
     "name": "stderr",
     "output_type": "stream",
     "text": [
      "The type of array is: int64\n",
      "The type of copied_array is: uint8\n",
      "The type of final_array is: int64\n"
     ]
    }
   ],
   "source": [
    "import numpy as np\n",
    "from configurations import printer\n",
    "\n",
    "array = np.array([*range(1, 6)])\n",
    "copied_array = array.astype('uint8')\n",
    "final_array = array.astype(int)\n",
    "\n",
    "printer('The type of array is: %s', array.dtype)\n",
    "printer('The type of copied_array is: %s', copied_array.dtype)\n",
    "printer('The type of final_array is: %s', final_array.dtype)"
   ]
  }
 ],
 "metadata": {
  "kernelspec": {
   "display_name": "Python 3",
   "language": "python",
   "name": "python3"
  },
  "language_info": {
   "codemirror_mode": {
    "name": "ipython",
    "version": 3
   },
   "file_extension": ".py",
   "mimetype": "text/x-python",
   "name": "python",
   "nbconvert_exporter": "python",
   "pygments_lexer": "ipython3",
   "version": "3.9.17"
  },
  "orig_nbformat": 4
 },
 "nbformat": 4,
 "nbformat_minor": 2
}
