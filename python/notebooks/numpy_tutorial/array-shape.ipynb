{
 "cells": [
  {
   "cell_type": "markdown",
   "metadata": {},
   "source": [
    "# NumPy Tutorial\n",
    "\n",
    "https://www.w3schools.com/python/numpy/"
   ]
  },
  {
   "cell_type": "markdown",
   "metadata": {},
   "source": [
    "## Array Shape\n",
    "\n",
    " The shape is the number of elements in each dimension.\n",
    " \n",
    " The attribute `.shape` will return the value."
   ]
  },
  {
   "cell_type": "code",
   "execution_count": 9,
   "metadata": {},
   "outputs": [
    {
     "name": "stderr",
     "output_type": "stream",
     "text": [
      "Shape of array_1D is (5,)\n",
      "\n",
      "2023-07-31 15:28:45 \n",
      "\tLogger: numpy-tutorial Module: 2592237087 Function: <module> File: 2592237087.py Line: 8\n",
      "INFO:\n",
      "The `.shape` attribute returns a tuple, and recall that a tuple always\n",
      "has a comma after the first element, even if there is only 1 element.\n",
      "Shape of array_2D is (2, 5)\n",
      "Shape of array_3D is (2, 3, 5)\n",
      "\n",
      "2023-07-31 15:28:45 \n",
      "\tLogger: numpy-tutorial Module: 2592237087 Function: <module> File: 2592237087.py Line: 34\n",
      "INFO:\n",
      "Recall from array-indexing that as more dimensions get added, the more\n",
      "primitive dimesions get pushed deeper and deeper, so that the most-\n",
      "superficial dimension is always the first and the most primitive is\n",
      "always the last.\n"
     ]
    }
   ],
   "source": [
    "import numpy as np\n",
    "from configurations import printer, logger\n",
    "\n",
    "array_1D = np.array([*range(1, 6)])\n",
    "\n",
    "printer('Shape of array_1D is %s', array_1D.shape)\n",
    "\n",
    "logger.info(\n",
    "    'The `.shape` attribute returns a tuple, and recall that a tuple always\\n'\n",
    "     'has a comma after the first element, even if there is only 1 element.'\n",
    "     )\n",
    "\n",
    "array_2D = np.array([\n",
    "    [*range(1, 6)],\n",
    "    [*range(6, 11)]\n",
    "])\n",
    "\n",
    "printer('Shape of array_2D is %s', array_2D.shape)\n",
    "\n",
    "array_3D = np.array([\n",
    "    [\n",
    "        [*range(1, 6)],\n",
    "        [*range(6, 11)],\n",
    "        [*range(11, 16)]\n",
    "    ],\n",
    "    [\n",
    "        [*range(16, 21)],\n",
    "        [*range(21, 26)],\n",
    "        [*range(26, 31)]\n",
    "    ]\n",
    "])\n",
    "\n",
    "printer('Shape of array_3D is %s', array_3D.shape)\n",
    "\n",
    "logger.info(\n",
    "    'Recall from array-indexing that as more dimensions get added, the more\\n'\n",
    "    'primitive dimesions get pushed deeper and deeper, so that the most-\\n'\n",
    "    'superficial dimension is always the first and the most primitive is\\n'\n",
    "    'always the last.'\n",
    "    )"
   ]
  }
 ],
 "metadata": {
  "kernelspec": {
   "display_name": "Python 3",
   "language": "python",
   "name": "python3"
  },
  "language_info": {
   "codemirror_mode": {
    "name": "ipython",
    "version": 3
   },
   "file_extension": ".py",
   "mimetype": "text/x-python",
   "name": "python",
   "nbconvert_exporter": "python",
   "pygments_lexer": "ipython3",
   "version": "3.9.17"
  },
  "orig_nbformat": 4
 },
 "nbformat": 4,
 "nbformat_minor": 2
}
