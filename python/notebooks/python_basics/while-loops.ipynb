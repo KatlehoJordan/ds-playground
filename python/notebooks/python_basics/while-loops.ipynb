{
 "cells": [
  {
   "cell_type": "markdown",
   "metadata": {},
   "source": [
    "# Python Tutorial\n",
    "\n",
    "https://www.w3schools.com/python/"
   ]
  },
  {
   "cell_type": "markdown",
   "metadata": {},
   "source": [
    "## While"
   ]
  },
  {
   "cell_type": "code",
   "execution_count": 1,
   "metadata": {},
   "outputs": [
    {
     "name": "stdout",
     "output_type": "stream",
     "text": [
      "`while` loops execute as long as a condition is true\n",
      "x is < 6. x is 1\n",
      "x is < 6. x is 2\n",
      "x is < 6. x is 3\n",
      "x is < 6. x is 4\n",
      "x is < 6. x is 5\n"
     ]
    }
   ],
   "source": [
    "print('`while` loops execute as long as a condition is true')\n",
    "\n",
    "x = 1\n",
    "\n",
    "while x < 6:\n",
    "    print(f'x is < 6. x is {x}')\n",
    "    x += 1"
   ]
  },
  {
   "cell_type": "markdown",
   "metadata": {},
   "source": [
    "### Break"
   ]
  },
  {
   "cell_type": "code",
   "execution_count": 2,
   "metadata": {},
   "outputs": [
    {
     "name": "stdout",
     "output_type": "stream",
     "text": [
      "Use `break` to break the while loop even if the while condition is\n",
      " still True\n",
      "x is < 6. x is 1\n",
      "x is < 6. x is 2\n",
      "x is < 6. x is 3\n",
      "x is 3, so breaking while loop\n"
     ]
    }
   ],
   "source": [
    "print('Use `break` to break the while loop even if the while condition is\\n',\n",
    "      'still True')\n",
    "\n",
    "x = 1\n",
    "while x < 6:\n",
    "    print(f'x is < 6. x is {x}')\n",
    "    if x == 3:\n",
    "        print('x is 3, so breaking while loop')\n",
    "        break\n",
    "    x += 1"
   ]
  },
  {
   "cell_type": "markdown",
   "metadata": {},
   "source": [
    "### Continue"
   ]
  },
  {
   "cell_type": "code",
   "execution_count": 5,
   "metadata": {},
   "outputs": [
    {
     "name": "stdout",
     "output_type": "stream",
     "text": [
      "`continue` will interrupt the current iteration and then start the next\n",
      "x is < 6. x is 1\n",
      "Printing log that have incremented x to 2\n",
      "x is < 6. x is 2\n",
      "x is 3, so not printing log about increment\n",
      "x is < 6. x is 3\n",
      "Printing log that have incremented x to 4\n",
      "x is < 6. x is 4\n",
      "Printing log that have incremented x to 5\n",
      "x is < 6. x is 5\n",
      "Printing log that have incremented x to 6\n"
     ]
    }
   ],
   "source": [
    "print('`continue` will interrupt the current iteration and then start the next')\n",
    "x = 1\n",
    "while x < 6:\n",
    "    print(f'x is < 6. x is {x}')\n",
    "    x += 1\n",
    "    if x == 3:\n",
    "        print('x is 3, so not printing log about increment')\n",
    "        continue\n",
    "    print(f'Printing log that have incremented x to {x}')"
   ]
  },
  {
   "cell_type": "markdown",
   "metadata": {},
   "source": [
    "### Else"
   ]
  },
  {
   "cell_type": "code",
   "execution_count": 6,
   "metadata": {},
   "outputs": [
    {
     "name": "stdout",
     "output_type": "stream",
     "text": [
      "The `else` statement can run a block when the `while` statement is no\n",
      " longer true\n",
      "x is < 6. x is 1\n",
      "Printing log that have incremented x to 2\n",
      "x is < 6. x is 2\n",
      "x is 3, so not printing log about increment\n",
      "x is < 6. x is 3\n",
      "Printing log that have incremented x to 4\n",
      "x is < 6. x is 4\n",
      "Printing log that have incremented x to 5\n",
      "x is < 6. x is 5\n",
      "Printing log that have incremented x to 6\n",
      "x is not < 6 anymore. x is 6\n"
     ]
    }
   ],
   "source": [
    "print('The `else` statement can run a block when the `while` statement is no\\n',\n",
    "      'longer true')\n",
    "\n",
    "x = 1\n",
    "while x < 6:\n",
    "    print(f'x is < 6. x is {x}')\n",
    "    x += 1\n",
    "    if x == 3:\n",
    "        print('x is 3, so not printing log about increment')\n",
    "        continue\n",
    "    print(f'Printing log that have incremented x to {x}')\n",
    "else:\n",
    "    print(f'x is not < 6 anymore. x is {x}')"
   ]
  }
 ],
 "metadata": {
  "kernelspec": {
   "display_name": "Python 3",
   "language": "python",
   "name": "python3"
  },
  "language_info": {
   "codemirror_mode": {
    "name": "ipython",
    "version": 3
   },
   "file_extension": ".py",
   "mimetype": "text/x-python",
   "name": "python",
   "nbconvert_exporter": "python",
   "pygments_lexer": "ipython3",
   "version": "3.9.17"
  },
  "orig_nbformat": 4
 },
 "nbformat": 4,
 "nbformat_minor": 2
}
