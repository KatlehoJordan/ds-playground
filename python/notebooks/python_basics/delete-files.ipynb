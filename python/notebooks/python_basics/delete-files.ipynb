{
 "cells": [
  {
   "cell_type": "markdown",
   "metadata": {},
   "source": [
    "# Python Tutorial\n",
    "\n",
    "https://www.w3schools.com/python/"
   ]
  },
  {
   "cell_type": "markdown",
   "metadata": {},
   "source": [
    "## Delete files\n",
    "\n",
    "Deleting files requires sending commands to the system. That is done with the `os` package."
   ]
  },
  {
   "cell_type": "code",
   "execution_count": 1,
   "metadata": {},
   "outputs": [
    {
     "name": "stderr",
     "output_type": "stream",
     "text": [
      "Creating `a_tmp_file`: tmp-file-to-delete.txt\n",
      "Writing to the file\n",
      "Reading the file\n",
      "Here is some temporary text\n",
      "Deleting the file\n",
      "Testing if the file still exists\n",
      "The file does not exist any more\n"
     ]
    }
   ],
   "source": [
    "import os\n",
    "from pathlib import Path\n",
    "from configurations import printer, logger\n",
    "\n",
    "a_tmp_file = 'tmp-file-to-delete.txt'\n",
    "printer('Creating `a_tmp_file`: %s', a_tmp_file)\n",
    "\n",
    "with Path(a_tmp_file).open(mode='w') as file:\n",
    "    printer('Writing to the file')\n",
    "    file.write('Here is some temporary text')\n",
    "\n",
    "printer('Reading the file')\n",
    "with Path(a_tmp_file).open(mode='r') as file:\n",
    "    for line in file:\n",
    "        printer(line)\n",
    "        \n",
    "printer('Deleting the file')\n",
    "os.remove(a_tmp_file)\n",
    "\n",
    "printer('Testing if the file still exists')\n",
    "\n",
    "if Path(a_tmp_file).exists():\n",
    "    logger.error('Failed to delete the file')\n",
    "else:\n",
    "    printer('The file does not exist any more')"
   ]
  },
  {
   "cell_type": "markdown",
   "metadata": {},
   "source": [
    "#### Comment on `os.path.exists()` vs `pathlib.Path('path').exists()`\n",
    "\n",
    "It seems that the `os` method is older, whereas the `pathlib` method handles things in a more object-oriented way. This may mean it is the preferred method going forward since it handles the path string not as a string, but as a `Path` object with its own expected behavior and associated methods.\n",
    "\n",
    "Furthermore, at least one (source)[https://www.learndatasci.com/solutions/python-check-if-files-exist/] indicates using the `pathlib` method may be more robust to failures do to 'races', where the program is performing different activities asynchronously, however the code and rationale provided do not immediately convince me."
   ]
  },
  {
   "cell_type": "markdown",
   "metadata": {},
   "source": [
    "### Delete Folder\n",
    "\n",
    "Deleting an empty folder can be done with `os.rmdir()`.\n",
    "\n",
    "However, it is worth noting that knowing shell commands helps, and they can be sent simply with `os.system()`, thereby not requiring you to learn new syntax if you already know shell scripting.\n",
    "\n",
    "Furthermore, `.mkdir()` is also a method for a `Path` object from `pathlib`... So it is preferred."
   ]
  },
  {
   "cell_type": "code",
   "execution_count": 2,
   "metadata": {},
   "outputs": [
    {
     "name": "stderr",
     "output_type": "stream",
     "text": [
      "Making `my_directory`: tmp-directory\n",
      "Your directory exists, good job!\n",
      "Removing directory with `os`\n",
      "Your directory no longer exists, good job!\n",
      "Doing the same but with `os.system` commands\n",
      "Making `my_directory`: tmp-directory\n",
      "Your directory exists, good job!\n",
      "Removing directory with `os`\n",
      "Your directory no longer exists, good job!\n",
      "Doing the same but with `pathlib.Path` methods\n",
      "Making `my_alternative_directory`: tmp-directory\n",
      "Your directory exists, good job!\n",
      "Removing directory with `printer`\n",
      "Your directory no longer exists, good job!\n"
     ]
    }
   ],
   "source": [
    "import os\n",
    "from pathlib import Path\n",
    "from configurations import printer, logger\n",
    "\n",
    "my_directory = 'tmp-directory'\n",
    "my_alternative_directory = 'other-tmp-directory'\n",
    "printer('Making `my_directory`: %s', my_directory)\n",
    "os.mkdir(my_directory)\n",
    "\n",
    "if os.path.exists(my_directory):\n",
    "    printer('Your directory exists, good job!')\n",
    "else:\n",
    "    logger.error('Your directory was not made!')\n",
    "\n",
    "printer('Removing directory with `os`')    \n",
    "os.rmdir(my_directory)\n",
    "\n",
    "if os.path.exists(my_directory):\n",
    "    logger.error('Your directory exists, but it should have been deleted!')\n",
    "else:\n",
    "    printer('Your directory no longer exists, good job!')\n",
    "\n",
    "\n",
    "printer('Doing the same but with `os.system` commands')\n",
    "\n",
    "printer('Making `my_directory`: %s', my_directory)\n",
    "os.system(f'mkdir {my_directory}')\n",
    "\n",
    "if os.path.exists(my_directory):\n",
    "    printer('Your directory exists, good job!')\n",
    "else:\n",
    "    logger.error('Your directory was not made!')\n",
    "\n",
    "printer('Removing directory with `os`')    \n",
    "os.system(f'rmdir {my_directory}')\n",
    "\n",
    "if os.path.exists(my_directory):\n",
    "    logger.error('Your directory exists, but it should have been deleted!')\n",
    "else:\n",
    "    printer('Your directory no longer exists, good job!')\n",
    "\n",
    "\n",
    "printer('Doing the same but with `pathlib.Path` methods')\n",
    "\n",
    "printer('Making `my_alternative_directory`: %s', my_directory)\n",
    "Path(my_directory).mkdir()\n",
    "if Path(my_directory).exists():\n",
    "    printer('Your directory exists, good job!')\n",
    "else:\n",
    "    logger.error('Your directory was not made!')\n",
    "\n",
    "printer('Removing directory with `printer`')    \n",
    "Path(my_directory).rmdir()\n",
    "\n",
    "if Path(my_directory).exists():\n",
    "    logger.error('Your directory exists, but it should have been deleted!')\n",
    "else:\n",
    "    printer('Your directory no longer exists, good job!')\n"
   ]
  }
 ],
 "metadata": {
  "kernelspec": {
   "display_name": "Python 3",
   "language": "python",
   "name": "python3"
  },
  "language_info": {
   "codemirror_mode": {
    "name": "ipython",
    "version": 3
   },
   "file_extension": ".py",
   "mimetype": "text/x-python",
   "name": "python",
   "nbconvert_exporter": "python",
   "pygments_lexer": "ipython3",
   "version": "3.9.17"
  },
  "orig_nbformat": 4
 },
 "nbformat": 4,
 "nbformat_minor": 2
}
