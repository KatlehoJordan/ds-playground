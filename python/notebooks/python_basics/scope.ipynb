{
 "cells": [
  {
   "cell_type": "markdown",
   "metadata": {},
   "source": [
    "# Python Tutorial\n",
    "\n",
    "https://www.w3schools.com/python/"
   ]
  },
  {
   "cell_type": "markdown",
   "metadata": {},
   "source": [
    "## Scope"
   ]
  },
  {
   "cell_type": "code",
   "execution_count": 2,
   "metadata": {},
   "outputs": [
    {
     "name": "stdout",
     "output_type": "stream",
     "text": [
      "A variable created within a function or class is only available\n",
      " from within that function or class. That is the local scope.\n"
     ]
    },
    {
     "ename": "SyntaxError",
     "evalue": "no binding for nonlocal 'x' found (2529597527.py, line 5)",
     "output_type": "error",
     "traceback": [
      "\u001b[0;36m  Cell \u001b[0;32mIn[2], line 5\u001b[0;36m\u001b[0m\n\u001b[0;31m    nonlocal x\u001b[0m\n\u001b[0m    ^\u001b[0m\n\u001b[0;31mSyntaxError\u001b[0m\u001b[0;31m:\u001b[0m no binding for nonlocal 'x' found\n"
     ]
    }
   ],
   "source": [
    "print('A variable created within a function or class is only available\\n',\n",
    "      'from within that function or class. That is the local scope.')\n",
    "\n",
    "x = 0\n",
    "\n",
    "def my_function():\n",
    "    x = 300\n",
    "    print(x)\n",
    "    \n",
    "print('When the scope closes, it returns to the global scope. Thus, you can\\n',\n",
    "      'have the same variable name used in multiple scopes. The one used in\\n',\n",
    "      'a function will be the most-local, searching upwards in scope until\\n',\n",
    "      'a variable with the name is found.')\n",
    "\n",
    "print(x)"
   ]
  },
  {
   "cell_type": "markdown",
   "metadata": {},
   "source": [
    "### Function Inside Function"
   ]
  },
  {
   "cell_type": "code",
   "execution_count": 4,
   "metadata": {},
   "outputs": [
    {
     "name": "stdout",
     "output_type": "stream",
     "text": [
      "As stated, the \"most-local\" version of a variable will be used.\n",
      "0\n",
      "300\n",
      "0\n"
     ]
    }
   ],
   "source": [
    "print('As stated, the \"most-local\" version of a variable will be used.')\n",
    "\n",
    "x = 0\n",
    "\n",
    "def my_function():\n",
    "    x = 300\n",
    "    def inner_function():\n",
    "        def russian_doll_function():\n",
    "            print(x)\n",
    "        russian_doll_function()\n",
    "    inner_function()\n",
    "\n",
    "print(x)\n",
    "\n",
    "my_function()\n",
    "\n",
    "print(x)"
   ]
  },
  {
   "cell_type": "markdown",
   "metadata": {},
   "source": [
    "### Global Scope"
   ]
  },
  {
   "cell_type": "code",
   "execution_count": 1,
   "metadata": {},
   "outputs": [
    {
     "name": "stdout",
     "output_type": "stream",
     "text": [
      "Variables defined from the main call to python are in the global scope.\n",
      "y is not in the globals\n",
      "y is in the globals and it is 1\n"
     ]
    }
   ],
   "source": [
    "print('Variables defined from the main call to python are in the global scope.')\n",
    "\n",
    "def y_in_globals_check():\n",
    "    if 'y' in globals():\n",
    "        print(f'y is in the globals and it is {y}')\n",
    "    else:\n",
    "        print('y is not in the globals')\n",
    "\n",
    "y_in_globals_check()\n",
    "\n",
    "y = 1\n",
    "\n",
    "y_in_globals_check()"
   ]
  },
  {
   "cell_type": "markdown",
   "metadata": {},
   "source": [
    "### Naming Variables\n",
    "\n",
    "As stated, the same names can be used in global or local scopes\n",
    "\n",
    "### Global Keyword"
   ]
  },
  {
   "cell_type": "code",
   "execution_count": 4,
   "metadata": {},
   "outputs": [
    {
     "name": "stdout",
     "output_type": "stream",
     "text": [
      "One can use the `global` keyword to create or override the global\n",
      " version of a variable, however this is usually ill-advised since it\n",
      " makes it hard to debug if variables are not modified within their\n",
      " expected scopes.\n",
      "1\n",
      "x and z are (3, 5)\n",
      "3\n"
     ]
    }
   ],
   "source": [
    "print('One can use the `global` keyword to create or override the global\\n',\n",
    "      'version of a variable, however this is usually ill-advised since it\\n',\n",
    "      'makes it hard to debug if variables are not modified within their\\n',\n",
    "      'expected scopes.')\n",
    "\n",
    "x = 1\n",
    "\n",
    "def my_func():\n",
    "    global x, z\n",
    "    x = 3\n",
    "    z = 5\n",
    "    print(f'x and z are {x, z}')\n",
    "    \n",
    "print(x)\n",
    "my_func()\n",
    "\n",
    "print(x)"
   ]
  }
 ],
 "metadata": {
  "kernelspec": {
   "display_name": "Python 3",
   "language": "python",
   "name": "python3"
  },
  "language_info": {
   "codemirror_mode": {
    "name": "ipython",
    "version": 3
   },
   "file_extension": ".py",
   "mimetype": "text/x-python",
   "name": "python",
   "nbconvert_exporter": "python",
   "pygments_lexer": "ipython3",
   "version": "3.9.17"
  },
  "orig_nbformat": 4
 },
 "nbformat": 4,
 "nbformat_minor": 2
}
