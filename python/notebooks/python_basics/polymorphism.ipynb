{
 "cells": [
  {
   "cell_type": "markdown",
   "metadata": {},
   "source": [
    "# Python Tutorial\n",
    "\n",
    "https://www.w3schools.com/python/"
   ]
  },
  {
   "cell_type": "markdown",
   "metadata": {},
   "source": [
    "## Polymorphism"
   ]
  },
  {
   "cell_type": "code",
   "execution_count": 1,
   "metadata": {},
   "outputs": [
    {
     "name": "stdout",
     "output_type": "stream",
     "text": [
      "Polymorphism refers to when a function or method with the same\n",
      " name has different behavior depending on the type of object it is\n",
      " used on. For example, `len()` returns a string length when used on\n",
      " a string, but the collection length on a collection.\n",
      "length of \"hello\" is 5\n",
      "length of [\"hello\", \"world\"] is 2\n"
     ]
    }
   ],
   "source": [
    "print('Polymorphism refers to when a function or method with the same\\n',\n",
    "      'name has different behavior depending on the type of object it is\\n',\n",
    "      'used on. For example, `len()` returns a string length when used on\\n',\n",
    "      'a string, but the collection length on a collection.')\n",
    "\n",
    "print(f'length of \"hello\" is {len(\"hello\")}')\n",
    "print(f'length of [\"hello\", \"world\"] is {len([\"hello\", \"world\"])}')"
   ]
  },
  {
   "cell_type": "markdown",
   "metadata": {},
   "source": [
    "### Class Polymorphism"
   ]
  },
  {
   "cell_type": "code",
   "execution_count": 2,
   "metadata": {},
   "outputs": [
    {
     "name": "stdout",
     "output_type": "stream",
     "text": [
      "When multiple classes have the same method but behavior differs,\n",
      " this is typical polymorphism.\n",
      "Drive!\n",
      "Sail!\n",
      "Fly!\n"
     ]
    }
   ],
   "source": [
    "print('When multiple classes have the same method but behavior differs,\\n',\n",
    "      'this is typical polymorphism.')\n",
    "\n",
    "class Car:\n",
    "    def __init__(self, brand: str, model: str):\n",
    "        self.brand = brand\n",
    "        self.model = model\n",
    "        \n",
    "    def move(self):\n",
    "        print(\"Drive!\")\n",
    "\n",
    "class Boat:\n",
    "    def __init__(self, brand: str, model: str):\n",
    "        self.brand = brand\n",
    "        self.model = model\n",
    "        \n",
    "    def move(self):\n",
    "        print(\"Sail!\")\n",
    "\n",
    "class Plane:\n",
    "    def __init__(self, brand: str, model: str):\n",
    "        self.brand = brand\n",
    "        self.model = model\n",
    "        \n",
    "    def move(self):\n",
    "        print(\"Fly!\")\n",
    "        \n",
    "my_car = Car(\"Ford\", \"Mustang\")\n",
    "my_boat = Boat(\"Ibiza\", \"Touring 20\")\n",
    "my_plane = Plane(\"Boeing\", \"747\")\n",
    "\n",
    "my_vehicles = [my_car, my_boat, my_plane]\n",
    "\n",
    "for vehicle in my_vehicles:\n",
    "    vehicle.move()"
   ]
  },
  {
   "cell_type": "markdown",
   "metadata": {},
   "source": [
    "### Inheritance Class Polymorphism"
   ]
  },
  {
   "cell_type": "code",
   "execution_count": 3,
   "metadata": {},
   "outputs": [
    {
     "name": "stdout",
     "output_type": "stream",
     "text": [
      "Parent and child classes can have their own methods with the same name\n",
      "Move!\n",
      "Drive!\n",
      "Sail!\n",
      "Fly!\n"
     ]
    }
   ],
   "source": [
    "print('Parent and child classes can have their own methods with the same name')\n",
    "\n",
    "class Vehicle:\n",
    "    def __init__(self, brand: str, model: str):\n",
    "        self.brand = brand\n",
    "        self.model = model\n",
    "        \n",
    "    def move(self):\n",
    "        print(\"Move!\")\n",
    "\n",
    "class Car(Vehicle):\n",
    "    def move(self):\n",
    "        print(\"Drive!\")\n",
    "\n",
    "class Boat(Vehicle):\n",
    "    def move(self):\n",
    "        print(\"Sail!\")\n",
    "\n",
    "class Plane(Vehicle):\n",
    "    def move(self):\n",
    "        print(\"Fly!\")\n",
    "        \n",
    "my_vehicle = Vehicle('Schwinn', 'RockHopper')\n",
    "my_car = Car(\"Ford\", \"Mustang\")\n",
    "my_boat = Boat(\"Ibiza\", \"Touring 20\")\n",
    "my_plane = Plane(\"Boeing\", \"747\")\n",
    "\n",
    "my_vehicles = [my_vehicle, my_car, my_boat, my_plane]\n",
    "\n",
    "for vehicle in my_vehicles:\n",
    "    vehicle.move()"
   ]
  }
 ],
 "metadata": {
  "kernelspec": {
   "display_name": "Python 3",
   "language": "python",
   "name": "python3"
  },
  "language_info": {
   "codemirror_mode": {
    "name": "ipython",
    "version": 3
   },
   "file_extension": ".py",
   "mimetype": "text/x-python",
   "name": "python",
   "nbconvert_exporter": "python",
   "pygments_lexer": "ipython3",
   "version": "3.9.17"
  },
  "orig_nbformat": 4
 },
 "nbformat": 4,
 "nbformat_minor": 2
}
