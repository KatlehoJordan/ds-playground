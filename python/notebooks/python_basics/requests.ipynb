{
 "cells": [
  {
   "cell_type": "markdown",
   "metadata": {},
   "source": [
    "# Python Tutorial\n",
    "\n",
    "https://www.w3schools.com/python/"
   ]
  },
  {
   "cell_type": "markdown",
   "metadata": {},
   "source": [
    "## Requests"
   ]
  },
  {
   "cell_type": "code",
   "execution_count": 2,
   "metadata": {},
   "outputs": [
    {
     "name": "stdout",
     "output_type": "stream",
     "text": [
      "The `requests` module allows you to send requests to webpages\n",
      "response has type: <class 'requests.models.Response'>\n",
      " and the response was <Response [200]>\n"
     ]
    }
   ],
   "source": [
    "print('The `requests` module allows you to send requests to webpages')\n",
    "\n",
    "import requests\n",
    "\n",
    "response = requests.get('https://w3schools.com/python/demopage.htm') \n",
    "\n",
    "print(f'response has type: {type(response)}\\n',\n",
    "      f'and the response was {response}')"
   ]
  },
  {
   "cell_type": "code",
   "execution_count": 3,
   "metadata": {},
   "outputs": [
    {
     "name": "stdout",
     "output_type": "stream",
     "text": [
      "There are many methods and objects that can be imported from\n",
      " `requests`\n",
      "delete(url, args) \n",
      "\t Sends a DELETE request to the specified url\n",
      "\n",
      "get(url, params, args) \n",
      "\t Sends a GET request to the specified url\n",
      "\n",
      "head(url, args) \n",
      "\t Sends a HEAD request to the specified url\n",
      "\n",
      "patch(url, data, args) \n",
      "\t Sends a PATCH request to the specified url\n",
      "\n",
      "post(url, data, json, args) \n",
      "\t Sends a POST request to the specified url\n",
      "\n",
      "put(url, data, args) \n",
      "\t Sends a PUT request to the specified url\n",
      "\n",
      "request(method, url, args) \n",
      "\t Sends a request of the specified method to the specified url\n",
      "\n",
      "ConnectTimeout\n",
      "ConnectionError\n",
      "DependencyWarning\n",
      "FileModeWarning\n",
      "HTTPError\n",
      "JSONDecodeError\n",
      "NullHandler\n",
      "PreparedRequest\n",
      "ReadTimeout\n",
      "Request\n",
      "RequestException\n",
      "RequestsDependencyWarning\n",
      "Response\n",
      "Session\n",
      "Timeout\n",
      "TooManyRedirects\n",
      "URLRequired\n",
      "__author__\n",
      "__author_email__\n",
      "__build__\n",
      "__builtins__\n",
      "__cached__\n",
      "__cake__\n",
      "__copyright__\n",
      "__description__\n",
      "__doc__\n",
      "__file__\n",
      "__license__\n",
      "__loader__\n",
      "__name__\n",
      "__package__\n",
      "__path__\n",
      "__spec__\n",
      "__title__\n",
      "__url__\n",
      "__version__\n",
      "_check_cryptography\n",
      "_internal_utils\n",
      "adapters\n",
      "api\n",
      "auth\n",
      "certs\n",
      "chardet_version\n",
      "charset_normalizer_version\n",
      "check_compatibility\n",
      "codes\n",
      "compat\n",
      "cookies\n",
      "delete\n",
      "exceptions\n",
      "get\n",
      "head\n",
      "hooks\n",
      "logging\n",
      "models\n",
      "options\n",
      "packages\n",
      "patch\n",
      "post\n",
      "put\n",
      "request\n",
      "session\n",
      "sessions\n",
      "ssl\n",
      "status_codes\n",
      "structures\n",
      "urllib3\n",
      "utils\n",
      "warnings\n"
     ]
    }
   ],
   "source": [
    "print('There are many methods and objects that can be imported from\\n',\n",
    "      '`requests`')\n",
    "\n",
    "import requests\n",
    "\n",
    "described_requests_methods = {\n",
    "    'delete(url, args)':\t'Sends a DELETE request to the specified url',\n",
    "'get(url, params, args)':\t'Sends a GET request to the specified url',\n",
    "'head(url, args)':\t'Sends a HEAD request to the specified url',\n",
    "'patch(url, data, args)':\t'Sends a PATCH request to the specified url',\n",
    "'post(url, data, json, args)':\t'Sends a POST request to the specified url',\n",
    "'put(url, data, args)':\t'Sends a PUT request to the specified url',\n",
    "'request(method, url, args)':\t'Sends a request of the specified method to the specified url'\n",
    "}\n",
    "\n",
    "for key in described_requests_methods:\n",
    "    print(f'{key} \\n\\t {described_requests_methods[key]}\\n')\n",
    "\n",
    "print('And there are even more that are not fully described here:')\n",
    "\n",
    "for key in dir(requests):\n",
    "    print(key)"
   ]
  }
 ],
 "metadata": {
  "kernelspec": {
   "display_name": "Python 3",
   "language": "python",
   "name": "python3"
  },
  "language_info": {
   "codemirror_mode": {
    "name": "ipython",
    "version": 3
   },
   "file_extension": ".py",
   "mimetype": "text/x-python",
   "name": "python",
   "nbconvert_exporter": "python",
   "pygments_lexer": "ipython3",
   "version": "3.9.17"
  },
  "orig_nbformat": 4
 },
 "nbformat": 4,
 "nbformat_minor": 2
}
