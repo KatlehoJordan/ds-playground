{
 "cells": [
  {
   "cell_type": "markdown",
   "metadata": {},
   "source": [
    "# Python Tutorial\n",
    "\n",
    "https://www.w3schools.com/python/"
   ]
  },
  {
   "cell_type": "markdown",
   "metadata": {},
   "source": [
    "## User Input"
   ]
  },
  {
   "cell_type": "code",
   "execution_count": 5,
   "metadata": {},
   "outputs": [
    {
     "name": "stdout",
     "output_type": "stream",
     "text": [
      "As of `python` version 3.6 or later, use `input()` to get user input.\n",
      " When python comes to this command, it will pause execution until\n",
      " input is provided.\n",
      "Username is: \n"
     ]
    }
   ],
   "source": [
    "print('As of `python` version 3.6 or later, use `input()` to get user input.\\n',\n",
    "      'When python comes to this command, it will pause execution until\\n',\n",
    "      'input is provided.')\n",
    "\n",
    "username = input('Enter username:')\n",
    "\n",
    "print(f'Username is: {username}')"
   ]
  }
 ],
 "metadata": {
  "kernelspec": {
   "display_name": "Python 3",
   "language": "python",
   "name": "python3"
  },
  "language_info": {
   "codemirror_mode": {
    "name": "ipython",
    "version": 3
   },
   "file_extension": ".py",
   "mimetype": "text/x-python",
   "name": "python",
   "nbconvert_exporter": "python",
   "pygments_lexer": "ipython3",
   "version": "3.9.17"
  },
  "orig_nbformat": 4
 },
 "nbformat": 4,
 "nbformat_minor": 2
}
