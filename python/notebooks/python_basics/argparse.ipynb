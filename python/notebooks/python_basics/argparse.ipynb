{
 "cells": [
  {
   "cell_type": "markdown",
   "metadata": {},
   "source": [
    "# Python Tutorial\n",
    "\n",
    "This tutorial was written by me, not published online."
   ]
  },
  {
   "cell_type": "markdown",
   "metadata": {},
   "source": [
    "## argparse\n",
    "\n",
    "The `argparse` module is built in and lets you add command-line arguments/flags to your scripts so that they can have altered behavior when called from a terminal."
   ]
  },
  {
   "cell_type": "code",
   "execution_count": 1,
   "metadata": {},
   "outputs": [
    {
     "name": "stderr",
     "output_type": "stream",
     "text": [
      "On 2023-07-29 at 20:50:04 default non-root logger logged a message\n",
      "INFO:\n",
      "There are many objects and methods that can be imported from argparse\n",
      "\n",
      "\tModule: 721264162\tFunction: <module>\n",
      "\tFile: 721264162.py \tLine: 4\n",
      "\n",
      "\n",
      "Action\n",
      "ArgumentDefaultsHelpFormatter\n",
      "ArgumentError\n",
      "ArgumentParser\n",
      "ArgumentTypeError\n",
      "BooleanOptionalAction\n",
      "FileType\n",
      "HelpFormatter\n",
      "MetavarTypeHelpFormatter\n",
      "Namespace\n",
      "ONE_OR_MORE\n",
      "OPTIONAL\n",
      "PARSER\n",
      "REMAINDER\n",
      "RawDescriptionHelpFormatter\n",
      "RawTextHelpFormatter\n",
      "SUPPRESS\n",
      "ZERO_OR_MORE\n",
      "_\n",
      "_ActionsContainer\n",
      "_AppendAction\n",
      "_AppendConstAction\n",
      "_ArgumentGroup\n",
      "_AttributeHolder\n",
      "_CountAction\n",
      "_ExtendAction\n",
      "_HelpAction\n",
      "_MutuallyExclusiveGroup\n",
      "_StoreAction\n"
     ]
    },
    {
     "name": "stderr",
     "output_type": "stream",
     "text": [
      "_StoreConstAction\n",
      "_StoreFalseAction\n",
      "_StoreTrueAction\n",
      "_SubParsersAction\n",
      "_UNRECOGNIZED_ARGS_ATTR\n",
      "_VersionAction\n",
      "__all__\n",
      "__builtins__\n",
      "__cached__\n",
      "__doc__\n",
      "__file__\n",
      "__loader__\n",
      "__name__\n",
      "__package__\n",
      "__spec__\n",
      "__version__\n",
      "_copy_items\n",
      "_get_action_name\n",
      "_os\n",
      "_re\n",
      "_sys\n",
      "ngettext\n"
     ]
    }
   ],
   "source": [
    "import argparse\n",
    "from configurations import logger, printer\n",
    "\n",
    "logger.info(\n",
    "    'There are many objects and methods that can be imported from argparse'\n",
    ")\n",
    "\n",
    "for name in (dir(argparse)):\n",
    "    printer('%s', name)"
   ]
  },
  {
   "cell_type": "markdown",
   "metadata": {},
   "source": [
    "### `ArgumentParser`\n",
    "\n",
    "It is the `ArgumentParser` class that is most useful. Use it to create an instance that can then be used for specifying command-line arguments you want to be available for users to specify when calling a function from the command line.\n",
    "\n",
    "Instances of the `ArgumentParser` class have the `.add_argument()` method, which is used to specify a flag/argument that can be sent when calling a function from the command line.\n",
    "\n",
    "A few features:\n",
    "\n",
    "- The same behavior can be elicited with, for example, short flags (like `-h`) and long flags (like `--help`). \n",
    "- Information can be provided to help users understand the usage of the flags when calling your function with `-h` or `--help`\n",
    "- A set of choices can be specified for the flag\n",
    "- A default version for the flag can be provided\n",
    "- It can be specified if the flag is required or not\n",
    "\n",
    "Since command-line arguments are not meant to be used during an interactive session, the features offered by this package are not simple to demonstrate in a Jupyter notebook. Thus, examine the `logging_demo.py` in the `main` function for an example of how this is used. \n",
    "\n",
    "There you should see that after an argument is added with `add_argument`, a set of arguments are created with the `parse_args()` method. This appends arguments as attributes to an object for subsequent retrieval and usage."
   ]
  }
 ],
 "metadata": {
  "kernelspec": {
   "display_name": "Python 3",
   "language": "python",
   "name": "python3"
  },
  "language_info": {
   "codemirror_mode": {
    "name": "ipython",
    "version": 3
   },
   "file_extension": ".py",
   "mimetype": "text/x-python",
   "name": "python",
   "nbconvert_exporter": "python",
   "pygments_lexer": "ipython3",
   "version": "3.9.17"
  },
  "orig_nbformat": 4
 },
 "nbformat": 4,
 "nbformat_minor": 2
}
