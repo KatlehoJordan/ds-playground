{
 "cells": [
  {
   "cell_type": "markdown",
   "metadata": {},
   "source": [
    "# Python Tutorial\n",
    "\n",
    "https://docs.python.org/3/howto/enum.html"
   ]
  },
  {
   "cell_type": "markdown",
   "metadata": {},
   "source": [
    "## `enum` module\n",
    "\n",
    "An `Enum` is a set of symbolic names bound to unique values. They are like global variables but have more features such as:\n",
    "- a more useful `repr()`\n",
    "- grouping\n",
    "- type-safety\n",
    "- and more\n",
    "\n",
    "They are most useful when you have a variable that can take one of a limited selection of values. For example, days of the week."
   ]
  },
  {
   "cell_type": "code",
   "execution_count": 2,
   "metadata": {},
   "outputs": [
    {
     "name": "stderr",
     "output_type": "stream",
     "text": [
      "The `repr()` of monday is 1\n",
      "The `repr()` of Weekday(1) is <Weekday.MONDAY: 1>\n"
     ]
    }
   ],
   "source": [
    "from enum import Enum\n",
    "from configurations import printer\n",
    "\n",
    "class Weekday(Enum):\n",
    "    MONDAY = 1\n",
    "    TUESDAY = 2\n",
    "    WEDNESDAY = 3\n",
    "    THURSDAY = 4\n",
    "    FRIDAY = 5\n",
    "    SATURDAY = 6\n",
    "    SUNDAY = 7\n",
    "    \n",
    "monday = 1\n",
    "\n",
    "printer('The `repr()` of monday is %s', repr(monday))\n",
    "\n",
    "printer('The `repr()` of Weekday(1) is %s', repr(Weekday(1)))"
   ]
  },
  {
   "cell_type": "markdown",
   "metadata": {},
   "source": [
    "From this short introduction, it seems like `Enum` classes are a bit like inverted dictionaries: one can access the attributes with a number, which is somewhat like accessing keys with an index, or accessing attributes with a key.\n",
    "\n",
    "I'm not convinced `Enum` objects are especially useful.\n",
    "\n",
    "However, [this Stack Overflow discussion](https://stackoverflow.com/questions/37601644/python-whats-the-enum-type-good-for) provides argumentation that `Enums` fill a gap in that they are immutable and have their own methods. This also is why the attributes specified in an `Enum` object are usually written in all-caps, to signify their immutability.\n",
    "\n",
    "### Using enums to get rid of 'magic numbers'\n",
    "\n",
    "https://florian-dahlitz.de/articles/why-you-should-use-more-enums-in-python\n",
    "\n",
    "A compelling argument is put forward here to use `Enum` objects to get rid of 'magic numbers', or numbers that would show up in your code as hard-coded values. It can increase code-readability if these magic numbers are instead put into an object that inherits `Enum`, and then that object is used in place of the magic numbers."
   ]
  },
  {
   "cell_type": "code",
   "execution_count": 53,
   "metadata": {},
   "outputs": [
    {
     "name": "stderr",
     "output_type": "stream",
     "text": [
      "The random number is 42.1\n",
      "That is Douglas's favorite number!\n"
     ]
    }
   ],
   "source": [
    "from enum import Enum\n",
    "import random\n",
    "from configurations import printer\n",
    "\n",
    "class FavoriteNumbers(Enum):\n",
    "    DOUG = 42\n",
    "    DAVID = 43\n",
    "\n",
    "random_int = random.randint(41, 43)\n",
    "\n",
    "printer('The random number is %s', random_int)\n",
    "if random_int == FavoriteNumbers.DAVID.value:\n",
    "    printer('That is David\\'s favorite number!')\n",
    "elif random_int == FavoriteNumbers.DOUG.value:\n",
    "    printer('That is Douglas\\'s favorite number!')\n",
    "else:\n",
    "    printer('The random_int is not a favorite number.')"
   ]
  },
  {
   "cell_type": "markdown",
   "metadata": {},
   "source": [
    "`Enum` objects can have attributes that are not just integers."
   ]
  },
  {
   "cell_type": "code",
   "execution_count": 57,
   "metadata": {},
   "outputs": [
    {
     "name": "stderr",
     "output_type": "stream",
     "text": [
      "The random number is 42.2\n",
      "That is Douglas's favorite number!\n"
     ]
    }
   ],
   "source": [
    "from enum import Enum\n",
    "import random\n",
    "from configurations import printer\n",
    "\n",
    "class FavoriteNumbers(Enum):\n",
    "    DOUG = 42 + 0.2\n",
    "    DAVID = 43\n",
    "\n",
    "random_float = random.randint(41, 43) + 0.2\n",
    "\n",
    "printer('The random number is %s', random_float)\n",
    "if random_float == FavoriteNumbers.DAVID.value:\n",
    "    printer('That is David\\'s favorite number!')\n",
    "elif random_float == FavoriteNumbers.DOUG.value:\n",
    "    printer('That is Douglas\\'s favorite number!')\n",
    "else:\n",
    "    printer('The random_float is not a favorite number.')"
   ]
  }
 ],
 "metadata": {
  "kernelspec": {
   "display_name": "Python 3",
   "language": "python",
   "name": "python3"
  },
  "language_info": {
   "codemirror_mode": {
    "name": "ipython",
    "version": 3
   },
   "file_extension": ".py",
   "mimetype": "text/x-python",
   "name": "python",
   "nbconvert_exporter": "python",
   "pygments_lexer": "ipython3",
   "version": "3.9.17"
  },
  "orig_nbformat": 4
 },
 "nbformat": 4,
 "nbformat_minor": 2
}
