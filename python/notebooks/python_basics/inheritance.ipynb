{
 "cells": [
  {
   "cell_type": "markdown",
   "metadata": {},
   "source": [
    "# Python Tutorial\n",
    "\n",
    "https://www.w3schools.com/python/"
   ]
  },
  {
   "cell_type": "markdown",
   "metadata": {},
   "source": [
    "## Inheritance"
   ]
  },
  {
   "cell_type": "code",
   "execution_count": 5,
   "metadata": {},
   "outputs": [
    {
     "name": "stdout",
     "output_type": "stream",
     "text": [
      "Inheritance is a concept from OOP. It enables a new class to receive\n",
      " attributes and methods from the class upon which it was built.\n",
      " By default, a child class inherits all attributes and methods from\n",
      " the parent class upon which it is based.\n",
      "John Doe\n",
      "Sally Salad\n"
     ]
    }
   ],
   "source": [
    "print('Inheritance is a concept from OOP. It enables a new class to receive\\n',\n",
    "      'attributes and methods from the class upon which it was built.\\n',\n",
    "       'By default, a child class inherits all attributes and methods from\\n',\n",
    "       'the parent class upon which it is based.')\n",
    "\n",
    "class Person:\n",
    "    def __init__(self, first_name: str, last_name: str) -> None:\n",
    "        self.first_name = first_name\n",
    "        self.last_name = last_name\n",
    "        \n",
    "    def print_name(self):\n",
    "        print(self.first_name, self.last_name)\n",
    "\n",
    "john_doe = Person('John', 'Doe')\n",
    "john_doe.print_name()\n",
    "\n",
    "class Student(Person):\n",
    "    pass\n",
    "\n",
    "sally_salad = Student('Sally', 'Salad')\n",
    "sally_salad.print_name()"
   ]
  },
  {
   "cell_type": "code",
   "execution_count": 8,
   "metadata": {},
   "outputs": [
    {
     "name": "stdout",
     "output_type": "stream",
     "text": [
      "Use the `super()` function to override an attribute from the parent.\n",
      "John Doe\n",
      "Sally <redacted for privacy>\n"
     ]
    }
   ],
   "source": [
    "print('Use the `super()` function to override an attribute from the parent.')\n",
    "\n",
    "class Person:\n",
    "    def __init__(self, first_name: str, last_name: str) -> None:\n",
    "        self.first_name = first_name\n",
    "        self.last_name = last_name\n",
    "        \n",
    "    def print_name(self):\n",
    "        print(self.first_name, self.last_name)\n",
    "\n",
    "john_doe = Person('John', 'Doe')\n",
    "john_doe.print_name()\n",
    "\n",
    "class Student(Person):\n",
    "    def __init__(self, first_name: str) -> None:\n",
    "        super().__init__(first_name, '<redacted for privacy>')\n",
    "        \n",
    "sally_salad = Student('Sally')\n",
    "sally_salad.print_name()"
   ]
  },
  {
   "cell_type": "markdown",
   "metadata": {},
   "source": [
    "### Adding attributes and methods"
   ]
  },
  {
   "cell_type": "code",
   "execution_count": 9,
   "metadata": {},
   "outputs": [
    {
     "name": "stdout",
     "output_type": "stream",
     "text": [
      "One can use add new attributes and methods to new classes that \n",
      " have already inherited some attributes and methods from a parent.\n",
      "John Doe\n",
      "Sally <redacted for privacy>\n",
      "2020\n"
     ]
    }
   ],
   "source": [
    "print('One can use add new attributes and methods to new classes that \\n',\n",
    "      'have already inherited some attributes and methods from a parent.')\n",
    "\n",
    "class Person:\n",
    "    def __init__(self, first_name: str, last_name: str) -> None:\n",
    "        self.first_name = first_name\n",
    "        self.last_name = last_name\n",
    "        \n",
    "    def print_name(self):\n",
    "        print(self.first_name, self.last_name)\n",
    "\n",
    "john_doe = Person('John', 'Doe')\n",
    "john_doe.print_name()\n",
    "\n",
    "class Student(Person):\n",
    "    def __init__(self, first_name: str, last_name: str, graduation_year: int) -> None:\n",
    "        super().__init__(first_name, '<redacted for privacy>')\n",
    "        self.graduation_year = graduation_year\n",
    "    \n",
    "    def print_graduation_year(self):\n",
    "        print(self.graduation_year)\n",
    "        \n",
    "sally_salad = Student('Sally', 'Salad', 2020)\n",
    "sally_salad.print_name()\n",
    "sally_salad.print_graduation_year()"
   ]
  }
 ],
 "metadata": {
  "kernelspec": {
   "display_name": "Python 3",
   "language": "python",
   "name": "python3"
  },
  "language_info": {
   "codemirror_mode": {
    "name": "ipython",
    "version": 3
   },
   "file_extension": ".py",
   "mimetype": "text/x-python",
   "name": "python",
   "nbconvert_exporter": "python",
   "pygments_lexer": "ipython3",
   "version": "3.9.17"
  },
  "orig_nbformat": 4
 },
 "nbformat": 4,
 "nbformat_minor": 2
}
