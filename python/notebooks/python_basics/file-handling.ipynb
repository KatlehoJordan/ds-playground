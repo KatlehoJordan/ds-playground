{
 "cells": [
  {
   "cell_type": "markdown",
   "metadata": {},
   "source": [
    "# Python Tutorial\n",
    "\n",
    "https://www.w3schools.com/python/"
   ]
  },
  {
   "cell_type": "markdown",
   "metadata": {},
   "source": [
    "## File Handling"
   ]
  },
  {
   "cell_type": "markdown",
   "metadata": {},
   "source": [
    "### File Methods"
   ]
  },
  {
   "cell_type": "code",
   "execution_count": 2,
   "metadata": {},
   "outputs": [
    {
     "name": "stdout",
     "output_type": "stream",
     "text": [
      "Python has many built-in file methods\n",
      "close() \n",
      "\t Closes the file\n",
      "\n",
      "detach() \n",
      "\t Returns the separated raw stream from the buffer\n",
      "\n",
      "fileno() \n",
      "\t Returns a number that represents the stream, from the operating system's perspective\n",
      "\n",
      "flush() \n",
      "\t Flushes the internal buffer\n",
      "\n",
      "isatty() \n",
      "\t Returns whether the file stream is interactive or not\n",
      "\n",
      "read() \n",
      "\t Returns the file content\n",
      "\n",
      "readable() \n",
      "\t Returns whether the file stream can be read or not\n",
      "\n",
      "readline() \n",
      "\t Returns one line from the file\n",
      "\n",
      "readlines() \n",
      "\t Returns a list of lines from the file\n",
      "\n",
      "seek() \n",
      "\t Change the file position\n",
      "\n",
      "seekable() \n",
      "\t Returns whether the file allows us to change the file position\n",
      "\n",
      "tell() \n",
      "\t Returns the current file position\n",
      "\n",
      "truncate() \n",
      "\t Resizes the file to a specified size\n",
      "\n",
      "writable() \n",
      "\t Returns whether the file can be written to or not\n",
      "\n",
      "write() \n",
      "\t Writes the specified string to the file\n",
      "\n",
      "writelines() \n",
      "\t Writes a list of strings to the file\n",
      "\n"
     ]
    }
   ],
   "source": [
    "print('Python has many built-in file methods')\n",
    "\n",
    "described_file_method = {\n",
    "    'close()':\t'Closes the file',\n",
    "'detach()':\t'Returns the separated raw stream from the buffer',\n",
    "'fileno()':\t\"Returns a number that represents the stream, from the operating system's perspective\",\n",
    "'flush()':\t'Flushes the internal buffer',\n",
    "'isatty()':\t'Returns whether the file stream is interactive or not',\n",
    "'read()':\t'Returns the file content',\n",
    "'readable()':\t'Returns whether the file stream can be read or not',\n",
    "'readline()':\t'Returns one line from the file',\n",
    "'readlines()':\t'Returns a list of lines from the file',\n",
    "'seek()':\t'Change the file position',\n",
    "'seekable()':\t'Returns whether the file allows us to change the file position',\n",
    "'tell()':\t'Returns the current file position',\n",
    "'truncate()':\t'Resizes the file to a specified size',\n",
    "'writable()':\t'Returns whether the file can be written to or not',\n",
    "'write()':\t'Writes the specified string to the file',\n",
    "'writelines()':\t'Writes a list of strings to the file'\n",
    "}\n",
    "\n",
    "for key in described_file_method:\n",
    "    print(f'{key} \\n\\t {described_file_method[key]}\\n')"
   ]
  },
  {
   "cell_type": "code",
   "execution_count": 5,
   "metadata": {},
   "outputs": [
    {
     "name": "stdout",
     "output_type": "stream",
     "text": [
      "The key function for opening files is `open()`, taking `filename` and\n",
      " `mode` as parameters. In terms of mode a file can be opened with,\n",
      " `r` means read, `a` means append`, `w` means write, and `x` means\n",
      " create. You can also specify if the file should be handled as `t` for\n",
      " text or `b` for binary, with text being default.\n"
     ]
    },
    {
     "data": {
      "text/plain": [
       "<_io.TextIOWrapper name='file-handling.txt' mode='w' encoding='UTF-8'>"
      ]
     },
     "execution_count": 5,
     "metadata": {},
     "output_type": "execute_result"
    }
   ],
   "source": [
    "print('The key function for opening files is `open()`, taking `filename` and\\n',\n",
    "      '`mode` as parameters. In terms of mode a file can be opened with,\\n',\n",
    "      '`r` means read, `a` means append`, `w` means write, and `x` means\\n',\n",
    "      'create. You can also specify if the file should be handled as `t` for\\n',\n",
    "      'text or `b` for binary, with text being default.')\n",
    "\n",
    "my_file = 'file-handling.txt'\n",
    "\n",
    "open(my_file, mode='w')"
   ]
  },
  {
   "cell_type": "markdown",
   "metadata": {},
   "source": [
    "### Closing files\n",
    "\n",
    "https://realpython.com/why-close-file-python/"
   ]
  },
  {
   "cell_type": "code",
   "execution_count": 7,
   "metadata": {},
   "outputs": [
    {
     "name": "stdout",
     "output_type": "stream",
     "text": [
      "It is important to close files when done using them, or else various\n",
      " issues may arise. This is why most use the `with` syntax to open files.\n",
      "Alternatively, using try and finally, but this is verbose.\n"
     ]
    }
   ],
   "source": [
    "print('It is important to close files when done using them, or else various\\n',\n",
    "      'issues may arise.')\n",
    "\n",
    "\n",
    "my_file = 'file-handling.txt'\n",
    "\n",
    "my_opened_file = open(my_file, mode='w')\n",
    "\n",
    "my_opened_file.close()\n",
    "\n",
    "print('This is why most use the `with` syntax to open files. This makes a\\n',\n",
    "      'context manager that automatically closes when the context is exited.')\n",
    "\n",
    "with open(my_file, mode='w') as file:\n",
    "    file.close()\n",
    "\n",
    "print('Alternatively, using try and finally, but this is verbose.')\n",
    "\n",
    "try:\n",
    "    my_opened_file = open(my_file, mode='w')\n",
    "except:\n",
    "    print('There was an error opening the file.')\n",
    "finally:\n",
    "    my_opened_file.close()"
   ]
  },
  {
   "cell_type": "markdown",
   "metadata": {},
   "source": [
    "### Deep dive into how python handles files"
   ]
  },
  {
   "cell_type": "code",
   "execution_count": 1,
   "metadata": {},
   "outputs": [
    {
     "name": "stdout",
     "output_type": "stream",
     "text": [
      "Python requests a filenumber from the operating system (OS), which \n",
      " the OS uses to find and interact with the file. This can be surfaced\n",
      " with `.fileno()` method.\n",
      "71\n",
      "An OS will only permit a limited number of file handlers at the same\n",
      " time. Trying to open more at the same time will cause errors.\n",
      " The limit can be observed in UNIX-like systems with:\n",
      "201796\n",
      "Although the tutorial linked instructed to create a list with more\n",
      " files than permitted, it led to too many system issues for me to want\n",
      " to code it here. Simply trust that it is a bad idea to open that many\n",
      " files simultaneously, 😃.\n",
      "The tutorial also indicated that files will not close until\n",
      " explicitly done so, resulting in python not finishing writing\n",
      " to files if there is a simulated crash before the file is closed,\n",
      " with os._exit(1) for example. However, I could not replicate. Perhaps\n",
      " newer versions of python are better about closing contexts\n",
      " or perhaps its because behaviour differs in Jupyter vs a script.\n",
      " Anyway, one should stick to handling files within context managers.\n"
     ]
    }
   ],
   "source": [
    "print('Python requests a filenumber from the operating system (OS), which \\n',\n",
    "      'the OS uses to find and interact with the file. This can be surfaced\\n',\n",
    "      'with `.fileno()` method.')\n",
    "\n",
    "my_file = 'file-handling.txt'\n",
    "\n",
    "with open(my_file, mode='w') as file:\n",
    "    print(file.fileno())\n",
    "    \n",
    "print('An OS will only permit a limited number of file handlers at the same\\n',\n",
    "      'time. Trying to open more at the same time will cause errors.\\n',\n",
    "      'The limit can be observed in UNIX-like systems with:')\n",
    "\n",
    "import os\n",
    "\n",
    "os.system('cat /proc/sys/fs/file-max')\n",
    "\n",
    "print('Although the tutorial linked instructed to create a list with more\\n',\n",
    "      'files than permitted, it led to too many system issues for me to want\\n',\n",
    "      'to code it here. Simply trust that it is a bad idea to open that many\\n',\n",
    "      'files simultaneously, \\U0001F603.')\n",
    "\n",
    "print('The tutorial also indicated that files will not close until\\n',\n",
    "      'explicitly done so, resulting in python not finishing writing\\n',\n",
    "      'to files if there is a simulated crash before the file is closed,\\n',\n",
    "      'with os._exit(1) for example. However, I could not replicate. Perhaps\\n',\n",
    "      'newer versions of python are better about closing contexts\\n',\n",
    "      'or perhaps its because behaviour differs in Jupyter vs a script.\\n',\n",
    "      'Anyway, one should stick to handling files within context managers.')"
   ]
  }
 ],
 "metadata": {
  "kernelspec": {
   "display_name": "Python 3",
   "language": "python",
   "name": "python3"
  },
  "language_info": {
   "codemirror_mode": {
    "name": "ipython",
    "version": 3
   },
   "file_extension": ".py",
   "mimetype": "text/x-python",
   "name": "python",
   "nbconvert_exporter": "python",
   "pygments_lexer": "ipython3",
   "version": "3.9.17"
  },
  "orig_nbformat": 4
 },
 "nbformat": 4,
 "nbformat_minor": 2
}
