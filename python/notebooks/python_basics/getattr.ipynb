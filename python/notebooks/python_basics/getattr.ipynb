{
 "cells": [
  {
   "cell_type": "markdown",
   "metadata": {},
   "source": [
    "# Python Tutorial\n",
    "\n",
    "This tutorial was written by me, not published online."
   ]
  },
  {
   "cell_type": "markdown",
   "metadata": {},
   "source": [
    "## getattr\n",
    "\n",
    "The `getattr` function is a useful way to dynamically call different methods on an object.\n",
    "\n",
    "For example, if you have several methods that you would like to call, and they are saved as a list of strings, then you can use `getattr` to loop over those methods."
   ]
  },
  {
   "cell_type": "code",
   "execution_count": 9,
   "metadata": {},
   "outputs": [
    {
     "name": "stderr",
     "output_type": "stream",
     "text": [
      "On 2023-07-29 at 19:25:25 default non-root logger logged a message\n",
      "INFO:\n",
      "Docs for `getattr`:getattr(object, name[, default]) -> value\n",
      "\n",
      "Get a named attribute from an object; getattr(x, 'y') is equivalent to x.y.\n",
      "When a default argument is given, it is returned when the attribute doesn't\n",
      "exist; without it, an exception is raised in that case.\n",
      "\n",
      "\tModule: 2727065818\tFunction: <module>\n",
      "\tFile: 2727065818.py \tLine: 3\n",
      "\n",
      "\n"
     ]
    }
   ],
   "source": [
    "from configurations import logger\n",
    "\n",
    "logger.info('Docs for `getattr`:'\n",
    "            '%s', getattr.__doc__)"
   ]
  },
  {
   "cell_type": "markdown",
   "metadata": {},
   "source": [
    "With the `callable` function, you can get a list of methods from a given object."
   ]
  },
  {
   "cell_type": "code",
   "execution_count": 11,
   "metadata": {},
   "outputs": [
    {
     "name": "stderr",
     "output_type": "stream",
     "text": [
      "On 2023-07-29 at 19:28:43 default non-root logger logged a message\n",
      "INFO:\n",
      "The first few methods from my_string include:\n",
      "['__add__', '__class__', '__contains__', '__delattr__', '__dir__']\n",
      "\n",
      "\tModule: 1707240013\tFunction: <module>\n",
      "\tFile: 1707240013.py \tLine: 6\n",
      "\n",
      "\n"
     ]
    }
   ],
   "source": [
    "my_string = 'HI there!'\n",
    "methods = [\n",
    "    method for method in dir(my_string) if callable(getattr(my_string, method))\n",
    "    ]\n",
    "\n",
    "logger.info('The first few methods from my_string include:\\n'\n",
    "            '%s',\n",
    "            methods[0:5])"
   ]
  },
  {
   "cell_type": "markdown",
   "metadata": {},
   "source": [
    "With the `getattr` function, you can loop over several methods to apply them to an object."
   ]
  },
  {
   "cell_type": "code",
   "execution_count": 18,
   "metadata": {},
   "outputs": [
    {
     "name": "stderr",
     "output_type": "stream",
     "text": [
      "On 2023-07-29 at 19:47:31 default non-root logger logged a message\n",
      "INFO:\n",
      "Results from calling my_string_methods several string methods on HI there!:\n",
      "['hi there!', 'HI THERE!', 'Hi there!', 'Hi There!']\n",
      "\n",
      "\tModule: 2594665386\tFunction: <module>\n",
      "\tFile: 2594665386.py \tLine: 2\n",
      "\n",
      "\n"
     ]
    }
   ],
   "source": [
    "my_string_methods = ['lower', 'upper', 'capitalize', 'title']\n",
    "logger.info(\n",
    "    'Results from calling my_string_methods several string methods on %s:\\n'\n",
    "    '%s',\n",
    "    my_string,\n",
    "    [getattr(my_string, method)() for method in my_string_methods]\n",
    "    )"
   ]
  }
 ],
 "metadata": {
  "kernelspec": {
   "display_name": "Python 3",
   "language": "python",
   "name": "python3"
  },
  "language_info": {
   "codemirror_mode": {
    "name": "ipython",
    "version": 3
   },
   "file_extension": ".py",
   "mimetype": "text/x-python",
   "name": "python",
   "nbconvert_exporter": "python",
   "pygments_lexer": "ipython3",
   "version": "3.9.17"
  },
  "orig_nbformat": 4
 },
 "nbformat": 4,
 "nbformat_minor": 2
}
