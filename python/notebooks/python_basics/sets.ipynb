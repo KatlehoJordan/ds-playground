{
 "cells": [
  {
   "cell_type": "markdown",
   "metadata": {},
   "source": [
    "# Python Tutorial\n",
    "\n",
    "https://www.w3schools.com/python/"
   ]
  },
  {
   "cell_type": "markdown",
   "metadata": {},
   "source": [
    "## Sets"
   ]
  },
  {
   "cell_type": "code",
   "execution_count": 11,
   "metadata": {},
   "outputs": [
    {
     "name": "stdout",
     "output_type": "stream",
     "text": [
      "Sets are collections of unique items that are unordered/unindexed, \n",
      " have items that are unchangeable.\n",
      "{'apple', 'banana', 'cherry'}\n",
      "Duplicate items in a set will be ignored.\n",
      "{'apple', 'banana', 'cherry'}\n",
      "Items in a set cannot be changed, but can be removed or new ones added.\n",
      "{'apple', 'banana', 'cherry', 'orange'}\n",
      "Sets can have different data types.\n",
      "However booleans are treated as int if 1 or 0 is already present\n",
      "{False, 1, 'apple'}\n",
      "In contrast, if True or False are already present, 1 and 0 are ignored\n",
      "{False, 1, 'apple'}\n",
      "Getting the length of a set is like other collections\n",
      "3\n",
      "The `set` constructor can also be used to make a set\n",
      "{0, True, 'apple', 4.2}\n"
     ]
    }
   ],
   "source": [
    "print('Sets are collections of unique items that are unordered/unindexed, \\n',\n",
    "      'have items that are unchangeable.')\n",
    "x = {'apple', 'banana', 'cherry'}\n",
    "print(x)\n",
    "\n",
    "print('Duplicate items in a set will be ignored.')\n",
    "\n",
    "x = {'apple', 'banana', 'cherry', 'cherry'}\n",
    "print(x)\n",
    "\n",
    "print('Items in a set cannot be changed, but can be removed or new ones added.')\n",
    "x.add('orange')\n",
    "print(x)\n",
    "\n",
    "print('Sets can have different data types.')\n",
    "x = {'apple', 1, False}\n",
    "print('However booleans are treated as int if 1 or 0 is already present')\n",
    "x.add(True)\n",
    "print(x)\n",
    "\n",
    "print('In contrast, if True or False are already present, 1 and 0 are ignored')\n",
    "x.add(0)\n",
    "print(x)\n",
    "\n",
    "print('Getting the length of a set is like other collections')\n",
    "print(len(x))\n",
    "\n",
    "print('The `set` constructor can also be used to make a set')\n",
    "x = set(('apple', True, 0, 4.2))\n",
    "print(x)"
   ]
  },
  {
   "cell_type": "markdown",
   "metadata": {},
   "source": [
    "## Access Set Items"
   ]
  },
  {
   "cell_type": "code",
   "execution_count": 12,
   "metadata": {},
   "outputs": [
    {
     "name": "stdout",
     "output_type": "stream",
     "text": [
      "You cannot get set items by index, but you can by looping or using `in`\n",
      "0\n",
      "True\n",
      "apple\n",
      "4.2\n",
      "\"apple\" is in the set x\n"
     ]
    }
   ],
   "source": [
    "print('You cannot get set items by index, but you can by looping or using `in`')\n",
    "print('Note that looping through a set will go through items in an order \\n',\n",
    "      'that you cannot know before hand, since items are not indexed.')\n",
    "x = {'apple', True, 0, 4.2}\n",
    "for item in x:\n",
    "    print(item)\n",
    "\n",
    "if 'apple' in x:\n",
    "    print('\"apple\" is in the set x')"
   ]
  },
  {
   "cell_type": "markdown",
   "metadata": {},
   "source": [
    "## Add Set Items"
   ]
  },
  {
   "cell_type": "code",
   "execution_count": 14,
   "metadata": {},
   "outputs": [
    {
     "name": "stdout",
     "output_type": "stream",
     "text": [
      "Two sets can be added together. Unlike tuples, the `+` does not n work. Rather, you must use the `.update()`  method.\n",
      "{0, True, 'apple', 4.2}\n",
      "{0, True, 'apple', 4.2, 3.14, 'orange'}\n",
      "The item passed to the `.update()` method can be any iterable.\n",
      "{0, True, 'apple', 4.2, 3.14, 'orange', 'banana', 77}\n",
      "{0, True, 'pineapple', 3.14, 4.2, 'orange', 'banana', 77, 33, 'apple'}\n",
      "{0, True, 'pineapple', 3.14, 4.2, 'orange', 'hobby', 'name', 'banana', 77, 33, 'apple'}\n"
     ]
    }
   ],
   "source": [
    "print('Two sets can be added together. Unlike tuples, the `+` does not n',\n",
    "      'work. Rather, you must use the `.update()`  method.')\n",
    "x = {'apple', True, 0, 4.2}\n",
    "print(x)\n",
    "x.update({'orange', 3.14})\n",
    "print(x)\n",
    "\n",
    "print('The item passed to the `.update()` method can be any iterable.')\n",
    "x.update(['banana', 77])\n",
    "print(x)\n",
    "x.update(('pineapple', 33))\n",
    "print(x)\n",
    "\n",
    "print('As with other collections, if you add a dictionary, only the keys come')\n",
    "x.update({'name': 'David', 'hobby': 'learning'})\n",
    "print(x)"
   ]
  },
  {
   "cell_type": "markdown",
   "metadata": {},
   "source": [
    "## Remove Item"
   ]
  },
  {
   "cell_type": "code",
   "execution_count": 17,
   "metadata": {},
   "outputs": [
    {
     "name": "stdout",
     "output_type": "stream",
     "text": [
      "To remove an item, use the `.remove()` or `.discard()` method\n",
      "{0, True, 'apple', 4.2}\n",
      "{0, True, 4.2}\n",
      "{True, 4.2}\n",
      "The difference between `.remove()` and `.discard()` is that \n",
      " `.remove()` will raise an error if the item you call is not present.\n",
      " Thus, using remove is more defensive.\n",
      "`.pop` can also be used to remove an item and return it, but it takes\n",
      " a random item from the set.\n",
      "True\n",
      "The `.clear()` method empties the set.\n",
      "{0, 'a', 4.2, True}\n",
      "set()\n",
      "Like other objects, `del` also deletes an object.\n",
      "x exists\n",
      "x does not exist\n"
     ]
    }
   ],
   "source": [
    "print('To remove an item, use the `.remove()` or `.discard()` method')\n",
    "x = {'apple', True, 0, 4.2}\n",
    "print(x)\n",
    "x.remove('apple')\n",
    "print(x)\n",
    "x.discard(0)\n",
    "print(x)\n",
    "\n",
    "print('The difference between `.remove()` and `.discard()` is that \\n',\n",
    "      '`.remove()` will raise an error if the item you call is not present.\\n',\n",
    "      'Thus, using remove is more defensive.')\n",
    "\n",
    "print('`.pop` can also be used to remove an item and return it, but it takes\\n',\n",
    "      'a random item from the set.')\n",
    "y = x.pop()\n",
    "print(y)\n",
    "\n",
    "print('The `.clear()` method empties the set but does not delete it.')\n",
    "x = {'a', True, 0, 4.2}\n",
    "print(x)\n",
    "x.clear()\n",
    "print(x)\n",
    "\n",
    "print('Like other objects, `del` also deletes an object.')\n",
    "\n",
    "def check_if_x_exists():\n",
    "    if 'x' in locals() or 'x' in globals():\n",
    "        print('x exists')\n",
    "    else:\n",
    "        print('x does not exist')\n",
    "check_if_x_exists()\n",
    "del x\n",
    "check_if_x_exists()"
   ]
  },
  {
   "cell_type": "markdown",
   "metadata": {},
   "source": [
    "## Join Two Sets"
   ]
  },
  {
   "cell_type": "code",
   "execution_count": 25,
   "metadata": {},
   "outputs": [
    {
     "name": "stdout",
     "output_type": "stream",
     "text": [
      "Sets can be joined with `.update()` as before or `.union()`. \n",
      " `.union()` does not do the change in place, but `.update()` does.\n",
      "{'a', 4.2}\n",
      "{False, 1}\n",
      "{False, 'a', 4.2, 1}\n",
      "{False, 'a', 4.2, 1}\n",
      "{False, 'a', 1, 3.7, 4.2, 'b'}\n",
      "Other methods include those used in set theory. For example, \n",
      " `.intersection_update()` will update with only overlapping items.\n",
      "{'a', 'c', 'b'}\n",
      "{'a', 'b', 'z'}\n",
      "{'a', 'b'}\n",
      "To return intersection data without saving in place, use \n",
      " `.intersection()`\n",
      "{'a', 'c', 'b'}\n",
      "{'a', 'b'}\n",
      "To keep only those that are dissimilar, use `.symmetric_difference()`\n",
      " or `.symmetric_difference_update()`.\n",
      "{'a', 'b'}\n",
      "{'a', 'c', 'b'}\n",
      "{'a', 'b'}\n",
      "Be weary of combining sets that have 0, 1, False, True, since they \n",
      " will be treated is identical, and only the first one observed will \n",
      " be carried forward.\n",
      "{False, 1}\n",
      "{0, True}\n",
      "set()\n",
      "set()\n"
     ]
    }
   ],
   "source": [
    "print('Sets can be joined with `.update()` as before or `.union()`. \\n',\n",
    "      '`.union()` does not do the change in place, but `.update()` does.')\n",
    "x = {'a', 4.2}\n",
    "y = {1, False}\n",
    "print(x)\n",
    "print(y)\n",
    "x.update(y)\n",
    "print(x)\n",
    "\n",
    "z = {'b', 3.7}\n",
    "x.union(z)\n",
    "print(x)\n",
    "print(x.union(z))\n",
    "\n",
    "print('Other methods include those used in set theory. For example, \\n',\n",
    "      '`.intersection_update()` will update with only overlapping items.')\n",
    "x = {'a', 'b', 'c'}\n",
    "y = {'a', 'b', 'z'}\n",
    "print(x)\n",
    "print(y)\n",
    "x.intersection_update(y)\n",
    "print(x)\n",
    "\n",
    "print('To return intersection data without saving in place, use \\n',\n",
    "      '`.intersection()`')\n",
    "x = {'a', 'b', 'c'}\n",
    "y = {'a', 'b', 'z'}\n",
    "z = x.intersection(y)\n",
    "print(x)\n",
    "print(z)\n",
    "\n",
    "print('To keep only those that are dissimilar, use `.symmetric_difference()`\\n',\n",
    "      'or `.symmetric_difference_update()`.')\n",
    "x = {'a', 'b', 'c'}\n",
    "y = {'a', 'b', 'z'}\n",
    "print(x.intersection(y))\n",
    "print(x)\n",
    "x.intersection_update(y)\n",
    "print(x)\n",
    "\n",
    "print('Be weary of combining sets that have 0, 1, False, True, since they \\n',\n",
    "      'will be treated is identical, and only the first one observed will \\n',\n",
    "      'be carried forward.')\n",
    "x = {True, 0}\n",
    "y = {1, False}\n",
    "print(x.intersection(y))\n",
    "print(y.intersection(x))\n",
    "print(x.symmetric_difference(y))\n",
    "print(y.symmetric_difference(x))"
   ]
  },
  {
   "cell_type": "markdown",
   "metadata": {},
   "source": [
    "## Set Methods"
   ]
  },
  {
   "cell_type": "code",
   "execution_count": 26,
   "metadata": {},
   "outputs": [
    {
     "name": "stdout",
     "output_type": "stream",
     "text": [
      "Some set methods include {'pop', 'update', 'difference', 'intersection_update', 'union', 'copy', 'isdisjoint', 'symmetric_difference_update', 'difference_update', 'issubset', 'clear', 'intersection', 'remove', 'discard', 'add', 'symmetric_difference'}\n"
     ]
    }
   ],
   "source": [
    "set_methods = {'add', 'clear', 'copy', 'difference', 'difference_update',\n",
    "               'discard', 'intersection', 'intersection_update', 'isdisjoint',\n",
    "               'issubset', 'pop', 'remove', 'symmetric_difference',\n",
    "               'symmetric_difference_update', 'union', 'update'}\n",
    "print(f'Some set methods include {set_methods}')"
   ]
  },
  {
   "cell_type": "code",
   "execution_count": 1,
   "metadata": {},
   "outputs": [
    {
     "name": "stdout",
     "output_type": "stream",
     "text": [
      "Python has many built-in set methods\n",
      "add() \n",
      "\t Adds an element to the set\n",
      "\n",
      "clear() \n",
      "\t Removes all the elements from the set\n",
      "\n",
      "copy() \n",
      "\t Returns a copy of the set\n",
      "\n",
      "difference() \n",
      "\t Returns a set containing the difference between two or more sets\n",
      "\n",
      "difference_update() \n",
      "\t Removes the items in this set that are also included in another, specified set\n",
      "\n",
      "discard() \n",
      "\t Remove the specified item\n",
      "\n",
      "intersection() \n",
      "\t Returns a set, that is the intersection of two or more sets\n",
      "\n",
      "intersection_update() \n",
      "\t Removes the items in this set that are not present in other, specified set(s)\n",
      "\n",
      "isdisjoint() \n",
      "\t Returns whether two sets have a intersection or not\n",
      "\n",
      "issubset() \n",
      "\t Returns whether another set contains this set or not\n",
      "\n",
      "issuperset() \n",
      "\t Returns whether this set contains another set or not\n",
      "\n",
      "pop() \n",
      "\t Removes an element from the set\n",
      "\n",
      "remove() \n",
      "\t Removes the specified element\n",
      "\n",
      "symmetric_difference() \n",
      "\t Returns a set with the symmetric differences of two sets\n",
      "\n",
      "symmetric_difference_update() \n",
      "\t inserts the symmetric differences from this set and another\n",
      "\n",
      "union() \n",
      "\t Return a set containing the union of sets\n",
      "\n",
      "update() \n",
      "\t Update the set with another set, or any other iterable\n",
      "\n"
     ]
    }
   ],
   "source": [
    "print('Python has many built-in set methods')\n",
    "\n",
    "described_set_method = {\n",
    "    'add()':\t'Adds an element to the set',\n",
    "'clear()':\t'Removes all the elements from the set',\n",
    "'copy()':\t'Returns a copy of the set',\n",
    "'difference()':\t'Returns a set containing the difference between two or more sets',\n",
    "'difference_update()':\t'Removes the items in this set that are also included in another, specified set',\n",
    "'discard()':\t'Remove the specified item',\n",
    "'intersection()':\t'Returns a set, that is the intersection of two or more sets',\n",
    "'intersection_update()':\t'Removes the items in this set that are not present in other, specified set(s)',\n",
    "'isdisjoint()':\t'Returns whether two sets have a intersection or not',\n",
    "'issubset()':\t'Returns whether another set contains this set or not',\n",
    "'issuperset()':\t'Returns whether this set contains another set or not',\n",
    "'pop()':\t'Removes an element from the set',\n",
    "'remove()':\t'Removes the specified element',\n",
    "'symmetric_difference()':\t'Returns a set with the symmetric differences of two sets',\n",
    "'symmetric_difference_update()':\t'inserts the symmetric differences from this set and another',\n",
    "'union()':\t'Return a set containing the union of sets',\n",
    "'update()':\t'Update the set with another set, or any other iterable'\n",
    "}\n",
    "\n",
    "for key in described_set_method:\n",
    "    print(f'{key} \\n\\t {described_set_method[key]}\\n')"
   ]
  }
 ],
 "metadata": {
  "kernelspec": {
   "display_name": "Python 3",
   "language": "python",
   "name": "python3"
  },
  "language_info": {
   "codemirror_mode": {
    "name": "ipython",
    "version": 3
   },
   "file_extension": ".py",
   "mimetype": "text/x-python",
   "name": "python",
   "nbconvert_exporter": "python",
   "pygments_lexer": "ipython3",
   "version": "3.9.17"
  },
  "orig_nbformat": 4
 },
 "nbformat": 4,
 "nbformat_minor": 2
}
