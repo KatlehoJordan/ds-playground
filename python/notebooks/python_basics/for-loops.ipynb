{
 "cells": [
  {
   "cell_type": "markdown",
   "metadata": {},
   "source": [
    "# Python Tutorial\n",
    "\n",
    "https://www.w3schools.com/python/"
   ]
  },
  {
   "cell_type": "markdown",
   "metadata": {},
   "source": [
    "## For loops"
   ]
  },
  {
   "cell_type": "code",
   "execution_count": 1,
   "metadata": {},
   "outputs": [
    {
     "name": "stdout",
     "output_type": "stream",
     "text": [
      "Used for iterating over a sequence (collection or string).\n",
      " This works like an iterator method in other OOP languages, and less\n",
      " like a typical `for` keyword in other languages.\n",
      "apple\n",
      "orange\n",
      "banana\n"
     ]
    }
   ],
   "source": [
    "print('Used for iterating over a sequence (collection or string).\\n',\n",
    "      'This works like an iterator method in other OOP languages, and less\\n',\n",
    "      'like a typical `for` keyword in other languages.')\n",
    "fruits = ['apple', 'orange', 'banana']\n",
    "\n",
    "for fruit in fruits:\n",
    "    print(fruit)"
   ]
  },
  {
   "cell_type": "markdown",
   "metadata": {},
   "source": [
    "### Looping through a string"
   ]
  },
  {
   "cell_type": "code",
   "execution_count": 2,
   "metadata": {},
   "outputs": [
    {
     "name": "stdout",
     "output_type": "stream",
     "text": [
      "A string object used in a `for` loop will iterate over each character\n",
      "m\n",
      "y\n",
      " \n",
      "s\n",
      "t\n",
      "r\n",
      "i\n",
      "n\n",
      "g\n"
     ]
    }
   ],
   "source": [
    "print('A string object used in a `for` loop will iterate over each character')\n",
    "\n",
    "x = 'my string'\n",
    "for character in x:\n",
    "    print(character)"
   ]
  },
  {
   "cell_type": "markdown",
   "metadata": {},
   "source": [
    "### Break and Continue statements\n",
    "\n",
    "These work the same as in `while` loops. Feel free to refer to that tutorial.\n",
    "\n",
    "### The `range()` function"
   ]
  },
  {
   "cell_type": "code",
   "execution_count": 5,
   "metadata": {},
   "outputs": [
    {
     "name": "stdout",
     "output_type": "stream",
     "text": [
      "For loops require a list. To get a list from an integer, use `range()`\n",
      "0\n",
      "1\n",
      "2\n",
      "3\n",
      "4\n",
      "5\n",
      "The `range()` function defaults to start at 0, but that can be altered\n",
      "1\n",
      "2\n",
      "3\n",
      "4\n",
      "5\n",
      "The `range()` function defaults to increment by 1, but that can be \n",
      " altered\n",
      "1\n",
      "3\n",
      "5\n"
     ]
    }
   ],
   "source": [
    "print('For loops require a list. To get a list from an integer, use `range()`')\n",
    "\n",
    "for int in range(6):\n",
    "    print(int)\n",
    "    \n",
    "print('The `range()` function defaults to start at 0, but that can be altered')\n",
    "\n",
    "for int in range(1, 6):\n",
    "    print(int)\n",
    "\n",
    "print('The `range()` function defaults to increment by 1, but that can be \\n',\n",
    "      'altered')\n",
    "\n",
    "for int in range(1, 6, 2):\n",
    "    print(int)"
   ]
  },
  {
   "cell_type": "markdown",
   "metadata": {},
   "source": [
    "### Else in a for loop"
   ]
  },
  {
   "cell_type": "code",
   "execution_count": 6,
   "metadata": {},
   "outputs": [
    {
     "name": "stdout",
     "output_type": "stream",
     "text": [
      "Like with `while` loops, an `else` statement can be used at the \n",
      " end of a `for` loop to determine what to execute when the loop is done\n",
      "0\n",
      "1\n",
      "2\n",
      "3\n",
      "4\n",
      "5\n",
      "Done iterating\n"
     ]
    }
   ],
   "source": [
    "print('Like with `while` loops, an `else` statement can be used at the \\n',\n",
    "      'end of a `for` loop to determine what to execute when the loop is done')\n",
    "\n",
    "for int in range(6):\n",
    "    print(int)\n",
    "else:\n",
    "    print('Done iterating')"
   ]
  },
  {
   "cell_type": "markdown",
   "metadata": {},
   "source": [
    "### Nested loops and the pass statement\n",
    "\n",
    "These behave the same as for `while` loops or `if` statements... Best to be avoided.\n"
   ]
  }
 ],
 "metadata": {
  "kernelspec": {
   "display_name": "Python 3",
   "language": "python",
   "name": "python3"
  },
  "language_info": {
   "codemirror_mode": {
    "name": "ipython",
    "version": 3
   },
   "file_extension": ".py",
   "mimetype": "text/x-python",
   "name": "python",
   "nbconvert_exporter": "python",
   "pygments_lexer": "ipython3",
   "version": "3.9.17"
  },
  "orig_nbformat": 4
 },
 "nbformat": 4,
 "nbformat_minor": 2
}
