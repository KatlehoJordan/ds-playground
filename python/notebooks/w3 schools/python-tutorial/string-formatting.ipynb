{
 "cells": [
  {
   "cell_type": "markdown",
   "metadata": {},
   "source": [
    "# Python Tutorial\n",
    "\n",
    "https://www.w3schools.com/python/"
   ]
  },
  {
   "cell_type": "markdown",
   "metadata": {},
   "source": [
    "## String Formatting"
   ]
  },
  {
   "cell_type": "code",
   "execution_count": 3,
   "metadata": {},
   "outputs": [
    {
     "name": "stdout",
     "output_type": "stream",
     "text": [
      "Strings have a `.format()` method for ensuring they print as desired.\n",
      " One can put {} placeholders into a string, and subsequently pass\n",
      " objects into that string in the placholder.\n",
      "the price is 42\n",
      "One can pre-populate the {} with a format to apply\n"
     ]
    },
    {
     "ename": "AttributeError",
     "evalue": "'int' object has no attribute '2f'",
     "output_type": "error",
     "traceback": [
      "\u001b[0;31m---------------------------------------------------------------------------\u001b[0m",
      "\u001b[0;31mAttributeError\u001b[0m                            Traceback (most recent call last)",
      "Cell \u001b[0;32mIn[3], line 15\u001b[0m\n\u001b[1;32m     11\u001b[0m \u001b[39mprint\u001b[39m(\u001b[39m'\u001b[39m\u001b[39mOne can pre-populate the \u001b[39m\u001b[39m{}\u001b[39;00m\u001b[39m with a format to apply\u001b[39m\u001b[39m'\u001b[39m)\n\u001b[1;32m     13\u001b[0m my_text \u001b[39m=\u001b[39m \u001b[39m'\u001b[39m\u001b[39mthe price is \u001b[39m\u001b[39m{\u001b[39m\u001b[39m.2f}\u001b[39m\u001b[39m'\u001b[39m\n\u001b[0;32m---> 15\u001b[0m \u001b[39mprint\u001b[39m(my_text\u001b[39m.\u001b[39;49mformat(price))\n",
      "\u001b[0;31mAttributeError\u001b[0m: 'int' object has no attribute '2f'"
     ]
    }
   ],
   "source": [
    "print('Strings have a `.format()` method for ensuring they print as desired.\\n',\n",
    "      'One can put {} placeholders into a string, and subsequently pass\\n',\n",
    "      'objects into that string in the placholder.')\n",
    "\n",
    "price = 42\n",
    "\n",
    "my_text = 'the price is {}'\n",
    "\n",
    "print(my_text.format(price))\n",
    "\n",
    "print('One can pre-populate the {} with a format to apply')\n",
    "\n",
    "my_text = 'the price is {:.2f}'\n",
    "\n",
    "print(my_text.format(price))"
   ]
  },
  {
   "cell_type": "markdown",
   "metadata": {},
   "source": [
    "### Multiple Values"
   ]
  },
  {
   "cell_type": "code",
   "execution_count": 4,
   "metadata": {},
   "outputs": [
    {
     "name": "stdout",
     "output_type": "stream",
     "text": [
      "Multiple values can be sent into multiple placeholders this way.\n",
      "I want 3 of item number 567 for 42.00 dollars.\n"
     ]
    }
   ],
   "source": [
    "print('Multiple values can be sent into multiple placeholders this way.')\n",
    "\n",
    "quantity = 3\n",
    "item_number = 567\n",
    "price = 42\n",
    "my_order = 'I want {} of item number {} for {:.2f} dollars.'\n",
    "\n",
    "print(my_order.format(quantity, item_number, price))"
   ]
  },
  {
   "cell_type": "markdown",
   "metadata": {},
   "source": [
    "### Index Numbers"
   ]
  },
  {
   "cell_type": "code",
   "execution_count": 6,
   "metadata": {},
   "outputs": [
    {
     "name": "stdout",
     "output_type": "stream",
     "text": [
      "One can use index numbers to specify which placeholders should be used\n",
      "I want 567 of item number 3 for 42.00 dollars.\n",
      "One can even re-use the same index number\n",
      "I want 3 of item number 3 for 42.00 dollars.\n"
     ]
    }
   ],
   "source": [
    "print('One can use index numbers to specify which placeholders should be used')\n",
    "\n",
    "quantity = 3\n",
    "item_number = 567\n",
    "price = 42\n",
    "my_order = 'I want {1} of item number {0} for {2:.2f} dollars.'\n",
    "\n",
    "print(my_order.format(quantity, item_number, price))\n",
    "\n",
    "print('One can even re-use the same index number')\n",
    "\n",
    "my_order = 'I want {0} of item number {0} for {2:.2f} dollars.'\n",
    "\n",
    "print(my_order.format(quantity, item_number, price))"
   ]
  },
  {
   "cell_type": "markdown",
   "metadata": {},
   "source": [
    "### Named Indices"
   ]
  },
  {
   "cell_type": "code",
   "execution_count": 7,
   "metadata": {},
   "outputs": [
    {
     "name": "stdout",
     "output_type": "stream",
     "text": [
      "One can also use named indices\n",
      "I want 3 of item number 567 for 42.00 dollars.\n"
     ]
    }
   ],
   "source": [
    "print('One can also use named indices')\n",
    "\n",
    "quantity = 3\n",
    "item_number = 567\n",
    "price = 42\n",
    "\n",
    "my_order = 'I want {quantity} of item number {item_number} for {price:.2f} dollars.'\n",
    "\n",
    "print(my_order.format(quantity = quantity, item_number= item_number, price = price))"
   ]
  }
 ],
 "metadata": {
  "kernelspec": {
   "display_name": "Python 3",
   "language": "python",
   "name": "python3"
  },
  "language_info": {
   "codemirror_mode": {
    "name": "ipython",
    "version": 3
   },
   "file_extension": ".py",
   "mimetype": "text/x-python",
   "name": "python",
   "nbconvert_exporter": "python",
   "pygments_lexer": "ipython3",
   "version": "3.9.17"
  },
  "orig_nbformat": 4
 },
 "nbformat": 4,
 "nbformat_minor": 2
}
