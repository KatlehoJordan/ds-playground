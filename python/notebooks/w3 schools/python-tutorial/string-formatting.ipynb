{
 "cells": [
  {
   "cell_type": "markdown",
   "metadata": {},
   "source": [
    "# Python Tutorial\n",
    "\n",
    "https://www.w3schools.com/python/"
   ]
  },
  {
   "cell_type": "markdown",
   "metadata": {},
   "source": [
    "## String Formatting"
   ]
  },
  {
   "cell_type": "code",
   "execution_count": 3,
   "metadata": {},
   "outputs": [
    {
     "name": "stdout",
     "output_type": "stream",
     "text": [
      "Strings have a `.format()` method for ensuring they print as desired.\n",
      " One can put {} placeholders into a string, and subsequently pass\n",
      " objects into that string in the placholder.\n",
      "the price is 42\n",
      "One can pre-populate the {} with a format to apply\n"
     ]
    },
    {
     "ename": "AttributeError",
     "evalue": "'int' object has no attribute '2f'",
     "output_type": "error",
     "traceback": [
      "\u001b[0;31m---------------------------------------------------------------------------\u001b[0m",
      "\u001b[0;31mAttributeError\u001b[0m                            Traceback (most recent call last)",
      "Cell \u001b[0;32mIn[3], line 15\u001b[0m\n\u001b[1;32m     11\u001b[0m \u001b[39mprint\u001b[39m(\u001b[39m'\u001b[39m\u001b[39mOne can pre-populate the \u001b[39m\u001b[39m{}\u001b[39;00m\u001b[39m with a format to apply\u001b[39m\u001b[39m'\u001b[39m)\n\u001b[1;32m     13\u001b[0m my_text \u001b[39m=\u001b[39m \u001b[39m'\u001b[39m\u001b[39mthe price is \u001b[39m\u001b[39m{\u001b[39m\u001b[39m.2f}\u001b[39m\u001b[39m'\u001b[39m\n\u001b[0;32m---> 15\u001b[0m \u001b[39mprint\u001b[39m(my_text\u001b[39m.\u001b[39;49mformat(price))\n",
      "\u001b[0;31mAttributeError\u001b[0m: 'int' object has no attribute '2f'"
     ]
    }
   ],
   "source": [
    "print('Strings have a `.format()` method for ensuring they print as desired.\\n',\n",
    "      'One can put {} placeholders into a string, and subsequently pass\\n',\n",
    "      'objects into that string in the placholder.')\n",
    "\n",
    "price = 42\n",
    "\n",
    "my_text = 'the price is {}'\n",
    "\n",
    "print(my_text.format(price))\n",
    "\n",
    "print('One can pre-populate the {} with a format to apply')\n",
    "\n",
    "my_text = 'the price is {:.2f}'\n",
    "\n",
    "print(my_text.format(price))"
   ]
  },
  {
   "cell_type": "markdown",
   "metadata": {},
   "source": [
    "### Multiple Values"
   ]
  },
  {
   "cell_type": "code",
   "execution_count": 4,
   "metadata": {},
   "outputs": [
    {
     "name": "stdout",
     "output_type": "stream",
     "text": [
      "Multiple values can be sent into multiple placeholders this way.\n",
      "I want 3 of item number 567 for 42.00 dollars.\n"
     ]
    }
   ],
   "source": [
    "print('Multiple values can be sent into multiple placeholders this way.')\n",
    "\n",
    "quantity = 3\n",
    "item_number = 567\n",
    "price = 42\n",
    "my_order = 'I want {} of item number {} for {:.2f} dollars.'\n",
    "\n",
    "print(my_order.format(quantity, item_number, price))"
   ]
  },
  {
   "cell_type": "markdown",
   "metadata": {},
   "source": [
    "### Index Numbers"
   ]
  },
  {
   "cell_type": "code",
   "execution_count": 6,
   "metadata": {},
   "outputs": [
    {
     "name": "stdout",
     "output_type": "stream",
     "text": [
      "One can use index numbers to specify which placeholders should be used\n",
      "I want 567 of item number 3 for 42.00 dollars.\n",
      "One can even re-use the same index number\n",
      "I want 3 of item number 3 for 42.00 dollars.\n"
     ]
    }
   ],
   "source": [
    "print('One can use index numbers to specify which placeholders should be used')\n",
    "\n",
    "quantity = 3\n",
    "item_number = 567\n",
    "price = 42\n",
    "my_order = 'I want {1} of item number {0} for {2:.2f} dollars.'\n",
    "\n",
    "print(my_order.format(quantity, item_number, price))\n",
    "\n",
    "print('One can even re-use the same index number')\n",
    "\n",
    "my_order = 'I want {0} of item number {0} for {2:.2f} dollars.'\n",
    "\n",
    "print(my_order.format(quantity, item_number, price))"
   ]
  },
  {
   "cell_type": "markdown",
   "metadata": {},
   "source": [
    "### Named Indices"
   ]
  },
  {
   "cell_type": "code",
   "execution_count": 7,
   "metadata": {},
   "outputs": [
    {
     "name": "stdout",
     "output_type": "stream",
     "text": [
      "One can also use named indices\n",
      "I want 3 of item number 567 for 42.00 dollars.\n"
     ]
    }
   ],
   "source": [
    "print('One can also use named indices')\n",
    "\n",
    "quantity = 3\n",
    "item_number = 567\n",
    "price = 42\n",
    "\n",
    "my_order = 'I want {quantity} of item number {item_number} for {price:.2f} dollars.'\n",
    "\n",
    "print(my_order.format(quantity = quantity, item_number= item_number, price = price))"
   ]
  },
  {
   "cell_type": "markdown",
   "metadata": {},
   "source": [
    "### Emojis\n",
    "\n",
    "https://apps.timwhitlock.info/emoji/tables/unicode"
   ]
  },
  {
   "cell_type": "code",
   "execution_count": 1,
   "metadata": {},
   "outputs": [
    {
     "name": "stdout",
     "output_type": "stream",
     "text": [
      "Emojis can be printed by using their Unicode values. For example,\n",
      "  the smily face is U+1F603. To print this, use the escape character,\n",
      " and convert the `+` to `000`.\n",
      "grinning face with smiling eyes; 😁\n",
      "face with tears of joy; 😂\n",
      "smiling face with open mouth; 😃\n",
      "smiling face with open mouth and smiling eyes; 😄\n",
      "smiling face with open mouth and cold sweat; 😅\n",
      "smiling face with open mouth and tightly-closed eyes; 😆\n",
      "winking face; 😉\n",
      "smiling face with smiling eyes; 😊\n",
      "face savouring delicious food; 😋\n",
      "relieved face; 😌\n",
      "smiling face with heart-shaped eyes; 😍\n",
      "smirking face; 😏\n",
      "unamused face; 😒\n",
      "face with cold sweat; 😓\n",
      "pensive face; 😔\n",
      "confounded face; 😖\n",
      "face throwing a kiss; 😘\n",
      "kissing face with closed eyes; 😚\n",
      "face with stuck-out tongue and winking eye; 😜\n",
      "face with stuck-out tongue and tightly-closed eyes; 😝\n",
      "disappointed face; 😞\n",
      "angry face; 😠\n",
      "pouting face; 😡\n",
      "crying face; 😢\n",
      "persevering face; 😣\n",
      "face with look of triumph; 😤\n",
      "disappointed but relieved face; 😥\n",
      "fearful face; 😨\n",
      "weary face; 😩\n",
      "sleepy face; 😪\n",
      "tired face; 😫\n",
      "loudly crying face; 😭\n",
      "face with open mouth and cold sweat; 😰\n",
      "face screaming in fear; 😱\n",
      "astonished face; 😲\n",
      "flushed face; 😳\n",
      "dizzy face; 😵\n"
     ]
    }
   ],
   "source": [
    "print('Emojis can be printed by using their Unicode values. For example,\\n',\n",
    "      ' the smily face is U+1F603. To print this, use the escape character,\\n',\n",
    "      'and convert the `+` to `000`.')\n",
    "\n",
    "emojis = {\n",
    "   'U+1F601':\t'grinning face with smiling eyes; \\U0001F601',\n",
    "'U+1F602':\t'face with tears of joy; \\U0001F602',\n",
    "'U+1F603':\t'smiling face with open mouth; \\U0001F603',\n",
    "'U+1F604':\t'smiling face with open mouth and smiling eyes; \\U0001F604',\n",
    "'U+1F605':\t'smiling face with open mouth and cold sweat; \\U0001F605',\n",
    "'U+1F606':\t'smiling face with open mouth and tightly-closed eyes; \\U0001F606',\n",
    "'U+1F609':\t'winking face; \\U0001F609',\n",
    "'U+1F60A':\t'smiling face with smiling eyes; \\U0001F60A',\n",
    "'U+1F60B':\t'face savouring delicious food; \\U0001F60B',\n",
    "'U+1F60C':\t'relieved face; \\U0001F60C',\n",
    "'U+1F60D':\t'smiling face with heart-shaped eyes; \\U0001F60D',\n",
    "'U+1F60F':\t'smirking face; \\U0001F60F',\n",
    "'U+1F612':\t'unamused face; \\U0001F612',\n",
    "'U+1F613':\t'face with cold sweat; \\U0001F613',\n",
    "'U+1F614':\t'pensive face; \\U0001F614',\n",
    "'U+1F616':\t'confounded face; \\U0001F616',\n",
    "'U+1F618':\t'face throwing a kiss; \\U0001F618',\n",
    "'U+1F61A':\t'kissing face with closed eyes; \\U0001F61A',\n",
    "'U+1F61C':\t'face with stuck-out tongue and winking eye; \\U0001F61C',\n",
    "'U+1F61D':\t'face with stuck-out tongue and tightly-closed eyes; \\U0001F61D',\n",
    "'U+1F61E':\t'disappointed face; \\U0001F61E',\n",
    "'U+1F620':\t'angry face; \\U0001F620',\n",
    "'U+1F621':\t'pouting face; \\U0001F621',\n",
    "'U+1F622':\t'crying face; \\U0001F622',\n",
    "'U+1F623':\t'persevering face; \\U0001F623',\n",
    "'U+1F624':\t'face with look of triumph; \\U0001F624',\n",
    "'U+1F625':\t'disappointed but relieved face; \\U0001F625',\n",
    "'U+1F628':\t'fearful face; \\U0001F628',\n",
    "'U+1F629':\t'weary face; \\U0001F629',\n",
    "'U+1F62A':\t'sleepy face; \\U0001F62A',\n",
    "'U+1F62B':\t'tired face; \\U0001F62B',\n",
    "'U+1F62D':\t'loudly crying face; \\U0001F62D',\n",
    "'U+1F630':\t'face with open mouth and cold sweat; \\U0001F630',\n",
    "'U+1F631':\t'face screaming in fear; \\U0001F631',\n",
    "'U+1F632':\t'astonished face; \\U0001F632',\n",
    "'U+1F633':\t'flushed face; \\U0001F633',\n",
    "'U+1F635':\t'dizzy face; \\U0001F635' \n",
    "}\n",
    "\n",
    "for key in emojis:\n",
    "    print(emojis[key])"
   ]
  }
 ],
 "metadata": {
  "kernelspec": {
   "display_name": "Python 3",
   "language": "python",
   "name": "python3"
  },
  "language_info": {
   "codemirror_mode": {
    "name": "ipython",
    "version": 3
   },
   "file_extension": ".py",
   "mimetype": "text/x-python",
   "name": "python",
   "nbconvert_exporter": "python",
   "pygments_lexer": "ipython3",
   "version": "3.9.17"
  },
  "orig_nbformat": 4
 },
 "nbformat": 4,
 "nbformat_minor": 2
}
