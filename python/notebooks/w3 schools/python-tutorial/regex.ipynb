{
 "cells": [
  {
   "cell_type": "markdown",
   "metadata": {},
   "source": [
    "# Python Tutorial\n",
    "\n",
    "https://www.w3schools.com/python/"
   ]
  },
  {
   "cell_type": "markdown",
   "metadata": {},
   "source": [
    "## RegEx"
   ]
  },
  {
   "cell_type": "code",
   "execution_count": 3,
   "metadata": {},
   "outputs": [
    {
     "name": "stdout",
     "output_type": "stream",
     "text": [
      "The `re` module is used for handling regular expressions.\n",
      " Use ^ to signify starting string.\n",
      " Use $ to signify ending string.\n",
      " Use . to signify any character.\n",
      " Use * to signify any number of repetitions.\n",
      "<re.Match object; span=(0, 17), match='The rain in Spain'>\n"
     ]
    }
   ],
   "source": [
    "print('The `re` module is used for handling regular expressions.\\n',\n",
    "      'Use ^ to signify starting string.\\n',\n",
    "      'Use $ to signify ending string.\\n',\n",
    "      'Use . to signify any character.\\n',\n",
    "      'Use * to signify any number of repetitions.')\n",
    "\n",
    "import re\n",
    "\n",
    "my_text = 'The rain in Spain'\n",
    "\n",
    "print(re.search('^The.*Spain$', my_text))"
   ]
  },
  {
   "cell_type": "markdown",
   "metadata": {},
   "source": [
    "### RegEx Functions"
   ]
  },
  {
   "cell_type": "code",
   "execution_count": 11,
   "metadata": {},
   "outputs": [
    {
     "name": "stdout",
     "output_type": "stream",
     "text": [
      "There are many functions that can be imported from `re`\n",
      "findall \n",
      "\t Returns a list containing all matches\n",
      "\n",
      "search \n",
      "\t Returns a Match object if there is a match anywhere in the string\n",
      "\n",
      "split \n",
      "\t Returns a list where the string has been split at each match\n",
      "\n",
      "sub \n",
      "\t Replaces one or many matches with a string\n",
      "\n",
      "['a', 'a']\n",
      "<re.Match object; span=(5, 6), match='a'>\n",
      "['The', 'rain', 'in', 'Spain']\n",
      "The_rain_in_Spain\n",
      "And there are even more that are not fully described here:\n",
      "A\n",
      "ASCII\n",
      "DEBUG\n",
      "DOTALL\n",
      "I\n",
      "IGNORECASE\n",
      "L\n",
      "LOCALE\n",
      "M\n",
      "MULTILINE\n",
      "Match\n",
      "Pattern\n",
      "RegexFlag\n",
      "S\n",
      "Scanner\n",
      "T\n",
      "TEMPLATE\n",
      "U\n",
      "UNICODE\n",
      "VERBOSE\n",
      "X\n",
      "_MAXCACHE\n",
      "__all__\n",
      "__builtins__\n",
      "__cached__\n",
      "__doc__\n",
      "__file__\n",
      "__loader__\n",
      "__name__\n",
      "__package__\n",
      "__spec__\n",
      "__version__\n",
      "_cache\n",
      "_compile\n",
      "_compile_repl\n",
      "_expand\n",
      "_locale\n",
      "_pickle\n",
      "_special_chars_map\n",
      "_subx\n",
      "compile\n",
      "copyreg\n",
      "enum\n",
      "error\n",
      "escape\n",
      "findall\n",
      "finditer\n",
      "fullmatch\n",
      "functools\n",
      "match\n",
      "purge\n",
      "search\n",
      "split\n",
      "sre_compile\n",
      "sre_parse\n",
      "sub\n",
      "subn\n",
      "template\n"
     ]
    }
   ],
   "source": [
    "print('There are many functions that can be imported from `re`')\n",
    "\n",
    "import re\n",
    "\n",
    "some_re_functions = {\n",
    "'findall':\t'Returns a list containing all matches',\n",
    "'search':\t'Returns a Match object if there is a match anywhere in the string',\n",
    "'split':\t'Returns a list where the string has been split at each match',\n",
    "'sub':\t'Replaces one or many matches with a string'\n",
    "}\n",
    "\n",
    "for key in some_re_functions:\n",
    "    print(f'{key} \\n\\t {some_re_functions[key]}\\n')\n",
    "\n",
    "my_string = 'The rain in Spain'\n",
    "\n",
    "print(re.findall('a', my_string))\n",
    "print(re.search('a', my_string))\n",
    "print(re.split(' ', my_string))\n",
    "print(re.sub(' ', '_', my_string))\n",
    "\n",
    "print('And there are even more that are not fully described here:')\n",
    "\n",
    "for key in dir(re):\n",
    "    print(key)"
   ]
  },
  {
   "cell_type": "code",
   "execution_count": 46,
   "metadata": {},
   "outputs": [
    {
     "name": "stdout",
     "output_type": "stream",
     "text": [
      "There are many special characters for grabbing specific characters.\n",
      "[] \n",
      "\t A set of characters. For example, \"[a-m]\"\n",
      "\n",
      "\\ \n",
      "\t Signals a special sequence (can also be used to escape special characters). For example, \"\\d\"\n",
      "\n",
      ". \n",
      "\t Any character (except newline character). For example, \"he..o\"\n",
      "\n",
      "^ \n",
      "\t Starts with. For example, \"^hello\"\n",
      "\n",
      "$ \n",
      "\t Ends with. For example, \"planet$\"\n",
      "\n",
      "* \n",
      "\t Zero or more occurrences. For example, \"he.*o\"\n",
      "\n",
      "+ \n",
      "\t One or more occurrences. For example, \"he.+o\"\n",
      "\n",
      "? \n",
      "\t Zero or one occurrences. For example, \"he.?o\"\n",
      "\n",
      "{} \n",
      "\t Exactly the specified number of occurrences. For example, \"he.{2}o\"\n",
      "\n",
      "| \n",
      "\t Either or. For example, \"falls|stays\"\n",
      "\n",
      "() \n",
      "\t Capture and group\n",
      "\n",
      "<re.Match object; span=(2, 3), match='e'>\n",
      "<re.Match object; span=(29, 30), match='.'>\n",
      "Note that if you will use any escape character patterns that are \n",
      " not recognized by python, pylance linting may warn you unless you\n",
      ",preface the string with \"r\" to indicate it should be treated as a \n",
      " \"raw\" string. For example, \"\\.\".\n",
      "<re.Match object; span=(0, 3), match='The'>\n",
      "<re.Match object; span=(0, 3), match='The'>\n",
      "<re.Match object; span=(39, 42), match='by.'>\n",
      "<re.Match object; span=(0, 29), match=\"The rain in Spain; It's plain\">\n",
      "<re.Match object; span=(0, 3), match='The'>\n",
      "<re.Match object; span=(0, 3), match='The'>\n",
      "<re.Match object; span=(36, 38), match='ll'>\n",
      "<re.Match object; span=(31, 32), match='M'>\n",
      "<re.Match object; span=(0, 4), match='The '>\n"
     ]
    }
   ],
   "source": [
    "print('There are many special characters for grabbing specific characters.')\n",
    "\n",
    "special_characters = {\n",
    "    '[]':\t'A set of characters. For example, \"[a-m]\"',\n",
    "    '\\\\':\t'Signals a special sequence (can also be used to escape special characters). For example, \"\\d\"',\n",
    "    '.':\t'Any character (except newline character). For example, \"he..o\"',\n",
    "    '^':\t'Starts with. For example, \"^hello\"',\n",
    "    '$':\t'Ends with. For example, \"planet$\"',\n",
    "    '*':\t'Zero or more occurrences. For example, \"he.*o\"',\n",
    "    '+':\t'One or more occurrences. For example, \"he.+o\"',\n",
    "    '?':\t'Zero or one occurrences. For example, \"he.?o\"',\n",
    "    '{}':\t'Exactly the specified number of occurrences. For example, \"he.{2}o\"',\n",
    "    '|':\t'Either or. For example, \"falls|stays\"',\n",
    "    '()':\t'Capture and group'\n",
    "    }\n",
    "\n",
    "for key in special_characters:\n",
    "    print(f'{key} \\n\\t {special_characters[key]}\\n')\n",
    "    \n",
    "import re\n",
    "\n",
    "my_string = 'The rain in Spain; It\\'s plain. My lullaby.'\n",
    "\n",
    "print(re.search('[b-f]', my_string))\n",
    "print(re.search(r'\\.', my_string))\n",
    "print('Note that if you will use any escape character patterns that are \\n',\n",
    "      'not recognized by python, pylance linting may warn you unless you\\n,'\n",
    "      'preface the string with \"r\" to indicate it should be treated as a \\n',\n",
    "      r'\"raw\" string. For example, \"\\.\".')\n",
    "print(re.search('T.e', my_string))\n",
    "print(re.search('^The', my_string))\n",
    "print(re.search(r'by\\.$', my_string))\n",
    "print(re.search('The.*plain', my_string))\n",
    "print(re.search('T+he', my_string))\n",
    "print(re.search('Tg?he', my_string))\n",
    "print(re.search('l{2}', my_string))\n",
    "print(re.search('N|M', my_string))\n",
    "print(re.search('Th(e )?', my_string))"
   ]
  },
  {
   "cell_type": "markdown",
   "metadata": {},
   "source": [
    "### Special Sequences"
   ]
  },
  {
   "cell_type": "code",
   "execution_count": 61,
   "metadata": {},
   "outputs": [
    {
     "name": "stdout",
     "output_type": "stream",
     "text": [
      "There are many special sequences for grabbing specific characters.\n",
      "\\A \n",
      "\t Returns a match if the specified characters are at the beginning of the string. For example,\t\"\\AThe\"\t\n",
      "\n",
      "\\b \n",
      "\t Returns a match where the specified characters are at the beginning or at the end of a word\\n(the \"r\" in the beginning is making sure that the string is being treated as a \"raw string\"). For example,\tr\"\\bain\" r\"ain\\b\"\n",
      "\n",
      "\\B \n",
      "\t Returns a match where the specified characters are present, but NOT at the beginning (or at the end) of a word\\n(the \"r\" in the beginning is making sure that the string is being treated as a \"raw string\"). For example,\tr\"\\Bain\" r\"ain\\B\"\n",
      "\n",
      "\\d \n",
      "\t Returns a match where the string contains digits (numbers from 0-9). For example,\t\"\\d\"\t\n",
      "\n",
      "\\D \n",
      "\t Returns a match where the string DOES NOT contain digits. For example,\t\"\\D\"\t\n",
      "\n",
      "\\s \n",
      "\t Returns a match where the string contains a white space character. For example,\t\"\\s\"\t\n",
      "\n",
      "\\S \n",
      "\t Returns a match where the string DOES NOT contain a white space character. For example,\t\"\\S\"\t\n",
      "\n",
      "\\w \n",
      "\t Returns a match where the string contains any word characters (characters from a to Z, digits from 0-9, and the underscore _ character). For example,\t\"\\w\"\t\n",
      "\n",
      "\\W \n",
      "\t Returns a match where the string DOES NOT contain any word characters. For example,\t\"\\W\"\t\n",
      "\n",
      "\\Z \n",
      "\t Returns a match if the specified characters are at the end of the string. For example,\t\"Spain\\Z\"\n",
      "\n",
      "<re.Match object; span=(0, 3), match='The'>\n",
      "<re.Match object; span=(0, 3), match='The'>\n",
      "<re.Match object; span=(39, 41), match='by'>\n",
      "Observe that if you use \\b, you will lose the ability to use \n",
      " other special characters if you prepend with r\"\" since the other\n",
      " special sequences will be ignored and treated as raw strings\n",
      " instead. This is because \\b stands for a backspace character in \n",
      " ASCII. Thus, a better practice may just be to use double slash.\n",
      "<re.Match object; span=(5, 8), match='ain'>\n",
      "<re.Match object; span=(4, 7), match='rai'>\n",
      "<re.Match object; span=(4, 5), match='2'>\n",
      "<re.Match object; span=(0, 1), match='T'>\n",
      "<re.Match object; span=(3, 4), match=' '>\n",
      "<re.Match object; span=(0, 1), match='o'>\n",
      "<re.Match object; span=(0, 1), match='T'>\n",
      "<re.Match object; span=(0, 1), match='*'>\n",
      "<re.Match object; span=(40, 41), match='y'>\n"
     ]
    }
   ],
   "source": [
    "print('There are many special sequences for grabbing specific characters.')\n",
    "\n",
    "special_sequences = {\n",
    "r'\\A':\tr'Returns a match if the specified characters are at the beginning of the string. For example,\t\"\\AThe\"\t',\n",
    "r'\\b':\tr'Returns a match where the specified characters are at the beginning or at the end of a word\\n(the \"r\" in the beginning is making sure that the string is being treated as a \"raw string\"). For example,\tr\"\\bain\" r\"ain\\b\"',\n",
    "r'\\B':\tr'Returns a match where the specified characters are present, but NOT at the beginning (or at the end) of a word\\n(the \"r\" in the beginning is making sure that the string is being treated as a \"raw string\"). For example,\tr\"\\Bain\" r\"ain\\B\"',\n",
    "r'\\d':\tr'Returns a match where the string contains digits (numbers from 0-9). For example,\t\"\\d\"\t',\n",
    "r'\\D':\tr'Returns a match where the string DOES NOT contain digits. For example,\t\"\\D\"\t',\n",
    "r'\\s':\tr'Returns a match where the string contains a white space character. For example,\t\"\\s\"\t',\n",
    "r'\\S':\tr'Returns a match where the string DOES NOT contain a white space character. For example,\t\"\\S\"\t',\n",
    "r'\\w':\tr'Returns a match where the string contains any word characters (characters from a to Z, digits from 0-9, and the underscore _ character). For example,\t\"\\w\"\t',\n",
    "r'\\W':\tr'Returns a match where the string DOES NOT contain any word characters. For example,\t\"\\W\"\t',\n",
    "r'\\Z':\tr'Returns a match if the specified characters are at the end of the string. For example,\t\"Spain\\Z\"'\n",
    "    }\n",
    "\n",
    "for key in special_sequences:\n",
    "    print(f'{key} \\n\\t {special_sequences[key]}\\n')\n",
    "    \n",
    "import re\n",
    "\n",
    "my_string = 'The rain in Spain; It\\'s plain. My lullaby'\n",
    "my_other_string = 'one,2,three,4'\n",
    "my_wordless_string = '*(#*)(@^((*@)))'\n",
    "\n",
    "print(re.search(r'\\AThe', my_string))\n",
    "print(re.search(r'\\bThe', my_string))\n",
    "print(re.search('by\\\\b', my_string))\n",
    "print(r'Observe that if you use \\b, you will lose the ability to use', '\\n',\n",
    "      'other special characters if you prepend with r\"\" since the other\\n',\n",
    "      'special sequences will be ignored and treated as raw strings\\n',\n",
    "      r'instead. This is because \\b stands for a backspace character in', '\\n',\n",
    "      'ASCII. Thus, a better practice may just be to use double slash.')\n",
    "print(re.search('\\\\Bain', my_string))\n",
    "print(re.search('rai\\\\B', my_string))\n",
    "print(re.search('\\\\d', my_other_string))\n",
    "print(re.search('\\\\D', my_string))\n",
    "print(re.search('\\\\s', my_string))\n",
    "print(re.search('\\\\S', my_other_string))\n",
    "print(re.search('\\\\w', my_string))\n",
    "print(re.search('\\\\W', my_wordless_string))\n",
    "print(re.search('y\\\\Z', my_string))"
   ]
  },
  {
   "cell_type": "markdown",
   "metadata": {},
   "source": [
    "### Sets"
   ]
  },
  {
   "cell_type": "code",
   "execution_count": 74,
   "metadata": {},
   "outputs": [
    {
     "name": "stdout",
     "output_type": "stream",
     "text": [
      "There are many special sets for grabbing specific characters.\n",
      "[arn] \n",
      "\t Returns a match where one of the specified characters (a, r, or n) is present\t\n",
      "\n",
      "[a-n] \n",
      "\t Returns a match for any lower case character, alphabetically between a and n\t\n",
      "\n",
      "[^arn] \n",
      "\t Returns a match for any character EXCEPT a, r, and n\t\n",
      "\n",
      "[0123] \n",
      "\t Returns a match where any of the specified digits (0, 1, 2, or 3) are present\t\n",
      "\n",
      "[0-9] \n",
      "\t Returns a match for any digit between 0 and 9\t\n",
      "\n",
      "[0-5][0-9] \n",
      "\t Returns a match for any two-digit numbers from 00 and 59\t\n",
      "\n",
      "[a-zA-Z] \n",
      "\t Returns a match for any character alphabetically between a and z, lower case OR upper case\n",
      "\n",
      "[+] \n",
      "\t In sets, +, *, ., |, (), $,{} has no special meaning, so [+] means: return a match for any + character in the string\n",
      "\n",
      "<re.Match object; span=(5, 6), match='a'>\n",
      "<re.Match object; span=(5, 6), match='a'>\n",
      "<re.Match object; span=(0, 1), match='T'>\n",
      "<re.Match object; span=(4, 5), match='2'>\n",
      "<re.Match object; span=(4, 5), match='2'>\n",
      "<re.Match object; span=(14, 16), match='75'>\n",
      "<re.Match object; span=(31, 32), match='M'>\n",
      "<re.Match object; span=(29, 30), match='.'>\n"
     ]
    }
   ],
   "source": [
    "print('There are many special sets for grabbing specific characters.')\n",
    "\n",
    "special_sets = {\n",
    "'[arn]':\t'Returns a match where one of the specified characters (a, r, or n) is present\t',\n",
    "'[a-n]':\t'Returns a match for any lower case character, alphabetically between a and n\t',\n",
    "'[^arn]':\t'Returns a match for any character EXCEPT a, r, and n\t',\n",
    "'[0123]':\t'Returns a match where any of the specified digits (0, 1, 2, or 3) are present\t',\n",
    "'[0-9]':\t'Returns a match for any digit between 0 and 9\t',\n",
    "'[0-5][0-9]':\t'Returns a match for any two-digit numbers from 00 and 59\t',\n",
    "'[a-zA-Z]':\t'Returns a match for any character alphabetically between a and z, lower case OR upper case',\n",
    "'[+]':\t'In sets, +, *, ., |, (), $,{} has no special meaning, so [+] means: return a match for any + character in the string'\n",
    "    }\n",
    "\n",
    "for key in special_sets:\n",
    "    print(f'{key} \\n\\t {special_sets[key]}\\n')\n",
    "    \n",
    "import re\n",
    "\n",
    "my_string = 'The rain in Spain; It\\'s plain. My lullaby'\n",
    "my_other_string = 'one,2,three,4,75'\n",
    "my_wordless_string = '*(#*)(@^((*@)))'\n",
    "\n",
    "print(re.search('[a]', my_string))\n",
    "print(re.search('[a-c]', my_string))\n",
    "print(re.search('[^qxc]', my_string))\n",
    "print(re.search('[23]', my_other_string))\n",
    "print(re.search('[0-9]', my_other_string))\n",
    "print(re.search('[7-8][5-6]', my_other_string))\n",
    "print(re.search('[b-dL-N]', my_string))\n",
    "print(re.search('[.]', my_string))"
   ]
  },
  {
   "cell_type": "markdown",
   "metadata": {},
   "source": [
    "### The `findall()` function"
   ]
  },
  {
   "cell_type": "code",
   "execution_count": 76,
   "metadata": {},
   "outputs": [
    {
     "name": "stdout",
     "output_type": "stream",
     "text": [
      "The `findall()` function returns all matches. It returns an empty\n",
      " list when there are no matches\n",
      "['ai', 'ai', 'ai']\n",
      "[]\n"
     ]
    }
   ],
   "source": [
    "print('The `findall()` function returns all matches. It returns an empty\\n',\n",
    "      'list when there are no matches')\n",
    "\n",
    "import re\n",
    "\n",
    "my_string = 'The rain in Spain; it\\'s  plain.'\n",
    "\n",
    "print(re.findall('ai', my_string))\n",
    "print(re.findall('xyz', my_string))"
   ]
  },
  {
   "cell_type": "markdown",
   "metadata": {},
   "source": [
    "### The `search()` function"
   ]
  },
  {
   "cell_type": "code",
   "execution_count": 87,
   "metadata": {},
   "outputs": [
    {
     "name": "stdout",
     "output_type": "stream",
     "text": [
      "The `search()` function searches a string for a match, returning a \n",
      " `Match` object when there is.\n",
      "<re.Match object; span=(5, 8), match='ain'>\n",
      "None\n"
     ]
    }
   ],
   "source": [
    "print('The `search()` function searches a string for a match, returning a \\n',\n",
    "      '`Match` object when there is.')\n",
    "\n",
    "import re\n",
    "\n",
    "my_string = 'The rain in Spain; it\\'s  plain.'\n",
    "\n",
    "print(re.search('ain', my_string))\n",
    "print(re.search('xyz', my_string))"
   ]
  },
  {
   "cell_type": "markdown",
   "metadata": {},
   "source": [
    "### The `split()` Function"
   ]
  },
  {
   "cell_type": "code",
   "execution_count": 84,
   "metadata": {},
   "outputs": [
    {
     "name": "stdout",
     "output_type": "stream",
     "text": [
      "The split function returns a list where the string has been split\n",
      "The `maxsplit` parameter can be used to dictate how many splits\n"
     ]
    },
    {
     "data": {
      "text/plain": [
       "['The', 'rain', 'in', \"Spain; it's  plain.\"]"
      ]
     },
     "execution_count": 84,
     "metadata": {},
     "output_type": "execute_result"
    }
   ],
   "source": [
    "print('The split function returns a list where the string has been split')\n",
    "\n",
    "import re\n",
    "\n",
    "my_string = 'The rain in Spain; it\\'s  plain.'\n",
    "\n",
    "re.split(' ', my_string)\n",
    "\n",
    "print('The `maxsplit` parameter can be used to dictate how many splits')\n",
    "\n",
    "re.split(' ', my_string, 3)"
   ]
  },
  {
   "cell_type": "markdown",
   "metadata": {},
   "source": [
    "### The `sub()` Function"
   ]
  },
  {
   "cell_type": "code",
   "execution_count": 86,
   "metadata": {},
   "outputs": [
    {
     "name": "stdout",
     "output_type": "stream",
     "text": [
      "The `sub()` function can substitute strings.\n",
      "The `count` parameter can dictate how many substitutions to make\n"
     ]
    },
    {
     "data": {
      "text/plain": [
       "\"The_rain_in_Spain;_it's_ plain.\""
      ]
     },
     "execution_count": 86,
     "metadata": {},
     "output_type": "execute_result"
    }
   ],
   "source": [
    "print('The `sub()` function can substitute strings.')\n",
    "\n",
    "import re\n",
    "\n",
    "my_string = 'The rain in Spain; it\\'s  plain.'\n",
    "\n",
    "re.sub(' ', '_', my_string)\n",
    "\n",
    "print('The `count` parameter can dictate how many substitutions to make')\n",
    "\n",
    "re.sub(' ', '_', my_string, count = 5)"
   ]
  },
  {
   "cell_type": "markdown",
   "metadata": {},
   "source": [
    "### Match Object"
   ]
  },
  {
   "cell_type": "code",
   "execution_count": 95,
   "metadata": {},
   "outputs": [
    {
     "name": "stdout",
     "output_type": "stream",
     "text": [
      "The `search()` function searches a string for a match, returning a \n",
      " `Match` object when there is.\n",
      "<re.Match object; span=(5, 8), match='ain'>\n",
      "<class 're.Match'>\n",
      "The methods for a match object are:\n",
      "__class__\n",
      "__class_getitem__\n",
      "__copy__\n",
      "__deepcopy__\n",
      "__delattr__\n",
      "__dir__\n",
      "__doc__\n",
      "__eq__\n",
      "__format__\n",
      "__ge__\n",
      "__getattribute__\n",
      "__getitem__\n",
      "__gt__\n",
      "__hash__\n",
      "__init__\n",
      "__init_subclass__\n",
      "__le__\n",
      "__lt__\n",
      "__ne__\n",
      "__new__\n",
      "__reduce__\n",
      "__reduce_ex__\n",
      "__repr__\n",
      "__setattr__\n",
      "__sizeof__\n",
      "__str__\n",
      "__subclasshook__\n",
      "end\n",
      "endpos\n",
      "expand\n",
      "group\n",
      "groupdict\n",
      "groups\n",
      "lastgroup\n",
      "lastindex\n",
      "pos\n",
      "re\n",
      "regs\n",
      "span\n",
      "start\n",
      "string\n",
      "To get the docstrings from a method, use `__doc__`. For example:\n",
      "Return index of the start of the substring matched by group.\n",
      "`span()` and `.group()` are useful methods of a `Match` object, \n",
      " while `string` is a useful attribute.\n",
      "For match object m, return the 2-tuple (m.start(group), m.end(group)).\n",
      "(5, 8)\n",
      "group([group1, ...]) -> str or tuple.\n",
      "    Return subgroup(s) of the match by indices or names.\n",
      "    For 0 returns the entire match.\n",
      "ain\n",
      "str(object='') -> str\n",
      "str(bytes_or_buffer[, encoding[, errors]]) -> str\n",
      "\n",
      "Create a new string object from the given object. If encoding or\n",
      "errors is specified, then the object must expose a data buffer\n",
      "that will be decoded using the given encoding and error handler.\n",
      "Otherwise, returns the result of object.__str__() (if defined)\n",
      "or repr(object).\n",
      "encoding defaults to sys.getdefaultencoding().\n",
      "errors defaults to 'strict'.\n",
      "The rain in Spain; it's  plain.\n"
     ]
    }
   ],
   "source": [
    "\n",
    "print('The `search()` function searches a string for a match, returning a \\n',\n",
    "      '`Match` object when there is.')\n",
    "\n",
    "import re\n",
    "\n",
    "my_string = 'The rain in Spain; it\\'s  plain.'\n",
    "\n",
    "my_match = re.search('ain', my_string)\n",
    "\n",
    "print(my_match)\n",
    "\n",
    "print(type(my_match))\n",
    "\n",
    "print('The methods for a match object are:')\n",
    "\n",
    "for key in dir(my_match):\n",
    "    print(key)\n",
    "\n",
    "print('To get the docstrings from a method, use `__doc__`. For example:')\n",
    "print(my_match.start.__doc__)\n",
    "\n",
    "print('`span()` and `.group()` are useful methods of a `Match` object, \\n',\n",
    "      'while `string` is a useful attribute.')\n",
    "\n",
    "print('`.span()` will make a tuple telling you the indices for the match')\n",
    "\n",
    "print(my_match.span.__doc__)\n",
    "\n",
    "print(my_match.span())\n",
    "\n",
    "print('`.group()` will make a string of the match')\n",
    "\n",
    "print(my_match.group.__doc__)\n",
    "\n",
    "print(my_match.group())\n",
    "\n",
    "print('`.string` will make a string of the originally queried item')\n",
    "\n",
    "print(my_match.string.__doc__)\n",
    "\n",
    "print(my_match.string)\n",
    "\n",
    "print('Observe that since `Match` objects can be of type `None`, pylance \\n',\n",
    "      'linter will complain that `None` types do not have the\\n',\n",
    "      'methods or attributes you might try to access.')"
   ]
  }
 ],
 "metadata": {
  "kernelspec": {
   "display_name": "Python 3",
   "language": "python",
   "name": "python3"
  },
  "language_info": {
   "codemirror_mode": {
    "name": "ipython",
    "version": 3
   },
   "file_extension": ".py",
   "mimetype": "text/x-python",
   "name": "python",
   "nbconvert_exporter": "python",
   "pygments_lexer": "ipython3",
   "version": "3.9.17"
  },
  "orig_nbformat": 4
 },
 "nbformat": 4,
 "nbformat_minor": 2
}
