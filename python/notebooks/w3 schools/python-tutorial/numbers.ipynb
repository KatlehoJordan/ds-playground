{
 "cells": [
  {
   "cell_type": "markdown",
   "metadata": {},
   "source": [
    "# Python Tutorial\n",
    "\n",
    "https://www.w3schools.com/python/"
   ]
  },
  {
   "cell_type": "markdown",
   "metadata": {},
   "source": [
    "## Numbers"
   ]
  },
  {
   "cell_type": "code",
   "execution_count": 31,
   "metadata": {},
   "outputs": [
    {
     "name": "stdout",
     "output_type": "stream",
     "text": [
      "x is 1 and <class 'int'>\n",
      "y is 2.8 and <class 'float'>\n",
      "z is 1j and <class 'complex'>\n",
      "Int are integers.\n",
      "x is 1 and <class 'int'>\n",
      "y is 83923984719 and <class 'int'>\n",
      "z is -389130894 and <class 'int'>\n",
      "Float is a floating point number (number with a decimal). Float can also be 'scientific' numbers with e to indicate to the power of 10.\n",
      "x is 1.1 and <class 'float'>\n",
      "y is 1.0 and <class 'float'>\n",
      "z is -35.59 and <class 'float'>\n",
      "x is 35000.0 and <class 'float'>\n",
      "y is 120000.0 and <class 'float'>\n",
      "z is -0.877 and <class 'float'>\n",
      "Complex are written with `j` to indicate the imaginary part.\n",
      "x is (3+5j) and <class 'complex'>\n",
      "y is 5j and <class 'complex'>\n",
      "z is (-0-5j) and <class 'complex'>\n",
      "Use the constructor functions to recast numeric types.\n",
      "x is 1 and <class 'int'>\n",
      "y is 2.8 and <class 'float'>\n",
      "z is 1j and <class 'complex'>\n",
      "a is 1.0 and <class 'float'>\n",
      "Casting a float to int uses floor rounding.\n",
      "b is 2 and <class 'int'>\n",
      "b2 is 3 and <class 'int'>\n",
      "c is (1+0j) and <class 'complex'>\n"
     ]
    }
   ],
   "source": [
    "x = int(1)\n",
    "y = float(2.8)\n",
    "z = complex(1j)\n",
    "\n",
    "print(f'x is {x} and {type(x)}')\n",
    "print(f'y is {y} and {type(y)}')\n",
    "print(f'z is {z} and {type(z)}')\n",
    "\n",
    "print(\"Int are integers.\")\n",
    "\n",
    "x = 1\n",
    "y = 83923984719\n",
    "z = -389130894\n",
    "\n",
    "print(f'x is {x} and {type(x)}')\n",
    "print(f'y is {y} and {type(y)}')\n",
    "print(f'z is {z} and {type(z)}')\n",
    "\n",
    "print(\"Float is a floating point number (number with a\",\n",
    "      \"decimal). Float can also be 'scientific' numbers with e to indicate\",\n",
    "      'to the power of 10.')\n",
    "\n",
    "x = 1.10\n",
    "y = 1.0\n",
    "z = -35.59\n",
    "\n",
    "print(f'x is {x} and {type(x)}')\n",
    "print(f'y is {y} and {type(y)}')\n",
    "print(f'z is {z} and {type(z)}')\n",
    "\n",
    "x = 35e3\n",
    "y = 12E4\n",
    "z = -87.7e-2\n",
    "\n",
    "print(f'x is {x} and {type(x)}')\n",
    "print(f'y is {y} and {type(y)}')\n",
    "print(f'z is {z} and {type(z)}')\n",
    "\n",
    "print('Complex are written with `j` to indicate the imaginary part.')\n",
    "\n",
    "x = 3 + 5j\n",
    "y = 5j\n",
    "z = -5j\n",
    "\n",
    "print(f'x is {x} and {type(x)}')\n",
    "print(f'y is {y} and {type(y)}')\n",
    "print(f'z is {z} and {type(z)}')\n",
    "\n",
    "print('Use the constructor functions to recast numeric types.')\n",
    "\n",
    "x = 1\n",
    "y = 2.8\n",
    "y2 = 3.8\n",
    "z = 1j\n",
    "\n",
    "print(f'x is {x} and {type(x)}')\n",
    "print(f'y is {y} and {type(y)}')\n",
    "print(f'z is {z} and {type(z)}')\n",
    "\n",
    "a = float(x)\n",
    "print(f'a is {a} and {type(a)}')\n",
    "\n",
    "print('Casting a float to int uses floor rounding.')\n",
    "b = int(y)\n",
    "print(f'b is {b} and {type(b)}')\n",
    "b2 = int(y2)\n",
    "print(f'b2 is {b2} and {type(b2)}')\n",
    "\n",
    "c = complex(x)\n",
    "print(f'c is {c} and {type(c)}')\n",
    "\n",
    "print('Complex numbers cannot be converted to other types.')"
   ]
  },
  {
   "cell_type": "markdown",
   "metadata": {},
   "source": [
    "### Random Number"
   ]
  },
  {
   "cell_type": "code",
   "execution_count": 42,
   "metadata": {},
   "outputs": [
    {
     "name": "stdout",
     "output_type": "stream",
     "text": [
      "Import the built-in module, `random` to get random integers.\n",
      "`random.randrange` will pull one sample from a range you define, non-inclusive of the top-end of the defined range.\n",
      "1\n",
      "100\n",
      "13\n"
     ]
    }
   ],
   "source": [
    "import random\n",
    "\n",
    "print('Import the built-in module, `random` to get random integers.')\n",
    "\n",
    "print('`random.randrange` will pull one sample from a range you define,',\n",
    "      'non-inclusive of the top-end of the defined range.')\n",
    "x = random.randrange(1, 2)\n",
    "\n",
    "print(x)\n",
    "\n",
    "x = random.randrange(100, 101)\n",
    "\n",
    "print(x)\n",
    "\n",
    "x = random.randrange(2, 20)\n",
    "\n",
    "print(x)"
   ]
  }
 ],
 "metadata": {
  "kernelspec": {
   "display_name": "Python 3",
   "language": "python",
   "name": "python3"
  },
  "language_info": {
   "codemirror_mode": {
    "name": "ipython",
    "version": 3
   },
   "file_extension": ".py",
   "mimetype": "text/x-python",
   "name": "python",
   "nbconvert_exporter": "python",
   "pygments_lexer": "ipython3",
   "version": "3.9.17"
  },
  "orig_nbformat": 4
 },
 "nbformat": 4,
 "nbformat_minor": 2
}
