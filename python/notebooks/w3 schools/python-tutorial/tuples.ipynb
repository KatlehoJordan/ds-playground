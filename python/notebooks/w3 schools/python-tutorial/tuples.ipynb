{
 "cells": [
  {
   "cell_type": "markdown",
   "metadata": {},
   "source": [
    "# Python Tutorial\n",
    "\n",
    "https://www.w3schools.com/python/"
   ]
  },
  {
   "cell_type": "markdown",
   "metadata": {},
   "source": [
    "## Tuples"
   ]
  },
  {
   "cell_type": "code",
   "execution_count": 6,
   "metadata": {},
   "outputs": [
    {
     "name": "stdout",
     "output_type": "stream",
     "text": [
      "A tuple is ordered, immutable, and can take duplicate values.\n",
      "x is of type <class 'tuple'> and contains ('apple', 'banana', 'cherry')\n",
      "The `len` function works on tuples\n",
      "The length of x is 3\n",
      "A tuple cannot be initiated with a single item if a comma is not used\n",
      "x is of type <class 'str'> and contains one item\n",
      "x is of type <class 'tuple'> and contains ('one item',)\n",
      "Like a list, a tuple can have any data type and even mixed types\n",
      "x is of type <class 'tuple'> and contains (1, True, 'one')\n",
      "The constructor function `tuple` can also be used, with double \n",
      " brackets.\n",
      "x is of type <class 'tuple'> and contains ('a',)\n"
     ]
    }
   ],
   "source": [
    "print('A tuple is ordered, immutable, and can take duplicate values.')\n",
    "\n",
    "x = ('apple', 'banana', 'cherry')\n",
    "\n",
    "print(f'x is of type {type(x)} and contains {x}')\n",
    "\n",
    "print('The `len` function works on tuples')\n",
    "\n",
    "print(f'The length of x is {len(x)}')\n",
    "\n",
    "print('A tuple cannot be initiated with a single item if a comma is not used')\n",
    "\n",
    "x = ('one item')\n",
    "\n",
    "print(f'x is of type {type(x)} and contains {x}')\n",
    "\n",
    "x = ('one item',)\n",
    "\n",
    "print(f'x is of type {type(x)} and contains {x}')\n",
    "\n",
    "print('Like a list, a tuple can have any data type and even mixed types')\n",
    "\n",
    "x = (1, True, 'one')\n",
    "\n",
    "print(f'x is of type {type(x)} and contains {x}')\n",
    "\n",
    "print('The constructor function `tuple` can also be used, with double \\n',\n",
    "      'brackets. In this case, even a single-item tuple can be made.')\n",
    "\n",
    "x = tuple(('a'))\n",
    "\n",
    "print(f'x is of type {type(x)} and contains {x}')"
   ]
  },
  {
   "cell_type": "markdown",
   "metadata": {},
   "source": [
    "### Access Tuple Items"
   ]
  },
  {
   "cell_type": "code",
   "execution_count": 3,
   "metadata": {},
   "outputs": [
    {
     "name": "stdout",
     "output_type": "stream",
     "text": [
      "Accessing tuple items is the same as accessing list items.\n",
      "The 0th item of x is 1\n",
      "The ~0th item of x is one\n",
      "Checking if an item is `in` a tuple is the same as for a list.\n",
      "\"one\" is in x\n",
      "\"one\" is not in x\n"
     ]
    }
   ],
   "source": [
    "print('Accessing tuple items is the same as accessing list items.')\n",
    "\n",
    "x = (1, True, 'one')\n",
    "print(f'The 0th item of x is {x[0]}')\n",
    "print(f'The ~0th item of x is {x[~0]}')\n",
    "\n",
    "print('Checking if an item is `in` a tuple is the same as for a list.')\n",
    "\n",
    "def check_if_one_in_tuple(x):\n",
    "    if 'one' in x:\n",
    "        print('\"one\" is in x')\n",
    "    else:\n",
    "        print('\"one\" is not in x')\n",
    "        \n",
    "check_if_one_in_tuple(x)\n",
    "\n",
    "x = (1, True)\n",
    "\n",
    "check_if_one_in_tuple(x)"
   ]
  },
  {
   "cell_type": "markdown",
   "metadata": {},
   "source": [
    "### Update Tuples"
   ]
  },
  {
   "cell_type": "code",
   "execution_count": 11,
   "metadata": {},
   "outputs": [
    {
     "name": "stdout",
     "output_type": "stream",
     "text": [
      "Because tuples are immutable, they cannot be changed. If you must, \n",
      " the workaround is to create a list from the tuple, modify the list,\n",
      " then save the list as a new tuple that uses the same original var \n",
      " name. A good linter will flag you if you do this, as it defeats \n",
      " the purpose of using a tuple.\n",
      "('apple',)\n",
      "['apple']\n",
      "['apple', 'banana']\n",
      "('apple', 'banana')\n",
      "There is no `.append()` method for tuples. However, tuples can be \n",
      " added to tuples with the `+` operator.\n",
      "('apple', 'banana', 'orange')\n",
      "Likewise, items cannot be removed from tuples. Rather, they must be \n",
      " converted to lists first. This is ill-advised.\n"
     ]
    }
   ],
   "source": [
    "print('Because tuples are immutable, they cannot be changed. If you must, \\n',\n",
    "      'the workaround is to create a list from the tuple, modify the list,\\n',\n",
    "      'then save the list as a new tuple that uses the same original var \\n',\n",
    "       'name. A good linter will flag you if you do this, as it defeats \\n',\n",
    "       'the purpose of using a tuple.')\n",
    "\n",
    "x = ('apple',)\n",
    "print(x)\n",
    "y = list(x)\n",
    "print(y)\n",
    "y.append('banana')\n",
    "print(y)\n",
    "x = tuple(y)\n",
    "print(x)\n",
    "\n",
    "\n",
    "print('There is no `.append()` method for tuples. However, tuples can be \\n',\n",
    "      'added to tuples with the `+` operator.')\n",
    "\n",
    "x += tuple(('orange',))\n",
    "print(x)\n",
    "\n",
    "print('Likewise, items cannot be removed from tuples. Rather, they must be \\n',\n",
    "      'converted to lists first. This is ill-advised.')"
   ]
  },
  {
   "cell_type": "markdown",
   "metadata": {},
   "source": [
    "### Unpack Tuples"
   ]
  },
  {
   "cell_type": "code",
   "execution_count": 15,
   "metadata": {},
   "outputs": [
    {
     "name": "stdout",
     "output_type": "stream",
     "text": [
      "When creating a collection, we are \"packing\" it. Thus, when taking \n",
      " items out, we are unpacking it. Recall that items can be unpacked \n",
      " directly into new variables.\n",
      "apple\n",
      "banana\n",
      "cherry\n",
      "If you are unpacking more items than the new variables you are \n",
      " assigning to, use an asterisk * to indicate to unpack as a list.\n",
      "apple\n",
      "banana\n",
      "['cherry', 'strawberry', 'raspberry']\n",
      "If the variable that gets the asterisk is not the final, then \n",
      " python will unpack into the starred variable until the remaining \n",
      " elements match the remaining variables to assign to.\n",
      "apple\n",
      "['mango', 'papaya', 'pineapple']\n",
      "cherry\n"
     ]
    }
   ],
   "source": [
    "print('When creating a collection, we are \"packing\" it. Thus, when taking \\n',\n",
    "      'items out, we are unpacking it. Recall that items can be unpacked \\n',\n",
    "      'directly into new variables.')\n",
    "\n",
    "x = ('apple', 'banana', 'cherry')\n",
    "green, yellow, red = x\n",
    "print(green)\n",
    "print(yellow)\n",
    "print(red)\n",
    "\n",
    "print('If you are unpacking more items than the new variables you are \\n',\n",
    "      'assigning to, use an asterisk * to indicate to unpack as a list.')\n",
    "\n",
    "x = ('apple', 'banana', 'cherry', 'strawberry', 'raspberry')\n",
    "green, yellow, *red = x\n",
    "print(green)\n",
    "print(yellow)\n",
    "print(red)\n",
    "\n",
    "print('If the variable that gets the asterisk is not the final, then \\n',\n",
    "      'python will unpack into the starred variable until the remaining \\n',\n",
    "      'elements match the remaining variables to assign to.')\n",
    "\n",
    "x = ('apple', 'mango', 'papaya', 'pineapple', 'cherry')\n",
    "green, *tropic, red = x\n",
    "print(green)\n",
    "print(tropic)\n",
    "print(red)"
   ]
  },
  {
   "cell_type": "markdown",
   "metadata": {},
   "source": [
    "### Loop Tuples"
   ]
  },
  {
   "cell_type": "code",
   "execution_count": null,
   "metadata": {},
   "outputs": [
    {
     "name": "stdout",
     "output_type": "stream",
     "text": [
      "Tuples can be looped through like lists.\n",
      "apple\n",
      "banana\n",
      "cherry\n",
      "To loop through by index, create a range of indices first.\n",
      "apple\n",
      "banana\n",
      "cherry\n"
     ]
    }
   ],
   "source": [
    "print('Tuples can be looped through like lists.')\n",
    "\n",
    "x = ('apple', 'banana', 'cherry')\n",
    "for fruit in x:\n",
    "    print(fruit)\n",
    "\n",
    "print('To loop through by index, create a range of indices first.')\n",
    "\n",
    "for index in range(len(x)):\n",
    "    print(x[index])\n",
    "\n",
    "print('Recall that to use a `while` loop, one could initiate a counter, \\n',\n",
    "      'then do some action, and finally increment the iterator until it is \\n',\n",
    "      'as large as the length of the tuple. This is not advised.')"
   ]
  },
  {
   "cell_type": "markdown",
   "metadata": {},
   "source": [
    "### Join Tuples"
   ]
  },
  {
   "cell_type": "code",
   "execution_count": 25,
   "metadata": {},
   "outputs": [
    {
     "name": "stdout",
     "output_type": "stream",
     "text": [
      "As seen earlier, tuples can be joined with the `+` operator.\n",
      "('a', 'b', 'c')\n",
      "(1, 2, 3)\n",
      "('a', 'b', 'c', 1, 2, 3)\n",
      "One can multiply a tuple also - this will create a new tuple\n",
      "('a', 'b', 'c', 'a', 'b', 'c')\n",
      "Tuples cannot be multiplied by other tuples.\n",
      "Tuple methods include ('count', 'index')\n",
      "`count` counts the number of times a named item appears in the tuple\n",
      "`index` searches the tuple for the vale and returns the first index\n",
      "\"a\" appears in x 4 times\n",
      "\"a\" appears in x first at this index: 0\n",
      "\"b\" appears in x first at this index: 3\n"
     ]
    }
   ],
   "source": [
    "print('As seen earlier, tuples can be joined with the `+` operator.')\n",
    "x = ('a', 'b', 'c',)\n",
    "y = (1, 2, 3,)\n",
    "\n",
    "z = x + y\n",
    "print(x)\n",
    "print(y)\n",
    "print(z)\n",
    "\n",
    "print('One can multiply a tuple also - this will create a new tuple')\n",
    "\n",
    "print(f'{x * 2}')\n",
    "\n",
    "print('Tuples cannot be multiplied by other tuples.')\n",
    "\n",
    "tuple_methods = ('count', 'index',)\n",
    "print(f'Tuple methods include {tuple_methods}')\n",
    "\n",
    "print('`count` counts the number of times a named item appears in the tuple')\n",
    "print('`index` searches the tuple for the vale and returns the first index')\n",
    "x = ('a', 'a', 'a', 'b', 'a')\n",
    "print(f'\"a\" appears in x {x.count(\"a\")} times')\n",
    "print(f'\"a\" appears in x first at this index: {x.index(\"a\")}')\n",
    "print(f'\"b\" appears in x first at this index: {x.index(\"b\")}')"
   ]
  },
  {
   "cell_type": "code",
   "execution_count": 1,
   "metadata": {},
   "outputs": [
    {
     "name": "stdout",
     "output_type": "stream",
     "text": [
      "Python has many built-in tuple methods\n",
      "count() \n",
      "\t Returns the number of times a specified value occurs in a tuple\n",
      "\n",
      "index() \n",
      "\t Searches the tuple for a specified value and returns the position of where it was found\n",
      "\n"
     ]
    }
   ],
   "source": [
    "print('Python has many built-in tuple methods')\n",
    "\n",
    "described_tuple_methods = {\n",
    "'count()':\t'Returns the number of times a specified value occurs in a tuple',\n",
    "'index()':\t'Searches the tuple for a specified value and returns the position of where it was found'\n",
    "}\n",
    "\n",
    "for key in described_tuple_methods:\n",
    "    print(f'{key} \\n\\t {described_tuple_methods[key]}\\n')"
   ]
  }
 ],
 "metadata": {
  "kernelspec": {
   "display_name": "Python 3",
   "language": "python",
   "name": "python3"
  },
  "language_info": {
   "codemirror_mode": {
    "name": "ipython",
    "version": 3
   },
   "file_extension": ".py",
   "mimetype": "text/x-python",
   "name": "python",
   "nbconvert_exporter": "python",
   "pygments_lexer": "ipython3",
   "version": "3.9.17"
  },
  "orig_nbformat": 4
 },
 "nbformat": 4,
 "nbformat_minor": 2
}
