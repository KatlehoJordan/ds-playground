{
 "cells": [
  {
   "cell_type": "markdown",
   "metadata": {},
   "source": [
    "# Python Tutorial\n",
    "\n",
    "https://www.w3schools.com/python/"
   ]
  },
  {
   "cell_type": "markdown",
   "metadata": {},
   "source": [
    "## Syntax\n",
    "\n",
    "### Indentation"
   ]
  },
  {
   "cell_type": "code",
   "execution_count": 5,
   "metadata": {},
   "outputs": [
    {
     "name": "stdout",
     "output_type": "stream",
     "text": [
      "Code blocks need to be indented. Four spaces is typical.\n",
      "Two spaces works\n",
      "So does six spaces.\n"
     ]
    }
   ],
   "source": [
    "if 5 > 2:\n",
    "    print(\"Code blocks need to be indented. Four spaces is typical.\")\n",
    "\n",
    "if 5 > 2:\n",
    "  print(\"Two spaces works\")\n",
    "\n",
    "if 5 > 2:\n",
    "      print(\"So does six spaces.\")"
   ]
  },
  {
   "cell_type": "markdown",
   "metadata": {},
   "source": [
    "### Variables"
   ]
  },
  {
   "cell_type": "code",
   "execution_count": 6,
   "metadata": {},
   "outputs": [],
   "source": [
    "x = 5\n",
    "y = \"No command is needed to assign a variable. Just an equals operator.\""
   ]
  },
  {
   "cell_type": "markdown",
   "metadata": {},
   "source": [
    "### Comments"
   ]
  },
  {
   "cell_type": "code",
   "execution_count": 7,
   "metadata": {},
   "outputs": [
    {
     "name": "stdout",
     "output_type": "stream",
     "text": [
      "Can comment after code in line also.\n",
      "Observe the various ways to comment.\n"
     ]
    }
   ],
   "source": [
    "# Comment one line with a hash\n",
    "print(\"Can comment after code in line also.\") # For example, this comment.\n",
    "\n",
    "# Multi line\n",
    "# Comments\n",
    "# Can be achieved like this\n",
    "\n",
    "\"\"\"\n",
    "Or using triple quotes.\n",
    "\"\"\"\n",
    "print(\"Observe the various ways to comment.\")"
   ]
  }
 ],
 "metadata": {
  "kernelspec": {
   "display_name": "Python 3",
   "language": "python",
   "name": "python3"
  },
  "language_info": {
   "codemirror_mode": {
    "name": "ipython",
    "version": 3
   },
   "file_extension": ".py",
   "mimetype": "text/x-python",
   "name": "python",
   "nbconvert_exporter": "python",
   "pygments_lexer": "ipython3",
   "version": "3.9.17"
  },
  "orig_nbformat": 4
 },
 "nbformat": 4,
 "nbformat_minor": 2
}
