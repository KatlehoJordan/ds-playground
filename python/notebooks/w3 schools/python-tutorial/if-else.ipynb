{
 "cells": [
  {
   "cell_type": "markdown",
   "metadata": {},
   "source": [
    "# Python Tutorial\n",
    "\n",
    "https://www.w3schools.com/python/"
   ]
  },
  {
   "cell_type": "markdown",
   "metadata": {},
   "source": [
    "## If-Else"
   ]
  },
  {
   "cell_type": "code",
   "execution_count": 2,
   "metadata": {},
   "outputs": [
    {
     "name": "stdout",
     "output_type": "stream",
     "text": [
      "Python uses typical logical operators from math.\n",
      "Logical operators include: ['==', '!=', '<', '>', '<=', '>=']\n",
      "One uses these often in loops and `if` statements.\n",
      "x is 33 and y is 200\n",
      "y is less than x\n",
      "Recall that python requires indentation after if statements\n",
      " although other languages may use other conventions like curely braces\n",
      "Use `elif` and `else` to handle other conditions\n",
      "y is less greater than x\n",
      "Observe that a strict linter identifies that x and y never change, so\n",
      " it is not worthwhile to do comparisons in a global scope.\n"
     ]
    }
   ],
   "source": [
    "print('Python uses typical logical operators from math.')\n",
    "logical_operators = ['==', '!=', '<', '>', '<=', '>=']\n",
    "\n",
    "print(f'Logical operators include: {logical_operators}')\n",
    "print('One uses these often in loops and `if` statements.')\n",
    "\n",
    "x = 33\n",
    "y = 200\n",
    "\n",
    "print(f'x is {x} and y is {y}')\n",
    "\n",
    "if x < y:\n",
    "    print('y is less than x')\n",
    "    \n",
    "print('Recall that python requires indentation after if statements\\n',\n",
    "      'although other languages may use other conventions like curely braces')\n",
    "\n",
    "print('Use `elif` and `else` to handle other conditions')\n",
    "if x > y:\n",
    "    print('y is greater than x')\n",
    "elif x == y:\n",
    "    print('x is the same as y')\n",
    "else:\n",
    "    print('y is less greater than x')\n",
    "    \n",
    "print('Observe that a strict linter identifies that x and y never change, so\\n',\n",
    "      'it is not worthwhile to do comparisons in a global scope.')"
   ]
  },
  {
   "cell_type": "markdown",
   "metadata": {},
   "source": [
    "### Shorthand statements"
   ]
  },
  {
   "cell_type": "code",
   "execution_count": 3,
   "metadata": {},
   "outputs": [
    {
     "name": "stdout",
     "output_type": "stream",
     "text": [
      "An `if` statement with only one test can be run on a single line.\n",
      "Similar to list comprehension, using `if` with `else` will \n",
      " require putting the result when true first in the syntax\n",
      "x is not greater than y\n",
      "In these cases, `elif` is not needed and the \"ternary operators\" can\n",
      " be loaded with multiple else clauses\n",
      "x is less than y\n",
      "Note that this is probably to be avoided due to long lines\n"
     ]
    }
   ],
   "source": [
    "print('An `if` statement with only one test can be run on a single line.')\n",
    "x = 33\n",
    "y = 200\n",
    "if x > y: print('x is greater than y')\n",
    "\n",
    "print('Similar to list comprehension, using `if` with `else` will \\n',\n",
    "      'require putting the result when true first in the syntax')\n",
    "print('x is greater than y') if x > y else print('x is not greater than y')\n",
    "\n",
    "print('In these cases, `elif` is not needed and the \"ternary operators\" can\\n',\n",
    "      'be loaded with multiple else clauses')\n",
    "\n",
    "print('x is greater than y') if x > y else print('x is less than y') if x < y else print('x is not greater than nor less than y')\n",
    "\n",
    "print('Note that this is probably to be avoided due to long lines')"
   ]
  },
  {
   "cell_type": "markdown",
   "metadata": {},
   "source": [
    "### And and Or and Not"
   ]
  },
  {
   "cell_type": "code",
   "execution_count": null,
   "metadata": {},
   "outputs": [],
   "source": [
    "print('`and` and `or` handle if multiple conditions are true')\n",
    "x = 1\n",
    "y = 2\n",
    "print(f'x is {x}')\n",
    "print(f'y is {y}')\n",
    "if x > y and y > 0:\n",
    "    print('x is greater than y and y is greater than 0')\n",
    "\n",
    "if x > y or y < 0:\n",
    "    print('x is greater than y or y is greater than 0')\n",
    "\n",
    "print('`not` changes the boolean result of a statement')\n",
    "\n",
    "if not x < y:\n",
    "    print('x is NOT less than y')"
   ]
  },
  {
   "cell_type": "markdown",
   "metadata": {},
   "source": [
    "### Nested ifs"
   ]
  },
  {
   "cell_type": "code",
   "execution_count": 4,
   "metadata": {},
   "outputs": [
    {
     "name": "stdout",
     "output_type": "stream",
     "text": [
      "One can nest if statements inside of others. But this should be limited\n",
      "x is 1\n",
      "y is 2\n",
      "z is 3\n",
      "x is less than y\n",
      "y is less than z\n"
     ]
    }
   ],
   "source": [
    "print('One can nest if statements inside of others. But this should be limited')\n",
    "x = 1\n",
    "y = 2\n",
    "z = 3\n",
    "\n",
    "print(f'x is {x}')\n",
    "print(f'y is {y}')\n",
    "print(f'z is {z}')\n",
    "if x < y:\n",
    "    print('x is less than y')\n",
    "    if y < z:\n",
    "        print('y is less than z')\n",
    "    else:\n",
    "        print('y is not less than z')"
   ]
  },
  {
   "cell_type": "markdown",
   "metadata": {},
   "source": [
    "### Pass statement"
   ]
  },
  {
   "cell_type": "code",
   "execution_count": 6,
   "metadata": {},
   "outputs": [
    {
     "name": "stdout",
     "output_type": "stream",
     "text": [
      "If statements cannot be empty. If you want an `if` statement to crash\n",
      " your program when its result is not True, then just add a `pass`\n",
      "\n"
     ]
    }
   ],
   "source": [
    "print('If statements cannot be empty. You can make them continue without\\n',\n",
    "      'crashing if you add the `pass` statement, but it would be better to\\n',\n",
    "       'remove them if you do not need them since they will not crash your\\n',\n",
    "       'program when they do not evaluate to true and are therefore\\n',\n",
    "       'otherwise useless')\n",
    "x = 1\n",
    "y = 2\n",
    "\n",
    "if x > y:\n",
    "    print('pass')\n",
    "    pass"
   ]
  }
 ],
 "metadata": {
  "kernelspec": {
   "display_name": "Python 3",
   "language": "python",
   "name": "python3"
  },
  "language_info": {
   "codemirror_mode": {
    "name": "ipython",
    "version": 3
   },
   "file_extension": ".py",
   "mimetype": "text/x-python",
   "name": "python",
   "nbconvert_exporter": "python",
   "pygments_lexer": "ipython3",
   "version": "3.9.17"
  },
  "orig_nbformat": 4
 },
 "nbformat": 4,
 "nbformat_minor": 2
}
