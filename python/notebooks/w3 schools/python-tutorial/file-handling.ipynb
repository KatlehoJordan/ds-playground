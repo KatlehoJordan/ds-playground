{
 "cells": [
  {
   "cell_type": "markdown",
   "metadata": {},
   "source": [
    "# Python Tutorial\n",
    "\n",
    "https://www.w3schools.com/python/"
   ]
  },
  {
   "cell_type": "markdown",
   "metadata": {},
   "source": [
    "## File Handling"
   ]
  },
  {
   "cell_type": "markdown",
   "metadata": {},
   "source": [
    "### File Methods"
   ]
  },
  {
   "cell_type": "code",
   "execution_count": 2,
   "metadata": {},
   "outputs": [
    {
     "name": "stdout",
     "output_type": "stream",
     "text": [
      "Python has many built-in file methods\n",
      "close() \n",
      "\t Closes the file\n",
      "\n",
      "detach() \n",
      "\t Returns the separated raw stream from the buffer\n",
      "\n",
      "fileno() \n",
      "\t Returns a number that represents the stream, from the operating system's perspective\n",
      "\n",
      "flush() \n",
      "\t Flushes the internal buffer\n",
      "\n",
      "isatty() \n",
      "\t Returns whether the file stream is interactive or not\n",
      "\n",
      "read() \n",
      "\t Returns the file content\n",
      "\n",
      "readable() \n",
      "\t Returns whether the file stream can be read or not\n",
      "\n",
      "readline() \n",
      "\t Returns one line from the file\n",
      "\n",
      "readlines() \n",
      "\t Returns a list of lines from the file\n",
      "\n",
      "seek() \n",
      "\t Change the file position\n",
      "\n",
      "seekable() \n",
      "\t Returns whether the file allows us to change the file position\n",
      "\n",
      "tell() \n",
      "\t Returns the current file position\n",
      "\n",
      "truncate() \n",
      "\t Resizes the file to a specified size\n",
      "\n",
      "writable() \n",
      "\t Returns whether the file can be written to or not\n",
      "\n",
      "write() \n",
      "\t Writes the specified string to the file\n",
      "\n",
      "writelines() \n",
      "\t Writes a list of strings to the file\n",
      "\n"
     ]
    }
   ],
   "source": [
    "print('Python has many built-in file methods')\n",
    "\n",
    "described_file_method = {\n",
    "    'close()':\t'Closes the file',\n",
    "'detach()':\t'Returns the separated raw stream from the buffer',\n",
    "'fileno()':\t\"Returns a number that represents the stream, from the operating system's perspective\",\n",
    "'flush()':\t'Flushes the internal buffer',\n",
    "'isatty()':\t'Returns whether the file stream is interactive or not',\n",
    "'read()':\t'Returns the file content',\n",
    "'readable()':\t'Returns whether the file stream can be read or not',\n",
    "'readline()':\t'Returns one line from the file',\n",
    "'readlines()':\t'Returns a list of lines from the file',\n",
    "'seek()':\t'Change the file position',\n",
    "'seekable()':\t'Returns whether the file allows us to change the file position',\n",
    "'tell()':\t'Returns the current file position',\n",
    "'truncate()':\t'Resizes the file to a specified size',\n",
    "'writable()':\t'Returns whether the file can be written to or not',\n",
    "'write()':\t'Writes the specified string to the file',\n",
    "'writelines()':\t'Writes a list of strings to the file'\n",
    "}\n",
    "\n",
    "for key in described_file_method:\n",
    "    print(f'{key} \\n\\t {described_file_method[key]}\\n')"
   ]
  },
  {
   "cell_type": "code",
   "execution_count": null,
   "metadata": {},
   "outputs": [],
   "source": []
  }
 ],
 "metadata": {
  "kernelspec": {
   "display_name": "Python 3",
   "language": "python",
   "name": "python3"
  },
  "language_info": {
   "codemirror_mode": {
    "name": "ipython",
    "version": 3
   },
   "file_extension": ".py",
   "mimetype": "text/x-python",
   "name": "python",
   "nbconvert_exporter": "python",
   "pygments_lexer": "ipython3",
   "version": "3.9.17"
  },
  "orig_nbformat": 4
 },
 "nbformat": 4,
 "nbformat_minor": 2
}
