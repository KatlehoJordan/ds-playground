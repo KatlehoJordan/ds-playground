{
 "cells": [
  {
   "cell_type": "markdown",
   "metadata": {},
   "source": [
    "# Python Tutorial\n",
    "\n",
    "https://www.w3schools.com/python/"
   ]
  },
  {
   "cell_type": "markdown",
   "metadata": {},
   "source": [
    "## Lambda\n",
    "\n",
    "Short functions used only in the places they are defined. 'Lambda functions can have multiple arguments, but only one 'expression. It is called lambda based on lambda calculus, invented 'by Alonzo Church in the 1930s. Lambda, as well as map, filter, reduce 'are aspects of functional programming that have made their way into imperative languages like python and java.\n",
    "\n",
    "The use of lambda functions in python can be somewhat controversial. They:\n",
    "- Follow a different syntax\n",
    "- Do not lend themselves to docstrings\n",
    "- May have unexpected behavior due to their behavior as closers\n",
    "\n",
    "\n",
    "However, when used with `functools` functions `map()`, `filter()`, and `reduce()`, they are encouraged.\n",
    "\n",
    "[See more here](https://realpython.com/python-lambda/)."
   ]
  },
  {
   "cell_type": "code",
   "execution_count": null,
   "metadata": {},
   "outputs": [],
   "source": [
    "\n",
    "lambda"
   ]
  }
 ],
 "metadata": {
  "kernelspec": {
   "display_name": "Python 3",
   "language": "python",
   "name": "python3"
  },
  "language_info": {
   "codemirror_mode": {
    "name": "ipython",
    "version": 3
   },
   "file_extension": ".py",
   "mimetype": "text/x-python",
   "name": "python",
   "nbconvert_exporter": "python",
   "pygments_lexer": "ipython3",
   "version": "3.9.17"
  },
  "orig_nbformat": 4
 },
 "nbformat": 4,
 "nbformat_minor": 2
}
