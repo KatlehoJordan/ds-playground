{
 "cells": [
  {
   "cell_type": "markdown",
   "metadata": {},
   "source": [
    "# Python Tutorial\n",
    "\n",
    "https://www.w3schools.com/python/"
   ]
  },
  {
   "cell_type": "markdown",
   "metadata": {},
   "source": [
    "## Lambda\n",
    "\n",
    "Short functions used only in the places they are defined. 'Lambda functions can have multiple arguments, but only one 'expression. It is called lambda based on lambda calculus, invented 'by Alonzo Church in the 1930s. Lambda, as well as map, filter, reduce 'are aspects of functional programming that have made their way into imperative languages like python and java.\n",
    "\n",
    "The use of lambda functions in python can be somewhat controversial. They:\n",
    "- Follow a different syntax\n",
    "- Do not lend themselves to docstrings\n",
    "- May have unexpected behavior due to their behavior as closers\n",
    "\n",
    "\n",
    "However, when used with `functools` functions `map()`, `filter()`, and `reduce()`, they are encouraged.\n",
    "\n",
    "[See more here](https://realpython.com/python-lambda/)."
   ]
  },
  {
   "cell_type": "code",
   "execution_count": 1,
   "metadata": {},
   "outputs": [
    {
     "name": "stdout",
     "output_type": "stream",
     "text": [
      "The general format of a lambda function is arguments : expression\n",
      "15\n",
      "Lambda functions can take multiple arguments\n",
      "25\n"
     ]
    }
   ],
   "source": [
    "print('The general format of a lambda function is arguments : expression')\n",
    "print('Note that strict linters will warn that lambda functions do not \\n',\n",
    "      'give type hints if you assign them directly to a variable.\\n',\n",
    "      'Thus, it is typically bad practice to use them in this way.')\n",
    "x = lambda a: a + 10\n",
    "print(x(5))\n",
    "\n",
    "print('Lambda functions can take multiple arguments')\n",
    "x = lambda a, b: a + 10 * b\n",
    "print(x(5, 2))"
   ]
  },
  {
   "cell_type": "markdown",
   "metadata": {},
   "source": [
    "### Why use Lambda functions?"
   ]
  },
  {
   "cell_type": "code",
   "execution_count": null,
   "metadata": {},
   "outputs": [],
   "source": [
    "print('Often they are used as anonymous functions inside other functions')\n",
    "def myfunc(n: int) -> int:\n",
    "    return lambda a : a * n\n",
    "\n",
    "mydoubler = myfunc(2)\n",
    "mytripler = myfunc(3)\n",
    "\n",
    "print(mydoubler(11))\n",
    "print(mytripler(11))\n",
    "print('Observe that simply putting a lambda inside a function instead of\\n',\n",
    "      'assigning it direclty to a variable does not remove all type-hinting\\n',\n",
    "      'issues. To do this one must restrict lambda function usage to a\\n',\n",
    "      'specific case... When using it in a context where the values\\n',\n",
    "      'passed into the lambda are defined on the same line and therefore\\n',\n",
    "      'their types are inferable by your linters.')\n",
    "\n",
    "my_map = map(lambda x: x, range(1, 5))\n",
    "print(my_map)\n",
    "my_map = map(lambda x: x, [1, 2, 3, 4, 5])\n",
    "print(my_map)\n",
    "my_map = map(lambda x: x, [1, False, 'hello'])\n",
    "print(my_map)\n",
    "\n",
    "print('In the final three examples, there are no linting warnings because\\n',\n",
    "      'the lambda function will take the second argument to `map()`\\n',\n",
    "      'which is passed in the same line when the lambda function is defined.')"
   ]
  }
 ],
 "metadata": {
  "kernelspec": {
   "display_name": "Python 3",
   "language": "python",
   "name": "python3"
  },
  "language_info": {
   "codemirror_mode": {
    "name": "ipython",
    "version": 3
   },
   "file_extension": ".py",
   "mimetype": "text/x-python",
   "name": "python",
   "nbconvert_exporter": "python",
   "pygments_lexer": "ipython3",
   "version": "3.9.17"
  },
  "orig_nbformat": 4
 },
 "nbformat": 4,
 "nbformat_minor": 2
}
