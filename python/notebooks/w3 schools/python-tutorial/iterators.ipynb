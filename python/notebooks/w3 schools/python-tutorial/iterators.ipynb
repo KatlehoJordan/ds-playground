{
 "cells": [
  {
   "cell_type": "markdown",
   "metadata": {},
   "source": [
    "# Python Tutorial\n",
    "\n",
    "https://www.w3schools.com/python/"
   ]
  },
  {
   "cell_type": "markdown",
   "metadata": {},
   "source": [
    "## Iterators"
   ]
  },
  {
   "cell_type": "code",
   "execution_count": 11,
   "metadata": {},
   "outputs": [
    {
     "name": "stdout",
     "output_type": "stream",
     "text": [
      "An iterator is an object that has a countable number of items.\n",
      " It is an object that can be iterated over/traversed through.\n",
      " Specifically, in python, objects that implement the iterator protocol\n",
      " are iterables. This means they have the have `__iter__` method, which\n",
      " creates an iterator object that has the `__next__`\n",
      " methods.\n",
      " The collections (lists, tuples, sets, and dictionaries) are iterable.\n",
      "The type of `my_iterator` is <class 'tuple_iterator'>\n",
      "In addition to the `__iter__` method, the `iter()` function works.\n",
      "The type of `my_second_iterator` is <class 'tuple_iterator'>\n",
      "apple\n",
      "banana\n",
      "Likewise, the `next()` function can be used or the `__next__` method.\n",
      "apple\n",
      "banana\n",
      "Even strings are iterables that can create iterators with `iter()`.\n",
      "m\n",
      "y\n",
      " \n",
      "s\n",
      "t\n",
      "r\n",
      "i\n",
      "n\n",
      "g\n"
     ]
    }
   ],
   "source": [
    "print('An iterator is an object that has a countable number of items.\\n',\n",
    "      'It is an object that can be iterated over/traversed through.\\n',\n",
    "      'Specifically, in python, objects that implement the iterator protocol\\n',\n",
    "      'are iterables. This means they have the have `__iter__` method, which\\n',\n",
    "      'creates an iterator object that has the `__next__`\\n methods.\\n',\n",
    "      'The collections (lists, tuples, sets, and dictionaries) are iterable.')\n",
    "\n",
    "my_tuple = ('apple', 'banana')\n",
    "my_iterator = my_tuple.__iter__()\n",
    "print(f'The type of `my_iterator` is {type(my_iterator)}')\n",
    "\n",
    "print('In addition to the `__iter__` method, the `iter()` function works.')\n",
    "my_second_iterator = iter(my_tuple)\n",
    "print(f'The type of `my_second_iterator` is {type(my_second_iterator)}')\n",
    "\n",
    "\n",
    "print(my_iterator.__next__())\n",
    "print(my_iterator.__next__())\n",
    "\n",
    "print('Likewise, the `next()` function can be used or the `__next__` method.')\n",
    "print(next(my_second_iterator))\n",
    "print(next(my_second_iterator))\n",
    "\n",
    "print('Even strings are iterables that can create iterators with `iter()`.')\n",
    "\n",
    "my_string_iterator = iter('my string')\n",
    "print(next(my_string_iterator))\n",
    "print(next(my_string_iterator))\n",
    "print(next(my_string_iterator))\n",
    "print(next(my_string_iterator))\n",
    "print(next(my_string_iterator))\n",
    "print(next(my_string_iterator))\n",
    "print(next(my_string_iterator))\n",
    "print(next(my_string_iterator))\n",
    "print(next(my_string_iterator))"
   ]
  },
  {
   "cell_type": "markdown",
   "metadata": {},
   "source": [
    "### Looping through an iterator"
   ]
  },
  {
   "cell_type": "code",
   "execution_count": 12,
   "metadata": {},
   "outputs": [
    {
     "name": "stdout",
     "output_type": "stream",
     "text": [
      "Recall that for loops can loop through collections. This is because\n",
      " they are iterable objects with `__iter__` methods.\n",
      "s\n",
      "o\n",
      "m\n",
      "e\n",
      " \n",
      "s\n",
      "t\n",
      "r\n",
      "i\n",
      "n\n",
      "g\n"
     ]
    }
   ],
   "source": [
    "print('Recall that for loops can loop through collections. This is because\\n',\n",
    "      'they are iterable objects with `__iter__` methods. Under the hood\\n',\n",
    "      'the `for` keyword implements the `__next__` method to iterate.')\n",
    "\n",
    "for letter in 'some string':\n",
    "    print(letter)    "
   ]
  },
  {
   "cell_type": "markdown",
   "metadata": {},
   "source": [
    "### Create an iterable"
   ]
  },
  {
   "cell_type": "code",
   "execution_count": 16,
   "metadata": {},
   "outputs": [
    {
     "name": "stdout",
     "output_type": "stream",
     "text": [
      "To make a class that can behave as an interable, define the methods\n",
      " `__iter__` and `__next__`.\n",
      "1\n",
      "2\n",
      "3\n",
      "4\n",
      "5\n",
      "6\n",
      "1\n"
     ]
    }
   ],
   "source": [
    "print('To make a class that can behave as an interable, define the methods\\n',\n",
    "      '`__iter__` and `__next__`.')\n",
    "\n",
    "class MyNumbers:\n",
    "    def __iter__(self):\n",
    "        self.iteration = 1\n",
    "        return self\n",
    "        \n",
    "    def __next__(self):\n",
    "        x = self.iteration\n",
    "        self.iteration += 1\n",
    "        return x\n",
    "        \n",
    "my_instance = MyNumbers()\n",
    "my_novel_iterator = my_instance.__iter__()\n",
    "print(my_novel_iterator.__next__())\n",
    "print(my_novel_iterator.__next__())\n",
    "print(my_novel_iterator.__next__())\n",
    "print(my_novel_iterator.__next__())\n",
    "print(my_novel_iterator.__next__())\n",
    "print(my_novel_iterator.__next__())\n",
    "\n",
    "my_new_instance = MyNumbers()\n",
    "my_second_novel_iterator = my_new_instance.__iter__()\n",
    "print(my_second_novel_iterator.iteration)"
   ]
  },
  {
   "cell_type": "markdown",
   "metadata": {},
   "source": [
    "### `StopIteration`"
   ]
  },
  {
   "cell_type": "code",
   "execution_count": 19,
   "metadata": {},
   "outputs": [
    {
     "name": "stdout",
     "output_type": "stream",
     "text": [
      "Depending on how one builds the `__iter__` and `__next__` methods\n",
      " in a class, a `for` loop can become an infinite loop. `StopIteration`\n",
      " can be used to stop.\n",
      "Iteration is  <= 20. Iterating.\n",
      "1\n",
      "Iteration is  <= 20. Iterating.\n",
      "2\n",
      "Iteration is  <= 20. Iterating.\n",
      "3\n",
      "Iteration is  <= 20. Iterating.\n",
      "4\n",
      "Iteration is  <= 20. Iterating.\n",
      "5\n",
      "Iteration is  <= 20. Iterating.\n",
      "6\n",
      "Iteration is  <= 20. Iterating.\n",
      "1\n",
      "Iteration is  <= 20. Iterating.\n",
      "2\n",
      "Iteration is  <= 20. Iterating.\n",
      "3\n",
      "Iteration is  <= 20. Iterating.\n",
      "4\n",
      "Iteration is  <= 20. Iterating.\n",
      "5\n",
      "Iteration is  <= 20. Iterating.\n",
      "6\n",
      "Iteration is  <= 20. Iterating.\n",
      "7\n",
      "Iteration is  <= 20. Iterating.\n",
      "8\n",
      "Iteration is  <= 20. Iterating.\n",
      "9\n",
      "Iteration is  <= 20. Iterating.\n",
      "10\n",
      "Iteration is  <= 20. Iterating.\n",
      "11\n",
      "Iteration is  <= 20. Iterating.\n",
      "12\n",
      "Iteration is  <= 20. Iterating.\n",
      "13\n",
      "Iteration is  <= 20. Iterating.\n",
      "14\n",
      "Iteration is  <= 20. Iterating.\n",
      "15\n",
      "Iteration is  <= 20. Iterating.\n",
      "16\n",
      "Iteration is  <= 20. Iterating.\n",
      "17\n",
      "Iteration is  <= 20. Iterating.\n",
      "18\n",
      "Iteration is  <= 20. Iterating.\n",
      "19\n",
      "Iteration is  <= 20. Iterating.\n",
      "20\n",
      "Iteration is 21, not <= 20. Stopping.\n"
     ]
    }
   ],
   "source": [
    "print('Depending on how one builds the `__iter__` and `__next__` methods\\n',\n",
    "      'in a class, a `for` loop can become an infinite loop. `StopIteration`\\n',\n",
    "      'can be used to stop.')\n",
    "\n",
    "class MyNumbers:\n",
    "    def __iter__(self):\n",
    "        self.iteration = 1\n",
    "        return self\n",
    "        \n",
    "    def __next__(self):\n",
    "        if self.iteration <= 20:\n",
    "            print('Iteration is  <= 20. Iterating.')\n",
    "            x = self.iteration\n",
    "            self.iteration += 1\n",
    "            return x\n",
    "        else:\n",
    "            print(f'Iteration is {self.iteration}, not <= 20. Stopping.')\n",
    "            raise StopIteration\n",
    "\n",
    "my_instance = MyNumbers()\n",
    "my_novel_iterator = my_instance.__iter__()\n",
    "print(my_novel_iterator.__next__())\n",
    "print(my_novel_iterator.__next__())\n",
    "print(my_novel_iterator.__next__())\n",
    "print(my_novel_iterator.__next__())\n",
    "print(my_novel_iterator.__next__())\n",
    "print(my_novel_iterator.__next__())\n",
    "\n",
    "for iteration in my_novel_iterator:\n",
    "    print(iteration)"
   ]
  }
 ],
 "metadata": {
  "kernelspec": {
   "display_name": "Python 3",
   "language": "python",
   "name": "python3"
  },
  "language_info": {
   "codemirror_mode": {
    "name": "ipython",
    "version": 3
   },
   "file_extension": ".py",
   "mimetype": "text/x-python",
   "name": "python",
   "nbconvert_exporter": "python",
   "pygments_lexer": "ipython3",
   "version": "3.9.17"
  },
  "orig_nbformat": 4
 },
 "nbformat": 4,
 "nbformat_minor": 2
}
