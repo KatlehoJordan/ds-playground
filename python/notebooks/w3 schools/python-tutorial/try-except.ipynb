{
 "cells": [
  {
   "cell_type": "markdown",
   "metadata": {},
   "source": [
    "# Python Tutorial\n",
    "\n",
    "https://www.w3schools.com/python/"
   ]
  },
  {
   "cell_type": "markdown",
   "metadata": {},
   "source": [
    "## Try Except"
   ]
  },
  {
   "cell_type": "code",
   "execution_count": 1,
   "metadata": {},
   "outputs": [
    {
     "name": "stdout",
     "output_type": "stream",
     "text": [
      "The `try` block lets you test a block of code for errors.\n",
      " The `except` clause lets you handle them if an error arises.\n",
      " `else` lets you execute other code if no error arises and \n",
      " `finally` executes afterwards, regardless of error status.\n",
      "An exception occurred\n"
     ]
    }
   ],
   "source": [
    "print('The `try` block lets you test a block of code for errors.\\n',\n",
    "      'The `except` clause lets you handle them if an error arises.\\n',\n",
    "      '`else` lets you execute other code if no error arises and \\n',\n",
    "      '`finally` executes afterwards, regardless of error status.')\n",
    "\n",
    "try:\n",
    "    print(undefined_string)\n",
    "except:\n",
    "    print('An exception occurred')"
   ]
  },
  {
   "cell_type": "markdown",
   "metadata": {},
   "source": [
    "### Many Exceptions"
   ]
  },
  {
   "cell_type": "code",
   "execution_count": 5,
   "metadata": {},
   "outputs": [
    {
     "name": "stdout",
     "output_type": "stream",
     "text": [
      "You can have multiple `except` clauses.\n",
      "Something went wrong\n"
     ]
    }
   ],
   "source": [
    "print('You can have multiple `except` clauses as long as they handle\\n',\n",
    "      'different types of exceptions.')\n",
    "\n",
    "try:\n",
    "  print(undefined_string)\n",
    "except NameError:\n",
    "  print(\"Something went wrong\")\n",
    "except:\n",
    "  print(\"Something else went wrong\")"
   ]
  },
  {
   "cell_type": "markdown",
   "metadata": {},
   "source": [
    "### Else"
   ]
  },
  {
   "cell_type": "code",
   "execution_count": 6,
   "metadata": {},
   "outputs": [
    {
     "name": "stdout",
     "output_type": "stream",
     "text": [
      "Use `else` to execute code when no errors occur. This pattern would\n",
      " be best used if the `try` clause is as small as possible.\n",
      "Hi there!\n",
      "There were no errors!\n"
     ]
    }
   ],
   "source": [
    "print('Use `else` to execute code when no errors occur. This pattern would\\n',\n",
    "      'be best used if the `try` clause is as small as possible. The `try`\\n',\n",
    "      'block will have also been executed.')\n",
    "\n",
    "try:\n",
    "  print('Hi there!')\n",
    "except NameError:\n",
    "  print(\"Something went wrong\")\n",
    "except:\n",
    "  print(\"Something else went wrong\")\n",
    "else:\n",
    "  print('There were no errors!')"
   ]
  },
  {
   "cell_type": "markdown",
   "metadata": {},
   "source": [
    "### Finally"
   ]
  },
  {
   "cell_type": "code",
   "execution_count": 8,
   "metadata": {},
   "outputs": [
    {
     "name": "stdout",
     "output_type": "stream",
     "text": [
      "Use `finally` to execute some code regardless of error status.\n",
      "Hi there!\n",
      "There were no errors!\n",
      "This is the last statement\n",
      "`finally` is good for handling when opening a file, so that it will\n",
      " be closed regardless of success working with it.\n",
      "The file did not open.\n"
     ]
    }
   ],
   "source": [
    "print('Use `finally` to execute some code regardless of error status.')\n",
    "\n",
    "try:\n",
    "  print('Hi there!')\n",
    "except NameError:\n",
    "  print(\"Something went wrong\")\n",
    "except:\n",
    "  print(\"Something else went wrong\")\n",
    "else:\n",
    "  print('There were no errors!')\n",
    "finally:\n",
    "  print('This is the last statement')\n",
    "  \n",
    "\n",
    "print('`finally` is good for handling when opening a file, so that it will\\n',\n",
    "      'be closed regardless of success working with it.')\n",
    "\n",
    "try:\n",
    "  file = open('demofile.txt')\n",
    "  try:\n",
    "    file.write(\"Lorum Ipsum\")\n",
    "  except:\n",
    "    print('Something failed while writing to the file')\n",
    "  finally:\n",
    "    file.close()\n",
    "except:\n",
    "  print('The file did not open.')\n",
    "  "
   ]
  },
  {
   "cell_type": "markdown",
   "metadata": {},
   "source": [
    "### Raise an exception"
   ]
  },
  {
   "cell_type": "code",
   "execution_count": 9,
   "metadata": {},
   "outputs": [
    {
     "name": "stdout",
     "output_type": "stream",
     "text": [
      "You can throw/raise an exception explicitly with `raise`.\n"
     ]
    },
    {
     "ename": "Exception",
     "evalue": "Sorry, no numbers below 0",
     "output_type": "error",
     "traceback": [
      "\u001b[0;31m---------------------------------------------------------------------------\u001b[0m",
      "\u001b[0;31mException\u001b[0m                                 Traceback (most recent call last)",
      "Cell \u001b[0;32mIn[9], line 6\u001b[0m\n\u001b[1;32m      3\u001b[0m x \u001b[39m=\u001b[39m \u001b[39m-\u001b[39m\u001b[39m1\u001b[39m\n\u001b[1;32m      5\u001b[0m \u001b[39mif\u001b[39;00m x \u001b[39m<\u001b[39m \u001b[39m0\u001b[39m:\n\u001b[0;32m----> 6\u001b[0m     \u001b[39mraise\u001b[39;00m \u001b[39mException\u001b[39;00m(\u001b[39m'\u001b[39m\u001b[39mSorry, no numbers below 0\u001b[39m\u001b[39m'\u001b[39m)\n",
      "\u001b[0;31mException\u001b[0m: Sorry, no numbers below 0"
     ]
    }
   ],
   "source": [
    "print('You can throw/raise an exception explicitly with `raise`.')\n",
    "\n",
    "x = -1\n",
    "\n",
    "if x < 0:\n",
    "    raise Exception('Sorry, no numbers below 0')"
   ]
  },
  {
   "cell_type": "code",
   "execution_count": 11,
   "metadata": {},
   "outputs": [
    {
     "name": "stdout",
     "output_type": "stream",
     "text": [
      "When raising an exception, you can choose which kind of error\n",
      " to raise and the text to accompany it.\n"
     ]
    },
    {
     "ename": "TypeError",
     "evalue": "Only integers are allowed.",
     "output_type": "error",
     "traceback": [
      "\u001b[0;31m---------------------------------------------------------------------------\u001b[0m",
      "\u001b[0;31mTypeError\u001b[0m                                 Traceback (most recent call last)",
      "Cell \u001b[0;32mIn[11], line 7\u001b[0m\n\u001b[1;32m      4\u001b[0m x \u001b[39m=\u001b[39m \u001b[39m'\u001b[39m\u001b[39mhello\u001b[39m\u001b[39m'\u001b[39m\n\u001b[1;32m      6\u001b[0m \u001b[39mif\u001b[39;00m \u001b[39mnot\u001b[39;00m(\u001b[39mtype\u001b[39m(x)) \u001b[39mis\u001b[39;00m \u001b[39mint\u001b[39m:\n\u001b[0;32m----> 7\u001b[0m     \u001b[39mraise\u001b[39;00m \u001b[39mTypeError\u001b[39;00m(\u001b[39m'\u001b[39m\u001b[39mOnly integers are allowed.\u001b[39m\u001b[39m'\u001b[39m)\n",
      "\u001b[0;31mTypeError\u001b[0m: Only integers are allowed."
     ]
    }
   ],
   "source": [
    "print('When raising an exception, you can choose which kind of error\\n',\n",
    "      'to raise and the text to accompany it.')\n",
    "\n",
    "x = 'hello'\n",
    "\n",
    "if not(type(x)) is int:\n",
    "    raise TypeError('Only integers are allowed.')"
   ]
  }
 ],
 "metadata": {
  "kernelspec": {
   "display_name": "Python 3",
   "language": "python",
   "name": "python3"
  },
  "language_info": {
   "codemirror_mode": {
    "name": "ipython",
    "version": 3
   },
   "file_extension": ".py",
   "mimetype": "text/x-python",
   "name": "python",
   "nbconvert_exporter": "python",
   "pygments_lexer": "ipython3",
   "version": "3.9.17"
  },
  "orig_nbformat": 4
 },
 "nbformat": 4,
 "nbformat_minor": 2
}
