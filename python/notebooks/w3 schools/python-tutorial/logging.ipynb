{
 "cells": [
  {
   "cell_type": "markdown",
   "metadata": {},
   "source": [
    "# Python Tutorial\n",
    "\n",
    "This tutorial was written by me, not published online."
   ]
  },
  {
   "cell_type": "markdown",
   "metadata": {},
   "source": [
    "## logging"
   ]
  },
  {
   "cell_type": "code",
   "execution_count": 1,
   "metadata": {},
   "outputs": [
    {
     "name": "stdout",
     "output_type": "stream",
     "text": [
      "The `logging` module offers ways to log messages.\n",
      " It is preferred over print statements for production code.\n",
      " This is because it can be configured in various ways (to output to\n",
      " different locations, to have different level of sensitivities, etc.)\n",
      " and the print statements (at least in my experience) are not stable\n",
      " especially after activating a logger.\n",
      "The following are the names imported by `logging`:\n",
      "BASIC_FORMAT\n",
      "BufferingFormatter\n",
      "CRITICAL\n",
      "DEBUG\n",
      "ERROR\n",
      "FATAL\n",
      "FileHandler\n",
      "Filter\n",
      "Filterer\n",
      "Formatter\n",
      "Handler\n",
      "INFO\n",
      "LogRecord\n",
      "Logger\n",
      "LoggerAdapter\n",
      "Manager\n",
      "NOTSET\n",
      "NullHandler\n",
      "PercentStyle\n",
      "PlaceHolder\n",
      "RootLogger\n",
      "StrFormatStyle\n",
      "StreamHandler\n",
      "StringTemplateStyle\n",
      "Template\n",
      "WARN\n",
      "WARNING\n",
      "_STYLES\n",
      "_StderrHandler\n",
      "__all__\n",
      "__author__\n",
      "__builtins__\n",
      "__cached__\n",
      "__date__\n",
      "__doc__\n",
      "__file__\n",
      "__loader__\n",
      "__name__\n",
      "__package__\n",
      "__path__\n",
      "__spec__\n",
      "__status__\n",
      "__version__\n",
      "_acquireLock\n",
      "_addHandlerRef\n",
      "_after_at_fork_child_reinit_locks\n",
      "_at_fork_reinit_lock_weakset\n",
      "_checkLevel\n",
      "_defaultFormatter\n",
      "_defaultLastResort\n",
      "_handlerList\n",
      "_handlers\n",
      "_levelToName\n",
      "_lock\n",
      "_logRecordFactory\n",
      "_loggerClass\n",
      "_nameToLevel\n",
      "_register_at_fork_reinit_lock\n",
      "_releaseLock\n",
      "_removeHandlerRef\n",
      "_showwarning\n",
      "_srcfile\n",
      "_startTime\n",
      "_str_formatter\n",
      "_warnings_showwarning\n",
      "addLevelName\n",
      "atexit\n",
      "basicConfig\n",
      "captureWarnings\n",
      "collections\n",
      "config\n",
      "critical\n",
      "currentframe\n",
      "debug\n",
      "disable\n",
      "error\n",
      "exception\n",
      "fatal\n",
      "getLevelName\n",
      "getLogRecordFactory\n",
      "getLogger\n",
      "getLoggerClass\n",
      "handlers\n",
      "info\n",
      "io\n",
      "lastResort\n",
      "log\n",
      "logMultiprocessing\n",
      "logProcesses\n",
      "logThreads\n",
      "makeLogRecord\n",
      "os\n",
      "raiseExceptions\n",
      "re\n",
      "root\n",
      "setLogRecordFactory\n",
      "setLoggerClass\n",
      "shutdown\n",
      "sys\n",
      "threading\n",
      "time\n",
      "traceback\n",
      "warn\n",
      "warning\n",
      "warnings\n",
      "weakref\n"
     ]
    }
   ],
   "source": [
    "print('The `logging` module offers ways to log messages.\\n',\n",
    "      'It is preferred over print statements for production code.\\n',\n",
    "      'This is because it can be configured in various ways (to output to\\n',\n",
    "      'different locations, to have different level of sensitivities, etc.)\\n',\n",
    "      'and the print statements (at least in my experience) are not stable\\n',\n",
    "      'especially after activating a logger.')\n",
    "\n",
    "import logging\n",
    "\n",
    "print('The following are the names imported by `logging`:')\n",
    "\n",
    "for key in dir(logging):\n",
    "    print(key)"
   ]
  },
  {
   "cell_type": "markdown",
   "metadata": {},
   "source": [
    "### Configuring\n",
    "\n",
    "https://www.geeksforgeeks.org/difference-between-logging-and-print-in-python/"
   ]
  },
  {
   "cell_type": "code",
   "execution_count": 21,
   "metadata": {},
   "outputs": [
    {
     "name": "stdout",
     "output_type": "stream",
     "text": [
      "Configure the logger before using it so that the right level of\n",
      " messages get surfaced to the user. Levels are DEBUG, INFO, WARNING,\n",
      " ERROR, and CRITICAL. \"Out-of-the-box\", the level will be set to\n",
      " `WARNING`. The most-reliable way to modify the level once logging\n",
      " has begun is with the `.getLogger().setLevel()` method.\n",
      " Furthermore, one should not use the RootLogger in case your code\n",
      " will be reused by others. Instead, one should use your own logger\n",
      " named after the module or program that creates it, using `__name__`.\n",
      " This should make your logger importable from a configuration file\n",
      " into other scripts as well without needing to reconfigure the logger.\n",
      "To avoid creating the same logger or components multiple times and \n",
      " leading to unintendend consequences, delete them if they exist.\n"
     ]
    }
   ],
   "source": [
    "print('Configure the logger before using it so that the right level of\\n',\n",
    "      'messages get surfaced to the user. Levels are DEBUG, INFO, WARNING,\\n',\n",
    "      'ERROR, and CRITICAL. \"Out-of-the-box\", the level will be set to\\n',\n",
    "      '`WARNING`. The most-reliable way to modify the level once logging\\n',\n",
    "      'has begun is with the `.getLogger().setLevel()` method.\\n',\n",
    "      'Furthermore, one should not use the RootLogger in case your code\\n',\n",
    "      'will be reused by others. Instead, one should use your own logger\\n',\n",
    "      'named after the module or program that creates it, using `__name__`.\\n',\n",
    "      'This should make your logger importable from a configuration file\\n',\n",
    "      'into other scripts as well without needing to reconfigure the logger.')\n",
    "\n",
    "print('To avoid creating the same logger or components multiple times and \\n',\n",
    "      'leading to unintendend consequences, delete them if they exist.')\n",
    "\n",
    "\n",
    "import logging\n",
    "\n",
    "logger = logging.getLogger(__name__)\n",
    "handler = logging.StreamHandler()\n",
    "formatter = logging.Formatter(\n",
    "    '%(asctime)s - %(name)s - %(levelname)s :\\n\\n\\t\\t %(message)s\\n\\n'\n",
    "    )\n",
    "handler.setFormatter(formatter)\n",
    "logger.addHandler(handler)"
   ]
  },
  {
   "cell_type": "code",
   "execution_count": 2,
   "metadata": {},
   "outputs": [
    {
     "ename": "NameError",
     "evalue": "name 'logging' is not defined",
     "output_type": "error",
     "traceback": [
      "\u001b[0;31m---------------------------------------------------------------------------\u001b[0m",
      "\u001b[0;31mNameError\u001b[0m                                 Traceback (most recent call last)",
      "Cell \u001b[0;32mIn[2], line 10\u001b[0m\n\u001b[1;32m      7\u001b[0m     logger\u001b[39m.\u001b[39merror(\u001b[39m'\u001b[39m\u001b[39mThis will be surfaced while logging is at error level or lower\u001b[39m\u001b[39m'\u001b[39m)\n\u001b[1;32m      8\u001b[0m     logger\u001b[39m.\u001b[39mcritical(\u001b[39m'\u001b[39m\u001b[39mThis will always be surfaced\u001b[39m\u001b[39m\\n\u001b[39;00m\u001b[39m\\n\u001b[39;00m\u001b[39m'\u001b[39m)\n\u001b[0;32m---> 10\u001b[0m show_logs_at_level(\u001b[39m'\u001b[39;49m\u001b[39mDEBUG\u001b[39;49m\u001b[39m'\u001b[39;49m)\n\u001b[1;32m     12\u001b[0m show_logs_at_level(\u001b[39m'\u001b[39m\u001b[39mINFO\u001b[39m\u001b[39m'\u001b[39m)\n\u001b[1;32m     14\u001b[0m show_logs_at_level(\u001b[39m'\u001b[39m\u001b[39mWARNING\u001b[39m\u001b[39m'\u001b[39m)\n",
      "Cell \u001b[0;32mIn[2], line 2\u001b[0m, in \u001b[0;36mshow_logs_at_level\u001b[0;34m(level)\u001b[0m\n\u001b[1;32m      1\u001b[0m \u001b[39mdef\u001b[39;00m \u001b[39mshow_logs_at_level\u001b[39m(level: \u001b[39mstr\u001b[39m) \u001b[39m-\u001b[39m\u001b[39m>\u001b[39m \u001b[39mNone\u001b[39;00m:\n\u001b[0;32m----> 2\u001b[0m     logger\u001b[39m.\u001b[39msetLevel(\u001b[39mgetattr\u001b[39m(logging, level))\n\u001b[1;32m      3\u001b[0m     \u001b[39mprint\u001b[39m(\u001b[39m'\u001b[39m\u001b[39mOnce logging has begun, print statements will not reliably print\u001b[39m\u001b[39m'\u001b[39m)\n\u001b[1;32m      4\u001b[0m     logger\u001b[39m.\u001b[39mdebug(\u001b[39m'\u001b[39m\u001b[39mThis will be surfaced while logging is at debug level\u001b[39m\u001b[39m'\u001b[39m)\n",
      "\u001b[0;31mNameError\u001b[0m: name 'logging' is not defined"
     ]
    }
   ],
   "source": [
    "def show_logs_at_level(level: str) -> None:\n",
    "    logger.setLevel(getattr(logging, level))\n",
    "    print('Once logging has begun, print statements will not reliably print')\n",
    "    logger.debug('This will be surfaced while logging is at debug level')\n",
    "    logger.info('This will be surfaced while logging is at info level or lower')\n",
    "    logger.warning('This will be surfaced while logging is at warning level or lower')\n",
    "    logger.error('This will be surfaced while logging is at error level or lower')\n",
    "    logger.critical('This will always be surfaced\\n\\n')\n",
    "\n",
    "show_logs_at_level('DEBUG')\n",
    "\n",
    "show_logs_at_level('INFO')\n",
    "\n",
    "show_logs_at_level('WARNING')\n",
    "\n",
    "show_logs_at_level('ERROR')\n",
    "\n",
    "show_logs_at_level('CRITICAL')"
   ]
  },
  {
   "cell_type": "markdown",
   "metadata": {},
   "source": [
    "### Long log strings"
   ]
  },
  {
   "cell_type": "code",
   "execution_count": 2,
   "metadata": {},
   "outputs": [
    {
     "name": "stderr",
     "output_type": "stream",
     "text": [
      "/tmp/ipykernel_17604/2650777704.py:3: DeprecationWarning: The 'warn' method is deprecated, use 'warning' instead\n",
      "  logger.warn('In print statements, one uses \\\\n followed by closing quote, and comma, then start a new line with a new quote to print long lines. This does not work in log messages.')\n",
      "2023-07-29 11:51:25,402 - config - WARNING :\n",
      "\n",
      "\t\t In print statements, one uses \\n followed by closing quote, and comma, then start a new line with a new quote to print long lines. This does not work in log messages.\n",
      "\n",
      "\n"
     ]
    }
   ],
   "source": [
    "from config import logger\n",
    "\n",
    "logger.warn('In print statements, one uses \\\\n followed by closing quote, and comma, then start a new line with a new quote to print long lines. This does not work in log messages.')\n",
    "\n",
    "# logger.info('In print statements, one uses \\n \\\n",
    "#             followed by closing quote, and comma, then start a new line with a new quote to print long lines. This does not work in log messages.')\n",
    "\n",
    "# logger.info('In print statements, one uses \\\n",
    "#             followed by closing quote, and comma, then start a new line with a new quote to print long lines. This does not work in log messages.')\n",
    "\n",
    "# logger.info('\\\n",
    "#             In print statements, one uses \\\n",
    "#             followed by closing quote, and comma, then start a new line with a new quote to print long lines. This does not work in log messages.')\n",
    "\n",
    "# logger.info('\\n\\\n",
    "#             In print statements, one uses \\\n",
    "#             followed by closing quote, and comma, then start a new line with a new quote to print long lines. This does not work in log messages.')\n",
    "\n",
    "# logger.info('\\n\\\n",
    "#             In print statements, one uses followed by closing quote, and\\n\\\n",
    "#             comma, then start a new line with a new quote to print long\\n\\\n",
    "#             lines. This does not work in log messages.\\n\\\n",
    "#             ')"
   ]
  }
 ],
 "metadata": {
  "kernelspec": {
   "display_name": "Python 3",
   "language": "python",
   "name": "python3"
  },
  "language_info": {
   "codemirror_mode": {
    "name": "ipython",
    "version": 3
   },
   "file_extension": ".py",
   "mimetype": "text/x-python",
   "name": "python",
   "nbconvert_exporter": "python",
   "pygments_lexer": "ipython3",
   "version": "3.9.17"
  },
  "orig_nbformat": 4
 },
 "nbformat": 4,
 "nbformat_minor": 2
}
