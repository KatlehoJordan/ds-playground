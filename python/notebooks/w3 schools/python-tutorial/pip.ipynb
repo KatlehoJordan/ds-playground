{
 "cells": [
  {
   "cell_type": "markdown",
   "metadata": {},
   "source": [
    "# Python Tutorial\n",
    "\n",
    "https://www.w3schools.com/python/"
   ]
  },
  {
   "cell_type": "markdown",
   "metadata": {},
   "source": [
    "## pip"
   ]
  },
  {
   "cell_type": "code",
   "execution_count": null,
   "metadata": {},
   "outputs": [],
   "source": [
    "print('pip is installed with python 3.4 or later')\n",
    "\n",
    "print('It is used from the command line. To do that in Jupyter, prepend\\n',\n",
    "      'a cell with !')"
   ]
  },
  {
   "cell_type": "code",
   "execution_count": 4,
   "metadata": {},
   "outputs": [
    {
     "name": "stdout",
     "output_type": "stream",
     "text": [
      "pip 23.0.1 from /usr/local/lib/python3.9/site-packages/pip (python 3.9)\n"
     ]
    }
   ],
   "source": [
    "! #Check the pip version\n",
    "! pip --version"
   ]
  },
  {
   "cell_type": "code",
   "execution_count": 5,
   "metadata": {},
   "outputs": [
    {
     "name": "stdout",
     "output_type": "stream",
     "text": [
      "Package                   Version\n",
      "------------------------- -----------\n",
      "asttokens                 2.2.1\n",
      "attrs                     23.1.0\n",
      "backcall                  0.2.0\n",
      "build                     0.10.0\n",
      "CacheControl              0.12.14\n",
      "certifi                   2023.7.22\n",
      "cffi                      1.15.1\n",
      "charset-normalizer        3.2.0\n",
      "cleo                      2.0.1\n",
      "comm                      0.1.3\n",
      "crashtest                 0.4.1\n",
      "cryptography              41.0.2\n",
      "debugpy                   1.6.7\n",
      "decorator                 5.1.1\n",
      "distlib                   0.3.7\n",
      "dulwich                   0.21.5\n",
      "exceptiongroup            1.1.2\n",
      "executing                 1.2.0\n",
      "fastjsonschema            2.18.0\n",
      "filelock                  3.12.2\n",
      "html5lib                  1.1\n",
      "idna                      3.4\n",
      "importlib-metadata        6.8.0\n",
      "iniconfig                 2.0.0\n",
      "installer                 0.7.0\n",
      "ipykernel                 6.25.0\n",
      "ipython                   8.14.0\n",
      "jaraco.classes            3.3.0\n",
      "jedi                      0.18.2\n",
      "jeepney                   0.8.0\n",
      "jsonschema                4.18.4\n",
      "jsonschema-specifications 2023.7.1\n",
      "jupyter_client            8.3.0\n",
      "jupyter_core              5.3.1\n",
      "keyring                   23.13.1\n",
      "lockfile                  0.12.2\n",
      "matplotlib-inline         0.1.6\n",
      "more-itertools            10.0.0\n",
      "msgpack                   1.0.5\n",
      "nbformat                  5.9.1\n",
      "nest-asyncio              1.5.6\n",
      "packaging                 23.1\n",
      "parso                     0.8.3\n",
      "pexpect                   4.8.0\n",
      "pickleshare               0.7.5\n",
      "pip                       23.0.1\n",
      "pkginfo                   1.9.6\n",
      "platformdirs              3.9.1\n",
      "pluggy                    1.2.0\n",
      "poetry                    1.5.1\n",
      "poetry-core               1.6.1\n",
      "poetry-plugin-export      1.4.0\n",
      "prompt-toolkit            3.0.39\n",
      "psutil                    5.9.5\n",
      "ptyprocess                0.7.0\n",
      "pure-eval                 0.2.2\n",
      "pycparser                 2.21\n",
      "Pygments                  2.15.1\n",
      "pyproject_hooks           1.0.0\n",
      "pytest                    7.4.0\n",
      "python-dateutil           2.8.2\n",
      "pyzmq                     25.1.0\n",
      "rapidfuzz                 2.15.1\n",
      "referencing               0.30.0\n",
      "requests                  2.31.0\n",
      "requests-toolbelt         1.0.0\n",
      "rpds-py                   0.9.2\n",
      "SecretStorage             3.3.3\n",
      "setuptools                58.1.0\n",
      "shellingham               1.5.0.post1\n",
      "six                       1.16.0\n",
      "stack-data                0.6.2\n",
      "tomli                     2.0.1\n",
      "tomlkit                   0.12.1\n",
      "tornado                   6.3.2\n",
      "traitlets                 5.9.0\n",
      "trove-classifiers         2023.7.6\n",
      "typing_extensions         4.5.0\n",
      "urllib3                   1.26.16\n",
      "virtualenv                20.24.2\n",
      "wcwidth                   0.2.6\n",
      "webencodings              0.5.1\n",
      "wheel                     0.40.0\n",
      "zipp                      3.16.2\n",
      "\n",
      "\u001b[1m[\u001b[0m\u001b[34;49mnotice\u001b[0m\u001b[1;39;49m]\u001b[0m\u001b[39;49m A new release of pip is available: \u001b[0m\u001b[31;49m23.0.1\u001b[0m\u001b[39;49m -> \u001b[0m\u001b[32;49m23.2.1\u001b[0m\n",
      "\u001b[1m[\u001b[0m\u001b[34;49mnotice\u001b[0m\u001b[1;39;49m]\u001b[0m\u001b[39;49m To update, run: \u001b[0m\u001b[32;49mpip install --upgrade pip\u001b[0m\n"
     ]
    }
   ],
   "source": [
    "# Get the list of installed packages\n",
    "!pip list"
   ]
  },
  {
   "cell_type": "code",
   "execution_count": 6,
   "metadata": {},
   "outputs": [
    {
     "name": "stdout",
     "output_type": "stream",
     "text": [
      "Collecting camelcase\n",
      "  Downloading camelcase-0.2.tar.gz (1.3 kB)\n",
      "  Preparing metadata (setup.py) ... \u001b[?25ldone\n",
      "\u001b[?25hBuilding wheels for collected packages: camelcase\n",
      "  Building wheel for camelcase (setup.py) ... \u001b[?25ldone\n",
      "\u001b[?25h  Created wheel for camelcase: filename=camelcase-0.2-py3-none-any.whl size=1789 sha256=598787da314f65637fcb5d8ba608edeff33b259086d6db43c103ff52f3568522\n",
      "  Stored in directory: /root/.cache/pip/wheels/c3/9a/eb/7eca0b069ef85183fd3215aa793d8ffa56ae5b424912c311df\n",
      "Successfully built camelcase\n",
      "Installing collected packages: camelcase\n",
      "Successfully installed camelcase-0.2\n",
      "\n",
      "\u001b[1m[\u001b[0m\u001b[34;49mnotice\u001b[0m\u001b[1;39;49m]\u001b[0m\u001b[39;49m A new release of pip is available: \u001b[0m\u001b[31;49m23.0.1\u001b[0m\u001b[39;49m -> \u001b[0m\u001b[32;49m23.2.1\u001b[0m\n",
      "\u001b[1m[\u001b[0m\u001b[34;49mnotice\u001b[0m\u001b[1;39;49m]\u001b[0m\u001b[39;49m To update, run: \u001b[0m\u001b[32;49mpip install --upgrade pip\u001b[0m\n"
     ]
    }
   ],
   "source": [
    "# Install a new package\n",
    "! pip install camelcase"
   ]
  },
  {
   "cell_type": "code",
   "execution_count": 16,
   "metadata": {},
   "outputs": [
    {
     "name": "stdout",
     "output_type": "stream",
     "text": [
      "Observe the contents of the new package\n",
      "CamelCase\n",
      "__builtins__\n",
      "__cached__\n",
      "__doc__\n",
      "__file__\n",
      "__loader__\n",
      "__name__\n",
      "__package__\n",
      "__path__\n",
      "__spec__\n",
      "main\n",
      "Get the docs for the promising object\n",
      "\n",
      "\tThis Class turns stings into CamelCase except for a list of 'stop words'\n",
      "\t\n",
      "Get the names for the CamelCase class\n",
      "__class__\n",
      "__delattr__\n",
      "__dict__\n",
      "__dir__\n",
      "__doc__\n",
      "__eq__\n",
      "__format__\n",
      "__ge__\n",
      "__getattribute__\n",
      "__gt__\n",
      "__hash__\n",
      "__init__\n",
      "__init_subclass__\n",
      "__le__\n",
      "__lt__\n",
      "__module__\n",
      "__ne__\n",
      "__new__\n",
      "__reduce__\n",
      "__reduce_ex__\n",
      "__repr__\n",
      "__setattr__\n",
      "__sizeof__\n",
      "__str__\n",
      "__subclasshook__\n",
      "__weakref__\n",
      "hump\n",
      "Get the names for the `hump` method\n",
      "\n",
      "\t\tHump is a method that takes an inputted string and turns it into camel case format.\n",
      "\t\t\n",
      "hellogoodworld\n",
      "Hellogoodworld\n",
      "I am not impressed. This just does proper case, and the syntax is \n",
      " pretty ugly (make a class just to get the function?)\n"
     ]
    }
   ],
   "source": [
    "print('Observe the contents of the new package')\n",
    "\n",
    "import camelcase\n",
    "\n",
    "for key in dir(camelcase):\n",
    "    print(key)\n",
    "    \n",
    "print('Get the docs for the promising object')\n",
    "\n",
    "print(camelcase.CamelCase.__doc__)\n",
    "\n",
    "print('Get the names for the CamelCase class')\n",
    "\n",
    "for key in dir(camelcase.CamelCase):\n",
    "    print(key)\n",
    "\n",
    "print('Get the names for the `hump` method')\n",
    "\n",
    "print(camelcase.CamelCase.hump.__doc__)\n",
    "\n",
    "my_string = 'hellogoodworld'\n",
    "\n",
    "print(my_string)\n",
    "\n",
    "print(camelcase.CamelCase().hump(my_string))\n",
    "\n",
    "print('I am not impressed. This just does proper case, and the syntax is \\n',\n",
    "      'pretty ugly (make a class just to get the function?)')"
   ]
  },
  {
   "cell_type": "code",
   "execution_count": 18,
   "metadata": {},
   "outputs": [
    {
     "name": "stdout",
     "output_type": "stream",
     "text": [
      "Found existing installation: camelcase 0.2\n",
      "Uninstalling camelcase-0.2:\n",
      "  Successfully uninstalled camelcase-0.2\n"
     ]
    }
   ],
   "source": [
    "# Uninstall the package\n",
    "! pip uninstall camelcase -y"
   ]
  },
  {
   "cell_type": "code",
   "execution_count": 19,
   "metadata": {},
   "outputs": [
    {
     "name": "stdout",
     "output_type": "stream",
     "text": [
      "Package                   Version\n",
      "------------------------- -----------\n",
      "asttokens                 2.2.1\n",
      "attrs                     23.1.0\n",
      "backcall                  0.2.0\n",
      "build                     0.10.0\n",
      "CacheControl              0.12.14\n",
      "certifi                   2023.7.22\n",
      "cffi                      1.15.1\n",
      "charset-normalizer        3.2.0\n",
      "cleo                      2.0.1\n",
      "comm                      0.1.3\n",
      "crashtest                 0.4.1\n",
      "cryptography              41.0.2\n",
      "debugpy                   1.6.7\n",
      "decorator                 5.1.1\n",
      "distlib                   0.3.7\n",
      "dulwich                   0.21.5\n",
      "exceptiongroup            1.1.2\n",
      "executing                 1.2.0\n",
      "fastjsonschema            2.18.0\n",
      "filelock                  3.12.2\n",
      "html5lib                  1.1\n",
      "idna                      3.4\n",
      "importlib-metadata        6.8.0\n",
      "iniconfig                 2.0.0\n",
      "installer                 0.7.0\n",
      "ipykernel                 6.25.0\n",
      "ipython                   8.14.0\n",
      "jaraco.classes            3.3.0\n",
      "jedi                      0.18.2\n",
      "jeepney                   0.8.0\n",
      "jsonschema                4.18.4\n",
      "jsonschema-specifications 2023.7.1\n",
      "jupyter_client            8.3.0\n",
      "jupyter_core              5.3.1\n",
      "keyring                   23.13.1\n",
      "lockfile                  0.12.2\n",
      "matplotlib-inline         0.1.6\n",
      "more-itertools            10.0.0\n",
      "msgpack                   1.0.5\n",
      "nbformat                  5.9.1\n",
      "nest-asyncio              1.5.6\n",
      "packaging                 23.1\n",
      "parso                     0.8.3\n",
      "pexpect                   4.8.0\n",
      "pickleshare               0.7.5\n",
      "pip                       23.0.1\n",
      "pkginfo                   1.9.6\n",
      "platformdirs              3.9.1\n",
      "pluggy                    1.2.0\n",
      "poetry                    1.5.1\n",
      "poetry-core               1.6.1\n",
      "poetry-plugin-export      1.4.0\n",
      "prompt-toolkit            3.0.39\n",
      "psutil                    5.9.5\n",
      "ptyprocess                0.7.0\n",
      "pure-eval                 0.2.2\n",
      "pycparser                 2.21\n",
      "Pygments                  2.15.1\n",
      "pyproject_hooks           1.0.0\n",
      "pytest                    7.4.0\n",
      "python-dateutil           2.8.2\n",
      "pyzmq                     25.1.0\n",
      "rapidfuzz                 2.15.1\n",
      "referencing               0.30.0\n",
      "requests                  2.31.0\n",
      "requests-toolbelt         1.0.0\n",
      "rpds-py                   0.9.2\n",
      "SecretStorage             3.3.3\n",
      "setuptools                58.1.0\n",
      "shellingham               1.5.0.post1\n",
      "six                       1.16.0\n",
      "stack-data                0.6.2\n",
      "tomli                     2.0.1\n",
      "tomlkit                   0.12.1\n",
      "tornado                   6.3.2\n",
      "traitlets                 5.9.0\n",
      "trove-classifiers         2023.7.6\n",
      "typing_extensions         4.5.0\n",
      "urllib3                   1.26.16\n",
      "virtualenv                20.24.2\n",
      "wcwidth                   0.2.6\n",
      "webencodings              0.5.1\n",
      "wheel                     0.40.0\n",
      "zipp                      3.16.2\n",
      "\n",
      "\u001b[1m[\u001b[0m\u001b[34;49mnotice\u001b[0m\u001b[1;39;49m]\u001b[0m\u001b[39;49m A new release of pip is available: \u001b[0m\u001b[31;49m23.0.1\u001b[0m\u001b[39;49m -> \u001b[0m\u001b[32;49m23.2.1\u001b[0m\n",
      "\u001b[1m[\u001b[0m\u001b[34;49mnotice\u001b[0m\u001b[1;39;49m]\u001b[0m\u001b[39;49m To update, run: \u001b[0m\u001b[32;49mpip install --upgrade pip\u001b[0m\n"
     ]
    }
   ],
   "source": [
    "# List packages\n",
    "! pip list"
   ]
  }
 ],
 "metadata": {
  "kernelspec": {
   "display_name": "Python 3",
   "language": "python",
   "name": "python3"
  },
  "language_info": {
   "codemirror_mode": {
    "name": "ipython",
    "version": 3
   },
   "file_extension": ".py",
   "mimetype": "text/x-python",
   "name": "python",
   "nbconvert_exporter": "python",
   "pygments_lexer": "ipython3",
   "version": "3.9.17"
  },
  "orig_nbformat": 4
 },
 "nbformat": 4,
 "nbformat_minor": 2
}
