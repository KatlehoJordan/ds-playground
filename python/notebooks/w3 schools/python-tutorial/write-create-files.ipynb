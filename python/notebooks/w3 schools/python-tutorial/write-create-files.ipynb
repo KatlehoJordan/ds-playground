{
 "cells": [
  {
   "cell_type": "markdown",
   "metadata": {},
   "source": [
    "# Python Tutorial\n",
    "\n",
    "https://www.w3schools.com/python/"
   ]
  },
  {
   "cell_type": "markdown",
   "metadata": {},
   "source": [
    "## Write-Create Files\n",
    "  \n",
    "The write or append to existing files, use `open(mode=['w', 'a'])`.\n",
    "\n",
    "Then, within the context, use `_io.TextIOWrapper.write('your string here')`"
   ]
  },
  {
   "cell_type": "code",
   "execution_count": 2,
   "metadata": {},
   "outputs": [
    {
     "name": "stderr",
     "output_type": "stream",
     "text": [
      "On 2023-07-30 at 17:07:06 default non-root logger logged a message\n",
      "INFO:\n",
      "Creating the file\n",
      "\n",
      "\tModule: 838878489\tFunction: <module>\n",
      "\tFile: 838878489.py \tLine: 5\n",
      "\n",
      "\n",
      "On 2023-07-30 at 17:07:06 default non-root logger logged a message\n",
      "INFO:\n",
      "Appending the file\n",
      "\n",
      "\tModule: 838878489\tFunction: <module>\n",
      "\tFile: 838878489.py \tLine: 9\n",
      "\n",
      "\n",
      "On 2023-07-30 at 17:07:06 default non-root logger logged a message\n",
      "INFO:\n",
      "Reading the file\n",
      "\n",
      "\tModule: 838878489\tFunction: <module>\n",
      "\tFile: 838878489.py \tLine: 13\n",
      "\n",
      "\n",
      "Writing the first line\n",
      "Appending this second line\n"
     ]
    }
   ],
   "source": [
    "from configurations import logger, printer\n",
    "\n",
    "new_file_to_write = 'write-create-files.txt'\n",
    "\n",
    "logger.info('Creating the file with some text')\n",
    "with open(new_file_to_write, 'w') as file:\n",
    "    file.write('Writing the first line')\n",
    "\n",
    "logger.info('Appending the file')\n",
    "with open(new_file_to_write, 'a') as file:\n",
    "    file.write('\\nAppending this second line')\n",
    "\n",
    "logger.info('Reading the file')\n",
    "with open(new_file_to_write, 'r') as file:\n",
    "    printer(file.read())"
   ]
  },
  {
   "cell_type": "markdown",
   "metadata": {},
   "source": [
    "Note that using `mode='w'` will allow you to overwrite file contents without warning you."
   ]
  },
  {
   "cell_type": "code",
   "execution_count": 3,
   "metadata": {},
   "outputs": [
    {
     "name": "stderr",
     "output_type": "stream",
     "text": [
      "On 2023-07-30 at 17:08:52 default non-root logger logged a message\n",
      "INFO:\n",
      "Overwriting the file with new text\n",
      "\n",
      "\tModule: 1345049782\tFunction: <module>\n",
      "\tFile: 1345049782.py \tLine: 5\n",
      "\n",
      "\n",
      "On 2023-07-30 at 17:08:52 default non-root logger logged a message\n",
      "INFO:\n",
      "Reading the file\n",
      "\n",
      "\tModule: 1345049782\tFunction: <module>\n",
      "\tFile: 1345049782.py \tLine: 9\n",
      "\n",
      "\n",
      "This is new text that was not there before\n"
     ]
    }
   ],
   "source": [
    "from configurations import logger, printer\n",
    "\n",
    "new_file_to_write = 'write-create-files.txt'\n",
    "\n",
    "logger.info('Overwriting the file with new text')\n",
    "with open(new_file_to_write, 'w') as file:\n",
    "    file.write('This is new text that was not there before')\n",
    "\n",
    "logger.info('Reading the file')\n",
    "with open(new_file_to_write, 'r') as file:\n",
    "    printer(file.read())"
   ]
  },
  {
   "cell_type": "markdown",
   "metadata": {},
   "source": [
    "### Create a New File\n",
    "\n",
    "Because `mode='w'` allows you to overwrite files without a warning, one is best served by defensively checking if the file exists before writing to it.\n",
    "\n",
    "There are a few ways.\n",
    "\n",
    "#### 1. Use the `open(<file>, mode='x')` to try to create the file first"
   ]
  },
  {
   "cell_type": "code",
   "execution_count": 2,
   "metadata": {},
   "outputs": [
    {
     "name": "stderr",
     "output_type": "stream",
     "text": [
      "2023-07-30 17:51:46 \n",
      "\tLogger: default non-root Module: 3258010846 Function: <module> File: 3258010846.py Line: 6\n",
      "INFO:\n",
      "Creating file and overwriting if any contents present\n",
      "\n",
      "\n",
      "2023-07-30 17:51:46 \n",
      "\tLogger: default non-root Module: 3258010846 Function: <module> File: 3258010846.py Line: 18\n",
      "INFO:\n",
      "Attempt to make the file and write to it failed.\n",
      "Using mode=\"x\" prevented writing to file that already exists\n",
      "Exception raised: [Errno 17] File exists: 'write-create-files.txt'\n",
      "\n",
      "\n",
      "2023-07-30 17:51:46 \n",
      "\tLogger: default non-root Module: 3258010846 Function: <module> File: 3258010846.py Line: 26\n",
      "INFO:\n",
      "Reading the file\n",
      "\n",
      "\n",
      "desired final contents\n"
     ]
    }
   ],
   "source": [
    "from configurations import logger, printer\n",
    "\n",
    "new_file_to_write = 'write-create-files.txt'\n",
    "message_to_try_to_write = 'Your logic failed; you wrote to the file \\U0001F621'\n",
    "\n",
    "logger.info('Creating file and overwriting if any contents present')\n",
    "with open(new_file_to_write, 'w') as file:\n",
    "    file.write('desired final contents')\n",
    "\n",
    "try:\n",
    "    with open(new_file_to_write, 'x') as file:\n",
    "        logger.warning('mode=\"x\" did not prevent from apparently creating file')\n",
    "        pass\n",
    "    with open(new_file_to_write, 'w') as file:\n",
    "        logger.warning('Apparently writing to file though mode = \"x\"')\n",
    "        file.write(message_to_try_to_write)\n",
    "except Exception as excpetion:\n",
    "    logger.info(\n",
    "        'Attempt to make the file and write to it failed.\\n'\n",
    "        'Using mode=\"x\" prevented writing to file that already exists\\n'\n",
    "        'Exception raised: %s', excpetion\n",
    "        )\n",
    "else:\n",
    "    logger.warning('Using open with \"x\" did not prevent overwriting to it')\n",
    "\n",
    "logger.info('Reading the file')\n",
    "with open(new_file_to_write, 'r') as file:\n",
    "    printer(file.read())"
   ]
  },
  {
   "cell_type": "markdown",
   "metadata": {},
   "source": [
    "#### 2. Check if the file exists using `os.path.isfile(<file>)`"
   ]
  },
  {
   "cell_type": "code",
   "execution_count": 6,
   "metadata": {},
   "outputs": [
    {
     "name": "stderr",
     "output_type": "stream",
     "text": [
      "On 2023-07-30 at 17:36:58 default non-root logger logged a message\n",
      "INFO:\n",
      "Creating file and overwriting if any contents present\n",
      "\n",
      "\tModule: 4082026716\tFunction: <module>\n",
      "\tFile: 4082026716.py \tLine: 7\n",
      "\n",
      "\n",
      "On 2023-07-30 at 17:36:58 default non-root logger logged a message\n",
      "INFO:\n",
      "Using `os.path.isfile()` to check if file detected\n",
      "\n",
      "\tModule: 4082026716\tFunction: <module>\n",
      "\tFile: 4082026716.py \tLine: 11\n",
      "\n",
      "\n",
      "On 2023-07-30 at 17:36:58 default non-root logger logged a message\n",
      "INFO:\n",
      "`os.path.isfile()` did detect file. Skipping writing\n",
      "\n",
      "\tModule: 4082026716\tFunction: <module>\n",
      "\tFile: 4082026716.py \tLine: 13\n",
      "\n",
      "\n",
      "On 2023-07-30 at 17:36:58 default non-root logger logged a message\n",
      "INFO:\n",
      "Reading the file\n",
      "\n",
      "\tModule: 4082026716\tFunction: <module>\n",
      "\tFile: 4082026716.py \tLine: 21\n",
      "\n",
      "\n",
      "desired final contents\n"
     ]
    }
   ],
   "source": [
    "import os\n",
    "from configurations import logger, printer\n",
    "\n",
    "new_file_to_write = 'write-create-files.txt'\n",
    "message_to_try_to_write = 'Your logic failed; you wrote to the file \\U0001F621'\n",
    "\n",
    "logger.info('Creating file and overwriting if any contents present')\n",
    "with open(new_file_to_write, 'w') as file:\n",
    "    file.write('desired final contents')\n",
    "\n",
    "logger.info('Using `os.path.isfile()` to check if file detected')\n",
    "if os.path.isfile(new_file_to_write):\n",
    "    logger.info('`os.path.isfile()` did detect file. Skipping writing')\n",
    "    pass\n",
    "else:\n",
    "    logger.warning('`os.path.isfile()` did not detect file. Overwriting')\n",
    "    with open(new_file_to_write, 'w') as file:\n",
    "        logger.warning('Apparently writing to file')\n",
    "        file.write(message_to_try_to_write)\n",
    "\n",
    "logger.info('Reading the file')\n",
    "with open(new_file_to_write, 'r') as file:\n",
    "    printer(file.read())"
   ]
  },
  {
   "cell_type": "markdown",
   "metadata": {},
   "source": [
    "#### 3. Check if the file exists using `PATH(<file>).is_file()`"
   ]
  },
  {
   "cell_type": "code",
   "execution_count": 1,
   "metadata": {},
   "outputs": [
    {
     "name": "stderr",
     "output_type": "stream",
     "text": [
      "2023-07-30 17:48:08 \n",
      "\tLogger: default non-root Module: 1721803019 Function: <module> File: 1721803019.py Line: 7\n",
      "INFO:\n",
      "Creating file and overwriting if any contents present\n",
      "\n",
      "\n",
      "2023-07-30 17:48:08 \n",
      "\tLogger: default non-root Module: 1721803019 Function: <module> File: 1721803019.py Line: 11\n",
      "INFO:\n",
      "Using `Path().is_file()` to check if file detected\n",
      "\n",
      "\n",
      "2023-07-30 17:48:08 \n",
      "\tLogger: default non-root Module: 1721803019 Function: <module> File: 1721803019.py Line: 13\n",
      "INFO:\n",
      "`Path().is_file()` did detect file. Skipping writing\n",
      "\n",
      "\n",
      "2023-07-30 17:48:08 \n",
      "\tLogger: default non-root Module: 1721803019 Function: <module> File: 1721803019.py Line: 21\n",
      "INFO:\n",
      "Reading the file\n",
      "\n",
      "\n",
      "desired final contents\n"
     ]
    }
   ],
   "source": [
    "from pathlib import Path\n",
    "from configurations import logger, printer\n",
    "\n",
    "new_file_to_write = 'write-create-files.txt'\n",
    "message_to_try_to_write = 'Your logic failed; you wrote to the file \\U0001F621'\n",
    "\n",
    "logger.info('Creating file and overwriting if any contents present')\n",
    "with open(new_file_to_write, 'w') as file:\n",
    "    file.write('desired final contents')\n",
    "\n",
    "logger.info('Using `Path().is_file()` to check if file detected')\n",
    "if Path(new_file_to_write).is_file():\n",
    "    logger.info('`Path().is_file()` did detect file. Skipping writing')\n",
    "    pass\n",
    "else:\n",
    "    logger.warning('`Path().is_file()` did not detect file. Overwriting')\n",
    "    with open(new_file_to_write, 'w') as file:\n",
    "        logger.warning('Apparently writing to file')\n",
    "        file.write(message_to_try_to_write)\n",
    "\n",
    "logger.info('Reading the file')\n",
    "with open(new_file_to_write, 'r') as file:\n",
    "    printer(file.read())"
   ]
  }
 ],
 "metadata": {
  "kernelspec": {
   "display_name": "Python 3",
   "language": "python",
   "name": "python3"
  },
  "language_info": {
   "codemirror_mode": {
    "name": "ipython",
    "version": 3
   },
   "file_extension": ".py",
   "mimetype": "text/x-python",
   "name": "python",
   "nbconvert_exporter": "python",
   "pygments_lexer": "ipython3",
   "version": "3.9.17"
  },
  "orig_nbformat": 4
 },
 "nbformat": 4,
 "nbformat_minor": 2
}
