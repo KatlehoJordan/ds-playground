{
 "cells": [
  {
   "cell_type": "markdown",
   "metadata": {},
   "source": [
    "# Python Tutorial\n",
    "\n",
    "https://www.w3schools.com/python/"
   ]
  },
  {
   "cell_type": "markdown",
   "metadata": {},
   "source": [
    "## JSON"
   ]
  },
  {
   "cell_type": "code",
   "execution_count": 1,
   "metadata": {},
   "outputs": [
    {
     "name": "stdout",
     "output_type": "stream",
     "text": [
      "Python has the package `json` for converting between JSON and python\n",
      " objects.\n",
      "JSONDecodeError\n",
      "JSONDecoder\n",
      "JSONEncoder\n",
      "__all__\n",
      "__author__\n",
      "__builtins__\n",
      "__cached__\n",
      "__doc__\n",
      "__file__\n",
      "__loader__\n",
      "__name__\n",
      "__package__\n",
      "__path__\n",
      "__spec__\n",
      "__version__\n",
      "_default_decoder\n",
      "_default_encoder\n",
      "codecs\n",
      "decoder\n",
      "detect_encoding\n",
      "dump\n",
      "dumps\n",
      "encoder\n",
      "load\n",
      "loads\n",
      "scanner\n"
     ]
    }
   ],
   "source": [
    "print('Python has the package `json` for converting between JSON and python\\n',\n",
    "      'objects.')\n",
    "\n",
    "import json\n",
    "\n",
    "for name in dir(json):\n",
    "    print(name)"
   ]
  },
  {
   "cell_type": "markdown",
   "metadata": {},
   "source": [
    "### Parse JSON - Convert from JSON to Python"
   ]
  },
  {
   "cell_type": "code",
   "execution_count": 5,
   "metadata": {},
   "outputs": [
    {
     "name": "stdout",
     "output_type": "stream",
     "text": [
      "If you have a JSON string, use `json.loads()` to load the string to a\n",
      " python dictionary.\n",
      "{'name': 'John', 'age': 30, 'city': 'New York'}\n",
      "30\n",
      "dict_keys(['name', 'age', 'city'])\n"
     ]
    }
   ],
   "source": [
    "print('If you have a JSON string, use `json.loads()` to load the string to a\\n',\n",
    "      'python dictionary.')\n",
    "\n",
    "import json\n",
    "\n",
    "my_json_string = '{\"name\":\"John\",\"age\":30,\"city\":\"New York\"}'\n",
    "\n",
    "my_dictionary = json.loads(my_json_string)\n",
    "\n",
    "print(my_dictionary)\n",
    "\n",
    "print(my_dictionary['age'])\n",
    "print(my_dictionary.keys())"
   ]
  },
  {
   "cell_type": "markdown",
   "metadata": {},
   "source": [
    "### Convert from Python to JSON"
   ]
  },
  {
   "cell_type": "code",
   "execution_count": 9,
   "metadata": {},
   "outputs": [
    {
     "name": "stdout",
     "output_type": "stream",
     "text": [
      "Python objects can also be dumped to JSON strings with `dumps()`\n",
      "{\"name\": \"John\", \"age\": 30, \"city\": \"New York\"}\n",
      "<class 'str'>\n",
      "Any of these can be dumped to a JSON string:\n",
      " dict, list, tuple, string, int, float, True, False, None\n",
      "[\"abc\", \"def\"]\n",
      "[\"a\", \"tuple\"]\n",
      "\"simple string\"\n",
      "42\n",
      "31.76\n",
      "true\n",
      "false\n",
      "null\n",
      "A dictionary with various different data types can also be dumped\n",
      "{\"dictionary\": {\"first_key\": \"a\", \"second_key\": \"b\"}, \"list\": [\"item\", \"another\"], \"tuple\": [\"I will not\", \"be changable\"], \"string\": \"hi there\", \"integer\": 42, \"float\": 4.2, \"true\": true, \"false\": false, \"None\": null}\n"
     ]
    }
   ],
   "source": [
    "print('Python objects can also be dumped to JSON strings with `dumps()`')\n",
    "\n",
    "import json\n",
    "\n",
    "my_dictionary = {'name':'John', 'age': 30, 'city': 'New York'}\n",
    "\n",
    "my_json_string = json.dumps(my_dictionary)\n",
    "\n",
    "print(my_json_string)\n",
    "print(type(my_json_string))\n",
    "\n",
    "print('Any of these can be dumped to a JSON string:\\n',\n",
    "      'dict, list, tuple, string, int, float, True, False, None')\n",
    "\n",
    "print(json.dumps(['abc', 'def']))\n",
    "print(json.dumps(('a', 'tuple')))\n",
    "print(json.dumps('simple string'))\n",
    "print(json.dumps(42))\n",
    "print(json.dumps(31.76))\n",
    "print(json.dumps(True))\n",
    "print(json.dumps(False))\n",
    "print(json.dumps(None))\n",
    "\n",
    "\n",
    "print('A dictionary with various different data types can also be dumped')\n",
    "\n",
    "my_dictionary = {\n",
    "    'dictionary' : {'first_key': 'a', 'second_key': 'b'},\n",
    "    'list': ['item', 'another'],\n",
    "    'tuple': ('I will not', 'be changable'),\n",
    "    'string': 'hi there',\n",
    "    'integer': 42,\n",
    "    'float':4.2,\n",
    "    'true': True,\n",
    "    'false': False,\n",
    "    'None': None\n",
    "}\n",
    "\n",
    "print(json.dumps(my_dictionary))"
   ]
  },
  {
   "cell_type": "markdown",
   "metadata": {},
   "source": [
    "### Format the Result "
   ]
  },
  {
   "cell_type": "code",
   "execution_count": 12,
   "metadata": {},
   "outputs": [
    {
     "name": "stdout",
     "output_type": "stream",
     "text": [
      "`json.dumps()` does not have an easy-to-read print method. However\n",
      " it can be modified.\n",
      "{\n",
      "  \"dictionary\": {\n",
      "    \"first_key\": \"a\",\n",
      "    \"second_key\": \"b\"\n",
      "  },\n",
      "  \"list\": [\n",
      "    \"item\",\n",
      "    \"another\"\n",
      "  ],\n",
      "  \"tuple\": [\n",
      "    \"I will not\",\n",
      "    \"be changable\"\n",
      "  ],\n",
      "  \"string\": \"hi there\",\n",
      "  \"integer\": 42,\n",
      "  \"float\": 4.2,\n",
      "  \"true\": true,\n",
      "  \"false\": false,\n",
      "  \"None\": null\n",
      "}\n",
      "If you want to modify the separators, for example, if you want to\n",
      " produce an output format that is not strictly JSON, but perhaps YAML,\n",
      " it can be done with the `separators` argument\n",
      "{\n",
      "  \"dictionary\"{\n",
      "    \"first_key\"\"a\"\n",
      "    \"second_key\"\"b\"\n",
      "  }\n",
      "  \"list\"[\n",
      "    \"item\"\n",
      "    \"another\"\n",
      "  ]\n",
      "  \"tuple\"[\n",
      "    \"I will not\"\n",
      "    \"be changable\"\n",
      "  ]\n",
      "  \"string\"\"hi there\"\n",
      "  \"integer\"42\n",
      "  \"float\"4.2\n",
      "  \"true\"true\n",
      "  \"false\"false\n",
      "  \"None\"null\n",
      "}\n"
     ]
    }
   ],
   "source": [
    "print('`json.dumps()` does not have an easy-to-read print method. However\\n',\n",
    "      'it can be modified.')\n",
    "\n",
    "import json\n",
    "\n",
    "my_dictionary = {\n",
    "    'dictionary' : {'first_key': 'a', 'second_key': 'b'},\n",
    "    'list': ['item', 'another'],\n",
    "    'tuple': ('I will not', 'be changable'),\n",
    "    'string': 'hi there',\n",
    "    'integer': 42,\n",
    "    'float':4.2,\n",
    "    'true': True,\n",
    "    'false': False,\n",
    "    'None': None\n",
    "}\n",
    "\n",
    "print(json.dumps(my_dictionary, indent = 2))\n",
    "\n",
    "\n",
    "print('If you want to modify the separators, for example, if you want to\\n',\n",
    "      'produce an output format that is not strictly JSON,\\n',\n",
    "      'it can be done with the `separators` argument')\n",
    "\n",
    "print(json.dumps(my_dictionary, indent = 2, separators=('', ':'),))"
   ]
  },
  {
   "cell_type": "markdown",
   "metadata": {},
   "source": [
    "### Order the Result"
   ]
  },
  {
   "cell_type": "code",
   "execution_count": 13,
   "metadata": {},
   "outputs": [
    {
     "name": "stdout",
     "output_type": "stream",
     "text": [
      "The `sort_keys` argument can be used to sort the output\n",
      "{\n",
      "  \"None\": null,\n",
      "  \"dictionary\": {\n",
      "    \"first_key\": \"a\",\n",
      "    \"second_key\": \"b\"\n",
      "  },\n",
      "  \"false\": false,\n",
      "  \"float\": 4.2,\n",
      "  \"integer\": 42,\n",
      "  \"list\": [\n",
      "    \"item\",\n",
      "    \"another\"\n",
      "  ],\n",
      "  \"string\": \"hi there\",\n",
      "  \"true\": true,\n",
      "  \"tuple\": [\n",
      "    \"I will not\",\n",
      "    \"be changable\"\n",
      "  ]\n",
      "}\n"
     ]
    }
   ],
   "source": [
    "print('The `sort_keys` argument can be used to sort the output')\n",
    "\n",
    "import json\n",
    "\n",
    "my_dictionary = {\n",
    "    'dictionary' : {'first_key': 'a', 'second_key': 'b'},\n",
    "    'list': ['item', 'another'],\n",
    "    'tuple': ('I will not', 'be changable'),\n",
    "    'string': 'hi there',\n",
    "    'integer': 42,\n",
    "    'float':4.2,\n",
    "    'true': True,\n",
    "    'false': False,\n",
    "    'None': None\n",
    "}\n",
    "\n",
    "print(json.dumps(my_dictionary, indent = 2, sort_keys=True))"
   ]
  }
 ],
 "metadata": {
  "kernelspec": {
   "display_name": "Python 3",
   "language": "python",
   "name": "python3"
  },
  "language_info": {
   "codemirror_mode": {
    "name": "ipython",
    "version": 3
   },
   "file_extension": ".py",
   "mimetype": "text/x-python",
   "name": "python",
   "nbconvert_exporter": "python",
   "pygments_lexer": "ipython3",
   "version": "3.9.17"
  },
  "orig_nbformat": 4
 },
 "nbformat": 4,
 "nbformat_minor": 2
}
