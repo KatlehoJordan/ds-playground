{
 "cells": [
  {
   "cell_type": "markdown",
   "metadata": {},
   "source": [
    "# Python Tutorial\n",
    "\n",
    "https://www.w3schools.com/python/"
   ]
  },
  {
   "cell_type": "markdown",
   "metadata": {},
   "source": [
    "## Python Classes/Objects"
   ]
  },
  {
   "cell_type": "code",
   "execution_count": 1,
   "metadata": {},
   "outputs": [
    {
     "name": "stdout",
     "output_type": "stream",
     "text": [
      "Classes are general definitions of objects that can have similarly \n",
      " named attributes and methods that act on the instances of the objects\n",
      "my_instance has attribute x equal to 5\n"
     ]
    }
   ],
   "source": [
    "print('Classes are general definitions of objects that can have similarly \\n',\n",
    "      'named attributes and methods that act on the instances of the objects')\n",
    "\n",
    "class my_class:\n",
    "    x = 5\n",
    "\n",
    "my_instance = my_class()\n",
    "\n",
    "print(f'my_instance has attribute x equal to {my_instance.x}')"
   ]
  },
  {
   "cell_type": "markdown",
   "metadata": {},
   "source": [
    "### The `__init__` function"
   ]
  },
  {
   "cell_type": "code",
   "execution_count": 2,
   "metadata": {},
   "outputs": [
    {
     "name": "stdout",
     "output_type": "stream",
     "text": [
      "The `__init__` function is always part of a class. If you use it\n",
      " when defining a class, you can modify what happens when making an\n",
      " instance of the class.\n",
      "John\n",
      "36\n"
     ]
    }
   ],
   "source": [
    "print('The `__init__` function is always part of a class. If you use it\\n',\n",
    "      'when defining a class, you can modify what happens when making an\\n',\n",
    "      'instance of the class.')\n",
    "\n",
    "class Person:\n",
    "    def __init__(self, name, age) -> None:\n",
    "        self.name = name\n",
    "        self.age = age\n",
    "\n",
    "person_1 = Person('John', 36)\n",
    "print(person_1.name)\n",
    "print(person_1.age)"
   ]
  },
  {
   "cell_type": "markdown",
   "metadata": {},
   "source": [
    "### The `__str__` function"
   ]
  },
  {
   "cell_type": "code",
   "execution_count": 3,
   "metadata": {},
   "outputs": [
    {
     "name": "stdout",
     "output_type": "stream",
     "text": [
      "The `__str__` function will be used to determine what is printed\n",
      " when simply calling the string representation of a class\n",
      "<__main__.Person object at 0x7ff0ce6ae790>\n",
      "John(36)\n"
     ]
    }
   ],
   "source": [
    "print('The `__str__` function will be used to determine what is printed\\n',\n",
    "      'when simply calling the string representation of a class')\n",
    "\n",
    "class Person:\n",
    "    def __init__(self, name, age) -> None:\n",
    "        self.name = name\n",
    "        self.age = age\n",
    "\n",
    "person_1 = Person('John', 36)\n",
    "print(person_1)\n",
    "\n",
    "\n",
    "class Person_with_special_string_method:\n",
    "    def __init__(self, name, age) -> None:\n",
    "        self.name = name\n",
    "        self.age = age\n",
    "        \n",
    "    def __str__(self) -> str:\n",
    "        return f'{self.name}({self.age})'\n",
    "\n",
    "person_1 = Person_with_special_string_method('John', 36)\n",
    "print(person_1)"
   ]
  },
  {
   "cell_type": "markdown",
   "metadata": {},
   "source": [
    "### Methods"
   ]
  },
  {
   "cell_type": "code",
   "execution_count": 4,
   "metadata": {},
   "outputs": [
    {
     "name": "stdout",
     "output_type": "stream",
     "text": [
      "Methods are functions that belong to a class.\n",
      "Hello my name is John\n"
     ]
    }
   ],
   "source": [
    "print('Methods are functions that belong to a class.')\n",
    "\n",
    "class Person:\n",
    "    def __init__(self, name, age) -> None:\n",
    "        self.name = name\n",
    "        self.age = age\n",
    "\n",
    "    def my_method(self):\n",
    "        print(f'Hello my name is {self.name}')\n",
    "\n",
    "person_1 = Person('John', 36)\n",
    "person_1.my_method()"
   ]
  },
  {
   "cell_type": "markdown",
   "metadata": {},
   "source": [
    "### The `self` parameter"
   ]
  },
  {
   "cell_type": "code",
   "execution_count": 5,
   "metadata": {},
   "outputs": [
    {
     "name": "stdout",
     "output_type": "stream",
     "text": [
      "The `self` parameter refers to the current instance of a class.\n",
      " It is called `self` by convention, but could have another name.\n",
      "John\n"
     ]
    }
   ],
   "source": [
    "print('The `self` parameter refers to the current instance of a class.\\n',\n",
    "      'It is called `self` by convention, but could have another name.')\n",
    "\n",
    "\n",
    "class Person:\n",
    "    def __init__(other_name, name, age) -> None:\n",
    "        other_name.name = name\n",
    "        other_name.age = age\n",
    "\n",
    "person_1 = Person('John', 36)\n",
    "print(person_1.name)"
   ]
  },
  {
   "cell_type": "markdown",
   "metadata": {},
   "source": [
    "### Modify attributes"
   ]
  },
  {
   "cell_type": "code",
   "execution_count": 6,
   "metadata": {},
   "outputs": [
    {
     "name": "stdout",
     "output_type": "stream",
     "text": [
      "Attributes can be modified by re-assignment\n",
      "John\n",
      "David\n"
     ]
    }
   ],
   "source": [
    "print('Attributes can be modified by re-assignment')\n",
    "\n",
    "class Person:\n",
    "    def __init__(other_name, name, age) -> None:\n",
    "        other_name.name = name\n",
    "        other_name.age = age\n",
    "\n",
    "person_1 = Person('John', 36)\n",
    "print(person_1.name)\n",
    "\n",
    "person_1.name = 'David'\n",
    "print(person_1.name)"
   ]
  },
  {
   "cell_type": "markdown",
   "metadata": {},
   "source": [
    "### Deleting object attributes"
   ]
  },
  {
   "cell_type": "code",
   "execution_count": 7,
   "metadata": {},
   "outputs": [
    {
     "name": "stdout",
     "output_type": "stream",
     "text": [
      "Attributes can be deleted with `del`\n",
      "John\n"
     ]
    },
    {
     "ename": "AttributeError",
     "evalue": "'Person' object has no attribute 'name'",
     "output_type": "error",
     "traceback": [
      "\u001b[0;31m---------------------------------------------------------------------------\u001b[0m",
      "\u001b[0;31mAttributeError\u001b[0m                            Traceback (most recent call last)",
      "Cell \u001b[0;32mIn[7], line 12\u001b[0m\n\u001b[1;32m      9\u001b[0m \u001b[39mprint\u001b[39m(person_1\u001b[39m.\u001b[39mname)\n\u001b[1;32m     11\u001b[0m \u001b[39mdel\u001b[39;00m person_1\u001b[39m.\u001b[39mname\n\u001b[0;32m---> 12\u001b[0m \u001b[39mprint\u001b[39m(person_1\u001b[39m.\u001b[39;49mname)\n",
      "\u001b[0;31mAttributeError\u001b[0m: 'Person' object has no attribute 'name'"
     ]
    }
   ],
   "source": [
    "print('Attributes can be deleted with `del`')\n",
    "\n",
    "class Person:\n",
    "    def __init__(other_name, name, age) -> None:\n",
    "        other_name.name = name\n",
    "        other_name.age = age\n",
    "\n",
    "person_1 = Person('John', 36)\n",
    "print(person_1.name)\n",
    "\n",
    "del person_1.name\n",
    "print(person_1.name)"
   ]
  },
  {
   "cell_type": "markdown",
   "metadata": {},
   "source": [
    "### Note on properties vs attributes\n",
    "\n",
    "The W3 schools tutorial discusses attributes as though they are properties. However, this seems to be in conflict with other references. Properties seem to be a special group of attributes that have specific getter/setter methods with them.\n",
    "\n",
    "See here for more info:\n",
    "https://www.tutorialspoint.com/What-is-the-difference-between-attributes-and-properties-in-python#:~:text=Overall%2C%20the%20difference%20between%20attributes,perform%20some%20computation%20when%20called."
   ]
  }
 ],
 "metadata": {
  "kernelspec": {
   "display_name": "Python 3",
   "language": "python",
   "name": "python3"
  },
  "language_info": {
   "codemirror_mode": {
    "name": "ipython",
    "version": 3
   },
   "file_extension": ".py",
   "mimetype": "text/x-python",
   "name": "python",
   "nbconvert_exporter": "python",
   "pygments_lexer": "ipython3",
   "version": "3.9.17"
  },
  "orig_nbformat": 4
 },
 "nbformat": 4,
 "nbformat_minor": 2
}
