{
 "cells": [
  {
   "cell_type": "markdown",
   "metadata": {},
   "source": [
    "# Python Tutorial\n",
    "\n",
    "https://www.w3schools.com/python/"
   ]
  },
  {
   "cell_type": "markdown",
   "metadata": {},
   "source": [
    "## Lists"
   ]
  },
  {
   "cell_type": "code",
   "execution_count": 1,
   "metadata": {},
   "outputs": [
    {
     "name": "stdout",
     "output_type": "stream",
     "text": [
      "lists are one of four ways to store collections of data\n",
      "Collection types include ['list', 'tuple', 'set', 'dictionary']\n",
      "List items are ordered, mutable, allow duplicates, and are indexed\n",
      "Some list methods modify the order of items\n",
      "Some list methods are ['append', 'clear', 'copy', 'count', 'extend', 'index', 'insert', 'pop', 'remove', 'reverse', 'sort']\n",
      "Length of x is 5\n",
      "Lists can contain data of any types, and even mixed types\n",
      "<class 'list'>\n"
     ]
    }
   ],
   "source": [
    "print('lists are one of four ways to store collections of data')\n",
    "\n",
    "collections = list(('list', 'tuple', 'set', 'dictionary'))\n",
    "\n",
    "print(f'Collection types include {collections}')\n",
    "\n",
    "print('List items are ordered, mutable, allow duplicates, and are indexed')\n",
    "\n",
    "print('Some list methods modify the order of items')\n",
    "\n",
    "list_methods = list(('append', 'clear', 'copy', 'count', 'extend', 'index',\n",
    "                     'insert', 'pop', 'remove', 'reverse', 'sort'))\n",
    "\n",
    "print(f'Some list methods are {list_methods}')\n",
    "\n",
    "x = ['apple', 'banana', 'cherry', 'apple', 'cherry']\n",
    "\n",
    "print(f'Length of x is {len(x)}')\n",
    "\n",
    "print('Lists can contain data of any types, and even mixed types')\n",
    "\n",
    "x = ['apple', 1, True]\n",
    "\n",
    "print(type(x))\n"
   ]
  },
  {
   "cell_type": "markdown",
   "metadata": {},
   "source": [
    "### Access List Items"
   ]
  },
  {
   "cell_type": "code",
   "execution_count": 6,
   "metadata": {},
   "outputs": [
    {
     "name": "stdout",
     "output_type": "stream",
     "text": [
      "Access items with indexing, or negative indexing, or a range of indices\n",
      "0th element in x is apple\n",
      "-1st element in x is True\n",
      "0th to 2nd element in x is ['apple', 1]\n",
      "-1st to 1st element in x is ['apple', 1]\n",
      "Use `in` keyword to see if element is in your list\n",
      "Yes, apple is in x\n"
     ]
    }
   ],
   "source": [
    "print('Access items with indexing, or negative indexing, or a range of indices')\n",
    "\n",
    "x = ['apple', 1, True]\n",
    "\n",
    "print(f'0th element in x is {x[0]}')\n",
    "print(f'-1st element in x is {x[-1]}')\n",
    "print(f'0th to 2nd element in x is {x[0:2]}')\n",
    "print(f'-1st to 1st element in x is {x[-3:-1]}')\n",
    "\n",
    "print('Use `in` keyword to see if element is in your list')\n",
    "\n",
    "if 'apple' in x:\n",
    "    print('Yes, apple is in x')\n",
    "else:\n",
    "    print('No, apple is not in x')"
   ]
  },
  {
   "cell_type": "markdown",
   "metadata": {},
   "source": [
    "### Change List Items"
   ]
  },
  {
   "cell_type": "code",
   "execution_count": 9,
   "metadata": {},
   "outputs": [
    {
     "name": "stdout",
     "output_type": "stream",
     "text": [
      "Because lists are mutable, you can reassign by index\n",
      "['apple', 'banana', 'cherry']\n",
      "['apple', 'blackcurrant', 'cherry']\n",
      "You can reassign a slice of a list with a new list\n",
      "['orange', 'watermelon', 'cherry']\n",
      "If you reassign more than you specified, the new items will be\n",
      " inserted where you specified, and the remaining items will move\n",
      " (get bumped to higher indices / receive a \"rightshift\").\n",
      "['raspberry', 'blueberry', 'grapefruit', 'cherry']\n",
      "If you reassign less than you specified, the new items will be\n",
      " inserted where you specified, the other indices you indicated\n",
      " will be removed, and the remaining items will be moved accordingly(get bumped to lower indices / receive a \"leftshift\").\n",
      "['strawberry', 'grapefruit', 'cherry']\n",
      "Another way to insert at an index is with the `.insert()` method.\n",
      "['strawberry', 'grapefruit', 'mango', 'cherry']\n"
     ]
    }
   ],
   "source": [
    "print('Because lists are mutable, you can reassign by index')\n",
    "\n",
    "x = ['apple', 'banana', 'cherry']\n",
    "print(x)\n",
    "\n",
    "x[1] = 'blackcurrant'\n",
    "print(x)\n",
    "\n",
    "print('You can reassign a slice of a list with a new list')\n",
    "x[0:2] = ['orange', 'watermelon']\n",
    "print(x)\n",
    "\n",
    "print('If you reassign more than you specified, the new items will be\\n',\n",
    "      'inserted where you specified, and the remaining items will move\\n',\n",
    "      '(get bumped to higher indices / receive a \"rightshift\").')\n",
    "x[0:2] = ['raspberry', 'blueberry', 'grapefruit']\n",
    "print(x)\n",
    "\n",
    "print('If you reassign less than you specified, the new items will be\\n',\n",
    "      'inserted where you specified, the other indices you indicated\\n',\n",
    "      'will be removed, and the remaining items will be moved accordingly'\n",
    "      '(get bumped to lower indices / receive a \"leftshift\").')\n",
    "x[0:2] = ['strawberry']\n",
    "print(x)\n",
    "\n",
    "print('Another way to insert at an index is with the `.insert()` method.')\n",
    "x.insert(2, 'mango')\n",
    "print(x)"
   ]
  },
  {
   "cell_type": "markdown",
   "metadata": {},
   "source": [
    "### Add List Items"
   ]
  },
  {
   "cell_type": "code",
   "execution_count": 19,
   "metadata": {},
   "outputs": [
    {
     "name": "stdout",
     "output_type": "stream",
     "text": [
      "The `.append()` method adds items to the end of the list.\n",
      " This is done in-place, so there is no-need to re-assign the result.\n",
      "['apple']\n",
      "['apple', 'banana']\n",
      "The `.extend()` method works similarly, but takes another collection\n",
      " as the argument to be appended to the first list. This is in-place.\n",
      "['apple', 'banana', 'orange', 'pear']\n",
      "['apple', 'banana', 'orange', 'pear', 'cherry', 'blackberry']\n",
      "['apple', 'banana', 'orange', 'pear', 'cherry', 'blackberry', 'plaintain', 'pomegranate']\n",
      "Observe that while one can extend with a dictionary, only the keys\n",
      " are kept, the values get lost during the extension.\n",
      "['apple', 'banana', 'orange', 'pear', 'cherry', 'blackberry', 'plaintain', 'pomegranate', 'pineapple', 'starfruit']\n",
      "starfruit\n"
     ]
    }
   ],
   "source": [
    "print('The `.append()` method adds items to the end of the list.\\n',\n",
    "      'This is done in-place, so there is no-need to re-assign the result.')\n",
    "x = ['apple']\n",
    "print(x)\n",
    "x.append('banana')\n",
    "print(x)\n",
    "\n",
    "print('The `.extend()` method works similarly, but takes another collection\\n',\n",
    "      'as the argument to be appended to the first list. This is in-place.')\n",
    "x.extend(['orange', 'pear'])\n",
    "print(x)\n",
    "\n",
    "x.extend(tuple(('cherry', 'blackberry')))\n",
    "print(x)\n",
    "\n",
    "x.extend(set(('pomegranate', 'plaintain')))\n",
    "print(x)\n",
    "\n",
    "\n",
    "print('Observe that while one can extend with a dictionary, only the keys\\n',\n",
    "      'are kept, the values get lost during the extension.')\n",
    "x.extend({'pineapple': 0, 'starfruit': 1})\n",
    "print(x)\n",
    "print(x[-1])\n"
   ]
  },
  {
   "cell_type": "markdown",
   "metadata": {},
   "source": [
    "### Remove List Items"
   ]
  },
  {
   "cell_type": "code",
   "execution_count": 25,
   "metadata": {},
   "outputs": [
    {
     "name": "stdout",
     "output_type": "stream",
     "text": [
      "The `.remove` method removes items by name.\n",
      "['apple', 'banana', 'cherry', 'grapefruit', 'grapes', 'orange']\n",
      "['apple', 'cherry', 'grapefruit', 'grapes', 'orange']\n",
      "The `.pop()` method removes by an index, defaulting to the final index.\n",
      "['apple', 'cherry', 'grapefruit', 'grapes']\n",
      "['cherry', 'grapefruit', 'grapes']\n",
      "The `del` keyword can also be used to remove by an index.\n",
      "['grapefruit', 'grapes']\n",
      "The `del` keyword can remove the entire object if you want.\n",
      "x exists\n",
      "x does not exist\n",
      "In contrast to `del`, the `.clear()` method empties a list without\n",
      " deleting it.\n",
      "['apple', 'banana']\n",
      "[]\n",
      "x exists\n"
     ]
    }
   ],
   "source": [
    "print('The `.remove` method removes items by name.')\n",
    "x = ['apple', 'banana', 'cherry', 'grapefruit', 'grapes', 'orange']\n",
    "print(x)\n",
    "x.remove('banana')\n",
    "print(x)\n",
    "\n",
    "print('The `.pop()` method removes by an index, defaulting to the final index.')\n",
    "x.pop()\n",
    "print(x)\n",
    "x.pop(0)\n",
    "print(x)\n",
    "\n",
    "\n",
    "print('The `del` keyword can also be used to remove by an index.')\n",
    "del x[0]\n",
    "print(x)\n",
    "\n",
    "print('The `del` keyword can remove the entire object if you want.')\n",
    "def check_if_x_exists():\n",
    "    if 'x' in locals() or 'x' in globals():\n",
    "        print('x exists')\n",
    "    else:\n",
    "        print('x does not exist')\n",
    "check_if_x_exists()\n",
    "del x\n",
    "check_if_x_exists()\n",
    "\n",
    "print('In contrast to `del`, the `.clear()` method empties a list without\\n',\n",
    "      'deleting it.')\n",
    "x = ['apple', 'banana']\n",
    "print(x)\n",
    "x.clear()\n",
    "print(x)\n",
    "check_if_x_exists()"
   ]
  },
  {
   "cell_type": "markdown",
   "metadata": {},
   "source": [
    "### Loop Lists"
   ]
  },
  {
   "cell_type": "code",
   "execution_count": 32,
   "metadata": {},
   "outputs": [
    {
     "name": "stdout",
     "output_type": "stream",
     "text": [
      "Looping through lists is straightforward with `in`\n",
      "apple\n",
      "banana\n",
      "orange\n",
      "To loop through the list using indices, must create a range of them\n",
      "apple\n",
      "banana\n",
      "orange\n",
      "One can also use a while loop, but these are error prone and may\n",
      " end up in an infinite loop. They also require more code for\n",
      " initializing the iterator and incrementing it.\n",
      "apple\n",
      "banana\n",
      "orange\n",
      "List comprehension is the most \"pythonic\" way to loop over lists.\n",
      " It works by creating a list within a line of `for` loop syntax\n",
      "['apple', 'banana', 'cherry']\n"
     ]
    }
   ],
   "source": [
    "print('Looping through lists is straightforward with `in`')\n",
    "x = ['apple', 'banana', 'orange']\n",
    "for fruit in x:\n",
    "    print(fruit)\n",
    "\n",
    "print('To loop through the list using indices, must create a range of them')\n",
    "indices = range(len(x))\n",
    "\n",
    "for index in indices:\n",
    "    print(x[index])\n",
    "\n",
    "print('One can also use a while loop, but these are error prone and may\\n',\n",
    "      'end up in an infinite loop. They also require more code for\\n',\n",
    "      'initializing the iterator and incrementing it.')\n",
    "iterator = 0\n",
    "while iterator < len(x):\n",
    "    print(x[iterator])\n",
    "    iterator += 1\n",
    "\n",
    "print('List comprehension is the most \"pythonic\" way to loop over lists.\\n',\n",
    "      'It works by creating a list within a line of `for` loop syntax')\n",
    "\n",
    "thislist = [\"apple\", \"banana\", \"cherry\"]\n",
    "print([x for x in thislist])"
   ]
  },
  {
   "cell_type": "markdown",
   "metadata": {},
   "source": [
    "### List Comprehension"
   ]
  },
  {
   "cell_type": "code",
   "execution_count": 47,
   "metadata": {},
   "outputs": [
    {
     "name": "stdout",
     "output_type": "stream",
     "text": [
      "List comprehension is useful when you want to create a new list\n",
      " based on an existing list\n",
      "['apple', 'banana', 'mango']\n",
      "Using loops instead of list comprehension would take more code\n",
      " and violates linting rules due to it being ambiguous which types are\n",
      " being appended.\n",
      "['apple', 'banana', 'mango']\n",
      "Practice the list comprehension syntax: [expression for item in iterable if condition == True]\n",
      "['banana', 'cherry', 'kiwi', 'mango']\n",
      "Without the conditional, you make a deep copy of the list\n",
      "['apple', 'banana', 'cherry', 'kiwi', 'mango']\n",
      "['orange', 'banana', 'cherry', 'kiwi', 'mango']\n",
      "['apple', 'banana', 'cherry', 'kiwi', 'mango']\n",
      "You can make an iterable with the range function\n",
      "[0, 1]\n",
      "[0, 1, 2, 3]\n",
      "The expression is the current iteration of the iterable, but it can\n",
      " also be modified/manipulated before assigned\n",
      "['ORANGE', 'BANANA', 'CHERRY', 'KIWI', 'MANGO']\n",
      "The outcome can be static, although a good linter will let you know\n",
      " if what you are doing is perhaps not reasonable\n",
      "['hi', 'hi', 'hi', 'hi', 'hi']\n",
      "The expression can also contain conditions, like a switch statement\n",
      "['apple', 'banana', 'cherry', 'kiwi', 'mango']\n",
      "['apple', 'orange', 'cherry', 'kiwi', 'mango']\n"
     ]
    }
   ],
   "source": [
    "print('List comprehension is useful when you want to create a new list\\n',\n",
    "      'based on an existing list')\n",
    "x = ['apple', 'banana', 'cherry', 'kiwi', 'mango']\n",
    "\n",
    "y = [fruit for fruit in x if 'a' in fruit]\n",
    "\n",
    "print(y)\n",
    "\n",
    "print('Using loops instead of list comprehension would take more code\\n',\n",
    "      'and violates linting rules due to it being ambiguous which types are\\n',\n",
    "      'being appended.')\n",
    "\n",
    "y = []\n",
    "\n",
    "for fruit in x:\n",
    "    if 'a' in fruit:\n",
    "        y.append(fruit)\n",
    "\n",
    "print(y)\n",
    "\n",
    "print('Practice the list comprehension syntax:',\n",
    "      '[expression for item in iterable if condition == True]')\n",
    "\n",
    "y = [fruit for fruit in x if fruit != 'apple']\n",
    "print(y)\n",
    "\n",
    "print('Without the conditional, you make a deep copy of the list')\n",
    "\n",
    "y = [fruit for fruit in x]\n",
    "print(y)\n",
    "\n",
    "x[0] = 'orange'\n",
    "print(x)\n",
    "print(y)\n",
    "\n",
    "\n",
    "print('You can make an iterable with the range function')\n",
    "y = [item for item in range(2)]\n",
    "print(y)\n",
    "\n",
    "y = [item for item in range(20) if item <= 3]\n",
    "print(y)\n",
    "\n",
    "print('The expression is the current iteration of the iterable, but it can\\n',\n",
    "      'also be modified/manipulated before assigned')\n",
    "\n",
    "y = [fruit.upper() for fruit in x]\n",
    "print(y)\n",
    "\n",
    "print('The outcome can be static, although a good linter will let you know\\n',\n",
    "      'if what you are doing is perhaps not reasonable')\n",
    "y = ['hi' for fruit in x]\n",
    "print(y)\n",
    "\n",
    "\n",
    "print('The expression can also contain conditions, like a switch statement')\n",
    "x = ['apple', 'banana', 'cherry', 'kiwi', 'mango']\n",
    "print(x)\n",
    "y = [fruit if fruit != 'banana' else 'orange' for fruit in x]\n",
    "print(y)"
   ]
  },
  {
   "cell_type": "markdown",
   "metadata": {},
   "source": [
    "### Sort Lists"
   ]
  },
  {
   "cell_type": "code",
   "execution_count": 55,
   "metadata": {},
   "outputs": [
    {
     "name": "stdout",
     "output_type": "stream",
     "text": [
      "The `.sort()` method sorts lists ascendhing alphanumerically\n",
      "['orange', 'mango', 'kiwi', 'pineapple', 'banana']\n",
      "['banana', 'kiwi', 'mango', 'orange', 'pineapple']\n",
      "[100, 10, 1, 200, 20, 2]\n",
      "[1, 2, 10, 20, 100, 200]\n",
      "To sort descending, use `reverse = True`\n",
      "['orange', 'mango', 'kiwi', 'pineapple', 'banana']\n",
      "['pineapple', 'orange', 'mango', 'kiwi', 'banana']\n",
      "[100, 10, 1, 200, 20, 2]\n",
      "[200, 100, 20, 10, 2, 1]\n",
      "If you ever wanted to apply your own function to the data before\n",
      " sorting it, you can with the `key` argument\n",
      "[100, 50, 65, 82, 23]\n",
      "[23, 50, 65, 82, 100]\n",
      "[50, 65, 23, 82, 100]\n",
      "When it comes to letters, capitals are sorted before lower case\n",
      "['a', 'B', 'c', 'D']\n",
      "['B', 'D', 'a', 'c']\n",
      "To sort alphabetically without regard to case, use the `key` argument\n",
      "['a', 'B', 'c', 'D']\n",
      "['a', 'B', 'c', 'D']\n",
      "Recall that the `.reverse()` method flips the current order\n",
      " whereas the `reverse` argument in the `.sort()` method sorts descending\n",
      "['C', 'a', 'D', 'b']\n",
      "['b', 'D', 'a', 'C']\n",
      "['a', 'b', 'C', 'D']\n",
      "['D', 'C', 'b', 'a']\n"
     ]
    }
   ],
   "source": [
    "print('The `.sort()` method sorts lists ascendhing alphanumerically')\n",
    "x = ['orange', 'mango', 'kiwi', 'pineapple', 'banana']\n",
    "print(x)\n",
    "x.sort()\n",
    "print(x)\n",
    "\n",
    "x = [100, 10, 1, 200, 20, 2]\n",
    "print(x)\n",
    "x.sort()\n",
    "print(x)\n",
    "\n",
    "print('To sort descending, use `reverse = True`')\n",
    "x = ['orange', 'mango', 'kiwi', 'pineapple', 'banana']\n",
    "print(x)\n",
    "x.sort(reverse=True)\n",
    "print(x)\n",
    "\n",
    "x = [100, 10, 1, 200, 20, 2]\n",
    "print(x)\n",
    "x.sort(reverse=True)\n",
    "print(x)\n",
    "\n",
    "print('If you ever wanted to apply your own function to the data before\\n',\n",
    "      'sorting it, you can with the `key` argument')\n",
    "\n",
    "from typing import Union\n",
    "\n",
    "def minus_50_then_abs(n: Union[int, float]):\n",
    "    return abs(n - 50)\n",
    "\n",
    "x = [100, 50, 65, 82, 23]\n",
    "print(x)\n",
    "x.sort()\n",
    "print(x)\n",
    "x.sort(key = minus_50_then_abs)\n",
    "print(x)\n",
    "\n",
    "print('When it comes to letters, capitals are sorted before lower case')\n",
    "x = ['a', 'B', 'c', 'D']\n",
    "print(x)\n",
    "x.sort()\n",
    "print(x)\n",
    "\n",
    "print('To sort alphabetically without regard to case, use the `key` argument')\n",
    "x = ['a', 'B', 'c', 'D']\n",
    "print(x)\n",
    "x.sort(key = str.lower)\n",
    "print(x)\n",
    "\n",
    "print('Recall that the `.reverse()` method flips the current order\\n',\n",
    "      'whereas the `reverse` argument in the `.sort()` method sorts descending')\n",
    "x = ['C', 'a', 'D', 'b']\n",
    "print(x)\n",
    "x.reverse()\n",
    "print(x)\n",
    "x.sort(key= str.lower)\n",
    "print(x)\n",
    "x.sort(reverse=True, key= str.lower)\n",
    "print(x)"
   ]
  },
  {
   "cell_type": "markdown",
   "metadata": {},
   "source": [
    "### Copy Lists"
   ]
  },
  {
   "cell_type": "code",
   "execution_count": 58,
   "metadata": {},
   "outputs": [
    {
     "name": "stdout",
     "output_type": "stream",
     "text": [
      "Becauses lists are mutable, assigning a new list from an old list\n",
      " does not copy the list, but rather points a new reference to the same\n",
      " list. Instead, one must use the `.copy()` method.\n",
      "['a', 'b', 'c']\n",
      "['a', 'b', 'c']\n",
      "['a', 'b', 'c', 'd']\n",
      "['a', 'b', 'c']\n",
      "One can also use the constructor function `list()` to make a copy\n",
      " but that is less explicit.\n",
      "['a', 'b', 'c', 'd']\n",
      "['a', 'b', 'd']\n",
      "['a', 'b', 'c', 'd']\n"
     ]
    }
   ],
   "source": [
    "print('Becauses lists are mutable, assigning a new list from an old list\\n',\n",
    "      'does not copy the list, but rather points a new reference to the same\\n',\n",
    "       'list. Instead, one must use the `.copy()` method.')\n",
    "\n",
    "x = ['a', 'b', 'c']\n",
    "print(x)\n",
    "y = x.copy()\n",
    "print(y)\n",
    "x.append('d')\n",
    "print(x)\n",
    "print(y)\n",
    "\n",
    "print('One can also use the constructor function `list()` to make a copy\\n',\n",
    "      'but that is less explicit.')\n",
    "\n",
    "z = list(x)\n",
    "print(z)\n",
    "x.pop(2)\n",
    "print(x)\n",
    "print(z)"
   ]
  },
  {
   "cell_type": "markdown",
   "metadata": {},
   "source": [
    "### Join Lists"
   ]
  },
  {
   "cell_type": "code",
   "execution_count": 64,
   "metadata": {},
   "outputs": [
    {
     "name": "stdout",
     "output_type": "stream",
     "text": [
      "There are multiple ways to join lists. One is with the `+` operator.\n",
      "['a', 'b', 'c']\n",
      "[1, 2, 3]\n",
      "['a', 'b', 'c', 1, 2, 3]\n",
      "As mentioned earlier, appending also works, but it has to be in\n",
      " some kind of loop in order to not append an entire list into a \n",
      " single index. Furthermore, a good linter will flag this.\n",
      "['a', 'b', 'c', 1, 2, 3]\n",
      "Rather than appending one-by-one, `.extend()` is a preferred method\n",
      "['a', 'b', 'c', 1, 2, 3]\n"
     ]
    }
   ],
   "source": [
    "print('There are multiple ways to join lists. One is with the `+` operator.')\n",
    "x = ['a', 'b', 'c']\n",
    "y = [1, 2, 3]\n",
    "\n",
    "z = x + y\n",
    "print(x)\n",
    "print(y)\n",
    "print(z)\n",
    "\n",
    "print('As mentioned earlier, appending also works, but it has to be in\\n',\n",
    "      'some kind of loop in order to not append an entire list into a \\n',\n",
    "      'single index. Furthermore, a good linter will flag this.')\n",
    "\n",
    "for item in y:\n",
    "    x.append(item)\n",
    "\n",
    "print(x)\n",
    "\n",
    "print('Rather than appending one-by-one, `.extend()` is a preferred method\\n',\n",
    "      'though good linters may flag this also.')\n",
    "x = ['a', 'b', 'c']\n",
    "x.extend(y)\n",
    "print(x)\n",
    "\n",
    "print('Thus, the method that is preferred for simplicity and linting is\\n',\n",
    "      'the `+` operator.')\n"
   ]
  },
  {
   "cell_type": "code",
   "execution_count": 1,
   "metadata": {},
   "outputs": [
    {
     "name": "stdout",
     "output_type": "stream",
     "text": [
      "Python has many built-in string_methods\n",
      "append() \n",
      "\t Adds an element at the end of the list\n",
      "\n",
      "clear() \n",
      "\t Removes all the elements from the list\n",
      "\n",
      "copy() \n",
      "\t Returns a copy of the list\n",
      "\n",
      "count() \n",
      "\t Returns the number of elements with the specified value\n",
      "\n",
      "extend() \n",
      "\t Add the elements of a list (or any iterable), to the end of the current list\n",
      "\n",
      "index() \n",
      "\t Returns the index of the first element with the specified value\n",
      "\n",
      "insert() \n",
      "\t Adds an element at the specified position\n",
      "\n",
      "pop() \n",
      "\t Removes the element at the specified position\n",
      "\n",
      "remove() \n",
      "\t Removes the first item with the specified value\n",
      "\n",
      "reverse() \n",
      "\t Reverses the order of the list\n",
      "\n",
      "sort() \n",
      "\t Sorts the list\n",
      "\n"
     ]
    }
   ],
   "source": [
    "print('Python has many built-in list methods')\n",
    "\n",
    "described_list_methods = {\n",
    "    'append()': \t'Adds an element at the end of the list',\n",
    "'clear()': \t'Removes all the elements from the list',\n",
    "'copy()': \t'Returns a copy of the list',\n",
    "'count()': \t'Returns the number of elements with the specified value',\n",
    "'extend()': \t'Add the elements of a list (or any iterable), to the end of the current list',\n",
    "'index()': \t'Returns the index of the first element with the specified value',\n",
    "'insert()': \t'Adds an element at the specified position',\n",
    "'pop()': \t'Removes the element at the specified position',\n",
    "'remove()': \t'Removes the first item with the specified value',\n",
    "'reverse()': \t'Reverses the order of the list',\n",
    "'sort()': \t'Sorts the list'\n",
    "}\n",
    "\n",
    "for key in described_list_methods:\n",
    "    print(f'{key} \\n\\t {described_list_methods[key]}\\n')"
   ]
  }
 ],
 "metadata": {
  "kernelspec": {
   "display_name": "Python 3",
   "language": "python",
   "name": "python3"
  },
  "language_info": {
   "codemirror_mode": {
    "name": "ipython",
    "version": 3
   },
   "file_extension": ".py",
   "mimetype": "text/x-python",
   "name": "python",
   "nbconvert_exporter": "python",
   "pygments_lexer": "ipython3",
   "version": "3.9.17"
  },
  "orig_nbformat": 4
 },
 "nbformat": 4,
 "nbformat_minor": 2
}
