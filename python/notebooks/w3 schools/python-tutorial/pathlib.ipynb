{
 "cells": [
  {
   "cell_type": "markdown",
   "metadata": {},
   "source": [
    "# Python Tutorial\n",
    "\n",
    "https://docs.python.org/3/library/pathlib.html"
   ]
  },
  {
   "cell_type": "markdown",
   "metadata": {},
   "source": [
    "## pathlib\n",
    "\n",
    "The module offers classes for interacting with paths in the operating system. The most useful starting point for most is the `Path` class."
   ]
  },
  {
   "cell_type": "code",
   "execution_count": 1,
   "metadata": {},
   "outputs": [
    {
     "name": "stderr",
     "output_type": "stream",
     "text": [
      "2023-07-30 17:56:59 \n",
      "\tLogger: default non-root Module: 3864852842 Function: <module> File: 3864852842.py Line: 4\n",
      "INFO:\n",
      "The following are the names imported by `pathlib`:\n",
      "\n",
      "\n",
      "EBADF\n",
      "EINVAL\n",
      "ELOOP\n",
      "ENOENT\n",
      "ENOTDIR\n",
      "Path\n",
      "PosixPath\n",
      "PurePath\n",
      "PurePosixPath\n",
      "PureWindowsPath\n",
      "S_ISBLK\n",
      "S_ISCHR\n",
      "S_ISDIR\n",
      "S_ISFIFO\n",
      "S_ISLNK\n",
      "S_ISREG\n",
      "S_ISSOCK\n",
      "Sequence\n",
      "WindowsPath\n",
      "_Accessor\n",
      "_Flavour\n",
      "_IGNORED_ERROS\n",
      "_IGNORED_WINERRORS\n",
      "_NormalAccessor\n",
      "_PathParents\n",
      "_PosixFlavour\n",
      "_PreciseSelector\n",
      "_RecursiveWildcardSelector\n",
      "_Selector\n",
      "_TerminatingSelector\n",
      "_WildcardSelector\n",
      "_WindowsFlavour\n",
      "__all__\n",
      "__builtins__\n",
      "__cached__\n",
      "__doc__\n",
      "__file__\n",
      "__loader__\n",
      "__name__\n",
      "__package__\n",
      "__spec__\n",
      "_ignore_error\n",
      "_is_wildcard_pattern\n",
      "_make_selector\n",
      "_normal_accessor\n",
      "_posix_flavour\n",
      "_windows_flavour\n",
      "attrgetter\n",
      "fnmatch\n",
      "functools\n",
      "io\n",
      "nt\n",
      "ntpath\n",
      "os\n",
      "posixpath\n",
      "re\n",
      "supports_symlinks\n",
      "sys\n",
      "urlquote_from_bytes\n"
     ]
    }
   ],
   "source": [
    "from configurations import printer, logger\n",
    "import pathlib\n",
    "\n",
    "logger.info('The following are the names imported by `pathlib`:')\n",
    "\n",
    "for key in dir(pathlib):\n",
    "    printer(key)"
   ]
  },
  {
   "cell_type": "markdown",
   "metadata": {},
   "source": [
    "### Basic use\n",
    "\n",
    "#### Importing the `Path` class"
   ]
  },
  {
   "cell_type": "code",
   "execution_count": 2,
   "metadata": {},
   "outputs": [
    {
     "name": "stderr",
     "output_type": "stream",
     "text": [
      "2023-07-30 17:58:58 \n",
      "\tLogger: default non-root Module: 4089793139 Function: <module> File: 4089793139.py Line: 4\n",
      "INFO:\n",
      "Obtaining names associated to Path\n",
      "\n",
      "\n",
      "__bytes__\n",
      "__class__\n",
      "__class_getitem__\n",
      "__delattr__\n",
      "__dir__\n",
      "__doc__\n",
      "__enter__\n",
      "__eq__\n",
      "__exit__\n",
      "__format__\n",
      "__fspath__\n",
      "__ge__\n",
      "__getattribute__\n",
      "__gt__\n",
      "__hash__\n",
      "__init__\n",
      "__init_subclass__\n",
      "__le__\n",
      "__lt__\n",
      "__module__\n",
      "__ne__\n",
      "__new__\n",
      "__reduce__\n",
      "__reduce_ex__\n",
      "__repr__\n",
      "__rtruediv__\n",
      "__setattr__\n",
      "__sizeof__\n",
      "__slots__\n",
      "__str__\n",
      "__subclasshook__\n",
      "__truediv__\n",
      "_accessor\n",
      "_cached_cparts\n",
      "_cparts\n",
      "_drv\n",
      "_format_parsed_parts\n",
      "_from_parsed_parts\n",
      "_from_parts\n",
      "_hash\n",
      "_init\n",
      "_make_child\n",
      "_make_child_relpath\n",
      "_opener\n",
      "_parse_args\n",
      "_parts\n",
      "_pparts\n",
      "_raw_open\n",
      "_root\n",
      "_str\n",
      "absolute\n",
      "anchor\n",
      "as_posix\n",
      "as_uri\n",
      "chmod\n",
      "cwd\n",
      "drive\n",
      "exists\n",
      "expanduser\n",
      "glob\n",
      "group\n",
      "home\n",
      "is_absolute\n",
      "is_block_device\n",
      "is_char_device\n",
      "is_dir\n",
      "is_fifo\n",
      "is_file\n",
      "is_mount\n",
      "is_relative_to\n",
      "is_reserved\n",
      "is_socket\n",
      "is_symlink\n",
      "iterdir\n",
      "joinpath\n",
      "lchmod\n",
      "link_to\n",
      "lstat\n",
      "match\n",
      "mkdir\n",
      "name\n",
      "open\n",
      "owner\n",
      "parent\n",
      "parents\n",
      "parts\n",
      "read_bytes\n",
      "read_text\n",
      "readlink\n",
      "relative_to\n",
      "rename\n",
      "replace\n",
      "resolve\n",
      "rglob\n",
      "rmdir\n",
      "root\n",
      "samefile\n",
      "stat\n",
      "stem\n",
      "suffix\n",
      "suffixes\n",
      "symlink_to\n",
      "touch\n",
      "unlink\n",
      "with_name\n",
      "with_stem\n",
      "with_suffix\n",
      "write_bytes\n",
      "write_text\n"
     ]
    }
   ],
   "source": [
    "from configurations import logger, printer\n",
    "from pathlib import Path\n",
    "\n",
    "logger.info('Obtaining names associated to Path')\n",
    "\n",
    "for key in dir(Path):\n",
    "    printer(key)"
   ]
  },
  {
   "cell_type": "markdown",
   "metadata": {},
   "source": [
    "#### Listing subdirectories"
   ]
  },
  {
   "cell_type": "code",
   "execution_count": 2,
   "metadata": {},
   "outputs": [
    {
     "name": "stderr",
     "output_type": "stream",
     "text": [
      "[PosixPath('directory-for-read-files')]\n"
     ]
    }
   ],
   "source": [
    "from pathlib import Path\n",
    "from configurations import printer\n",
    "\n",
    "current_working_directory = Path('.')\n",
    "printer([\n",
    "    subdirectory\n",
    "     for subdirectory in current_working_directory.iterdir()\n",
    "     if subdirectory.is_dir()\n",
    "     ])"
   ]
  },
  {
   "cell_type": "markdown",
   "metadata": {},
   "source": [
    "#### Listing `python` source files in this directory tree"
   ]
  },
  {
   "cell_type": "code",
   "execution_count": 4,
   "metadata": {},
   "outputs": [
    {
     "name": "stderr",
     "output_type": "stream",
     "text": [
      "configurations.py\n",
      "logging_demo.py\n",
      "make_logger.py\n",
      "my_module.py\n"
     ]
    }
   ],
   "source": [
    "from pathlib import Path\n",
    "from configurations import printer\n",
    "\n",
    "current_working_directory = Path('.')\n",
    "\n",
    "for py_file in list(current_working_directory.glob('**/*.py')):\n",
    "    printer(py_file)"
   ]
  },
  {
   "cell_type": "markdown",
   "metadata": {},
   "source": [
    "#### Navigating inside a directory tree\n",
    "\n",
    "For example, the `.resolve()` method will resolve Windows -> UNIX path differences as well as create an absolute path to a directory, converting symlinks along the way."
   ]
  },
  {
   "cell_type": "code",
   "execution_count": 9,
   "metadata": {},
   "outputs": [
    {
     "name": "stderr",
     "output_type": "stream",
     "text": [
      "The relavite path to the current directory is .\n",
      "The absolute path is /workspaces/python/notebooks/w3 schools/python-tutorial\n"
     ]
    }
   ],
   "source": [
    "from pathlib import Path\n",
    "from configurations import printer\n",
    "\n",
    "current_working_directory = Path('.')\n",
    "printer('The relavite path to the current directory is %s',\n",
    "         current_working_directory)\n",
    "printer('The absolute path is %s', current_working_directory.resolve())"
   ]
  },
  {
   "cell_type": "markdown",
   "metadata": {},
   "source": [
    "#### Querying path properties\n",
    "\n",
    "For example, determining if a path exist or is a directory."
   ]
  },
  {
   "cell_type": "code",
   "execution_count": 15,
   "metadata": {},
   "outputs": [
    {
     "name": "stderr",
     "output_type": "stream",
     "text": [
      "True\n",
      "True\n",
      "Is a_py_file, my_module.py, a directory? False\n"
     ]
    }
   ],
   "source": [
    "from pathlib import Path\n",
    "from configurations import printer\n",
    "\n",
    "current_working_directory = Path('.')\n",
    "\n",
    "printer(current_working_directory.exists())\n",
    "printer(current_working_directory.is_dir())\n",
    "\n",
    "py_files = list(current_working_directory.glob('*.py'))\n",
    "a_py_file = py_files.pop()\n",
    "printer('Is a_py_file, %s, a directory? %s', a_py_file, a_py_file.is_dir())"
   ]
  },
  {
   "cell_type": "markdown",
   "metadata": {},
   "source": [
    "#### Opening a file\n",
    "\n",
    "A `Path` object has an `.open()` method, so you can use it to make a context manager for opening files.\n",
    "\n",
    "The default `mode='r'` for this method."
   ]
  },
  {
   "cell_type": "code",
   "execution_count": 3,
   "metadata": {},
   "outputs": [
    {
     "name": "stderr",
     "output_type": "stream",
     "text": [
      "there are more than 5 characters here\n",
      "\n",
      "and there are more than one line\n",
      "\n",
      "There are at least 3 lines\n",
      "\n",
      "\n",
      "\n",
      "\n",
      "\n",
      "but maybe more!\n"
     ]
    }
   ],
   "source": [
    "from pathlib import Path\n",
    "from configurations import printer\n",
    "\n",
    "with Path('read-files.txt').open(mode='r') as file:\n",
    "    for line in file:\n",
    "        printer(line)"
   ]
  },
  {
   "cell_type": "markdown",
   "metadata": {},
   "source": [
    "## Further learning\n",
    "\n",
    "https://docs.python.org/3/library/pathlib.html"
   ]
  },
  {
   "cell_type": "markdown",
   "metadata": {},
   "source": [
    "####"
   ]
  }
 ],
 "metadata": {
  "kernelspec": {
   "display_name": "Python 3",
   "language": "python",
   "name": "python3"
  },
  "language_info": {
   "codemirror_mode": {
    "name": "ipython",
    "version": 3
   },
   "file_extension": ".py",
   "mimetype": "text/x-python",
   "name": "python",
   "nbconvert_exporter": "python",
   "pygments_lexer": "ipython3",
   "version": "3.9.17"
  },
  "orig_nbformat": 4
 },
 "nbformat": 4,
 "nbformat_minor": 2
}
