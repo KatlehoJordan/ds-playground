{
 "cells": [
  {
   "cell_type": "markdown",
   "metadata": {},
   "source": [
    "# Python Tutorial\n",
    "\n",
    "https://www.w3schools.com/python/"
   ]
  },
  {
   "cell_type": "markdown",
   "metadata": {},
   "source": [
    "## Dictionaries"
   ]
  },
  {
   "cell_type": "code",
   "execution_count": 2,
   "metadata": {},
   "outputs": [
    {
     "name": "stdout",
     "output_type": "stream",
     "text": [
      "Ordered collections to store key:value pairs. Mutable, but no \n",
      " duplicate keys are allowed. In python versions before 3.7,\n",
      " dictionaries were unordered (like sets).\n",
      "Since a key can only be used once, if one adds a duplicate, only \n",
      " the final value will be saved, though the original order of the key \n",
      " will be retained.\n",
      "{'a': 3, 'b': 2}\n",
      "The `len` function works on dictionaries.\n",
      "The values in a dictionary can be any type.\n",
      "{'a': 'a', 'b': 2, 'c': True, 'd': 4.2}\n",
      "The `dict()` constructor function can be used, then pass a comma- \n",
      " separated list of names and values.\n",
      "{'name': 'David', 'age': 37, 'favorite_number': 4.2}\n"
     ]
    }
   ],
   "source": [
    "print('Ordered collections to store key:value pairs. Mutable, but no \\n',\n",
    "      'duplicate keys are allowed. In python versions before 3.7,\\n',\n",
    "      'dictionaries were unordered (like sets).')\n",
    "\n",
    "print('Since a key can only be used once, if one adds a duplicate, only \\n',\n",
    "      'the final value will be saved, though the original order of the key \\n',\n",
    "      'will be retained.')\n",
    "x = {'a': 1, 'b': 2, 'a': 3}\n",
    "print(x)\n",
    "\n",
    "print('The `len` function works on dictionaries.')\n",
    "\n",
    "print('The values in a dictionary can be any type.')\n",
    "x = {'a': 'a', 'b': 2, 'c': True, 'd':4.2}\n",
    "print(x)\n",
    "\n",
    "print('The `dict()` constructor function can be used, then pass a comma- \\n',\n",
    "'separated list of names and values.')\n",
    "x = dict(name= 'David', age = 37, favorite_number = 4.2)\n",
    "print(x)"
   ]
  },
  {
   "cell_type": "markdown",
   "metadata": {},
   "source": [
    "## Access Dictionary Items"
   ]
  },
  {
   "cell_type": "code",
   "execution_count": 2,
   "metadata": {},
   "outputs": [
    {
     "name": "stdout",
     "output_type": "stream",
     "text": [
      "Pass the key in square brackets to get its value\n",
      "1\n",
      "Alternatively, use the `.get()` method\n",
      "1\n",
      "To get all keys, use the `.keys()` method\n",
      "dict_keys(['a', 'b'])\n",
      "New items can be added/assigned using square brackets\n",
      "Observe that if your dictionary has mixed types, strict linters will \n",
      " trigger as though there is a problem.\n",
      "{'a': 1, 'b': 2.3, 'c': 'python is fun'}\n",
      "Similar to the `.keys()` method, there is a `.values()` method.\n",
      "dict_values([1, 2.3, 'python is fun'])\n",
      "The `.items()` method will return each item as 2-element tuples in a \n",
      " list.\n",
      "dict_items([('a', 1), ('b', 2.3), ('c', 'python is fun')])\n",
      "The object returned by the `.items()` method is a view. Thus, \n",
      " changes to the dictionary will be seen in new looks at the view.\n",
      "dict_items([('a', 1), ('b', 2.3), ('c', 'python is fun'), ('d', 'New item for view')])\n",
      "The `in` keyword works for checking for a key in a dictionary.\n",
      "\"b\" is in x\n"
     ]
    }
   ],
   "source": [
    "print('Pass the key in square brackets to get its value')\n",
    "x = {'a': 1, 'b': 2.3}\n",
    "print(x['a'])\n",
    "\n",
    "print('Alternatively, use the `.get()` method')\n",
    "print(x.get('a'))\n",
    "\n",
    "print('To get all keys, use the `.keys()` method')\n",
    "print(x.keys())\n",
    "\n",
    "print('New items can be added/assigned using square brackets')\n",
    "print('Observe that if your dictionary has mixed types, strict linters will \\n',\n",
    "      'trigger as though there is a problem.')\n",
    "x['c'] = 'python is fun'\n",
    "print(x)\n",
    "\n",
    "print('Similar to the `.keys()` method, there is a `.values()` method.')\n",
    "print(x.values())\n",
    "\n",
    "print('The `.items()` method will return each item as 2-element tuples in a \\n',\n",
    "      'list.')\n",
    "items_in_x = x.items()\n",
    "print(items_in_x)\n",
    "\n",
    "print('The object returned by the `.items()` method is a view. Thus, \\n',\n",
    "'changes to the dictionary will be seen in new looks at the view.')\n",
    "x['d'] = 'New item for view'\n",
    "print(items_in_x)\n",
    "\n",
    "print('The `in` keyword works for checking for a key in a dictionary.')\n",
    "if 'b' in x:\n",
    "    print('\"b\" is in x')\n",
    "else:\n",
    "    print('\"b\" not found in x')"
   ]
  },
  {
   "cell_type": "markdown",
   "metadata": {},
   "source": [
    "# Change Dictionary Items"
   ]
  },
  {
   "cell_type": "code",
   "execution_count": 3,
   "metadata": {},
   "outputs": [
    {
     "name": "stdout",
     "output_type": "stream",
     "text": [
      "Dictionaries are mutable. So are the values for their keys.\n",
      "{'b': 2, 'd': 4}\n",
      "{'b': 5, 'd': 4}\n",
      "The `.update()` method updates a dictionary in place\n",
      "{'b': 7, 'd': 4}\n"
     ]
    }
   ],
   "source": [
    "print('Dictionaries are mutable. So are the values for their keys.')\n",
    "x = {'b': 2, 'd': 4}\n",
    "print(x)\n",
    "x['b'] = 5\n",
    "print(x)\n",
    "\n",
    "print('The `.update()` method updates a dictionary in place')\n",
    "\n",
    "x.update({'b': 7})\n",
    "print(x)"
   ]
  },
  {
   "cell_type": "markdown",
   "metadata": {},
   "source": [
    "## Add Dictionary Items"
   ]
  },
  {
   "cell_type": "code",
   "execution_count": 4,
   "metadata": {},
   "outputs": [
    {
     "name": "stdout",
     "output_type": "stream",
     "text": [
      "Adding items, as seen before, can be done with square-bracket syntax\n",
      "{'b': 2, 'd': 4}\n",
      "{'b': 2, 'd': 4, 'f': 8}\n",
      "The `.update()` method can also be used to add new items.\n",
      "{'b': 2, 'd': 4, 'f': 8, 'g': 39}\n"
     ]
    }
   ],
   "source": [
    "print('Adding items, as seen before, can be done with square-bracket syntax')\n",
    "x = {'b': 2, 'd': 4}\n",
    "print(x)\n",
    "x['f'] = 8\n",
    "print(x)\n",
    "\n",
    "print('The `.update()` method can also be used to add new items.')\n",
    "x.update({'g':39})\n",
    "print(x)"
   ]
  },
  {
   "cell_type": "markdown",
   "metadata": {},
   "source": [
    "## Remove Dictionary Items"
   ]
  },
  {
   "cell_type": "code",
   "execution_count": 3,
   "metadata": {},
   "outputs": [
    {
     "name": "stdout",
     "output_type": "stream",
     "text": [
      "The `.pop()` method will remove a named key:value from a dictionary.\n",
      "{'b': 1, 'g': 98, 'h': 8392}\n",
      "98\n",
      "{'b': 1, 'h': 8392}\n",
      "The `.popitem()` method removes the last-added item if in python 3.7 \n",
      " or later\n",
      "('h', 8392)\n",
      "{'b': 1}\n",
      "The `del` keyword can remove an item from a dictionary, or the whole \n",
      " dictionary\n",
      "{}\n",
      "The `.clear()` method empties a dictionary without deleting it\n",
      "{}\n",
      "x exists\n",
      "x does not exist\n"
     ]
    }
   ],
   "source": [
    "print('The `.pop()` method will remove a named key:value from a dictionary.')\n",
    "x = {'b':1, 'g': 98, 'h': 8392}\n",
    "print(x)\n",
    "print(x.pop('g'))\n",
    "print(x)\n",
    "\n",
    "print('The `.popitem()` method removes the last-added item if in python 3.7 \\n',\n",
    "'or later')\n",
    "print(x.popitem())\n",
    "print(x)\n",
    "\n",
    "print('The `del` keyword can remove an item from a dictionary, or the whole \\n',\n",
    "      'dictionary')\n",
    "del x['b']\n",
    "print(x)\n",
    "\n",
    "print('The `.clear()` method empties a dictionary without deleting it')\n",
    "x.clear()\n",
    "print(x)\n",
    "\n",
    "def check_if_x_exists():\n",
    "    if 'x' in locals() or 'x' in globals():\n",
    "        print('x exists')\n",
    "    else:\n",
    "        print('x does not exist')\n",
    "check_if_x_exists()\n",
    "del x\n",
    "check_if_x_exists()\n"
   ]
  },
  {
   "cell_type": "markdown",
   "metadata": {},
   "source": [
    "## Loop Dictionaries"
   ]
  },
  {
   "cell_type": "code",
   "execution_count": 5,
   "metadata": {},
   "outputs": [
    {
     "name": "stdout",
     "output_type": "stream",
     "text": [
      "When looping through dictionaries, the keys are returned by default. \n",
      " However, the values can be returned if you use the proper syntax.\n",
      "b\n",
      "d\n",
      "f\n",
      "1\n",
      "2\n",
      "3\n",
      "b\n",
      "d\n",
      "f\n",
      "1\n",
      "2\n",
      "3\n",
      "b 1\n",
      "d 2\n",
      "f 3\n"
     ]
    }
   ],
   "source": [
    "print('When looping through dictionaries, the keys are returned by default. \\n',\n",
    "      'However, the values can be returned if you use the proper syntax.')\n",
    "x = {'b':1, 'd': 2, 'f':3}\n",
    "for key in x:\n",
    "    print(key)\n",
    "\n",
    "for value in x:\n",
    "    print(x[value])\n",
    "    \n",
    "for key in x.keys():\n",
    "    print(key)\n",
    "\n",
    "for value in x.values():\n",
    "    print(value)\n",
    "\n",
    "for key, value in x.items():\n",
    "    print(key, value)"
   ]
  },
  {
   "cell_type": "markdown",
   "metadata": {},
   "source": [
    "## Copy Dictionaries"
   ]
  },
  {
   "cell_type": "code",
   "execution_count": 8,
   "metadata": {},
   "outputs": [
    {
     "name": "stdout",
     "output_type": "stream",
     "text": [
      "Simply using the assignment operator will not copy a dictionary, but \n",
      " rather create new reference to the same dictionary. This is common \n",
      " in python, where mutable objects often are not copied with the `=`\n",
      " operator.\n",
      "{'b': 2, 'd': 3, 'f': 5}\n",
      "{'b': 2, 'd': 3, 'f': 5}\n",
      "{'b': 2, 'd': 3, 'f': 5, 'g': 7}\n",
      "{'b': 2, 'd': 3, 'f': 5, 'g': 7}\n",
      "To actually make a copy, rather than a reference, use the `.copy()` \n",
      " method\n",
      "{'b': 2, 'd': 3, 'f': 5, 'g': 7}\n",
      "{'b': 2, 'd': 3, 'f': 5, 'g': 7}\n",
      "{'b': 2, 'f': 5, 'g': 7}\n",
      "{'b': 2, 'd': 3, 'f': 5, 'g': 7}\n",
      "Alternative to using the `.copy()` method, if you use the `dict()` \n",
      " constructor function, then you will make a copy\n",
      "{'b': 2, 'd': 3, 'f': 5, 'g': 7}\n",
      "{'b': 2, 'd': 3, 'f': 5, 'g': 7}\n",
      "{'d': 3, 'f': 5, 'g': 7}\n",
      "{'b': 2, 'd': 3, 'f': 5, 'g': 7}\n"
     ]
    }
   ],
   "source": [
    "print('Simply using the assignment operator will not copy a dictionary, but \\n',\n",
    "      'rather create new reference to the same dictionary. This is common \\n',\n",
    "      'in python, where mutable objects often are not copied with the `=`\\n',\n",
    "      'operator.')\n",
    "\n",
    "x = { 'b': 2, 'd': 3, 'f' : 5}\n",
    "print(x)\n",
    "\n",
    "y = x\n",
    "print(y)\n",
    "\n",
    "x.update({'g': 7})\n",
    "print(x)\n",
    "print(y)\n",
    "\n",
    "print('To actually make a copy, rather than a reference, use the `.copy()` \\n',\n",
    "      'method')\n",
    "y = x.copy()\n",
    "print(x)\n",
    "print(y)\n",
    "x.pop('d')\n",
    "print(x)\n",
    "print(y)\n",
    "\n",
    "print('Alternative to using the `.copy()` method, if you use the `dict()` \\n',\n",
    "      'constructor function, then you will make a copy')\n",
    "z = dict(y)\n",
    "print(y)\n",
    "print(z)\n",
    "y.pop('b')\n",
    "print(y)\n",
    "print(z)\n"
   ]
  },
  {
   "cell_type": "markdown",
   "metadata": {},
   "source": [
    "## Nested Dictionaries"
   ]
  },
  {
   "cell_type": "code",
   "execution_count": 14,
   "metadata": {},
   "outputs": [
    {
     "name": "stdout",
     "output_type": "stream",
     "text": [
      "A dictionary can contain dictionaries\n",
      "{'child1': {'name': 'Emil', 'age': 6}, 'child2': {'name': 'Tobias', 'age': 11}, 'parent1': {'dob': 1959, 'alive?': True}}\n",
      "Variables that are dictionaries can then be saved into dictionaries\n",
      "{'child1': {'name': 'Emil', 'age': 6}, 'child2': {'name': 'Tobias', 'age': 11}, 'parent1': {'dob': 1959, 'alive?': True}}\n",
      "Accessing items in a nested dictionary can be done with sequential \n",
      " square brackets\n",
      "6\n",
      "Using subsequent `.get()` methods also works, but linters may warn you\n",
      "6\n"
     ]
    }
   ],
   "source": [
    "print('A dictionary can contain dictionaries')\n",
    "relatives = {\n",
    "    'child1' : {\n",
    "        'name' : 'Emil',\n",
    "        'age' : 6\n",
    "    },\n",
    "    'child2' : {\n",
    "        'name' : 'Tobias',\n",
    "        'age' : 11\n",
    "    },\n",
    "    'parent1': {\n",
    "        'dob': 1959,\n",
    "        'alive?': True\n",
    "    }\n",
    "}\n",
    "print(relatives)\n",
    "\n",
    "print('Variables that are dictionaries can then be saved into dictionaries')\n",
    "\n",
    "child1 = {\n",
    "    'name' : 'Emil',\n",
    "    'age' : 6\n",
    "}\n",
    "child2 = {\n",
    "    'name' : 'Tobias',\n",
    "    'age' : 11\n",
    "}\n",
    "parent1 = {\n",
    "    'dob': 1959,\n",
    "    'alive?': True\n",
    "}\n",
    "\n",
    "relatives = {'child1' : child1, 'child2' : child2, 'parent1': parent1}\n",
    "print(relatives)\n",
    "\n",
    "print('Accessing items in a nested dictionary can be done with sequential \\n',\n",
    "      'square brackets')\n",
    "\n",
    "print(relatives['child1']['age'])\n",
    "\n",
    "print('Using subsequent `.get()` methods also works, but linters may warn you')\n",
    "\n",
    "print(relatives.get('child1').get('age'))"
   ]
  },
  {
   "cell_type": "markdown",
   "metadata": {},
   "source": [
    "## Dictionary Methods"
   ]
  },
  {
   "cell_type": "code",
   "execution_count": 15,
   "metadata": {},
   "outputs": [
    {
     "name": "stdout",
     "output_type": "stream",
     "text": [
      "Some dictionary methods are ['clear', 'copy', 'fromkeys', 'get', 'items', 'keys', 'pop', 'popitem', 'setdefault', 'update', 'values']\n"
     ]
    }
   ],
   "source": [
    "some_dictionary_methods = ['clear', 'copy', 'fromkeys', 'get', 'items', 'keys',\n",
    "                      'pop', 'popitem', 'setdefault', 'update', 'values']\n",
    "\n",
    "print(f'Some dictionary methods are {some_dictionary_methods}')"
   ]
  },
  {
   "cell_type": "code",
   "execution_count": 1,
   "metadata": {},
   "outputs": [
    {
     "name": "stdout",
     "output_type": "stream",
     "text": [
      "Python has many built-in dictionary methods\n",
      "clear() \n",
      "\t Removes all the elements from the dictionary\n",
      "\n",
      "copy() \n",
      "\t Returns a copy of the dictionary\n",
      "\n",
      "fromkeys() \n",
      "\t Returns a dictionary with the specified keys and value\n",
      "\n",
      "get() \n",
      "\t Returns the value of the specified key\n",
      "\n",
      "items() \n",
      "\t Returns a list containing a tuple for each key value pair\n",
      "\n",
      "keys() \n",
      "\t Returns a list containing the dictionary's keys\n",
      "\n",
      "pop() \n",
      "\t Removes the element with the specified key\n",
      "\n",
      "popitem() \n",
      "\t Removes the last inserted key-value pair\n",
      "\n",
      "setdefault() \n",
      "\t Returns the value of the specified key. If the key does not exist: insert the key, with the specified value\n",
      "\n",
      "update() \n",
      "\t Updates the dictionary with the specified key-value pairs\n",
      "\n",
      "values() \n",
      "\t Returns a list of all the values in the dictionary\n",
      "\n"
     ]
    }
   ],
   "source": [
    "print('Python has many built-in dictionary methods')\n",
    "\n",
    "described_dictionary_methods = {\n",
    "    'clear()':\t'Removes all the elements from the dictionary',\n",
    "'copy()':\t'Returns a copy of the dictionary',\n",
    "'fromkeys()':\t'Returns a dictionary with the specified keys and value',\n",
    "'get()':\t'Returns the value of the specified key',\n",
    "'items()':\t'Returns a list containing a tuple for each key value pair',\n",
    "'keys()':\t\"Returns a list containing the dictionary's keys\",\n",
    "'pop()':\t'Removes the element with the specified key',\n",
    "'popitem()':\t'Removes the last inserted key-value pair',\n",
    "'setdefault()':\t'Returns the value of the specified key. If the key does not exist: insert the key, with the specified value',\n",
    "'update()':\t'Updates the dictionary with the specified key-value pairs',\n",
    "'values()':\t'Returns a list of all the values in the dictionary'\n",
    "}\n",
    "\n",
    "for key in described_dictionary_methods:\n",
    "    print(f'{key} \\n\\t {described_dictionary_methods[key]}\\n')"
   ]
  }
 ],
 "metadata": {
  "kernelspec": {
   "display_name": "Python 3",
   "language": "python",
   "name": "python3"
  },
  "language_info": {
   "codemirror_mode": {
    "name": "ipython",
    "version": 3
   },
   "file_extension": ".py",
   "mimetype": "text/x-python",
   "name": "python",
   "nbconvert_exporter": "python",
   "pygments_lexer": "ipython3",
   "version": "3.9.17"
  },
  "orig_nbformat": 4
 },
 "nbformat": 4,
 "nbformat_minor": 2
}
