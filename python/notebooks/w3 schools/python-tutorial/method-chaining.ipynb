{
 "cells": [
  {
   "cell_type": "markdown",
   "metadata": {},
   "source": [
    "# Python Tutorial\n",
    "\n",
    "https://www.helenaschmidt.eu/2022/09/30/r-vs-python-pipes/"
   ]
  },
  {
   "cell_type": "markdown",
   "metadata": {},
   "source": [
    "## method-chaining\n",
    "\n",
    "Piping in `R` makes it a bit easier to see a data-processing pipeline since functions are written in a step-by-step (or line-by-line) fasion.\n",
    "\n",
    "```r\n",
    "# With the magrittr pipe\n",
    "library(dplyr)\n",
    "library(palmerpenguins)\n",
    "penguins %>%\n",
    "  group_by(species) %>%\n",
    "  summarise(\n",
    "    n = n(),\n",
    "    bill_depth = mean(bill_depth_mm, na.rm=TRUE),\n",
    "    body_mass = mean(body_mass_g, na.rm=TRUE)\n",
    "  )\n",
    "\n",
    "# With the native pipe\n",
    "library(palmerpenguins)\n",
    "penguins |>\n",
    "  group_by(species) |>\n",
    "  summarise(\n",
    "    n = n(),\n",
    "    bill_depth = mean(bill_depth_mm, na.rm=TRUE),\n",
    "    body_mass = mean(body_mass_g, na.rm=TRUE)\n",
    "  )\n",
    "```\n",
    "\n",
    "There is no similar operator in `python`. However, this has to do with the fact that `python` has historically stayed closer to being an 'object-oriented language' from the beginning, whereas `r` has been closer to a 'functional' language.\n",
    "\n",
    "https://www.reddit.com/r/rstats/comments/nwjxkr/why_is_piping_so_wellaccepted_in_the_r_community/\n",
    "\n",
    "In essence, functions in `r` tend to be written without regard to which objects might be passed to them, whereas in `python` it is more common to write classes that have many methods.\n",
    "\n",
    "As a result, if it were not for the pipe(/s) in `r`, one would be forced to write a lot of heavily-nested functions where the logic is 'inside-out'.\n",
    "\n",
    "In more object-oriented languages, method-chaining is common.\n",
    "\n",
    "In method chaining, one uses the `object.method1().method2().method3()` syntax to achieve something similar to piping in `r`: to perform processes in a step-by-step manner from left-to-right instead of from inside-out with `function3(function2(function1(object)))`."
   ]
  },
  {
   "cell_type": "code",
   "execution_count": 2,
   "metadata": {},
   "outputs": [
    {
     "name": "stdout",
     "output_type": "stream",
     "text": [
      "Collecting palmerpenguins\n",
      "  Downloading palmerpenguins-0.1.4-py3-none-any.whl (17 kB)\n",
      "Collecting pandas\n",
      "  Downloading pandas-2.0.3-cp39-cp39-manylinux_2_17_x86_64.manylinux2014_x86_64.whl (12.4 MB)\n",
      "\u001b[2K     \u001b[90m━━━━━━━━━━━━━━━━━━━━━━━━━━━━━━━━━━━━━━━━\u001b[0m \u001b[32m12.4/12.4 MB\u001b[0m \u001b[31m2.4 MB/s\u001b[0m eta \u001b[36m0:00:00\u001b[0m00:01\u001b[0m00:01\u001b[0m\n",
      "\u001b[?25hCollecting numpy\n",
      "  Downloading numpy-1.25.1-cp39-cp39-manylinux_2_17_x86_64.manylinux2014_x86_64.whl (17.7 MB)\n",
      "\u001b[2K     \u001b[90m━━━━━━━━━━━━━━━━━━━━━━━━━━━━━━━━━━━━━━━━\u001b[0m \u001b[32m17.7/17.7 MB\u001b[0m \u001b[31m4.1 MB/s\u001b[0m eta \u001b[36m0:00:00\u001b[0m00:01\u001b[0m00:01\u001b[0m\n",
      "\u001b[?25hCollecting pytz>=2020.1\n",
      "  Downloading pytz-2023.3-py2.py3-none-any.whl (502 kB)\n",
      "\u001b[2K     \u001b[90m━━━━━━━━━━━━━━━━━━━━━━━━━━━━━━━━━━━━━━━\u001b[0m \u001b[32m502.3/502.3 kB\u001b[0m \u001b[31m4.0 MB/s\u001b[0m eta \u001b[36m0:00:00\u001b[0ma \u001b[36m0:00:01\u001b[0m\n",
      "\u001b[?25hCollecting tzdata>=2022.1\n",
      "  Downloading tzdata-2023.3-py2.py3-none-any.whl (341 kB)\n",
      "\u001b[2K     \u001b[90m━━━━━━━━━━━━━━━━━━━━━━━━━━━━━━━━━━━━━━━\u001b[0m \u001b[32m341.8/341.8 kB\u001b[0m \u001b[31m3.9 MB/s\u001b[0m eta \u001b[36m0:00:00\u001b[0m00:01\u001b[0m00:01\u001b[0m\n",
      "\u001b[?25hRequirement already satisfied: python-dateutil>=2.8.2 in /usr/local/lib/python3.9/site-packages (from pandas->palmerpenguins) (2.8.2)\n",
      "Requirement already satisfied: six>=1.5 in /usr/local/lib/python3.9/site-packages (from python-dateutil>=2.8.2->pandas->palmerpenguins) (1.16.0)\n",
      "Installing collected packages: pytz, tzdata, numpy, pandas, palmerpenguins\n",
      "Successfully installed numpy-1.25.1 palmerpenguins-0.1.4 pandas-2.0.3 pytz-2023.3 tzdata-2023.3\n",
      "\n",
      "\u001b[1m[\u001b[0m\u001b[34;49mnotice\u001b[0m\u001b[1;39;49m]\u001b[0m\u001b[39;49m A new release of pip is available: \u001b[0m\u001b[31;49m23.0.1\u001b[0m\u001b[39;49m -> \u001b[0m\u001b[32;49m23.2.1\u001b[0m\n",
      "\u001b[1m[\u001b[0m\u001b[34;49mnotice\u001b[0m\u001b[1;39;49m]\u001b[0m\u001b[39;49m To update, run: \u001b[0m\u001b[32;49mpip install --upgrade pip\u001b[0m\n"
     ]
    }
   ],
   "source": [
    "! pip install palmerpenguins"
   ]
  },
  {
   "cell_type": "code",
   "execution_count": 3,
   "metadata": {},
   "outputs": [
    {
     "data": {
      "text/plain": [
       "<pandas.core.groupby.generic.DataFrameGroupBy object at 0x7f2dabbeb6d0>"
      ]
     },
     "execution_count": 3,
     "metadata": {},
     "output_type": "execute_result"
    }
   ],
   "source": [
    "from palmerpenguins import load_penguins\n",
    "\n",
    "# pyright: reportUnknownMemberType=false, reportUnknownVariableType=false\n",
    "# pyright: reportGeneralTypeIssues=false\n",
    "\n",
    "penguins = load_penguins()\n",
    "\n",
    "(penguins.\n",
    " groupby('species').\n",
    " aggregate({\n",
    "     \n",
    " })\n",
    ")"
   ]
  },
  {
   "cell_type": "markdown",
   "metadata": {},
   "source": [
    "####"
   ]
  }
 ],
 "metadata": {
  "kernelspec": {
   "display_name": "Python 3",
   "language": "python",
   "name": "python3"
  },
  "language_info": {
   "codemirror_mode": {
    "name": "ipython",
    "version": 3
   },
   "file_extension": ".py",
   "mimetype": "text/x-python",
   "name": "python",
   "nbconvert_exporter": "python",
   "pygments_lexer": "ipython3",
   "version": "3.9.17"
  },
  "orig_nbformat": 4
 },
 "nbformat": 4,
 "nbformat_minor": 2
}
