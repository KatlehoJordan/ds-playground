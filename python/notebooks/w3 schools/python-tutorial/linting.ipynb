{
 "cells": [
  {
   "cell_type": "markdown",
   "metadata": {},
   "source": [
    "# Python Tutorial\n",
    "\n",
    "This tutorial was written by me, not published online."
   ]
  },
  {
   "cell_type": "markdown",
   "metadata": {},
   "source": [
    "## Linting"
   ]
  },
  {
   "cell_type": "code",
   "execution_count": 1,
   "metadata": {},
   "outputs": [
    {
     "name": "stdout",
     "output_type": "stream",
     "text": [
      "Usually linting errors are helpful. Once in awhile, though, you want\n",
      " to ignore them. This can be done at a line level or at a document\n",
      " level\n",
      "Exit to the system with specified status, without normal exit processing.\n"
     ]
    }
   ],
   "source": [
    "print('Usually linting errors are helpful. Once in awhile, though, you want\\n',\n",
    "      'to ignore them. This can be done at a line level or at a document\\n',\n",
    "      'level')\n",
    "\n",
    "import os\n",
    "\n",
    "print('The following will give a linting error for accessing a private method')\n",
    "\n",
    "print(os._exit.__doc__)\n",
    "\n",
    "print('Append `# type: ignore` to silence the linting error')\n",
    "print(os._exit.__doc__) # type: ignore"
   ]
  },
  {
   "cell_type": "code",
   "execution_count": null,
   "metadata": {},
   "outputs": [],
   "source": [
    "print('Alternatively, you can silence such a linting error in the whole\\n',\n",
    "      'document with # pyright: <errorToSilence>=false`')\n",
    "# pyright: reportPrivateUsage=false\n",
    "\n",
    "import os\n",
    "\n",
    "print(os._exit.__doc__)"
   ]
  }
 ],
 "metadata": {
  "kernelspec": {
   "display_name": "Python 3",
   "language": "python",
   "name": "python3"
  },
  "language_info": {
   "codemirror_mode": {
    "name": "ipython",
    "version": 3
   },
   "file_extension": ".py",
   "mimetype": "text/x-python",
   "name": "python",
   "nbconvert_exporter": "python",
   "pygments_lexer": "ipython3",
   "version": "3.9.17"
  },
  "orig_nbformat": 4
 },
 "nbformat": 4,
 "nbformat_minor": 2
}
