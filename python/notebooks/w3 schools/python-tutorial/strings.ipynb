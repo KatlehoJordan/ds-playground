{
 "cells": [
  {
   "cell_type": "markdown",
   "metadata": {},
   "source": [
    "# Python Tutorial\n",
    "\n",
    "https://www.w3schools.com/python/"
   ]
  },
  {
   "cell_type": "markdown",
   "metadata": {},
   "source": [
    "## Strings"
   ]
  },
  {
   "cell_type": "code",
   "execution_count": 51,
   "metadata": {},
   "outputs": [
    {
     "name": "stdout",
     "output_type": "stream",
     "text": [
      "Multiline strings can be assigned to variables.\n",
      "\n",
      "This multiline string is\n",
      "assigned to x\n",
      "\n",
      "\n",
      "Double or single quotes\n",
      "are acceptable\n",
      "during assignment.\n",
      "\n",
      "Strings in `python` are arrays of bytes representing unicode characters. There is no `character` type; a `str` type of length 1 corresponds to this common data type from other languages.\n",
      "H\n",
      "Because strings are arrays, they can be looped through.\n",
      "H\n",
      "e\n",
      "l\n",
      "l\n",
      "o\n",
      ",\n",
      " \n",
      "W\n",
      "o\n",
      "r\n",
      "l\n",
      "d\n",
      "!\n",
      "String (and any array) length can be obtained with `len()` function.\n",
      "13\n",
      "The `python` keyword `in` can be used to determine if a string is found in another.\n",
      "True\n",
      "This can, of course, be put into an `if` statement.\n",
      "The word \"Hello\" is in the object `x`.\n",
      "The `python` keyword `not` can precede `in` to negate it, thereby letting you check if a string is missing from another.\n",
      "The word \"Goodbye\" is not in the object `x`.\n"
     ]
    }
   ],
   "source": [
    "print('Multiline strings can be assigned to variables.')\n",
    "\n",
    "x = '''\n",
    "This multiline string is\n",
    "assigned to x\n",
    "'''\n",
    "print(x)\n",
    "\n",
    "x = \"\"\"\n",
    "Double or single quotes\n",
    "are acceptable\n",
    "during assignment.\n",
    "\"\"\"\n",
    "\n",
    "print(x)\n",
    "\n",
    "print('Strings in `python` are arrays of bytes representing unicode',\n",
    "      'characters. There is no `character` type; a `str` type of length 1',\n",
    "      'corresponds to this common data type from other languages.')\n",
    "\n",
    "x = 'Hello, World!'\n",
    "print(x[0])\n",
    "\n",
    "print('Because strings are arrays, they can be looped through.')\n",
    "for character in x:\n",
    "    print(character)\n",
    "    \n",
    "print('String (and any array) length can be obtained with `len()` function.')\n",
    "print(len(x))\n",
    "\n",
    "print('The `python` keyword `in` can be used to determine if a string is',\n",
    "      'found in another.')\n",
    "print('Hello' in x)\n",
    "\n",
    "print('This can, of course, be put into an `if` statement.')\n",
    "if 'Hello' in x:\n",
    "    print('The word \"Hello\" is in the object `x`.')\n",
    "\n",
    "print('The `python` keyword `not` can precede `in` to negate it,',\n",
    "      'thereby letting you check if a string is missing from another.')\n",
    "if 'Goodbye' not in x:\n",
    "    print('The word \"Goodbye\" is not in the object `x`.')"
   ]
  },
  {
   "cell_type": "markdown",
   "metadata": {},
   "source": [
    "### Slicing Strings"
   ]
  },
  {
   "cell_type": "code",
   "execution_count": 61,
   "metadata": {},
   "outputs": [
    {
     "name": "stdout",
     "output_type": "stream",
     "text": [
      "Use square brackets to slice strings.\n",
      "llo\n",
      "To slice from start, leave out the first number before the colon\n",
      "Hello\n",
      "To slice to the end, leave off the number after the colon\n",
      "llo, World!\n",
      "Python enables negative indexing, so that `-1` means the final element\n",
      "!\n",
      "Note that when negative indexing, if doing a range, leave off the final number if you want to get to what is otherwise the `-1` element.\n",
      "orld!\n"
     ]
    }
   ],
   "source": [
    "print('Use square brackets to slice strings.')\n",
    "x = 'Hello, World!'\n",
    "print(x[2:5])\n",
    "\n",
    "print('To slice from start, leave out the first number before the colon')\n",
    "print(x[:5])\n",
    "\n",
    "print('To slice to the end, leave off the number after the colon')\n",
    "print(x[2:])\n",
    "\n",
    "print('Python enables negative indexing, so that `-1` means the final element')\n",
    "print(x[-1])\n",
    "\n",
    "print('Note that when negative indexing, if doing a range, leave off the',\n",
    "      'final number if you want to get to what is otherwise the `-1` element.')\n",
    "print(x[-5:])"
   ]
  },
  {
   "cell_type": "markdown",
   "metadata": {},
   "source": [
    "### Modify Strings"
   ]
  },
  {
   "cell_type": "code",
   "execution_count": 69,
   "metadata": {},
   "outputs": [
    {
     "name": "stdout",
     "output_type": "stream",
     "text": [
      "`str` objects have various methods to modify them. For example, `.upper()`, `.lower()`.\n",
      "HELLO, WORLD!\n",
      "hello, world!\n",
      "Trim leading and traling whitespace with `.strip()`\n",
      "     Hello, World!     \n",
      "Hello, World!\n",
      "Replace a string with another using `.replace()`.\n",
      "Goodbye, World!\n",
      "Splitting a string on a character is done with `.split()`. This returns a list object with the split elements.\n",
      "['Hello', ' World!']\n",
      "There are multiple other string methods.\n",
      "String methods include: ['capitalize', 'casefold', 'center', 'count', 'encode', 'endswith', 'expandtabs', 'find', 'format', 'format_map', 'index', 'isalnum', 'isalpha', 'isascii', 'isdecimal', 'isdigit', 'isidentifier', 'islower', 'isnumeric', 'isprintable', 'isspace', 'istitle', 'isupper', 'join', 'ljust', 'lower', 'lstrip', 'maketrans', 'partition', 'replace', 'rfind', 'rindex', 'rjust', 'rpartition', 'rsplit', 'rstrip', 'split', 'splitlines', 'startswith', 'strip', 'swapcase', 'title', 'translate', 'upper', 'zfill']\n",
      "VS Code intellicode should help you find methods for an object by auto-suggesting methods based on the object type you start typing.\n"
     ]
    }
   ],
   "source": [
    "print('`str` objects have various methods to modify them.',\n",
    "      'For example, `.upper()`, `.lower()`.')\n",
    "x = 'Hello, World!'\n",
    "print(x.upper())\n",
    "print(x.lower())\n",
    "\n",
    "print('Trim leading and traling whitespace with `.strip()`')\n",
    "x = '     ' + x + '     '\n",
    "print(x)\n",
    "x = x.strip()\n",
    "print(x)\n",
    "\n",
    "print('Replace a string with another using `.replace()`.')\n",
    "print(x.replace('Hello', 'Goodbye'))\n",
    "\n",
    "print('Splitting a string on a character is done with `.split()`.',\n",
    "      'This returns a list object with the split elements.')\n",
    "print(x.split(','))\n",
    "\n",
    "print('There are multiple other string methods.')\n",
    "string_methods = list(('capitalize', 'casefold', 'center', 'count', 'encode',\n",
    "                       'endswith', 'expandtabs', 'find', 'format',\n",
    "                        'format_map', 'index', 'isalnum', 'isalpha',\n",
    "                        'isascii', 'isdecimal', 'isdigit', 'isidentifier',\n",
    "                        'islower', 'isnumeric', 'isprintable', 'isspace',\n",
    "                        'istitle', 'isupper', 'join', 'ljust', 'lower',\n",
    "                        'lstrip', 'maketrans', 'partition', 'replace',\n",
    "                        'rfind', 'rindex', 'rjust', 'rpartition', 'rsplit',\n",
    "                        'rstrip', 'split', 'splitlines', 'startswith', 'strip',\n",
    "                        'swapcase', 'title', 'translate', 'upper', 'zfill'))\n",
    "\n",
    "print(f'String methods include: {string_methods}')\n",
    "\n",
    "print('VS Code intellicode should help you find methods for an object',\n",
    "      'by auto-suggesting methods based on the object type you start typing.')"
   ]
  },
  {
   "cell_type": "markdown",
   "metadata": {},
   "source": [
    "### Concatenate Strings\n",
    "\n",
    "No new code here. Recall using the `+` operator for concatenation.\n",
    "\n",
    "### Format Strings"
   ]
  },
  {
   "cell_type": "code",
   "execution_count": 78,
   "metadata": {},
   "outputs": [
    {
     "name": "stdout",
     "output_type": "stream",
     "text": [
      "The `.format()` method apparently converts to `str` the arguments it receives and inserts them into placholders signified by curly braces that are in the original string.\n",
      "My name is David, and I am hungry\n",
      "My name is David, and I am 37\n",
      "Multiple placeholders in the base string are possible.\n",
      "My name is David, and I am hungry and \n",
      "My name is David, and I am 37 and \n",
      "My name is David, and I am hungry and 37\n",
      "Multiple placeholders can be also be specified with integers.\n",
      "My name is David, and I am  and hungry\n",
      "My name is David, and I am  and 37\n",
      "My name is David, and I am 37 and hungry\n"
     ]
    }
   ],
   "source": [
    "print('The `.format()` method apparently converts to `str` the arguments',\n",
    "      'it receives and inserts them into placholders signified by curly',\n",
    "      'braces that are in the original string.')\n",
    "\n",
    "x = 'String without curlies'\n",
    "x.format()\n",
    "\n",
    "x = 'My name is David, and I am {}'\n",
    "print(x.format('hungry'))\n",
    "print(x.format(37))\n",
    "\n",
    "print('Multiple placeholders in the base string are possible.')\n",
    "x = 'My name is David, and I am {} and {}'\n",
    "print(x.format('hungry', ''))\n",
    "print(x.format(37, ''))\n",
    "print(x.format('hungry', 37))\n",
    "\n",
    "print('Multiple placeholders can be also be specified with integers.')\n",
    "x = 'My name is David, and I am {1} and {0}'\n",
    "print(x.format('hungry', ''))\n",
    "print(x.format(37, ''))\n",
    "print(x.format('hungry', 37))"
   ]
  },
  {
   "cell_type": "markdown",
   "metadata": {},
   "source": [
    "### Escape Characters"
   ]
  },
  {
   "cell_type": "code",
   "execution_count": 80,
   "metadata": {},
   "outputs": [
    {
     "name": "stdout",
     "output_type": "stream",
     "text": [
      "Use the backslash to escape\n",
      "We are the 'Vikings'\n",
      "There are a few special characters that require a backslash precedent, such as a newline (n), carriage return (r), tab (t), backspace (b), form feed (f), octal value (ooo), hex value (xhh).\n",
      "Hello\n",
      "Hello\n"
     ]
    }
   ],
   "source": [
    "print(\"Use the backslash to escape\")\n",
    "print('We are the \\'Vikings\\'')\n",
    "\n",
    "print('There are a few special characters that require a backslash precedent,',\n",
    "      'such as a newline (n), carriage return (r), tab (t), backspace (b),',\n",
    "      'form feed (f), octal value (ooo), hex value (xhh).')\n",
    "\n",
    "print('\\110\\145\\154\\154\\157')\n",
    "print('\\x48\\x65\\x6c\\x6c\\x6f')"
   ]
  },
  {
   "cell_type": "markdown",
   "metadata": {},
   "source": [
    "### String Methods\n",
    "\n",
    "This was aleady covered previously. Worth noting is that methods do not overwrite the string, they return new values which are not saved unless assigned to a variable."
   ]
  }
 ],
 "metadata": {
  "kernelspec": {
   "display_name": "Python 3",
   "language": "python",
   "name": "python3"
  },
  "language_info": {
   "codemirror_mode": {
    "name": "ipython",
    "version": 3
   },
   "file_extension": ".py",
   "mimetype": "text/x-python",
   "name": "python",
   "nbconvert_exporter": "python",
   "pygments_lexer": "ipython3",
   "version": "3.9.17"
  },
  "orig_nbformat": 4
 },
 "nbformat": 4,
 "nbformat_minor": 2
}
