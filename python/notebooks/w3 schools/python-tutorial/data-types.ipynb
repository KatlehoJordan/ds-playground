{
 "cells": [
  {
   "cell_type": "markdown",
   "metadata": {},
   "source": [
    "# Python Tutorial\n",
    "\n",
    "https://www.w3schools.com/python/"
   ]
  },
  {
   "cell_type": "markdown",
   "metadata": {},
   "source": [
    "## Data Types"
   ]
  },
  {
   "cell_type": "code",
   "execution_count": 23,
   "metadata": {},
   "outputs": [
    {
     "name": "stdout",
     "output_type": "stream",
     "text": [
      "The built-in `python` data types are: [['str'], ['int', 'float', 'complex'], ['list', 'tuple', 'range'], ['dict'], ['set', 'frozenset'], ['bool'], ['bytes', 'bytearray', 'memoryview'], ['NoneType']]\n",
      "Use `type` function to get the type of an object.\n",
      "<class 'int'>\n",
      "Below are examples of when `python` infers the type without casting.\n",
      "One can also explicitly assign types using \"constructor\" functions. These have the benefit of a more obvious for collaborators and a syntax that is more-similar regardless of type.\n"
     ]
    }
   ],
   "source": [
    "text_types = ['str']\n",
    "numeric_types = ['int', 'float', 'complex']\n",
    "sequence_types = ['list', 'tuple', 'range']\n",
    "mapping_types = ['dict']\n",
    "set_types = ['set', 'frozenset']\n",
    "boolean_types = ['bool']\n",
    "binary_types = ['bytes', 'bytearray', 'memoryview']\n",
    "none_types = ['NoneType']\n",
    "\n",
    "python_data_types = [text_types, numeric_types, sequence_types, mapping_types,\n",
    "                     set_types, boolean_types, binary_types, none_types]\n",
    "                     \n",
    "print(f'The built-in `python` data types are: {python_data_types}')\n",
    "\n",
    "print('Use `type` function to get the type of an object.')\n",
    "x = 5\n",
    "print(type(x))\n",
    "\n",
    "print('Below are examples of when `python` infers the type without casting.')\n",
    "\n",
    "x = 'Hello World!'\n",
    "x = 20\n",
    "x = 20.5\n",
    "x = 5j\n",
    "x = ['this is a list of one item']\n",
    "x = ('this is a tuple of one item')\n",
    "x = range(6)\n",
    "x = {'name': 'John', 'age': 37}\n",
    "x = {'this is a set of one item'}\n",
    "x = frozenset({'apple'})\n",
    "x = True\n",
    "x = b\"This is a bytes type\"\n",
    "x = bytearray(5)\n",
    "x = memoryview(bytes(5))\n",
    "x = None\n",
    "\n",
    "print('One can also explicitly assign types using \"constructor\" functions.',\n",
    "      'These have the benefit of a more obvious for collaborators and a',\n",
    "      'syntax that is more-similar regardless of type.')\n",
    "\n",
    "x = str('Hello World!')\n",
    "x = int(20)\n",
    "x = float(20.5)\n",
    "x = complex(5j)\n",
    "x = list(('this is a list of one item'))\n",
    "x = tuple(('this is a tuple of one item'))\n",
    "x = range(6)\n",
    "x = dict(name = 'John', age = 37)\n",
    "x = set(('this is a set of one item'))\n",
    "x = frozenset(('apple'))\n",
    "x = bool(1)\n",
    "x = bytes(5)\n",
    "x = bytearray(5)\n",
    "x = memoryview(bytes(5))"
   ]
  }
 ],
 "metadata": {
  "kernelspec": {
   "display_name": "Python 3",
   "language": "python",
   "name": "python3"
  },
  "language_info": {
   "codemirror_mode": {
    "name": "ipython",
    "version": 3
   },
   "file_extension": ".py",
   "mimetype": "text/x-python",
   "name": "python",
   "nbconvert_exporter": "python",
   "pygments_lexer": "ipython3",
   "version": "3.9.17"
  },
  "orig_nbformat": 4
 },
 "nbformat": 4,
 "nbformat_minor": 2
}
