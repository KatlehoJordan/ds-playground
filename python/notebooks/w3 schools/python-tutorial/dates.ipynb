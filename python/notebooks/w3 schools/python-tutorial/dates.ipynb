{
 "cells": [
  {
   "cell_type": "markdown",
   "metadata": {},
   "source": [
    "# Python Tutorial\n",
    "\n",
    "https://www.w3schools.com/python/"
   ]
  },
  {
   "cell_type": "markdown",
   "metadata": {},
   "source": [
    "## Dates"
   ]
  },
  {
   "cell_type": "code",
   "execution_count": 1,
   "metadata": {},
   "outputs": [
    {
     "name": "stdout",
     "output_type": "stream",
     "text": [
      "Dates are not their own data types in `python` by default. However,\n",
      " the `datetime` module can help handle them.\n",
      "2023-07-26 19:03:57.382537\n"
     ]
    }
   ],
   "source": [
    "print('Dates are not their own data types in `python` by default. However,\\n',\n",
    "      'the `datetime` module can help handle them.')\n",
    "\n",
    "import datetime\n",
    "\n",
    "print(datetime.datetime.now())"
   ]
  },
  {
   "cell_type": "markdown",
   "metadata": {},
   "source": [
    "### Date Output"
   ]
  },
  {
   "cell_type": "code",
   "execution_count": 4,
   "metadata": {},
   "outputs": [
    {
     "name": "stdout",
     "output_type": "stream",
     "text": [
      "The `datetime` module typically yields datetimes with this format:\n",
      " YYYY-MM-DD HH:MM:SS.xxxxxx\n",
      " and they have the type `datetime.datetime`\n",
      "2023-07-26 19:12:10.934179\n",
      "They have the type `datetime.datetime`\n",
      "<class 'datetime.datetime'>\n",
      "They have attributes that can be used to retrieve datetime parts.\n",
      "2023\n",
      "They have string-formatting methods with, for example, `strftime`.\n",
      "Wednesday\n",
      "1900-01-01 00:00:00\n"
     ]
    }
   ],
   "source": [
    "print('The `datetime` module typically yields datetimes with this format:\\n',\n",
    "      'YYYY-MM-DD HH:MM:SS.xxxxxx\\n',\n",
    "      'and they have the type `datetime.datetime`')\n",
    "\n",
    "import datetime\n",
    "\n",
    "current_timestamp = datetime.datetime.now()\n",
    "\n",
    "print(current_timestamp)\n",
    "\n",
    "print('They have the type `datetime.datetime`')\n",
    "\n",
    "print(type(current_timestamp))\n",
    "\n",
    "print('They have attributes that can be used to retrieve datetime parts.')\n",
    "\n",
    "print(current_timestamp.year)\n",
    "\n",
    "print('They have string-formatting methods with `strftime`.')\n",
    "\n",
    "print(current_timestamp.strftime(\"%A\"))"
   ]
  },
  {
   "cell_type": "markdown",
   "metadata": {},
   "source": [
    "### Creating Date Objects"
   ]
  },
  {
   "cell_type": "code",
   "execution_count": 7,
   "metadata": {},
   "outputs": [
    {
     "name": "stdout",
     "output_type": "stream",
     "text": [
      "Create datetime object that is only specific to the date level by\n",
      " specifying year, month, day in a `datetime()` function call.\n",
      "2023-07-26 00:00:00\n",
      "Type for my_date is <class 'datetime.datetime'>\n",
      "2023-07-26 21:00:00\n"
     ]
    }
   ],
   "source": [
    "print('Create datetime object that is only specific to the date level by\\n',\n",
    "      'specifying year, month, day in a `datetime()` function call.')\n",
    "\n",
    "import datetime\n",
    "\n",
    "my_date = datetime.datetime(2023, 7, 26)\n",
    "\n",
    "print(my_date)\n",
    "\n",
    "print(f'Type for my_date is {type(my_date)}')\n",
    "\n",
    "my_hour = datetime.datetime(2023, 7, 26, 21)\n",
    "\n",
    "print(my_hour)\n",
    "\n",
    "print('The year, month, and date are required, but further details are not')"
   ]
  },
  {
   "cell_type": "markdown",
   "metadata": {},
   "source": [
    "### The `strftime()` Method"
   ]
  },
  {
   "cell_type": "code",
   "execution_count": 28,
   "metadata": {},
   "outputs": [
    {
     "name": "stdout",
     "output_type": "stream",
     "text": [
      "As indicated before, the `strftime()` method can render\n",
      " datetime.datetime objects into readable strings. It takes a single\n",
      " argument to specify the desired output format\n",
      "2023-07-26 19:38:25.665616\n",
      "%a \t Weekday - short. \n",
      "\t Example: Wed\n",
      "\n",
      "%A \t Weekday - full. \n",
      "\t Example: Wednesday\n",
      "\n",
      "%w \t Weekday as number 0-6 with Sunday as 0 - differs from ISO 8601. \n",
      "\t Example: 3\n",
      "\n",
      "%d \t Day of month. \n",
      "\t Example: 26\n",
      "\n",
      "%b \t Month - short. \n",
      "\t Example: Jul\n",
      "\n",
      "%B \t Month - full. \n",
      "\t Example: July\n",
      "\n",
      "%m \t Month as number 01-12. \n",
      "\t Example: 07\n",
      "\n",
      "%y \t Year - short. \n",
      "\t Example: 23\n",
      "\n",
      "%Y \t Year - full. \n",
      "\t Example: 2023\n",
      "\n",
      "%H \t Hour 00-23. \n",
      "\t Example: 19\n",
      "\n",
      "%I \t Hour 00-12. \n",
      "\t Example: 07\n",
      "\n",
      "%p \t AM/PM. \n",
      "\t Example: PM\n",
      "\n",
      "%M \t Minute 00-59. \n",
      "\t Example: 38\n",
      "\n",
      "%S \t Second 00-59. \n",
      "\t Example: 25\n",
      "\n",
      "%f \t Microsecond 000000-999999. \n",
      "\t Example: 665616\n",
      "\n",
      "%z \t UTC offset. \n",
      "\t Example: \n",
      "\n",
      "%Z \t Timezone. \n",
      "\t Example: \n",
      "\n",
      "%j \t Day of year 001-366. \n",
      "\t Example: 207\n",
      "\n",
      "%U \t Week of year, Sunday as first day of week, 00-53 - likely differs from ISO 8601. \n",
      "\t Example: 30\n",
      "\n",
      "%W \t Week of year, Monday as first day of week, 00-53. \n",
      "\t Example: 30\n",
      "\n",
      "%c \t Local version of date and time. \n",
      "\t Example: Wed Jul 26 19:38:25 2023\n",
      "\n",
      "%C \t Century. \n",
      "\t Example: 20\n",
      "\n",
      "%x \t Local version of date. \n",
      "\t Example: 07/26/23\n",
      "\n",
      "%X \t Local version of time. \n",
      "\t Example: 19:38:25\n",
      "\n",
      "%% \t A % character. \n",
      "\t Example: %\n",
      "\n",
      "%G \t ISO 8601 year. \n",
      "\t Example: 2023\n",
      "\n",
      "%u \t ISO 8601 weekday (1-7). \n",
      "\t Example: 3\n",
      "\n",
      "%V \t ISO 8601 weeknumber (01-53). \n",
      "\t Example: 30\n",
      "\n"
     ]
    }
   ],
   "source": [
    "print('As indicated before, the `strftime()` method can render\\n',\n",
    "      'datetime.datetime objects into readable strings. It takes a single\\n',\n",
    "      'argument to specify the desired output format')\n",
    "\n",
    "import datetime\n",
    "\n",
    "current_timestamp = datetime.datetime.now()\n",
    "\n",
    "print(current_timestamp)\n",
    "\n",
    "datetime_format_codes = {\n",
    "    '%a': 'Weekday - short',\n",
    "    '%A': 'Weekday - full',\n",
    "    '%w': 'Weekday as number 0-6 with Sunday as 0 - differs from ISO 8601',\n",
    "    '%d': 'Day of month',\n",
    "    '%b': 'Month - short',\n",
    "    '%B': 'Month - full',\n",
    "    '%m': 'Month as number 01-12',\n",
    "    '%y': 'Year - short',\n",
    "    '%Y': 'Year - full',\n",
    "    '%H': 'Hour 00-23',\n",
    "    '%I': 'Hour 00-12',\n",
    "    '%p': 'AM/PM',\n",
    "    '%M': 'Minute 00-59',\n",
    "    '%S': 'Second 00-59',\n",
    "    '%f': 'Microsecond 000000-999999',\n",
    "    '%z': 'UTC offset',\n",
    "    '%Z': 'Timezone',\n",
    "    '%j': 'Day of year 001-366',\n",
    "    '%U': 'Week of year, Sunday as first day of week, 00-53 - likely differs from ISO 8601',\n",
    "    '%W': 'Week of year, Monday as first day of week, 00-53',\n",
    "    '%c': 'Local version of date and time',\n",
    "    '%C': 'Century',\n",
    "    '%x': 'Local version of date',\n",
    "    '%X': 'Local version of time',\n",
    "    '%%': 'A % character',\n",
    "    '%G': 'ISO 8601 year',\n",
    "    '%u': 'ISO 8601 weekday (1-7)',\n",
    "    '%V': 'ISO 8601 weeknumber (01-53)'\n",
    "}\n",
    "\n",
    "for key in datetime_format_codes:\n",
    "    print(f'{key} \\t {datetime_format_codes[key]}. \\n\\t Example: {current_timestamp.strftime(key)}\\n')"
   ]
  }
 ],
 "metadata": {
  "kernelspec": {
   "display_name": "Python 3",
   "language": "python",
   "name": "python3"
  },
  "language_info": {
   "codemirror_mode": {
    "name": "ipython",
    "version": 3
   },
   "file_extension": ".py",
   "mimetype": "text/x-python",
   "name": "python",
   "nbconvert_exporter": "python",
   "pygments_lexer": "ipython3",
   "version": "3.9.17"
  },
  "orig_nbformat": 4
 },
 "nbformat": 4,
 "nbformat_minor": 2
}
