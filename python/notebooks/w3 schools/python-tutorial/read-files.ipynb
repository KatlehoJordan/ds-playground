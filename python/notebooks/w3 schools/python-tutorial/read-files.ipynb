{
 "cells": [
  {
   "cell_type": "markdown",
   "metadata": {},
   "source": [
    "# Python Tutorial\n",
    "\n",
    "https://www.w3schools.com/python/"
   ]
  },
  {
   "cell_type": "markdown",
   "metadata": {},
   "source": [
    "## Read-files\n",
    "  \n",
    "Use the built-in `open` function in a `with` statement to open files.\n",
    "\n",
    "Although `r+` and other flavors of `mode` should grant multiple, permissions to the file, I have not observed them working as I would expect. Thus, it may be best to use a single kind of mode within each context."
   ]
  },
  {
   "cell_type": "code",
   "execution_count": 11,
   "metadata": {},
   "outputs": [
    {
     "name": "stderr",
     "output_type": "stream",
     "text": [
      "The type of my_opened_file is <class '_io.TextIOWrapper'>.\n",
      "It has these names:\n",
      "_CHUNK_SIZE\n",
      "__class__\n",
      "__del__\n",
      "__delattr__\n",
      "__dict__\n",
      "__dir__\n",
      "__doc__\n",
      "__enter__\n",
      "__eq__\n",
      "__exit__\n",
      "__format__\n",
      "__ge__\n",
      "__getattribute__\n",
      "__gt__\n",
      "__hash__\n",
      "__init__\n",
      "__init_subclass__\n",
      "__iter__\n",
      "__le__\n",
      "__lt__\n",
      "__ne__\n",
      "__new__\n",
      "__next__\n",
      "__reduce__\n",
      "__reduce_ex__\n",
      "__repr__\n",
      "__setattr__\n",
      "__sizeof__\n",
      "__str__\n",
      "__subclasshook__\n",
      "_checkClosed\n",
      "_checkReadable\n",
      "_checkSeekable\n",
      "_checkWritable\n",
      "_finalizing\n",
      "buffer\n",
      "close\n",
      "closed\n",
      "detach\n",
      "encoding\n",
      "errors\n",
      "fileno\n",
      "flush\n",
      "isatty\n",
      "line_buffering\n",
      "mode\n",
      "name\n",
      "newlines\n",
      "read\n",
      "readable\n",
      "readline\n",
      "readlines\n",
      "reconfigure\n",
      "seek\n",
      "seekable\n",
      "tell\n",
      "truncate\n",
      "writable\n",
      "write\n",
      "write_through\n",
      "writelines\n"
     ]
    }
   ],
   "source": [
    "import os\n",
    "from configurations import printer\n",
    "\n",
    "my_file_name = 'read-files.txt'\n",
    "\n",
    "os.system(f'touch {my_file_name}')\n",
    "\n",
    "with open(my_file_name, 'r') as my_opened_file:\n",
    "    object_type = type(my_opened_file)\n",
    "    printer(f'The type of my_opened_file is {object_type}.')\n",
    "    printer('It has these names:')\n",
    "    for key in dir(my_opened_file):\n",
    "        printer(key)\n"
   ]
  },
  {
   "cell_type": "markdown",
   "metadata": {},
   "source": [
    "If the file is located in a different location than from where it is being called, then the full or relative path will need to be specified."
   ]
  },
  {
   "cell_type": "code",
   "execution_count": 8,
   "metadata": {},
   "outputs": [
    {
     "name": "stdout",
     "output_type": "stream",
     "text": [
      "The type of my_opened_file is <class '_io.TextIOWrapper'>.\n",
      "\n",
      "\n",
      "Now writing the contents of the file \n",
      "\n",
      "\n",
      "\n",
      "\n",
      "Now printing the contents of the file \n",
      "\n",
      "\n",
      "\n"
     ]
    }
   ],
   "source": [
    "import os\n",
    "from configurations import printer\n",
    "\n",
    "my_nested_directory = 'directory-for-read-files'\n",
    "my_nested_file = 'buried-read-files.txt'\n",
    "my_nested_path = f'{my_nested_directory}/{my_nested_file}'\n",
    "os.system(f'mkdir {my_nested_directory}')\n",
    "os.system(f'touch {my_nested_path}')\n",
    "\n",
    "\n",
    "with open(f'{my_nested_path}', 'r+') as my_opened_file:\n",
    "    object_type = type(my_opened_file)\n",
    "    printer(f'The type of my_opened_file is {object_type}.')\n",
    "    printer('\\n\\nNow writing the contents of the file \\n\\n')\n",
    "    my_opened_file.write('hello from a nested file!')"
   ]
  },
  {
   "cell_type": "markdown",
   "metadata": {},
   "source": [
    "Unfortunately, in my attempts to read and write from a file in one context manager (a single call to `with`), I have not had success reading the file. Specifically, if I write to a file, I cannot then read from the file in the same context; I have to start a new context."
   ]
  },
  {
   "cell_type": "code",
   "execution_count": 16,
   "metadata": {},
   "outputs": [
    {
     "name": "stderr",
     "output_type": "stream",
     "text": [
      "mkdir: cannot create directory ‘directory-for-read-files’: File exists\n",
      "The type of my_opened_file is <class '_io.TextIOWrapper'>.\n",
      "\n",
      "\n",
      "Now writing the contents of the file \n",
      "\n",
      "\n",
      "\n",
      "\n",
      "Now printing the contents of the file from within the context\n",
      "\n",
      "\n",
      "\n",
      "Now printing the file contents from outside the with context\n",
      "\n",
      "\n",
      "\n",
      "Now printing the contents of the file from within a new context\n",
      "\n",
      "\n",
      "hello from another nested file!\n"
     ]
    }
   ],
   "source": [
    "import os\n",
    "from configurations import printer\n",
    "\n",
    "my_nested_directory = 'directory-for-read-files'\n",
    "my_nested_file = 'buried-read-files-cannot-read-and-write.txt'\n",
    "my_nested_path = f'{my_nested_directory}/{my_nested_file}'\n",
    "os.system(f'mkdir {my_nested_directory}')\n",
    "os.system(f'touch {my_nested_path}')\n",
    "\n",
    "\n",
    "with open(f'{my_nested_path}', 'r+') as my_opened_file:\n",
    "    object_type = type(my_opened_file)\n",
    "    printer(f'The type of my_opened_file is {object_type}.')\n",
    "    printer('\\n\\nNow writing the contents of the file \\n\\n')\n",
    "    my_opened_file.write('hello from another nested file!')\n",
    "    printer(\n",
    "        '\\n\\n'\n",
    "        'Now printing the contents of the file from within the context'\n",
    "        '\\n\\n'\n",
    "        )\n",
    "    file_contents = my_opened_file.read()\n",
    "    printer(file_contents)\n",
    "    \n",
    "printer('Now printing the file contents from outside the with context')\n",
    "printer(file_contents)\n",
    "\n",
    "\n",
    "with open(f'{my_nested_path}', 'r') as my_opened_file:\n",
    "    printer(\n",
    "        '\\n\\n'\n",
    "        'Now printing the contents of the file from within a new context'\n",
    "        '\\n\\n'\n",
    "        )\n",
    "    new_file_contents = my_opened_file.read()\n",
    "    printer(new_file_contents)"
   ]
  },
  {
   "cell_type": "markdown",
   "metadata": {},
   "source": [
    "### Read Only Parts of the File\n",
    "\n",
    "The `read` method usually returns all of the file's text. But you can specify a number of characters."
   ]
  },
  {
   "cell_type": "code",
   "execution_count": 18,
   "metadata": {},
   "outputs": [
    {
     "name": "stderr",
     "output_type": "stream",
     "text": [
      "there\n"
     ]
    }
   ],
   "source": [
    "import os\n",
    "from configurations import printer\n",
    "\n",
    "my_file_name = 'read-files.txt'\n",
    "\n",
    "os.system(f'touch {my_file_name}')\n",
    "\n",
    "with open(my_file_name, 'w') as my_opened_file:\n",
    "    my_opened_file.write('there are more than 5 characters here')\n",
    "\n",
    "with open(my_file_name, 'r') as my_opened_file:\n",
    "    printer(my_opened_file.read(5))"
   ]
  },
  {
   "cell_type": "markdown",
   "metadata": {},
   "source": [
    "### Read Lines\n",
    "\n",
    "Another method is `.readline()`, which reads a single line. If you call it a second time, it reads the next line. If you call it after calling `.read(<number>)`, then it will finish reading the line that you had started reading.\n",
    "\n",
    "The `_io.TextIOWrapper` can be looped over line by line with a loop. This is because it has an `__iter__` and a `__next__` method. Although I have not found how to look into the source code to see which these are iterating over, based on the observed behavior, they are iterating over the line numbers... They could have been iterating over characters, for example, but that is not the observed behavior. Note that iterators do not typically get 'reset'. That is, once you increment, you cannot decrement but you must rather create a new iterator if you want to start the cycle over. That is why I can, below, iterate a couple of times manually with `__next__`, but then finish iterating with a `for` loop."
   ]
  },
  {
   "cell_type": "code",
   "execution_count": 36,
   "metadata": {},
   "outputs": [
    {
     "name": "stderr",
     "output_type": "stream",
     "text": [
      "On 2023-07-30 at 14:38:44 default non-root logger logged a message\n",
      "INFO:\n",
      "Writing the file\n",
      "\n",
      "\tModule: 846274342\tFunction: <module>\n",
      "\tFile: 846274342.py \tLine: 8\n",
      "\n",
      "\n",
      "On 2023-07-30 at 14:38:44 default non-root logger logged a message\n",
      "INFO:\n",
      "Toying with read and readline methods\n",
      "\n",
      "\tModule: 846274342\tFunction: <module>\n",
      "\tFile: 846274342.py \tLine: 14\n",
      "\n",
      "\n",
      "there\n",
      " are more than 5 characters here\n",
      "\n",
      "and there are more than one line\n",
      "\n",
      "On 2023-07-30 at 14:38:44 default non-root logger logged a message\n",
      "INFO:\n",
      "First use the `__iter__` and `__next__` methods to iterate\n",
      "\n",
      "\tModule: 846274342\tFunction: <module>\n",
      "\tFile: 846274342.py \tLine: 22\n",
      "\n",
      "\n",
      "there are more than 5 characters here\n",
      "\n",
      "and there are more than one line\n",
      "\n",
      "On 2023-07-30 at 14:38:44 default non-root logger logged a message\n",
      "INFO:\n",
      "Now looping over the remaining lines\n",
      "\n",
      "\tModule: 846274342\tFunction: <module>\n",
      "\tFile: 846274342.py \tLine: 28\n",
      "\n",
      "\n",
      "There are at least 3 lines\n",
      "\n",
      "\n",
      "\n",
      "\n",
      "\n",
      "but maybe more!\n"
     ]
    }
   ],
   "source": [
    "import os\n",
    "from configurations import printer, logger\n",
    "\n",
    "my_file_name = 'read-files.txt'\n",
    "\n",
    "os.system(f'touch {my_file_name}')\n",
    "\n",
    "logger.info('Writing the file')\n",
    "with open(my_file_name, 'w') as my_opened_file:\n",
    "    my_opened_file.write('there are more than 5 characters here\\n'\n",
    "                         'and there are more than one line\\n'\n",
    "                         'There are at least 3 lines\\n\\n\\nbut maybe more!')\n",
    "\n",
    "logger.info('Toying with read and readline methods')\n",
    "with open(my_file_name, 'r') as my_opened_file:\n",
    "    printer(my_opened_file.read(5))\n",
    "    printer(my_opened_file.readline())\n",
    "    printer(my_opened_file.readline())\n",
    "\n",
    "\n",
    "with open(my_file_name, 'r') as my_opened_file:\n",
    "    logger.info('First use the `__iter__` and `__next__` methods to iterate')\n",
    "    my_iterator = my_opened_file.__iter__()\n",
    "    printer(my_iterator.__next__())\n",
    "    printer(my_iterator.__next__())\n",
    "    logger.info('Now looping over the remaining lines')\n",
    "    for line in my_opened_file:\n",
    "        printer(line)"
   ]
  },
  {
   "cell_type": "markdown",
   "metadata": {},
   "source": [
    "### Close Files\n",
    "\n",
    "If you ever open files outside of the context manager, then you will need to explicitly close them with the `.close()` method. However, if you are using best practices you won't need to do this since they will be close automatically when the context in which they have been opened is closed.\n",
    "\n",
    "```python\n",
    "# Not executed\n",
    "f = open('demofile.txt', 'r')\n",
    "print(f.readline())\n",
    "f.close()\n",
    "```"
   ]
  }
 ],
 "metadata": {
  "kernelspec": {
   "display_name": "Python 3",
   "language": "python",
   "name": "python3"
  },
  "language_info": {
   "codemirror_mode": {
    "name": "ipython",
    "version": 3
   },
   "file_extension": ".py",
   "mimetype": "text/x-python",
   "name": "python",
   "nbconvert_exporter": "python",
   "pygments_lexer": "ipython3",
   "version": "3.9.17"
  },
  "orig_nbformat": 4
 },
 "nbformat": 4,
 "nbformat_minor": 2
}
