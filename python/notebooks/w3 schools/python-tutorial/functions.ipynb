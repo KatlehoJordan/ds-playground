{
 "cells": [
  {
   "cell_type": "markdown",
   "metadata": {},
   "source": [
    "# Python Tutorial\n",
    "\n",
    "https://www.w3schools.com/python/"
   ]
  },
  {
   "cell_type": "markdown",
   "metadata": {},
   "source": [
    "## Functions"
   ]
  },
  {
   "cell_type": "code",
   "execution_count": null,
   "metadata": {},
   "outputs": [],
   "source": [
    "print('Functions are defined with the `def` keyword')\n",
    "def my_function():\n",
    "    print('Hello from my function')\n",
    "    \n",
    "my_function()"
   ]
  },
  {
   "cell_type": "markdown",
   "metadata": {},
   "source": [
    "### Arguments"
   ]
  },
  {
   "cell_type": "code",
   "execution_count": 3,
   "metadata": {},
   "outputs": [
    {
     "name": "stdout",
     "output_type": "stream",
     "text": [
      "Functions take arguments\n",
      "You are printing: a statement\n",
      "You are printing: a different statement\n",
      "A parameter is the value used when a function is defined\n",
      " whereas arguments are the values sent when the function is called\n",
      "You are printing: another statment, which is passed as the argument for parameter_1\n",
      "By default, a function called must have the same number of arguments\n",
      " as parameters used when it was defined. If you do not know ahead of \n",
      " time how many arguments will be used, then precede the paramter name \n",
      " with a *\n",
      "You are printing the 0th argument passed to the function: 0th item\n"
     ]
    }
   ],
   "source": [
    "print('Functions take arguments')\n",
    "\n",
    "def my_print(parameter_1: str):\n",
    "    print('You are printing: ' + parameter_1)\n",
    "    return None\n",
    "\n",
    "my_print('a statement')\n",
    "my_print('a different statement')\n",
    "\n",
    "print('A parameter is the value used when a function is defined\\n',\n",
    "      'whereas arguments are the values sent when the function is called')\n",
    "\n",
    "my_print('another statment, which is passed as the argument for parameter_1')"
   ]
  },
  {
   "cell_type": "markdown",
   "metadata": {},
   "source": [
    "#### Arbitrary arguments"
   ]
  },
  {
   "cell_type": "code",
   "execution_count": null,
   "metadata": {},
   "outputs": [],
   "source": [
    "print('By default, a function called must have the same number of arguments\\n',\n",
    "      'as parameters used when it was defined. If you do not know ahead of \\n',\n",
    "      'time how many arguments will be used, then precede the paramter name \\n',\n",
    "      'with a *')\n",
    "\n",
    "def my_print(*parameter_1: str):\n",
    "    print('You are printing the 0th argument passed to the function: ' +\n",
    "          parameter_1[0])\n",
    "    return None\n",
    "\n",
    "my_print('0th item', '1st item')"
   ]
  },
  {
   "cell_type": "markdown",
   "metadata": {},
   "source": [
    "#### Keyword arguments"
   ]
  },
  {
   "cell_type": "code",
   "execution_count": 6,
   "metadata": {},
   "outputs": [
    {
     "name": "stdout",
     "output_type": "stream",
     "text": [
      "Use the key = value syntax to indicate default arguments for parameters\n",
      "You are printing: a string\n",
      "Use ** to indicate if you do not know how many keyword args will be\n",
      " passed to the function\n",
      "You are retrieving item_0 from the list of named arguments passed0th item\n"
     ]
    }
   ],
   "source": [
    "print('Use the key = value syntax to indicate default arguments for parameters')\n",
    "\n",
    "def my_first_print(parameter_1: str = 'a string'):\n",
    "    print('You are printing: ' + parameter_1)\n",
    "    return None\n",
    "\n",
    "my_print()\n",
    "\n",
    "print('Use ** to indicate if you do not know how many keyword args will be\\n',\n",
    "      'passed to the function')\n",
    "\n",
    "def my_print(**parameter_1: str):\n",
    "    print('You are retrieving item_0 from the list of named arguments passed' +\n",
    "          parameter_1['item_0'])\n",
    "    return None\n",
    "\n",
    "my_print(item_0 = '0th item', item_1 = '1st item')"
   ]
  },
  {
   "cell_type": "markdown",
   "metadata": {},
   "source": [
    "#### Passing a list as an argument\n",
    "\n",
    "All data sent into the function will retain its class once within the function.\n",
    "\n",
    "### Return values\n",
    "\n",
    "Functions must either return something or pass. It is best to return instead of passing, and returning None explicitly if the function is not meant to return something.\n",
    "\n",
    "### Recursion"
   ]
  },
  {
   "cell_type": "code",
   "execution_count": 1,
   "metadata": {},
   "outputs": [
    {
     "name": "stdout",
     "output_type": "stream",
     "text": [
      "Recursion is possible but non-trivial and may result in broken or \n",
      " resource intensive programs. Use recursion cautiously and write \n",
      " defensively.\n",
      "int is 1, which is less than comparator, 2\n",
      "Incrementing int\n",
      "int is 2, which is not less than comparator, 2\n"
     ]
    }
   ],
   "source": [
    "print('Recursion is possible but non-trivial and may result in broken or \\n',\n",
    "      'resource intensive programs. Use recursion cautiously and write \\n',\n",
    "      'defensively.')\n",
    "\n",
    "def my_recursive(int: int, comparator: int):\n",
    "    if int < comparator:\n",
    "        print(f'int is {int}, which is less than comparator, {comparator}')\n",
    "        print('Incrementing int')\n",
    "        my_recursive(int = int + 1, comparator=comparator)\n",
    "    else:\n",
    "        print(f'int is {int}, which is not less than comparator, {comparator}')\n",
    "\n",
    "my_recursive(1, 2)"
   ]
  }
 ],
 "metadata": {
  "kernelspec": {
   "display_name": "Python 3",
   "language": "python",
   "name": "python3"
  },
  "language_info": {
   "codemirror_mode": {
    "name": "ipython",
    "version": 3
   },
   "file_extension": ".py",
   "mimetype": "text/x-python",
   "name": "python",
   "nbconvert_exporter": "python",
   "pygments_lexer": "ipython3",
   "version": "3.9.17"
  },
  "orig_nbformat": 4
 },
 "nbformat": 4,
 "nbformat_minor": 2
}
