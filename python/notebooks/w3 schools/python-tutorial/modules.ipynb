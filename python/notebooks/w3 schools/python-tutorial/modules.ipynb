{
 "cells": [
  {
   "cell_type": "markdown",
   "metadata": {},
   "source": [
    "# Python Tutorial\n",
    "\n",
    "https://www.w3schools.com/python/"
   ]
  },
  {
   "cell_type": "markdown",
   "metadata": {},
   "source": [
    "## Modules"
   ]
  },
  {
   "cell_type": "code",
   "execution_count": 1,
   "metadata": {},
   "outputs": [
    {
     "name": "stdout",
     "output_type": "stream",
     "text": [
      "Modules are importable code libraries. For example, if you save\n",
      " a `.py` in the same directory as another, then you can import\n",
      " it.\n",
      "Hello,  David\n"
     ]
    }
   ],
   "source": [
    "print('Modules are importable code libraries. For example, if you save\\n',\n",
    "      'a `.py` in the same directory as a notebook, then you can import\\n',\n",
    "      'it within the notebook.')\n",
    "\n",
    "import my_module\n",
    "\n",
    "my_module.greeting('David')"
   ]
  },
  {
   "cell_type": "markdown",
   "metadata": {},
   "source": [
    "### Variables in Module"
   ]
  },
  {
   "cell_type": "code",
   "execution_count": 1,
   "metadata": {},
   "outputs": [
    {
     "name": "stdout",
     "output_type": "stream",
     "text": [
      "In addition to functions, variables can be imported.\n"
     ]
    },
    {
     "data": {
      "text/plain": [
       "37"
      ]
     },
     "execution_count": 1,
     "metadata": {},
     "output_type": "execute_result"
    }
   ],
   "source": [
    "print('In addition to functions, variables can be imported.')\n",
    "\n",
    "import my_module\n",
    "\n",
    "my_module.person['age']"
   ]
  },
  {
   "cell_type": "markdown",
   "metadata": {},
   "source": [
    "### Re-naming a Module"
   ]
  },
  {
   "cell_type": "code",
   "execution_count": 2,
   "metadata": {},
   "outputs": [
    {
     "name": "stdout",
     "output_type": "stream",
     "text": [
      "You can use the `as` keyword to use an alias for a module\n"
     ]
    },
    {
     "data": {
      "text/plain": [
       "37"
      ]
     },
     "execution_count": 2,
     "metadata": {},
     "output_type": "execute_result"
    }
   ],
   "source": [
    "print('You can use the `as` keyword to use an alias for a module')\n",
    "\n",
    "import my_module as mm\n",
    "\n",
    "mm.person['age']"
   ]
  },
  {
   "cell_type": "markdown",
   "metadata": {},
   "source": [
    "### Built-in Modules"
   ]
  },
  {
   "cell_type": "code",
   "execution_count": 3,
   "metadata": {},
   "outputs": [
    {
     "name": "stdout",
     "output_type": "stream",
     "text": [
      "Several modules are shipped with the `python` installation, but are\n",
      " not loaded until you import them explicitly.\n",
      "Linux\n"
     ]
    }
   ],
   "source": [
    "print('Several modules are shipped with the `python` installation, but are\\n',\n",
    "      'not loaded until you import them explicitly.')\n",
    "\n",
    "import platform\n",
    "\n",
    "print(platform.system())"
   ]
  },
  {
   "cell_type": "markdown",
   "metadata": {},
   "source": [
    "### Using the `dir()` Function"
   ]
  },
  {
   "cell_type": "code",
   "execution_count": 5,
   "metadata": {},
   "outputs": [
    {
     "name": "stdout",
     "output_type": "stream",
     "text": [
      "The `dir()` function will tell you all names belong to a module\n",
      "['_Processor', '_WIN32_CLIENT_RELEASES', '_WIN32_SERVER_RELEASES', '__builtins__', '__cached__', '__copyright__', '__doc__', '__file__', '__loader__', '__name__', '__package__', '__spec__', '__version__', '_comparable_version', '_component_re', '_default_architecture', '_follow_symlinks', '_get_machine_win32', '_ironpython26_sys_version_parser', '_ironpython_sys_version_parser', '_java_getprop', '_libc_search', '_mac_ver_xml', '_node', '_norm_version', '_platform', '_platform_cache', '_pypy_sys_version_parser', '_sys_version', '_sys_version_cache', '_sys_version_parser', '_syscmd_file', '_syscmd_ver', '_uname_cache', '_unknown_as_blank', '_ver_output', '_ver_stages', 'architecture', 'collections', 'functools', 'itertools', 'java_ver', 'libc_ver', 'mac_ver', 'machine', 'node', 'os', 'platform', 'processor', 'python_branch', 'python_build', 'python_compiler', 'python_implementation', 'python_revision', 'python_version', 'python_version_tuple', 're', 'release', 'subprocess', 'sys', 'system', 'system_alias', 'uname', 'uname_result', 'version', 'win32_edition', 'win32_is_iot', 'win32_ver']\n",
      "_Processor\n",
      "_WIN32_CLIENT_RELEASES\n",
      "_WIN32_SERVER_RELEASES\n",
      "__builtins__\n",
      "__cached__\n",
      "__copyright__\n",
      "__doc__\n",
      "__file__\n",
      "__loader__\n",
      "__name__\n",
      "__package__\n",
      "__spec__\n",
      "__version__\n",
      "_comparable_version\n",
      "_component_re\n",
      "_default_architecture\n",
      "_follow_symlinks\n",
      "_get_machine_win32\n",
      "_ironpython26_sys_version_parser\n",
      "_ironpython_sys_version_parser\n",
      "_java_getprop\n",
      "_libc_search\n",
      "_mac_ver_xml\n",
      "_node\n",
      "_norm_version\n",
      "_platform\n",
      "_platform_cache\n",
      "_pypy_sys_version_parser\n",
      "_sys_version\n",
      "_sys_version_cache\n",
      "_sys_version_parser\n",
      "_syscmd_file\n",
      "_syscmd_ver\n",
      "_uname_cache\n",
      "_unknown_as_blank\n",
      "_ver_output\n",
      "_ver_stages\n",
      "architecture\n",
      "collections\n",
      "functools\n",
      "itertools\n",
      "java_ver\n",
      "libc_ver\n",
      "mac_ver\n",
      "machine\n",
      "node\n",
      "os\n",
      "platform\n",
      "processor\n",
      "python_branch\n",
      "python_build\n",
      "python_compiler\n",
      "python_implementation\n",
      "python_revision\n",
      "python_version\n",
      "python_version_tuple\n",
      "re\n",
      "release\n",
      "subprocess\n",
      "sys\n",
      "system\n",
      "system_alias\n",
      "uname\n",
      "uname_result\n",
      "version\n",
      "win32_edition\n",
      "win32_is_iot\n",
      "win32_ver\n"
     ]
    }
   ],
   "source": [
    "print('The `dir()` function will tell you all names belong to a module')\n",
    "\n",
    "import platform\n",
    "\n",
    "for name in dir(platform):\n",
    "    print(name)"
   ]
  },
  {
   "cell_type": "markdown",
   "metadata": {},
   "source": [
    "### Import From Module"
   ]
  },
  {
   "cell_type": "code",
   "execution_count": 6,
   "metadata": {},
   "outputs": [
    {
     "name": "stdout",
     "output_type": "stream",
     "text": [
      "You can decide to only import specific names from a module using `from`\n",
      "name\n",
      "age\n"
     ]
    }
   ],
   "source": [
    "print('You can decide to only import specific names from a module using `from`')\n",
    "\n",
    "from my_module import person\n",
    "\n",
    "for name in person:\n",
    "    print(name)\n",
    "    \n",
    "print('Observe that when importing specific names from a module,\\n',\n",
    "      'one does not need to refer to the module name in later usages.')\n",
    "\n",
    "print('What is not covered here is how to import modules that are local and\\n',\n",
    "      'saved in complicated directory structures.')"
   ]
  }
 ],
 "metadata": {
  "kernelspec": {
   "display_name": "Python 3",
   "language": "python",
   "name": "python3"
  },
  "language_info": {
   "codemirror_mode": {
    "name": "ipython",
    "version": 3
   },
   "file_extension": ".py",
   "mimetype": "text/x-python",
   "name": "python",
   "nbconvert_exporter": "python",
   "pygments_lexer": "ipython3",
   "version": "3.9.17"
  },
  "orig_nbformat": 4
 },
 "nbformat": 4,
 "nbformat_minor": 2
}
