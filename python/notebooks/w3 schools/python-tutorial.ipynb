{
 "cells": [
  {
   "cell_type": "markdown",
   "metadata": {},
   "source": [
    "# Python Tutorial\n",
    "\n",
    "https://www.w3schools.com/python/"
   ]
  },
  {
   "cell_type": "markdown",
   "metadata": {},
   "source": [
    "## Intro"
   ]
  },
  {
   "cell_type": "code",
   "execution_count": 1,
   "metadata": {},
   "outputs": [
    {
     "name": "stdout",
     "output_type": "stream",
     "text": [
      "Hello, World!\n"
     ]
    }
   ],
   "source": [
    "print(\"Hello, World!\")"
   ]
  },
  {
   "cell_type": "markdown",
   "metadata": {},
   "source": [
    "## Get Started (no new code)\n",
    "\n",
    "## Syntax\n",
    "\n",
    "Indentation"
   ]
  },
  {
   "cell_type": "code",
   "execution_count": 5,
   "metadata": {},
   "outputs": [
    {
     "name": "stdout",
     "output_type": "stream",
     "text": [
      "Code blocks need to be indented. Four spaces is typical.\n",
      "Two spaces works\n",
      "So does six spaces.\n"
     ]
    }
   ],
   "source": [
    "if 5 > 2:\n",
    "    print(\"Code blocks need to be indented. Four spaces is typical.\")\n",
    "\n",
    "if 5 > 2:\n",
    "  print(\"Two spaces works\")\n",
    "\n",
    "if 5 > 2:\n",
    "      print(\"So does six spaces.\")"
   ]
  },
  {
   "cell_type": "markdown",
   "metadata": {},
   "source": [
    "Variables"
   ]
  },
  {
   "cell_type": "code",
   "execution_count": 6,
   "metadata": {},
   "outputs": [],
   "source": [
    "x = 5\n",
    "y = \"No command is needed to assign a variable. Just an equals operator.\""
   ]
  },
  {
   "cell_type": "markdown",
   "metadata": {},
   "source": [
    "Comments"
   ]
  },
  {
   "cell_type": "code",
   "execution_count": 7,
   "metadata": {},
   "outputs": [
    {
     "name": "stdout",
     "output_type": "stream",
     "text": [
      "Can comment after code in line also.\n",
      "Observe the various ways to comment.\n"
     ]
    }
   ],
   "source": [
    "# Comment one line with a hash\n",
    "print(\"Can comment after code in line also.\") # For example, this comment.\n",
    "\n",
    "# Multi line\n",
    "# Comments\n",
    "# Can be achieved like this\n",
    "\n",
    "\"\"\"\n",
    "Or using triple quotes.\n",
    "\"\"\"\n",
    "print(\"Observe the various ways to comment.\")"
   ]
  },
  {
   "cell_type": "markdown",
   "metadata": {},
   "source": [
    "## Variables\n",
    "\n",
    "### First look at python variables"
   ]
  },
  {
   "cell_type": "code",
   "execution_count": 8,
   "metadata": {},
   "outputs": [
    {
     "name": "stdout",
     "output_type": "stream",
     "text": [
      "5\n",
      "John\n",
      "Variables can change type when re-assigned.\n",
      "Sally\n",
      "Casting can be done by using the function for the type desired.\n",
      "3\n",
      "3\n",
      "3.0\n",
      "Get the type of an object with the `type` function.\n",
      "<class 'str'>\n",
      "<class 'int'>\n",
      "<class 'float'>\n",
      "Double or single quotes work for making `str` objects.\n",
      "John\n",
      "John\n",
      "Variable names are case-sensitive.\n",
      "4\n",
      "Sally\n",
      "It is uncommon to name variables starting with a capital letter.\n"
     ]
    }
   ],
   "source": [
    "x = 5\n",
    "y = \"John\"\n",
    "print(x)\n",
    "print(y)\n",
    "\n",
    "print(\"Variables can change type when re-assigned.\")\n",
    "x = \"Sally\"\n",
    "print(x)\n",
    "\n",
    "print(\"Casting can be done by using the function for the type desired.\")\n",
    "x = str(3)\n",
    "y = int(3)\n",
    "z = float(3)\n",
    "\n",
    "print(x)\n",
    "print(y)\n",
    "print(z)\n",
    "\n",
    "print(\"Get the type of an object with the `type` function.\")\n",
    "\n",
    "print(type(x))\n",
    "print(type(y))\n",
    "print(type(z))\n",
    "\n",
    "print(\"Double or single quotes work for making `str` objects.\")\n",
    "\n",
    "x = \"John\"\n",
    "print(x)\n",
    "x = 'John'\n",
    "print(x)\n",
    "\n",
    "print(\"Variable names are case-sensitive.\")\n",
    "a = 4\n",
    "A = \"Sally\"\n",
    "print(a)\n",
    "print(A)\n",
    "\n",
    "print(\"It is uncommon to name variables starting with a capital letter.\")"
   ]
  },
  {
   "cell_type": "markdown",
   "metadata": {},
   "source": [
    "### Variable Names"
   ]
  },
  {
   "cell_type": "code",
   "execution_count": 10,
   "metadata": {},
   "outputs": [
    {
     "name": "stdout",
     "output_type": "stream",
     "text": [
      "Variable names are permissible if they start with a letter or _ and  only contain A-z, 0-9, and _ and do not contain any of the `python`  keywords.\n",
      "Python keywords include: ['and', 'as', 'assert', 'break', 'class', 'continue', 'def', 'del', 'elif', 'else', 'except', 'False', 'finally', 'for', 'from', 'global', 'if', 'import', 'in', 'is', 'lambda', 'None', 'nonlocal', 'not', 'or', 'pass', 'raise', 'return', 'True', 'try', 'while', 'with', 'yield']\n",
      "Although it is allowed to start variable names with _ or to have  names that are all caps, these are usually reserved for special cases.\n",
      "Multi-word variable names are typically handled with snake case,  camel case and Pascal case are also common.\n"
     ]
    }
   ],
   "source": [
    "print(\"Variable names are permissible if they start with a letter or _ and \",\n",
    "      \"only contain A-z, 0-9, and _ and do not contain any of the `python` \",\n",
    "      \"keywords.\")\n",
    "\n",
    "python_keywords = [\"and\", \"as\", \"assert\", \"break\", \"class\", \"continue\", \"def\",\n",
    "                   \"del\", \"elif\", \"else\", \"except\", \"False\", \"finally\", \"for\",\n",
    "                   \"from\", \"global\", \"if\", \"import\", \"in\", \"is\", \"lambda\",\n",
    "                   \"None\", \"nonlocal\", \"not\", \"or\", \"pass\", \"raise\", \"return\",\n",
    "                   \"True\", \"try\", \"while\", \"with\", \"yield\"]\n",
    "\n",
    "print(f\"Python keywords include: {python_keywords}\")\n",
    "\n",
    "print(\"Although it is allowed to start variable names with _ or to have \",\n",
    "      \"names that are all caps, these are usually reserved for special cases.\")\n",
    "\n",
    "myvar = \"John\"\n",
    "my_var = \"John\"\n",
    "_my_var = \"John\"\n",
    "myVar = \"John\"\n",
    "MYVAR = \"John\"\n",
    "myvar2 = \"John\"\n",
    "\n",
    "print(\"Multi-word variable names are typically handled with snake case, \",\n",
    "      \"camel case and Pascal case are also common.\")\n",
    "\n",
    "my_variable_name = \"John\"\n",
    "myVariableName = \"John\"\n",
    "MyVariableName = \"John\""
   ]
  },
  {
   "cell_type": "markdown",
   "metadata": {},
   "source": [
    "### Assign Multiple Values"
   ]
  },
  {
   "cell_type": "code",
   "execution_count": 12,
   "metadata": {},
   "outputs": [
    {
     "name": "stdout",
     "output_type": "stream",
     "text": [
      "Multiple variables can be assigned simultaneously with comma  separation.\n",
      "Orange\n",
      "Banana\n",
      "Cherry\n",
      "A single value can also be assigned to multiple variables at once.\n",
      "Orange\n",
      "Orange\n",
      "Orange\n",
      "A collection (list, tuple, etc.) can be unpacked to individual  variables at once as well.\n",
      "apple\n",
      "banana\n",
      "cherry\n"
     ]
    }
   ],
   "source": [
    "print(\"Multiple variables can be assigned simultaneously with comma \",\n",
    "      \"separation.\")\n",
    "\n",
    "x, y, z = \"Orange\", \"Banana\", \"Cherry\"\n",
    "print(x)\n",
    "print(y)\n",
    "print(z)\n",
    "\n",
    "print(\"A single value can also be assigned to multiple variables at once.\")\n",
    "x = y = z = \"Orange\"\n",
    "print(x)\n",
    "print(y)\n",
    "print(z)\n",
    "\n",
    "print(\"A collection (list, tuple, etc.) can be unpacked to individual \",\n",
    "      \"variables at once as well.\")\n",
    "fruits = [\"apple\", \"banana\", \"cherry\"]\n",
    "x, y, z = fruits\n",
    "print(x)\n",
    "print(y)\n",
    "print(z)"
   ]
  },
  {
   "cell_type": "markdown",
   "metadata": {},
   "source": [
    "### Output Variables"
   ]
  },
  {
   "cell_type": "code",
   "execution_count": 15,
   "metadata": {},
   "outputs": [
    {
     "name": "stdout",
     "output_type": "stream",
     "text": [
      "The `print` function is often used to show output variables in the  console. Use commas to separate different variables with a space. Use the plus operator to do it without adding a space.\n",
      "Python is alright\n",
      "Pythonisalright\n",
      "If the variables are numeric, then they will be added before printed.\n",
      "3\n",
      "If missing variable types, use the comma-separation.\n",
      "Python is my number 2 language.\n"
     ]
    }
   ],
   "source": [
    "print(\"The `print` function is often used to show output variables in the \",\n",
    "      \"console. Use commas to separate different variables with a space.\", \n",
    "      \"Use the plus operator to do it without adding a space.\")\n",
    "\n",
    "x = \"Python\"\n",
    "y = \"is\"\n",
    "z = \"alright\"\n",
    "\n",
    "print(x, y, z)\n",
    "\n",
    "print(x + y + z)\n",
    "\n",
    "print(\"If the variables are numeric, then they will be added before printed.\")\n",
    "\n",
    "a = 1\n",
    "b = 2\n",
    "\n",
    "print(a + b)\n",
    "\n",
    "print(\"If missing variable types, use the comma-separation.\")\n",
    "\n",
    "print(\"Python is my number\", b, \"language.\")"
   ]
  },
  {
   "cell_type": "markdown",
   "metadata": {},
   "source": [
    "### Global Variables"
   ]
  },
  {
   "cell_type": "code",
   "execution_count": 21,
   "metadata": {},
   "outputs": [
    {
     "name": "stdout",
     "output_type": "stream",
     "text": [
      "Global variables will be usable within functions.\n",
      "Python is awesome\n",
      "If a global variable is later redefined in a function, the local definition will be used without overwriting the global definition.\n",
      "Python is fantastic\n",
      "Python is awesome\n",
      "Variables first defined within functions can be made global with the `global` keyword. This makes it difficult to keep track of which objects are available in which contexts, though, so it is generally better to avoid this.\n",
      "Python is flexible\n",
      "The use of the `global` keyword can be used to create new global variables or to create new ones that were not yet defined.\n"
     ]
    }
   ],
   "source": [
    "print(\"Global variables will be usable within functions.\")\n",
    "\n",
    "x = \"awesome\"\n",
    "\n",
    "def my_func():\n",
    "    print(\"Python is\", x)\n",
    "\n",
    "my_func()\n",
    "\n",
    "\n",
    "print(\"If a global variable is later redefined in a function, the local\",\n",
    "      \"definition will be used without overwriting the global definition.\")\n",
    "\n",
    "def my_new_func():\n",
    "    x = \"fantastic\"\n",
    "    print(\"Python is\", x)\n",
    "    \n",
    "my_new_func()\n",
    "\n",
    "my_func()\n",
    "\n",
    "print(\"Variables first defined within functions can be made global with the\",\n",
    "      \"`global` keyword. This makes it difficult to keep track of which\",\n",
    "      \"objects are available in which contexts, though, so it is generally\",\n",
    "      \"better to avoid this.\")\n",
    "    \n",
    "def my_func_with_global_var():\n",
    "    global x\n",
    "    x = 'flexible'\n",
    "\n",
    "my_func_with_global_var()\n",
    "\n",
    "my_func()\n",
    "\n",
    "print(\"The use of the `global` keyword can be used to create new global\",\n",
    "      \"variables or to create new ones that were not yet defined.\")"
   ]
  },
  {
   "cell_type": "markdown",
   "metadata": {},
   "source": [
    "## Data Types"
   ]
  },
  {
   "cell_type": "code",
   "execution_count": 23,
   "metadata": {},
   "outputs": [
    {
     "name": "stdout",
     "output_type": "stream",
     "text": [
      "The built-in `python` data types are: [['str'], ['int', 'float', 'complex'], ['list', 'tuple', 'range'], ['dict'], ['set', 'frozenset'], ['bool'], ['bytes', 'bytearray', 'memoryview'], ['NoneType']]\n",
      "Use `type` function to get the type of an object.\n",
      "<class 'int'>\n",
      "Below are examples of when `python` infers the type without casting.\n",
      "One can also explicitly assign types using \"constructor\" functions. These have the benefit of a more obvious for collaborators and a syntax that is more-similar regardless of type.\n"
     ]
    }
   ],
   "source": [
    "text_types = ['str']\n",
    "numeric_types = ['int', 'float', 'complex']\n",
    "sequence_types = ['list', 'tuple', 'range']\n",
    "mapping_types = ['dict']\n",
    "set_types = ['set', 'frozenset']\n",
    "boolean_types = ['bool']\n",
    "binary_types = ['bytes', 'bytearray', 'memoryview']\n",
    "none_types = ['NoneType']\n",
    "\n",
    "python_data_types = [text_types, numeric_types, sequence_types, mapping_types,\n",
    "                     set_types, boolean_types, binary_types, none_types]\n",
    "                     \n",
    "print(f'The built-in `python` data types are: {python_data_types}')\n",
    "\n",
    "print('Use `type` function to get the type of an object.')\n",
    "x = 5\n",
    "print(type(x))\n",
    "\n",
    "print('Below are examples of when `python` infers the type without casting.')\n",
    "\n",
    "x = 'Hello World!'\n",
    "x = 20\n",
    "x = 20.5\n",
    "x = 5j\n",
    "x = ['this is a list of one item']\n",
    "x = ('this is a tuple of one item')\n",
    "x = range(6)\n",
    "x = {'name': 'John', 'age': 37}\n",
    "x = {'this is a set of one item'}\n",
    "x = frozenset({'apple'})\n",
    "x = True\n",
    "x = b\"This is a bytes type\"\n",
    "x = bytearray(5)\n",
    "x = memoryview(bytes(5))\n",
    "x = None\n",
    "\n",
    "print('One can also explicitly assign types using \"constructor\" functions.',\n",
    "      'These have the benefit of a more obvious for collaborators and a',\n",
    "      'syntax that is more-similar regardless of type.')\n",
    "\n",
    "x = str('Hello World!')\n",
    "x = int(20)\n",
    "x = float(20.5)\n",
    "x = complex(5j)\n",
    "x = list(('this is a list of one item'))\n",
    "x = tuple(('this is a tuple of one item'))\n",
    "x = range(6)\n",
    "x = dict(name = 'John', age = 37)\n",
    "x = set(('this is a set of one item'))\n",
    "x = frozenset(('apple'))\n",
    "x = bool(1)\n",
    "x = bytes(5)\n",
    "x = bytearray(5)\n",
    "x = memoryview(bytes(5))"
   ]
  },
  {
   "cell_type": "markdown",
   "metadata": {},
   "source": [
    "## Numbers"
   ]
  },
  {
   "cell_type": "code",
   "execution_count": 31,
   "metadata": {},
   "outputs": [
    {
     "name": "stdout",
     "output_type": "stream",
     "text": [
      "x is 1 and <class 'int'>\n",
      "y is 2.8 and <class 'float'>\n",
      "z is 1j and <class 'complex'>\n",
      "Int are integers.\n",
      "x is 1 and <class 'int'>\n",
      "y is 83923984719 and <class 'int'>\n",
      "z is -389130894 and <class 'int'>\n",
      "Float is a floating point number (number with a decimal). Float can also be 'scientific' numbers with e to indicate to the power of 10.\n",
      "x is 1.1 and <class 'float'>\n",
      "y is 1.0 and <class 'float'>\n",
      "z is -35.59 and <class 'float'>\n",
      "x is 35000.0 and <class 'float'>\n",
      "y is 120000.0 and <class 'float'>\n",
      "z is -0.877 and <class 'float'>\n",
      "Complex are written with `j` to indicate the imaginary part.\n",
      "x is (3+5j) and <class 'complex'>\n",
      "y is 5j and <class 'complex'>\n",
      "z is (-0-5j) and <class 'complex'>\n",
      "Use the constructor functions to recast numeric types.\n",
      "x is 1 and <class 'int'>\n",
      "y is 2.8 and <class 'float'>\n",
      "z is 1j and <class 'complex'>\n",
      "a is 1.0 and <class 'float'>\n",
      "Casting a float to int uses floor rounding.\n",
      "b is 2 and <class 'int'>\n",
      "b2 is 3 and <class 'int'>\n",
      "c is (1+0j) and <class 'complex'>\n"
     ]
    }
   ],
   "source": [
    "x = int(1)\n",
    "y = float(2.8)\n",
    "z = complex(1j)\n",
    "\n",
    "print(f'x is {x} and {type(x)}')\n",
    "print(f'y is {y} and {type(y)}')\n",
    "print(f'z is {z} and {type(z)}')\n",
    "\n",
    "print(\"Int are integers.\")\n",
    "\n",
    "x = 1\n",
    "y = 83923984719\n",
    "z = -389130894\n",
    "\n",
    "print(f'x is {x} and {type(x)}')\n",
    "print(f'y is {y} and {type(y)}')\n",
    "print(f'z is {z} and {type(z)}')\n",
    "\n",
    "print(\"Float is a floating point number (number with a\",\n",
    "      \"decimal). Float can also be 'scientific' numbers with e to indicate\",\n",
    "      'to the power of 10.')\n",
    "\n",
    "x = 1.10\n",
    "y = 1.0\n",
    "z = -35.59\n",
    "\n",
    "print(f'x is {x} and {type(x)}')\n",
    "print(f'y is {y} and {type(y)}')\n",
    "print(f'z is {z} and {type(z)}')\n",
    "\n",
    "x = 35e3\n",
    "y = 12E4\n",
    "z = -87.7e-2\n",
    "\n",
    "print(f'x is {x} and {type(x)}')\n",
    "print(f'y is {y} and {type(y)}')\n",
    "print(f'z is {z} and {type(z)}')\n",
    "\n",
    "print('Complex are written with `j` to indicate the imaginary part.')\n",
    "\n",
    "x = 3 + 5j\n",
    "y = 5j\n",
    "z = -5j\n",
    "\n",
    "print(f'x is {x} and {type(x)}')\n",
    "print(f'y is {y} and {type(y)}')\n",
    "print(f'z is {z} and {type(z)}')\n",
    "\n",
    "print('Use the constructor functions to recast numeric types.')\n",
    "\n",
    "x = 1\n",
    "y = 2.8\n",
    "y2 = 3.8\n",
    "z = 1j\n",
    "\n",
    "print(f'x is {x} and {type(x)}')\n",
    "print(f'y is {y} and {type(y)}')\n",
    "print(f'z is {z} and {type(z)}')\n",
    "\n",
    "a = float(x)\n",
    "print(f'a is {a} and {type(a)}')\n",
    "\n",
    "print('Casting a float to int uses floor rounding.')\n",
    "b = int(y)\n",
    "print(f'b is {b} and {type(b)}')\n",
    "b2 = int(y2)\n",
    "print(f'b2 is {b2} and {type(b2)}')\n",
    "\n",
    "c = complex(x)\n",
    "print(f'c is {c} and {type(c)}')\n",
    "\n",
    "print('Complex numbers cannot be converted to other types.')"
   ]
  },
  {
   "cell_type": "markdown",
   "metadata": {},
   "source": [
    "### Random Number"
   ]
  },
  {
   "cell_type": "code",
   "execution_count": 42,
   "metadata": {},
   "outputs": [
    {
     "name": "stdout",
     "output_type": "stream",
     "text": [
      "Import the built-in module, `random` to get random integers.\n",
      "`random.randrange` will pull one sample from a range you define, non-inclusive of the top-end of the defined range.\n",
      "1\n",
      "100\n",
      "13\n"
     ]
    }
   ],
   "source": [
    "import random\n",
    "\n",
    "print('Import the built-in module, `random` to get random integers.')\n",
    "\n",
    "print('`random.randrange` will pull one sample from a range you define,',\n",
    "      'non-inclusive of the top-end of the defined range.')\n",
    "x = random.randrange(1, 2)\n",
    "\n",
    "print(x)\n",
    "\n",
    "x = random.randrange(100, 101)\n",
    "\n",
    "print(x)\n",
    "\n",
    "x = random.randrange(2, 20)\n",
    "\n",
    "print(x)"
   ]
  },
  {
   "cell_type": "markdown",
   "metadata": {},
   "source": [
    "## Casting\n",
    "\n",
    "No new code in this section. Repetition of how to use constructor functions to explicitly cast variables to types.\n",
    "\n",
    "## Strings"
   ]
  },
  {
   "cell_type": "code",
   "execution_count": 51,
   "metadata": {},
   "outputs": [
    {
     "name": "stdout",
     "output_type": "stream",
     "text": [
      "Multiline strings can be assigned to variables.\n",
      "\n",
      "This multiline string is\n",
      "assigned to x\n",
      "\n",
      "\n",
      "Double or single quotes\n",
      "are acceptable\n",
      "during assignment.\n",
      "\n",
      "Strings in `python` are arrays of bytes representing unicode characters. There is no `character` type; a `str` type of length 1 corresponds to this common data type from other languages.\n",
      "H\n",
      "Because strings are arrays, they can be looped through.\n",
      "H\n",
      "e\n",
      "l\n",
      "l\n",
      "o\n",
      ",\n",
      " \n",
      "W\n",
      "o\n",
      "r\n",
      "l\n",
      "d\n",
      "!\n",
      "String (and any array) length can be obtained with `len()` function.\n",
      "13\n",
      "The `python` keyword `in` can be used to determine if a string is found in another.\n",
      "True\n",
      "This can, of course, be put into an `if` statement.\n",
      "The word \"Hello\" is in the object `x`.\n",
      "The `python` keyword `not` can precede `in` to negate it, thereby letting you check if a string is missing from another.\n",
      "The word \"Goodbye\" is not in the object `x`.\n"
     ]
    }
   ],
   "source": [
    "print('Multiline strings can be assigned to variables.')\n",
    "\n",
    "x = '''\n",
    "This multiline string is\n",
    "assigned to x\n",
    "'''\n",
    "print(x)\n",
    "\n",
    "x = \"\"\"\n",
    "Double or single quotes\n",
    "are acceptable\n",
    "during assignment.\n",
    "\"\"\"\n",
    "\n",
    "print(x)\n",
    "\n",
    "print('Strings in `python` are arrays of bytes representing unicode',\n",
    "      'characters. There is no `character` type; a `str` type of length 1',\n",
    "      'corresponds to this common data type from other languages.')\n",
    "\n",
    "x = 'Hello, World!'\n",
    "print(x[0])\n",
    "\n",
    "print('Because strings are arrays, they can be looped through.')\n",
    "for character in x:\n",
    "    print(character)\n",
    "    \n",
    "print('String (and any array) length can be obtained with `len()` function.')\n",
    "print(len(x))\n",
    "\n",
    "print('The `python` keyword `in` can be used to determine if a string is',\n",
    "      'found in another.')\n",
    "print('Hello' in x)\n",
    "\n",
    "print('This can, of course, be put into an `if` statement.')\n",
    "if 'Hello' in x:\n",
    "    print('The word \"Hello\" is in the object `x`.')\n",
    "\n",
    "print('The `python` keyword `not` can precede `in` to negate it,',\n",
    "      'thereby letting you check if a string is missing from another.')\n",
    "if 'Goodbye' not in x:\n",
    "    print('The word \"Goodbye\" is not in the object `x`.')"
   ]
  },
  {
   "cell_type": "markdown",
   "metadata": {},
   "source": [
    "### Slicing Strings"
   ]
  },
  {
   "cell_type": "code",
   "execution_count": 61,
   "metadata": {},
   "outputs": [
    {
     "name": "stdout",
     "output_type": "stream",
     "text": [
      "Use square brackets to slice strings.\n",
      "llo\n",
      "To slice from start, leave out the first number before the colon\n",
      "Hello\n",
      "To slice to the end, leave off the number after the colon\n",
      "llo, World!\n",
      "Python enables negative indexing, so that `-1` means the final element\n",
      "!\n",
      "Note that when negative indexing, if doing a range, leave off the final number if you want to get to what is otherwise the `-1` element.\n",
      "orld!\n"
     ]
    }
   ],
   "source": [
    "print('Use square brackets to slice strings.')\n",
    "x = 'Hello, World!'\n",
    "print(x[2:5])\n",
    "\n",
    "print('To slice from start, leave out the first number before the colon')\n",
    "print(x[:5])\n",
    "\n",
    "print('To slice to the end, leave off the number after the colon')\n",
    "print(x[2:])\n",
    "\n",
    "print('Python enables negative indexing, so that `-1` means the final element')\n",
    "print(x[-1])\n",
    "\n",
    "print('Note that when negative indexing, if doing a range, leave off the',\n",
    "      'final number if you want to get to what is otherwise the `-1` element.')\n",
    "print(x[-5:])"
   ]
  },
  {
   "cell_type": "markdown",
   "metadata": {},
   "source": [
    "### Modify Strings"
   ]
  },
  {
   "cell_type": "code",
   "execution_count": 69,
   "metadata": {},
   "outputs": [
    {
     "name": "stdout",
     "output_type": "stream",
     "text": [
      "`str` objects have various methods to modify them. For example, `.upper()`, `.lower()`.\n",
      "HELLO, WORLD!\n",
      "hello, world!\n",
      "Trim leading and traling whitespace with `.strip()`\n",
      "     Hello, World!     \n",
      "Hello, World!\n",
      "Replace a string with another using `.replace()`.\n",
      "Goodbye, World!\n",
      "Splitting a string on a character is done with `.split()`. This returns a list object with the split elements.\n",
      "['Hello', ' World!']\n",
      "There are multiple other string methods.\n",
      "String methods include: ['capitalize', 'casefold', 'center', 'count', 'encode', 'endswith', 'expandtabs', 'find', 'format', 'format_map', 'index', 'isalnum', 'isalpha', 'isascii', 'isdecimal', 'isdigit', 'isidentifier', 'islower', 'isnumeric', 'isprintable', 'isspace', 'istitle', 'isupper', 'join', 'ljust', 'lower', 'lstrip', 'maketrans', 'partition', 'replace', 'rfind', 'rindex', 'rjust', 'rpartition', 'rsplit', 'rstrip', 'split', 'splitlines', 'startswith', 'strip', 'swapcase', 'title', 'translate', 'upper', 'zfill']\n",
      "VS Code intellicode should help you find methods for an object by auto-suggesting methods based on the object type you start typing.\n"
     ]
    }
   ],
   "source": [
    "print('`str` objects have various methods to modify them.',\n",
    "      'For example, `.upper()`, `.lower()`.')\n",
    "x = 'Hello, World!'\n",
    "print(x.upper())\n",
    "print(x.lower())\n",
    "\n",
    "print('Trim leading and traling whitespace with `.strip()`')\n",
    "x = '     ' + x + '     '\n",
    "print(x)\n",
    "x = x.strip()\n",
    "print(x)\n",
    "\n",
    "print('Replace a string with another using `.replace()`.')\n",
    "print(x.replace('Hello', 'Goodbye'))\n",
    "\n",
    "print('Splitting a string on a character is done with `.split()`.',\n",
    "      'This returns a list object with the split elements.')\n",
    "print(x.split(','))\n",
    "\n",
    "print('There are multiple other string methods.')\n",
    "string_methods = list(('capitalize', 'casefold', 'center', 'count', 'encode',\n",
    "                       'endswith', 'expandtabs', 'find', 'format',\n",
    "                        'format_map', 'index', 'isalnum', 'isalpha',\n",
    "                        'isascii', 'isdecimal', 'isdigit', 'isidentifier',\n",
    "                        'islower', 'isnumeric', 'isprintable', 'isspace',\n",
    "                        'istitle', 'isupper', 'join', 'ljust', 'lower',\n",
    "                        'lstrip', 'maketrans', 'partition', 'replace',\n",
    "                        'rfind', 'rindex', 'rjust', 'rpartition', 'rsplit',\n",
    "                        'rstrip', 'split', 'splitlines', 'startswith', 'strip',\n",
    "                        'swapcase', 'title', 'translate', 'upper', 'zfill'))\n",
    "\n",
    "print(f'String methods include: {string_methods}')\n",
    "\n",
    "print('VS Code intellicode should help you find methods for an object',\n",
    "      'by auto-suggesting methods based on the object type you start typing.')"
   ]
  },
  {
   "cell_type": "markdown",
   "metadata": {},
   "source": [
    "### Concatenate Strings\n",
    "\n",
    "No new code here. Recall using the `+` operator for concatenation.\n",
    "\n",
    "### Format Strings"
   ]
  },
  {
   "cell_type": "code",
   "execution_count": 78,
   "metadata": {},
   "outputs": [
    {
     "name": "stdout",
     "output_type": "stream",
     "text": [
      "The `.format()` method apparently converts to `str` the arguments it receives and inserts them into placholders signified by curly braces that are in the original string.\n",
      "My name is David, and I am hungry\n",
      "My name is David, and I am 37\n",
      "Multiple placeholders in the base string are possible.\n",
      "My name is David, and I am hungry and \n",
      "My name is David, and I am 37 and \n",
      "My name is David, and I am hungry and 37\n",
      "Multiple placeholders can be also be specified with integers.\n",
      "My name is David, and I am  and hungry\n",
      "My name is David, and I am  and 37\n",
      "My name is David, and I am 37 and hungry\n"
     ]
    }
   ],
   "source": [
    "print('The `.format()` method apparently converts to `str` the arguments',\n",
    "      'it receives and inserts them into placholders signified by curly',\n",
    "      'braces that are in the original string.')\n",
    "\n",
    "x = 'String without curlies'\n",
    "x.format()\n",
    "\n",
    "x = 'My name is David, and I am {}'\n",
    "print(x.format('hungry'))\n",
    "print(x.format(37))\n",
    "\n",
    "print('Multiple placeholders in the base string are possible.')\n",
    "x = 'My name is David, and I am {} and {}'\n",
    "print(x.format('hungry', ''))\n",
    "print(x.format(37, ''))\n",
    "print(x.format('hungry', 37))\n",
    "\n",
    "print('Multiple placeholders can be also be specified with integers.')\n",
    "x = 'My name is David, and I am {1} and {0}'\n",
    "print(x.format('hungry', ''))\n",
    "print(x.format(37, ''))\n",
    "print(x.format('hungry', 37))"
   ]
  },
  {
   "cell_type": "markdown",
   "metadata": {},
   "source": [
    "### Escape Characters"
   ]
  },
  {
   "cell_type": "code",
   "execution_count": 80,
   "metadata": {},
   "outputs": [
    {
     "name": "stdout",
     "output_type": "stream",
     "text": [
      "Use the backslash to escape\n",
      "We are the 'Vikings'\n",
      "There are a few special characters that require a backslash precedent, such as a newline (n), carriage return (r), tab (t), backspace (b), form feed (f), octal value (ooo), hex value (xhh).\n",
      "Hello\n",
      "Hello\n"
     ]
    }
   ],
   "source": [
    "print(\"Use the backslash to escape\")\n",
    "print('We are the \\'Vikings\\'')\n",
    "\n",
    "print('There are a few special characters that require a backslash precedent,',\n",
    "      'such as a newline (n), carriage return (r), tab (t), backspace (b),',\n",
    "      'form feed (f), octal value (ooo), hex value (xhh).')\n",
    "\n",
    "print('\\110\\145\\154\\154\\157')\n",
    "print('\\x48\\x65\\x6c\\x6c\\x6f')"
   ]
  },
  {
   "cell_type": "markdown",
   "metadata": {},
   "source": [
    "### String Methods\n",
    "\n",
    "This was aleady covered previously. Worth noting is that methods do not overwrite the string, they return new values which are not saved unless assigned to a variable.\n",
    "\n",
    "## Booleans"
   ]
  },
  {
   "cell_type": "code",
   "execution_count": 2,
   "metadata": {},
   "outputs": [
    {
     "name": "stdout",
     "output_type": "stream",
     "text": [
      "If you do any comparison, a `bool` is returned\n",
      "x is True and <class 'bool'>\n",
      "x is True and <class 'bool'>\n",
      "x is False and <class 'bool'>\n",
      "Boolean comparisons are useful for control flow in `if` statements.\n",
      "x is greater than y\n",
      "The `bool` function coerces anything to `True` that cannot be otherwise coerced to `0` or `False`. Empty collections will be `False`.\n",
      "True\n",
      "False\n",
      "\n",
      "\n",
      "True\n",
      "False\n",
      "\n",
      "\n",
      "True\n",
      "False\n",
      "\n",
      "\n",
      "True\n",
      "False\n",
      "\n",
      "\n",
      "True\n",
      "False\n",
      "\n",
      "\n",
      "True\n",
      "False\n",
      "\n",
      "\n",
      "False\n",
      "\n",
      "\n",
      "False\n",
      "\n",
      "\n",
      "Objects that have `__len__` method that evaluates to `0` will be `False`. I presume this is why empty collections do also.\n",
      "False\n",
      "1\n",
      "0\n",
      "You can make functions return booleans\n",
      "True\n",
      "It follows, then, that you can use the result of boolean-returning functions in flow control.\n",
      "my_function returned True\n",
      "`python` has a function called `isinstance` which lets you test if an object is an object of a given class/type, returning a `bool`.\n",
      "argument_1 is int\n",
      "argument_1 is not int\n"
     ]
    }
   ],
   "source": [
    "print('If you do any comparison, a `bool` is returned')\n",
    "\n",
    "x = (10 > 9)\n",
    "print(f'x is {x} and {type(x)}')\n",
    "\n",
    "x = (10 == 10)\n",
    "print(f'x is {x} and {type(x)}')\n",
    "\n",
    "x = (10 < 9)\n",
    "print(f'x is {x} and {type(x)}')\n",
    "\n",
    "print('Boolean comparisons are useful for control flow in `if` statements.')\n",
    "x = 200\n",
    "y = 33\n",
    "\n",
    "if x > y:\n",
    "    print('x is greater than y')\n",
    "else:\n",
    "    print('x is not greater than y')\n",
    "    \n",
    "print('The `bool` function coerces anything to `True` that cannot be',\n",
    "      'otherwise coerced to `0` or `False`. Empty collections will be `False`.')\n",
    "print(bool('Hello'))\n",
    "print(bool(''))\n",
    "\n",
    "print('\\n')\n",
    "\n",
    "print(bool(15))\n",
    "print(bool(0))\n",
    "\n",
    "print('\\n')\n",
    "\n",
    "print(bool(list(('hi'))))\n",
    "print(bool(list(())))\n",
    "\n",
    "print('\\n')\n",
    "\n",
    "print(bool(tuple(('hi'))))\n",
    "print(bool(tuple(())))\n",
    "\n",
    "print('\\n')\n",
    "\n",
    "print(bool(set(('hi'))))\n",
    "print(bool(set(())))\n",
    "\n",
    "print('\\n')\n",
    "\n",
    "print(bool(dict(hi = 1)))\n",
    "print(bool({}))\n",
    "\n",
    "print('\\n')\n",
    "\n",
    "print(bool(None))\n",
    "\n",
    "print('\\n')\n",
    "\n",
    "print(bool(False))\n",
    "\n",
    "print('\\n')\n",
    "\n",
    "print('Objects that have `__len__` method that evaluates to `0` will be',\n",
    "      '`False`. I presume this is why empty collections do also.')\n",
    "\n",
    "class my_class():\n",
    "    def __len__(self):\n",
    "        return 0\n",
    "\n",
    "x = my_class()\n",
    "print(bool(x))\n",
    "\n",
    "x = dict(hi = 1)\n",
    "print(x.__len__())\n",
    "\n",
    "x = {}\n",
    "print(x.__len__())\n",
    "\n",
    "print('You can make functions return booleans')\n",
    "def my_function():\n",
    "    return True\n",
    "\n",
    "print(my_function())\n",
    "\n",
    "print('It follows, then, that you can use the result of boolean-returning',\n",
    "      'functions in flow control.')\n",
    "\n",
    "if my_function():\n",
    "    print('my_function returned True')\n",
    "else:\n",
    "    print('my_function did not return True')\n",
    "\n",
    "print('`python` has a function called `isinstance` which lets you test',\n",
    "      'if an object is an object of a given class/type, returning a `bool`.')\n",
    "\n",
    "from typing import Union\n",
    "\n",
    "\n",
    "def report_if_int(argument_1: Union[int, float, complex]) -> None:\n",
    "    if isinstance(argument_1, int):\n",
    "        print('argument_1 is int')\n",
    "    else:\n",
    "        print('argument_1 is not int')\n",
    "    return None\n",
    "\n",
    "report_if_int(1)\n",
    "\n",
    "report_if_int(1.0)"
   ]
  },
  {
   "cell_type": "markdown",
   "metadata": {},
   "source": [
    "## Operators\n"
   ]
  },
  {
   "cell_type": "code",
   "execution_count": 48,
   "metadata": {},
   "outputs": [
    {
     "name": "stdout",
     "output_type": "stream",
     "text": [
      "Operators perform operations on variables and values\n",
      "\n",
      "\n",
      "Operator groups include: ['arithmetic', 'comparison', 'assignment', 'logical', 'identity', 'membership', 'bitwise']\n",
      "\n",
      "\n",
      "Arithmetic operators include: ('+', '-', '*', '/', '%', '**', '//')\n",
      "The division (/) returns the float from division\n",
      "10 / 3 is 3.3333333333333335\n",
      "The modulus (%) returns the int remainder from division\n",
      "10 % 3 is 1\n",
      "The floor division operator (//) returns the int quotient from division\n",
      "10 // 3 is 3\n",
      "Comparison operators include: ('==', '!=', '>', '<', '>=', '<=')\n",
      "Bitwise operators include: ('&', '|', '^', '~', '<<', '>>')\n",
      "`&` works as and for bits\n",
      "0 & 0 is 0\n",
      "1 & 0 is 0\n",
      "1 & 1 is 1\n",
      "`|` works as or for bits\n",
      "0 | 0 is 0\n",
      "1 | 0 is 1\n",
      "1 | 1 is 1\n",
      "`^` works as exclusive-or (true only if one is true) for bits\n",
      "0 ^ 0 is 0\n",
      "1 ^ 0 is 1\n",
      "1 ^ 1 is 0\n",
      "`~` inverts the bits of an object. This has some non-intuitive,\n",
      " and likely warrants it's own deep dive, \n",
      "(blog.finxter.com/tilde-python/). For an integer, `i`, it results in\n",
      " `-i - 1`, which is useful for negative indexing of arrays. \n",
      " There are also useful methods for integrating with pandas, to only \n",
      " return records that do not match some boolean logic, but that will \n",
      " not be shown here since we have not yet started with pandas.\n",
      "~True is -2\n",
      "~1 is -2\n",
      "~False is -1\n",
      "~0 is -1\n",
      "[1, 2, 3][-1]  is 3\n",
      "[1, 2, 3][~0]  is 3\n",
      "[1, 2, 3][-3]  is 1\n",
      "[1, 2, 3][~2]  is 1\n",
      "`<<` shifts bits, letting leftmost bits fall off, and adding 0s to \n",
      " the right\n",
      "0<<1 is 0\n",
      "1<<1 is 2\n",
      "2<<1 is 4\n",
      "`>>` shifts bits, letting rightmost bits fall off, and adding 0s to \n",
      " the left\n",
      "0>>1 is 0\n",
      "1>>1 is 0\n",
      "2>>1 is 1\n",
      "Assignment operators include: ('=', '+=', '-=', '*=', '/=', '%=', '//=', '**=', '&=', '|=', '^=', '>>=', '<<=')\n",
      "The assignment operators that modify `=` perform the arithmetic or \n",
      " bitwise operator indicated on the objects on both sides of the \n",
      " operator before re-assigning the result to the variable name on \n",
      " the lefthand side of the operator.\n",
      "Logical operators include: ('and', 'or', 'not')\n",
      "Identity operators include: ('is', 'is not')\n",
      "Membership operators include: ('in', 'not in')\n",
      "The operators have a specific precedence, and when it comes to \n",
      " arithmetic, the precedence matches what you learned in school. \n",
      " Thus, it is safe to use parantheses to clearly separate operations \n",
      " based on your prefered order of evaluation if you are unsure of the \n",
      " precedence used in `python` for, for example, bitwise or comparison \n",
      " operators.\n"
     ]
    }
   ],
   "source": [
    "print('Operators perform operations on variables and values')\n",
    "print('\\n')\n",
    "operator_groups = list(('arithmetic', 'comparison', 'assignment', 'logical',\n",
    "                        'identity', 'membership', 'bitwise'))\n",
    "\n",
    "print(f'Operator groups include: {operator_groups}')\n",
    "\n",
    "print('\\n')\n",
    "\n",
    "arithmetic_operators = tuple(('+', '-', '*', '/', '%', '**', '//'))\n",
    "\n",
    "print(f'Arithmetic operators include: {arithmetic_operators}')\n",
    "\n",
    "print('The division (/) returns the float from division')\n",
    "\n",
    "print(f'10 / 3 is {10 / 3}')\n",
    "\n",
    "print('The modulus (%) returns the int remainder from division')\n",
    "\n",
    "print(f'10 % 3 is {10 % 3}')\n",
    "\n",
    "print('The floor division operator (//) returns the int quotient from division')\n",
    "\n",
    "print(f'10 // 3 is {10 // 3}')\n",
    "\n",
    "comparison_operators = tuple(('==', '!=', '>', '<', '>=', '<='))\n",
    "\n",
    "print(f'Comparison operators include: {comparison_operators}')\n",
    "\n",
    "bitwise_operators = tuple(('&', '|', '^', '~', '<<', '>>'))\n",
    "\n",
    "print(f'Bitwise operators include: {bitwise_operators}')\n",
    "\n",
    "print('`&` works as and for bits')\n",
    "\n",
    "print(f'0 & 0 is {0 & 0}')\n",
    "\n",
    "print(f'1 & 0 is {1 & 0}')\n",
    "\n",
    "print(f'1 & 1 is {1 & 1}')\n",
    "\n",
    "print('`|` works as or for bits')\n",
    "print(f'0 | 0 is {0 | 0}')\n",
    "\n",
    "print(f'1 | 0 is {1 | 0}')\n",
    "\n",
    "print(f'1 | 1 is {1 | 1}')\n",
    "\n",
    "print('`^` works as exclusive-or (true only if one is true) for bits')\n",
    "print(f'0 ^ 0 is {0 ^ 0}')\n",
    "\n",
    "print(f'1 ^ 0 is {1 ^ 0}')\n",
    "\n",
    "print(f'1 ^ 1 is {1 ^ 1}')\n",
    "\n",
    "print('`~` inverts the bits of an object. This has some non-intuitive,\\n',\n",
    "      'and likely warrants it\\'s own deep dive, \\n'\n",
    "      '(blog.finxter.com/tilde-python/). For an integer, `i`, it results in\\n',\n",
    "      '`-i - 1`, which is useful for negative indexing of arrays. \\n',\n",
    "      'There are also useful methods for integrating with pandas, to only \\n',\n",
    "      'return records that do not match some boolean logic, but that will \\n',\n",
    "      'not be shown here since we have not yet started with pandas.')\n",
    "\n",
    "print(f'~True is {~True}')\n",
    "print(f'~1 is {~1}')\n",
    "print(f'~False is {~False}')\n",
    "print(f'~0 is {~0}')\n",
    "print(f'[1, 2, 3][-1]  is {[1, 2, 3][-1]}')\n",
    "print(f'[1, 2, 3][~0]  is {[1, 2, 3][~0]}')\n",
    "print(f'[1, 2, 3][-3]  is {[1, 2, 3][-3]}')\n",
    "print(f'[1, 2, 3][~2]  is {[1, 2, 3][~2]}')\n",
    "\n",
    "print('`<<` shifts bits, letting leftmost bits fall off, and adding 0s to \\n',\n",
    "      'the right')\n",
    "\n",
    "print(f'0<<1 is {0 << 1}')\n",
    "print(f'1<<1 is {1 << 1}')\n",
    "print(f'2<<1 is {2 << 1}')\n",
    "\n",
    "print('`>>` shifts bits, letting rightmost bits fall off, and adding 0s to \\n',\n",
    "      'the left')\n",
    "\n",
    "print(f'0>>1 is {0 >> 1}')\n",
    "print(f'1>>1 is {1 >> 1}')\n",
    "print(f'2>>1 is {2 >> 1}')\n",
    "\n",
    "assignment_operators = tuple(('=', '+=', '-=', '*=', '/=', '%=', '//=', '**=',\n",
    "                              '&=', '|=', '^=', '>>=', '<<='))\n",
    "\n",
    "print(f'Assignment operators include: {assignment_operators}')\n",
    "print('The assignment operators that modify `=` perform the arithmetic or \\n',\n",
    "      'bitwise operator indicated on the objects on both sides of the \\n',\n",
    "      'operator before re-assigning the result to the variable name on \\n',\n",
    "      'the lefthand side of the operator.')\n",
    "\n",
    "logical_operators = tuple(('and', 'or', 'not'))\n",
    "print(f'Logical operators include: {logical_operators}')\n",
    "\n",
    "identity_operators = tuple(('is', 'is not'))\n",
    "print(f'Identity operators include: {identity_operators}')\n",
    "\n",
    "membership_operators = tuple(('in', 'not in'))\n",
    "print(f'Membership operators include: {membership_operators}')\n",
    "\n",
    "\n",
    "print('The operators have a specific precedence, and when it comes to \\n',\n",
    "      'arithmetic, the precedence matches what you learned in school. \\n',\n",
    "      'Thus, it is safe to use parantheses to clearly separate operations \\n',\n",
    "      'based on your prefered order of evaluation if you are unsure of the \\n',\n",
    "      'precedence used in `python` for, for example, bitwise or comparison \\n',\n",
    "      'operators.')"
   ]
  },
  {
   "cell_type": "markdown",
   "metadata": {},
   "source": [
    "## Lists"
   ]
  },
  {
   "cell_type": "code",
   "execution_count": 1,
   "metadata": {},
   "outputs": [
    {
     "name": "stdout",
     "output_type": "stream",
     "text": [
      "lists are one of four ways to store collections of data\n",
      "Collection types include ['list', 'tuple', 'set', 'dictionary']\n",
      "List items are ordered, mutable, allow duplicates, and are indexed\n",
      "Some list methods modify the order of items\n",
      "Some list methods are ['append', 'clear', 'copy', 'count', 'extend', 'index', 'insert', 'pop', 'remove', 'reverse', 'sort']\n",
      "Length of x is 5\n",
      "Lists can contain data of any types, and even mixed types\n",
      "<class 'list'>\n"
     ]
    }
   ],
   "source": [
    "print('lists are one of four ways to store collections of data')\n",
    "\n",
    "collections = list(('list', 'tuple', 'set', 'dictionary'))\n",
    "\n",
    "print(f'Collection types include {collections}')\n",
    "\n",
    "print('List items are ordered, mutable, allow duplicates, and are indexed')\n",
    "\n",
    "print('Some list methods modify the order of items')\n",
    "\n",
    "list_methods = list(('append', 'clear', 'copy', 'count', 'extend', 'index',\n",
    "                     'insert', 'pop', 'remove', 'reverse', 'sort'))\n",
    "\n",
    "print(f'Some list methods are {list_methods}')\n",
    "\n",
    "x = ['apple', 'banana', 'cherry', 'apple', 'cherry']\n",
    "\n",
    "print(f'Length of x is {len(x)}')\n",
    "\n",
    "print('Lists can contain data of any types, and even mixed types')\n",
    "\n",
    "x = ['apple', 1, True]\n",
    "\n",
    "print(type(x))\n"
   ]
  },
  {
   "cell_type": "markdown",
   "metadata": {},
   "source": [
    "### Access List Items"
   ]
  },
  {
   "cell_type": "code",
   "execution_count": 6,
   "metadata": {},
   "outputs": [
    {
     "name": "stdout",
     "output_type": "stream",
     "text": [
      "Access items with indexing, or negative indexing, or a range of indices\n",
      "0th element in x is apple\n",
      "-1st element in x is True\n",
      "0th to 2nd element in x is ['apple', 1]\n",
      "-1st to 1st element in x is ['apple', 1]\n",
      "Use `in` keyword to see if element is in your list\n",
      "Yes, apple is in x\n"
     ]
    }
   ],
   "source": [
    "print('Access items with indexing, or negative indexing, or a range of indices')\n",
    "\n",
    "x = ['apple', 1, True]\n",
    "\n",
    "print(f'0th element in x is {x[0]}')\n",
    "print(f'-1st element in x is {x[-1]}')\n",
    "print(f'0th to 2nd element in x is {x[0:2]}')\n",
    "print(f'-1st to 1st element in x is {x[-3:-1]}')\n",
    "\n",
    "print('Use `in` keyword to see if element is in your list')\n",
    "\n",
    "if 'apple' in x:\n",
    "    print('Yes, apple is in x')\n",
    "else:\n",
    "    print('No, apple is not in x')"
   ]
  },
  {
   "cell_type": "markdown",
   "metadata": {},
   "source": [
    "### Change List Items"
   ]
  },
  {
   "cell_type": "code",
   "execution_count": 9,
   "metadata": {},
   "outputs": [
    {
     "name": "stdout",
     "output_type": "stream",
     "text": [
      "Because lists are mutable, you can reassign by index\n",
      "['apple', 'banana', 'cherry']\n",
      "['apple', 'blackcurrant', 'cherry']\n",
      "You can reassign a slice of a list with a new list\n",
      "['orange', 'watermelon', 'cherry']\n",
      "If you reassign more than you specified, the new items will be\n",
      " inserted where you specified, and the remaining items will move\n",
      " (get bumped to higher indices / receive a \"rightshift\").\n",
      "['raspberry', 'blueberry', 'grapefruit', 'cherry']\n",
      "If you reassign less than you specified, the new items will be\n",
      " inserted where you specified, the other indices you indicated\n",
      " will be removed, and the remaining items will be moved accordingly(get bumped to lower indices / receive a \"leftshift\").\n",
      "['strawberry', 'grapefruit', 'cherry']\n",
      "Another way to insert at an index is with the `.insert()` method.\n",
      "['strawberry', 'grapefruit', 'mango', 'cherry']\n"
     ]
    }
   ],
   "source": [
    "print('Because lists are mutable, you can reassign by index')\n",
    "\n",
    "x = ['apple', 'banana', 'cherry']\n",
    "print(x)\n",
    "\n",
    "x[1] = 'blackcurrant'\n",
    "print(x)\n",
    "\n",
    "print('You can reassign a slice of a list with a new list')\n",
    "x[0:2] = ['orange', 'watermelon']\n",
    "print(x)\n",
    "\n",
    "print('If you reassign more than you specified, the new items will be\\n',\n",
    "      'inserted where you specified, and the remaining items will move\\n',\n",
    "      '(get bumped to higher indices / receive a \"rightshift\").')\n",
    "x[0:2] = ['raspberry', 'blueberry', 'grapefruit']\n",
    "print(x)\n",
    "\n",
    "print('If you reassign less than you specified, the new items will be\\n',\n",
    "      'inserted where you specified, the other indices you indicated\\n',\n",
    "      'will be removed, and the remaining items will be moved accordingly'\n",
    "      '(get bumped to lower indices / receive a \"leftshift\").')\n",
    "x[0:2] = ['strawberry']\n",
    "print(x)\n",
    "\n",
    "print('Another way to insert at an index is with the `.insert()` method.')\n",
    "x.insert(2, 'mango')\n",
    "print(x)"
   ]
  },
  {
   "cell_type": "markdown",
   "metadata": {},
   "source": [
    "### Add List Items"
   ]
  },
  {
   "cell_type": "code",
   "execution_count": 19,
   "metadata": {},
   "outputs": [
    {
     "name": "stdout",
     "output_type": "stream",
     "text": [
      "The `.append()` method adds items to the end of the list.\n",
      " This is done in-place, so there is no-need to re-assign the result.\n",
      "['apple']\n",
      "['apple', 'banana']\n",
      "The `.extend()` method works similarly, but takes another collection\n",
      " as the argument to be appended to the first list. This is in-place.\n",
      "['apple', 'banana', 'orange', 'pear']\n",
      "['apple', 'banana', 'orange', 'pear', 'cherry', 'blackberry']\n",
      "['apple', 'banana', 'orange', 'pear', 'cherry', 'blackberry', 'plaintain', 'pomegranate']\n",
      "Observe that while one can extend with a dictionary, only the keys\n",
      " are kept, the values get lost during the extension.\n",
      "['apple', 'banana', 'orange', 'pear', 'cherry', 'blackberry', 'plaintain', 'pomegranate', 'pineapple', 'starfruit']\n",
      "starfruit\n"
     ]
    }
   ],
   "source": [
    "print('The `.append()` method adds items to the end of the list.\\n',\n",
    "      'This is done in-place, so there is no-need to re-assign the result.')\n",
    "x = ['apple']\n",
    "print(x)\n",
    "x.append('banana')\n",
    "print(x)\n",
    "\n",
    "print('The `.extend()` method works similarly, but takes another collection\\n',\n",
    "      'as the argument to be appended to the first list. This is in-place.')\n",
    "x.extend(['orange', 'pear'])\n",
    "print(x)\n",
    "\n",
    "x.extend(tuple(('cherry', 'blackberry')))\n",
    "print(x)\n",
    "\n",
    "x.extend(set(('pomegranate', 'plaintain')))\n",
    "print(x)\n",
    "\n",
    "\n",
    "print('Observe that while one can extend with a dictionary, only the keys\\n',\n",
    "      'are kept, the values get lost during the extension.')\n",
    "x.extend({'pineapple': 0, 'starfruit': 1})\n",
    "print(x)\n",
    "print(x[-1])\n"
   ]
  },
  {
   "cell_type": "markdown",
   "metadata": {},
   "source": [
    "### Remove List Items"
   ]
  },
  {
   "cell_type": "code",
   "execution_count": 25,
   "metadata": {},
   "outputs": [
    {
     "name": "stdout",
     "output_type": "stream",
     "text": [
      "The `.remove` method removes items by name.\n",
      "['apple', 'banana', 'cherry', 'grapefruit', 'grapes', 'orange']\n",
      "['apple', 'cherry', 'grapefruit', 'grapes', 'orange']\n",
      "The `.pop()` method removes by an index, defaulting to the final index.\n",
      "['apple', 'cherry', 'grapefruit', 'grapes']\n",
      "['cherry', 'grapefruit', 'grapes']\n",
      "The `del` keyword can also be used to remove by an index.\n",
      "['grapefruit', 'grapes']\n",
      "The `del` keyword can remove the entire object if you want.\n",
      "x exists\n",
      "x does not exist\n",
      "In contrast to `del`, the `.clear()` method empties a list without\n",
      " deleting it.\n",
      "['apple', 'banana']\n",
      "[]\n",
      "x exists\n"
     ]
    }
   ],
   "source": [
    "print('The `.remove` method removes items by name.')\n",
    "x = ['apple', 'banana', 'cherry', 'grapefruit', 'grapes', 'orange']\n",
    "print(x)\n",
    "x.remove('banana')\n",
    "print(x)\n",
    "\n",
    "print('The `.pop()` method removes by an index, defaulting to the final index.')\n",
    "x.pop()\n",
    "print(x)\n",
    "x.pop(0)\n",
    "print(x)\n",
    "\n",
    "\n",
    "print('The `del` keyword can also be used to remove by an index.')\n",
    "del x[0]\n",
    "print(x)\n",
    "\n",
    "print('The `del` keyword can remove the entire object if you want.')\n",
    "def check_if_x_exists():\n",
    "    if 'x' in locals() or 'x' in globals():\n",
    "        print('x exists')\n",
    "    else:\n",
    "        print('x does not exist')\n",
    "check_if_x_exists()\n",
    "del x\n",
    "check_if_x_exists()\n",
    "\n",
    "print('In contrast to `del`, the `.clear()` method empties a list without\\n',\n",
    "      'deleting it.')\n",
    "x = ['apple', 'banana']\n",
    "print(x)\n",
    "x.clear()\n",
    "print(x)\n",
    "check_if_x_exists()"
   ]
  },
  {
   "cell_type": "markdown",
   "metadata": {},
   "source": [
    "### Loop Lists"
   ]
  },
  {
   "cell_type": "code",
   "execution_count": 32,
   "metadata": {},
   "outputs": [
    {
     "name": "stdout",
     "output_type": "stream",
     "text": [
      "Looping through lists is straightforward with `in`\n",
      "apple\n",
      "banana\n",
      "orange\n",
      "To loop through the list using indices, must create a range of them\n",
      "apple\n",
      "banana\n",
      "orange\n",
      "One can also use a while loop, but these are error prone and may\n",
      " end up in an infinite loop. They also require more code for\n",
      " initializing the iterator and incrementing it.\n",
      "apple\n",
      "banana\n",
      "orange\n",
      "List comprehension is the most \"pythonic\" way to loop over lists.\n",
      " It works by creating a list within a line of `for` loop syntax\n",
      "['apple', 'banana', 'cherry']\n"
     ]
    }
   ],
   "source": [
    "print('Looping through lists is straightforward with `in`')\n",
    "x = ['apple', 'banana', 'orange']\n",
    "for fruit in x:\n",
    "    print(fruit)\n",
    "\n",
    "print('To loop through the list using indices, must create a range of them')\n",
    "indices = range(len(x))\n",
    "\n",
    "for index in indices:\n",
    "    print(x[index])\n",
    "\n",
    "print('One can also use a while loop, but these are error prone and may\\n',\n",
    "      'end up in an infinite loop. They also require more code for\\n',\n",
    "      'initializing the iterator and incrementing it.')\n",
    "iterator = 0\n",
    "while iterator < len(x):\n",
    "    print(x[iterator])\n",
    "    iterator += 1\n",
    "\n",
    "print('List comprehension is the most \"pythonic\" way to loop over lists.\\n',\n",
    "      'It works by creating a list within a line of `for` loop syntax')\n",
    "\n",
    "thislist = [\"apple\", \"banana\", \"cherry\"]\n",
    "print([x for x in thislist])"
   ]
  },
  {
   "cell_type": "markdown",
   "metadata": {},
   "source": [
    "### List Comprehension"
   ]
  },
  {
   "cell_type": "code",
   "execution_count": 47,
   "metadata": {},
   "outputs": [
    {
     "name": "stdout",
     "output_type": "stream",
     "text": [
      "List comprehension is useful when you want to create a new list\n",
      " based on an existing list\n",
      "['apple', 'banana', 'mango']\n",
      "Using loops instead of list comprehension would take more code\n",
      " and violates linting rules due to it being ambiguous which types are\n",
      " being appended.\n",
      "['apple', 'banana', 'mango']\n",
      "Practice the list comprehension syntax: [expression for item in iterable if condition == True]\n",
      "['banana', 'cherry', 'kiwi', 'mango']\n",
      "Without the conditional, you make a deep copy of the list\n",
      "['apple', 'banana', 'cherry', 'kiwi', 'mango']\n",
      "['orange', 'banana', 'cherry', 'kiwi', 'mango']\n",
      "['apple', 'banana', 'cherry', 'kiwi', 'mango']\n",
      "You can make an iterable with the range function\n",
      "[0, 1]\n",
      "[0, 1, 2, 3]\n",
      "The expression is the current iteration of the iterable, but it can\n",
      " also be modified/manipulated before assigned\n",
      "['ORANGE', 'BANANA', 'CHERRY', 'KIWI', 'MANGO']\n",
      "The outcome can be static, although a good linter will let you know\n",
      " if what you are doing is perhaps not reasonable\n",
      "['hi', 'hi', 'hi', 'hi', 'hi']\n",
      "The expression can also contain conditions, like a switch statement\n",
      "['apple', 'banana', 'cherry', 'kiwi', 'mango']\n",
      "['apple', 'orange', 'cherry', 'kiwi', 'mango']\n"
     ]
    }
   ],
   "source": [
    "print('List comprehension is useful when you want to create a new list\\n',\n",
    "      'based on an existing list')\n",
    "x = ['apple', 'banana', 'cherry', 'kiwi', 'mango']\n",
    "\n",
    "y = [fruit for fruit in x if 'a' in fruit]\n",
    "\n",
    "print(y)\n",
    "\n",
    "print('Using loops instead of list comprehension would take more code\\n',\n",
    "      'and violates linting rules due to it being ambiguous which types are\\n',\n",
    "      'being appended.')\n",
    "\n",
    "y = []\n",
    "\n",
    "for fruit in x:\n",
    "    if 'a' in fruit:\n",
    "        y.append(fruit)\n",
    "\n",
    "print(y)\n",
    "\n",
    "print('Practice the list comprehension syntax:',\n",
    "      '[expression for item in iterable if condition == True]')\n",
    "\n",
    "y = [fruit for fruit in x if fruit != 'apple']\n",
    "print(y)\n",
    "\n",
    "print('Without the conditional, you make a deep copy of the list')\n",
    "\n",
    "y = [fruit for fruit in x]\n",
    "print(y)\n",
    "\n",
    "x[0] = 'orange'\n",
    "print(x)\n",
    "print(y)\n",
    "\n",
    "\n",
    "print('You can make an iterable with the range function')\n",
    "y = [item for item in range(2)]\n",
    "print(y)\n",
    "\n",
    "y = [item for item in range(20) if item <= 3]\n",
    "print(y)\n",
    "\n",
    "print('The expression is the current iteration of the iterable, but it can\\n',\n",
    "      'also be modified/manipulated before assigned')\n",
    "\n",
    "y = [fruit.upper() for fruit in x]\n",
    "print(y)\n",
    "\n",
    "print('The outcome can be static, although a good linter will let you know\\n',\n",
    "      'if what you are doing is perhaps not reasonable')\n",
    "y = ['hi' for fruit in x]\n",
    "print(y)\n",
    "\n",
    "\n",
    "print('The expression can also contain conditions, like a switch statement')\n",
    "x = ['apple', 'banana', 'cherry', 'kiwi', 'mango']\n",
    "print(x)\n",
    "y = [fruit if fruit != 'banana' else 'orange' for fruit in x]\n",
    "print(y)"
   ]
  },
  {
   "cell_type": "markdown",
   "metadata": {},
   "source": [
    "### Sort Lists"
   ]
  },
  {
   "cell_type": "code",
   "execution_count": 55,
   "metadata": {},
   "outputs": [
    {
     "name": "stdout",
     "output_type": "stream",
     "text": [
      "The `.sort()` method sorts lists ascendhing alphanumerically\n",
      "['orange', 'mango', 'kiwi', 'pineapple', 'banana']\n",
      "['banana', 'kiwi', 'mango', 'orange', 'pineapple']\n",
      "[100, 10, 1, 200, 20, 2]\n",
      "[1, 2, 10, 20, 100, 200]\n",
      "To sort descending, use `reverse = True`\n",
      "['orange', 'mango', 'kiwi', 'pineapple', 'banana']\n",
      "['pineapple', 'orange', 'mango', 'kiwi', 'banana']\n",
      "[100, 10, 1, 200, 20, 2]\n",
      "[200, 100, 20, 10, 2, 1]\n",
      "If you ever wanted to apply your own function to the data before\n",
      " sorting it, you can with the `key` argument\n",
      "[100, 50, 65, 82, 23]\n",
      "[23, 50, 65, 82, 100]\n",
      "[50, 65, 23, 82, 100]\n",
      "When it comes to letters, capitals are sorted before lower case\n",
      "['a', 'B', 'c', 'D']\n",
      "['B', 'D', 'a', 'c']\n",
      "To sort alphabetically without regard to case, use the `key` argument\n",
      "['a', 'B', 'c', 'D']\n",
      "['a', 'B', 'c', 'D']\n",
      "Recall that the `.reverse()` method flips the current order\n",
      " whereas the `reverse` argument in the `.sort()` method sorts descending\n",
      "['C', 'a', 'D', 'b']\n",
      "['b', 'D', 'a', 'C']\n",
      "['a', 'b', 'C', 'D']\n",
      "['D', 'C', 'b', 'a']\n"
     ]
    }
   ],
   "source": [
    "print('The `.sort()` method sorts lists ascendhing alphanumerically')\n",
    "x = ['orange', 'mango', 'kiwi', 'pineapple', 'banana']\n",
    "print(x)\n",
    "x.sort()\n",
    "print(x)\n",
    "\n",
    "x = [100, 10, 1, 200, 20, 2]\n",
    "print(x)\n",
    "x.sort()\n",
    "print(x)\n",
    "\n",
    "print('To sort descending, use `reverse = True`')\n",
    "x = ['orange', 'mango', 'kiwi', 'pineapple', 'banana']\n",
    "print(x)\n",
    "x.sort(reverse=True)\n",
    "print(x)\n",
    "\n",
    "x = [100, 10, 1, 200, 20, 2]\n",
    "print(x)\n",
    "x.sort(reverse=True)\n",
    "print(x)\n",
    "\n",
    "print('If you ever wanted to apply your own function to the data before\\n',\n",
    "      'sorting it, you can with the `key` argument')\n",
    "\n",
    "from typing import Union\n",
    "\n",
    "def minus_50_then_abs(n: Union[int, float]):\n",
    "    return abs(n - 50)\n",
    "\n",
    "x = [100, 50, 65, 82, 23]\n",
    "print(x)\n",
    "x.sort()\n",
    "print(x)\n",
    "x.sort(key = minus_50_then_abs)\n",
    "print(x)\n",
    "\n",
    "print('When it comes to letters, capitals are sorted before lower case')\n",
    "x = ['a', 'B', 'c', 'D']\n",
    "print(x)\n",
    "x.sort()\n",
    "print(x)\n",
    "\n",
    "print('To sort alphabetically without regard to case, use the `key` argument')\n",
    "x = ['a', 'B', 'c', 'D']\n",
    "print(x)\n",
    "x.sort(key = str.lower)\n",
    "print(x)\n",
    "\n",
    "print('Recall that the `.reverse()` method flips the current order\\n',\n",
    "      'whereas the `reverse` argument in the `.sort()` method sorts descending')\n",
    "x = ['C', 'a', 'D', 'b']\n",
    "print(x)\n",
    "x.reverse()\n",
    "print(x)\n",
    "x.sort(key= str.lower)\n",
    "print(x)\n",
    "x.sort(reverse=True, key= str.lower)\n",
    "print(x)"
   ]
  },
  {
   "cell_type": "markdown",
   "metadata": {},
   "source": [
    "### Copy Lists"
   ]
  },
  {
   "cell_type": "code",
   "execution_count": 58,
   "metadata": {},
   "outputs": [
    {
     "name": "stdout",
     "output_type": "stream",
     "text": [
      "Becauses lists are mutable, assigning a new list from an old list\n",
      " does not copy the list, but rather points a new reference to the same\n",
      " list. Instead, one must use the `.copy()` method.\n",
      "['a', 'b', 'c']\n",
      "['a', 'b', 'c']\n",
      "['a', 'b', 'c', 'd']\n",
      "['a', 'b', 'c']\n",
      "One can also use the constructor function `list()` to make a copy\n",
      " but that is less explicit.\n",
      "['a', 'b', 'c', 'd']\n",
      "['a', 'b', 'd']\n",
      "['a', 'b', 'c', 'd']\n"
     ]
    }
   ],
   "source": [
    "print('Becauses lists are mutable, assigning a new list from an old list\\n',\n",
    "      'does not copy the list, but rather points a new reference to the same\\n',\n",
    "       'list. Instead, one must use the `.copy()` method.')\n",
    "\n",
    "x = ['a', 'b', 'c']\n",
    "print(x)\n",
    "y = x.copy()\n",
    "print(y)\n",
    "x.append('d')\n",
    "print(x)\n",
    "print(y)\n",
    "\n",
    "print('One can also use the constructor function `list()` to make a copy\\n',\n",
    "      'but that is less explicit.')\n",
    "\n",
    "z = list(x)\n",
    "print(z)\n",
    "x.pop(2)\n",
    "print(x)\n",
    "print(z)"
   ]
  },
  {
   "cell_type": "markdown",
   "metadata": {},
   "source": [
    "### Join LIsts"
   ]
  },
  {
   "cell_type": "code",
   "execution_count": 64,
   "metadata": {},
   "outputs": [
    {
     "name": "stdout",
     "output_type": "stream",
     "text": [
      "There are multiple ways to join lists. One is with the `+` operator.\n",
      "['a', 'b', 'c']\n",
      "[1, 2, 3]\n",
      "['a', 'b', 'c', 1, 2, 3]\n",
      "As mentioned earlier, appending also works, but it has to be in\n",
      " some kind of loop in order to not append an entire list into a \n",
      " single index. Furthermore, a good linter will flag this.\n",
      "['a', 'b', 'c', 1, 2, 3]\n",
      "Rather than appending one-by-one, `.extend()` is a preferred method\n",
      "['a', 'b', 'c', 1, 2, 3]\n"
     ]
    }
   ],
   "source": [
    "print('There are multiple ways to join lists. One is with the `+` operator.')\n",
    "x = ['a', 'b', 'c']\n",
    "y = [1, 2, 3]\n",
    "\n",
    "z = x + y\n",
    "print(x)\n",
    "print(y)\n",
    "print(z)\n",
    "\n",
    "print('As mentioned earlier, appending also works, but it has to be in\\n',\n",
    "      'some kind of loop in order to not append an entire list into a \\n',\n",
    "      'single index. Furthermore, a good linter will flag this.')\n",
    "\n",
    "for item in y:\n",
    "    x.append(item)\n",
    "\n",
    "print(x)\n",
    "\n",
    "print('Rather than appending one-by-one, `.extend()` is a preferred method\\n',\n",
    "      'though good linters may flag this also.')\n",
    "x = ['a', 'b', 'c']\n",
    "x.extend(y)\n",
    "print(x)\n",
    "\n",
    "print('Thus, the method that is preferred for simplicity and linting is\\n',\n",
    "      'the `+` operator.')\n"
   ]
  },
  {
   "cell_type": "markdown",
   "metadata": {},
   "source": [
    "## Tuples\n",
    "\n",
    "Paused here:\n",
    "https://www.w3schools.com/python/python_tuples.asp"
   ]
  }
 ],
 "metadata": {
  "kernelspec": {
   "display_name": "Python 3",
   "language": "python",
   "name": "python3"
  },
  "language_info": {
   "codemirror_mode": {
    "name": "ipython",
    "version": 3
   },
   "file_extension": ".py",
   "mimetype": "text/x-python",
   "name": "python",
   "nbconvert_exporter": "python",
   "pygments_lexer": "ipython3",
   "version": "3.9.17"
  },
  "orig_nbformat": 4
 },
 "nbformat": 4,
 "nbformat_minor": 2
}
