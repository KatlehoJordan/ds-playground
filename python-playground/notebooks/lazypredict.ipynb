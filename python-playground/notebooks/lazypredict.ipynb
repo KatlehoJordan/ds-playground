{
 "cells": [
  {
   "cell_type": "markdown",
   "metadata": {},
   "source": [
    "# Lazypredict\n",
    "\n",
    "`lazypredict` is a package that quickly builds many ML models. However, it is a large package so it is not installed by default."
   ]
  },
  {
   "cell_type": "code",
   "execution_count": 1,
   "metadata": {},
   "outputs": [
    {
     "name": "stderr",
     "output_type": "stream",
     "text": [
      "100%|██████████| 29/29 [00:01<00:00, 19.51it/s]"
     ]
    },
    {
     "name": "stdout",
     "output_type": "stream",
     "text": [
      "                               Accuracy  Balanced Accuracy ROC AUC  F1 Score  \\\n",
      "Model                                                                          \n",
      "AdaBoostClassifier                 1.00               1.00    None      1.00   \n",
      "LabelSpreading                     1.00               1.00    None      1.00   \n",
      "XGBClassifier                      1.00               1.00    None      1.00   \n",
      "SVC                                1.00               1.00    None      1.00   \n",
      "SGDClassifier                      1.00               1.00    None      1.00   \n",
      "RandomForestClassifier             1.00               1.00    None      1.00   \n",
      "PassiveAggressiveClassifier        1.00               1.00    None      1.00   \n",
      "NuSVC                              1.00               1.00    None      1.00   \n",
      "LogisticRegression                 1.00               1.00    None      1.00   \n",
      "BaggingClassifier                  1.00               1.00    None      1.00   \n",
      "LinearDiscriminantAnalysis         1.00               1.00    None      1.00   \n",
      "LinearSVC                          1.00               1.00    None      1.00   \n",
      "LabelPropagation                   1.00               1.00    None      1.00   \n",
      "KNeighborsClassifier               1.00               1.00    None      1.00   \n",
      "GaussianNB                         1.00               1.00    None      1.00   \n",
      "ExtraTreesClassifier               1.00               1.00    None      1.00   \n",
      "ExtraTreeClassifier                1.00               1.00    None      1.00   \n",
      "DecisionTreeClassifier             1.00               1.00    None      1.00   \n",
      "LGBMClassifier                     0.97               0.97    None      0.97   \n",
      "QuadraticDiscriminantAnalysis      0.97               0.96    None      0.97   \n",
      "CalibratedClassifierCV             0.97               0.96    None      0.97   \n",
      "Perceptron                         0.93               0.94    None      0.93   \n",
      "NearestCentroid                    0.93               0.93    None      0.93   \n",
      "RidgeClassifier                    0.90               0.90    None      0.90   \n",
      "RidgeClassifierCV                  0.90               0.90    None      0.90   \n",
      "BernoulliNB                        0.83               0.81    None      0.82   \n",
      "DummyClassifier                    0.30               0.33    None      0.14   \n",
      "\n",
      "                               Time Taken  \n",
      "Model                                      \n",
      "AdaBoostClassifier                   0.14  \n",
      "LabelSpreading                       0.02  \n",
      "XGBClassifier                        0.16  \n",
      "SVC                                  0.02  \n",
      "SGDClassifier                        0.02  \n",
      "RandomForestClassifier               0.21  \n",
      "PassiveAggressiveClassifier          0.06  \n",
      "NuSVC                                0.07  \n",
      "LogisticRegression                   0.03  \n",
      "BaggingClassifier                    0.04  \n",
      "LinearDiscriminantAnalysis           0.04  \n",
      "LinearSVC                            0.02  \n",
      "LabelPropagation                     0.02  \n",
      "KNeighborsClassifier                 0.02  \n",
      "GaussianNB                           0.01  \n",
      "ExtraTreesClassifier                 0.16  \n",
      "ExtraTreeClassifier                  0.02  \n",
      "DecisionTreeClassifier               0.01  \n",
      "LGBMClassifier                       0.10  \n",
      "QuadraticDiscriminantAnalysis        0.02  \n",
      "CalibratedClassifierCV               0.09  \n",
      "Perceptron                           0.02  \n",
      "NearestCentroid                      0.07  \n",
      "RidgeClassifier                      0.02  \n",
      "RidgeClassifierCV                    0.02  \n",
      "BernoulliNB                          0.03  \n",
      "DummyClassifier                      0.02  \n"
     ]
    },
    {
     "name": "stderr",
     "output_type": "stream",
     "text": [
      "\n"
     ]
    }
   ],
   "source": [
    "import pandas as pd\n",
    "from sklearn.datasets import load_iris\n",
    "from sklearn.model_selection import train_test_split\n",
    "from lazypredict.Supervised import LazyClassifier\n",
    "\n",
    "# Load the Iris dataset\n",
    "iris = load_iris()\n",
    "X = pd.DataFrame(iris.data, columns=iris.feature_names)\n",
    "y = pd.Series(iris.target)\n",
    "\n",
    "# Split the dataset into training and testing sets\n",
    "X_train, X_test, y_train, y_test = train_test_split(X, y, test_size=0.2, random_state=42)\n",
    "\n",
    "# Create and fit the LazyClassifier\n",
    "clf = LazyClassifier(verbose=0, ignore_warnings=True, custom_metric=None)\n",
    "models, predictions = clf.fit(X_train, X_test, y_train, y_test)\n",
    "\n",
    "# Print the model performance summary\n",
    "print(models)\n"
   ]
  }
 ],
 "metadata": {
  "kernelspec": {
   "display_name": "Python 3",
   "language": "python",
   "name": "python3"
  },
  "language_info": {
   "codemirror_mode": {
    "name": "ipython",
    "version": 3
   },
   "file_extension": ".py",
   "mimetype": "text/x-python",
   "name": "python",
   "nbconvert_exporter": "python",
   "pygments_lexer": "ipython3",
   "version": "3.9.17"
  },
  "orig_nbformat": 4
 },
 "nbformat": 4,
 "nbformat_minor": 2
}
